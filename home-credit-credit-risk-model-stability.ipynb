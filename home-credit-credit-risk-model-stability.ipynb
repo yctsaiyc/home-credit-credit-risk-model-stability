{
 "cells": [
  {
   "cell_type": "code",
   "execution_count": 1,
   "id": "9fe05175",
   "metadata": {
    "_cell_guid": "b1076dfc-b9ad-4769-8c92-a6c4dae69d19",
    "_uuid": "8f2839f25d086af736a60e9eeb907d3b93b6e0e5",
    "execution": {
     "iopub.execute_input": "2024-03-27T14:38:01.872618Z",
     "iopub.status.busy": "2024-03-27T14:38:01.872242Z",
     "iopub.status.idle": "2024-03-27T14:38:03.538075Z",
     "shell.execute_reply": "2024-03-27T14:38:03.536765Z"
    },
    "papermill": {
     "duration": 1.679349,
     "end_time": "2024-03-27T14:38:03.541301",
     "exception": false,
     "start_time": "2024-03-27T14:38:01.861952",
     "status": "completed"
    },
    "tags": []
   },
   "outputs": [],
   "source": [
    "import numpy as np\n",
    "import pandas as pd\n",
    "import os\n",
    "\n",
    "import polars as pl"
   ]
  },
  {
   "cell_type": "markdown",
   "id": "127502be",
   "metadata": {
    "papermill": {
     "duration": 0.008296,
     "end_time": "2024-03-27T14:38:03.558431",
     "exception": false,
     "start_time": "2024-03-27T14:38:03.550135",
     "status": "completed"
    },
    "tags": []
   },
   "source": [
    "## 資料探索與前處理"
   ]
  },
  {
   "cell_type": "markdown",
   "id": "cac25682",
   "metadata": {
    "papermill": {
     "duration": 0.008001,
     "end_time": "2024-03-27T14:38:03.574453",
     "exception": false,
     "start_time": "2024-03-27T14:38:03.566452",
     "status": "completed"
    },
    "tags": []
   },
   "source": [
    "### 資料概覽\n",
    "##### 列出主要的數據特徵及統計摘要"
   ]
  },
  {
   "cell_type": "code",
   "execution_count": 2,
   "id": "eaa78b81",
   "metadata": {
    "execution": {
     "iopub.execute_input": "2024-03-27T14:38:03.592516Z",
     "iopub.status.busy": "2024-03-27T14:38:03.591558Z",
     "iopub.status.idle": "2024-03-27T14:38:03.609612Z",
     "shell.execute_reply": "2024-03-27T14:38:03.608650Z"
    },
    "papermill": {
     "duration": 0.029786,
     "end_time": "2024-03-27T14:38:03.612213",
     "exception": false,
     "start_time": "2024-03-27T14:38:03.582427",
     "status": "completed"
    },
    "tags": []
   },
   "outputs": [
    {
     "name": "stdout",
     "output_type": "stream",
     "text": [
      "目錄下有 32 個訓練資料文件\n"
     ]
    }
   ],
   "source": [
    "# 訓練資料的目錄\n",
    "projDir = \"/kaggle/input/home-credit-credit-risk-model-stability/\"\n",
    "trainDir = os.path.join(projDir, \"csv_files/train/\")\n",
    "\n",
    "# 列出目錄下所有文件\n",
    "files = os.listdir(trainDir)\n",
    "\n",
    "# 依檔名排序\n",
    "files = sorted(files)\n",
    "\n",
    "# # 印出文件名稱\n",
    "# for file in files:\n",
    "#     print(file)\n",
    "    \n",
    "# 計算文件數量\n",
    "num_files = len(files)\n",
    "print(\"目錄下有\", num_files, \"個訓練資料文件\")\n",
    "\n",
    "del num_files"
   ]
  },
  {
   "cell_type": "code",
   "execution_count": 3,
   "id": "11413f7f",
   "metadata": {
    "execution": {
     "iopub.execute_input": "2024-03-27T14:38:03.629399Z",
     "iopub.status.busy": "2024-03-27T14:38:03.629114Z",
     "iopub.status.idle": "2024-03-27T14:38:03.633430Z",
     "shell.execute_reply": "2024-03-27T14:38:03.632457Z"
    },
    "papermill": {
     "duration": 0.015174,
     "end_time": "2024-03-27T14:38:03.635509",
     "exception": false,
     "start_time": "2024-03-27T14:38:03.620335",
     "status": "completed"
    },
    "tags": []
   },
   "outputs": [],
   "source": [
    "# # 遍歷每個文件，僅顯示前幾行資料概況\n",
    "# for file in files:\n",
    "#     # 組合完整的檔案路徑\n",
    "#     file_path = os.path.join(trainDir, file)\n",
    "    \n",
    "#     # 讀取文件的前幾行\n",
    "#     df_head = pd.read_csv(file_path, nrows=3)\n",
    "    \n",
    "#     print(\"文件名稱:\", file)\n",
    "#     print(\"前3行資料:\")\n",
    "#     display(df_head)\n",
    "#     print(\"\\n\")\n",
    "    \n",
    "del files"
   ]
  },
  {
   "cell_type": "markdown",
   "id": "63211941",
   "metadata": {
    "papermill": {
     "duration": 0.007712,
     "end_time": "2024-03-27T14:38:03.651090",
     "exception": false,
     "start_time": "2024-03-27T14:38:03.643378",
     "status": "completed"
    },
    "tags": []
   },
   "source": [
    "### 特徵工程\n",
    "##### 提取、轉換或建立新特徵以優化模型"
   ]
  },
  {
   "cell_type": "code",
   "execution_count": 4,
   "id": "8d68e661",
   "metadata": {
    "execution": {
     "iopub.execute_input": "2024-03-27T14:38:03.667825Z",
     "iopub.status.busy": "2024-03-27T14:38:03.667530Z",
     "iopub.status.idle": "2024-03-27T14:39:12.672183Z",
     "shell.execute_reply": "2024-03-27T14:39:12.671200Z"
    },
    "papermill": {
     "duration": 69.016161,
     "end_time": "2024-03-27T14:39:12.675171",
     "exception": false,
     "start_time": "2024-03-27T14:38:03.659010",
     "status": "completed"
    },
    "tags": []
   },
   "outputs": [
    {
     "name": "stderr",
     "output_type": "stream",
     "text": [
      "/tmp/ipykernel_26/1851206736.py:5: DtypeWarning: Columns (20,45,46,53,57,84,143,146,167) have mixed types. Specify dtype option on import or set low_memory=False.\n",
      "  pd.read_csv(trainDir + 'train_static_0_0.csv'),\n",
      "/tmp/ipykernel_26/1851206736.py:6: DtypeWarning: Columns (20,45,46,56,57,84,143,146,167) have mixed types. Specify dtype option on import or set low_memory=False.\n",
      "  pd.read_csv(trainDir + 'train_static_0_1.csv')\n"
     ]
    },
    {
     "name": "stdout",
     "output_type": "stream",
     "text": [
      "[Int64, String, Int64, Int64, Float64, Float64, Float64, Float64, Float64, Float64, Float64, Float64, Float64, Float64, Float64, Float64, Float64, Float64, Float64, Float64, Float64, Float64, Float64, String, String, Float64, Float64, Float64, Float64, Float64, Float64, Float64, Float64, Float64, Float64, Float64, Float64, Float64, Float64, Float64, Float64, Float64, Float64, Float64, Float64, String, Float64, Float64, String, String, String, Float64, Float64, Float64, String, Float64, String, Float64, Boolean, Boolean, String, String, Float64, Float64, String, Float64, Float64, Boolean, Boolean, Boolean, String, String, String, String, Float64, String, String, String, Float64, Float64, Float64, String, String, Float64, String, String, String, String, String, Float64, Float64, Float64, Float64, Float64, Float64, Float64, Float64, Float64, Float64, String, Float64, Float64, Float64, Float64, Float64, Float64, Float64, Float64, Float64, Float64, Float64, Float64, Float64, Float64, Float64, Float64, Float64, Float64, Float64, Float64, Float64, Float64, Float64, Float64, Float64, Float64, Float64, Float64, Float64, Float64, Float64, Float64, Float64, Float64, Float64, Float64, Float64, Float64, Float64, Float64, Float64, Float64, Float64, Float64, Float64, Float64, Boolean, String, String, String, Float64, Float64, Float64, Float64, Float64, Float64, Float64, Float64, Float64, String, Float64, Float64, Float64, Float64, Float64, Float64, Float64, Float64, String, String, String, String, String, String, String, String, String, String, Float64, Float64, Float64, Float64, Float64, String, String, String, Float64, Float64, Float64, Float64, Float64, Float64, Float64, Float64, Float64, Float64, Float64, Float64, Float64, Float64, Float64, Float64, Float64, Float64, String, String, Float64, Float64, String, String, String, String, Float64, Float64, Float64, String, String, String, String, String, Float64, Float64, Float64, String, String, Float64, String, Boolean, Boolean, String, String, String, String, String, String, String, String, String, String, String, String, Boolean, String, Float64, String, Int64, Float64, Float64, Float64, String, String, String, String, Boolean, String, String, Boolean, String, String, Int64, Int64, String, Float64, Float64]\n"
     ]
    },
    {
     "name": "stderr",
     "output_type": "stream",
     "text": [
      "/tmp/ipykernel_26/1851206736.py:33: DeprecationWarning: named `columns` param is deprecated; use positional `*args` instead.\n",
      "  X = train_data.drop(columns=['target'])\n"
     ]
    }
   ],
   "source": [
    "# 讀取訓練數據\n",
    "train_base = pl.read_csv(trainDir + 'train_base.csv')\n",
    "\n",
    "static_dfs = [\n",
    "    pd.read_csv(trainDir + 'train_static_0_0.csv'),\n",
    "    pd.read_csv(trainDir + 'train_static_0_1.csv')\n",
    "]\n",
    "pd_df = pd.concat(static_dfs, ignore_index=True)\n",
    "del static_dfs\n",
    "train_static = pl.from_pandas(pd_df)\n",
    "\n",
    "train_static_cb = pl.read_csv(trainDir + 'train_static_cb_0.csv')\n",
    "train_person_1 = pl.read_csv(trainDir + 'train_person_1.csv') \n",
    "train_credit_bureau_b_2 = pl.read_csv(trainDir + 'train_credit_bureau_b_2.csv') \n",
    "\n",
    "# Merge all dataframes using join with how='inner'\n",
    "train_data = train_base.join(\n",
    "    train_static, on='case_id', how='inner'\n",
    ").join(\n",
    "    train_static_cb, on='case_id', how='inner'\n",
    ").join(\n",
    "    train_person_1, on='case_id', how='inner'\n",
    ").join(\n",
    "    train_credit_bureau_b_2, on='case_id', how='inner'\n",
    ")\n",
    "del train_base\n",
    "del train_static\n",
    "del train_static_cb\n",
    "del train_person_1\n",
    "del train_credit_bureau_b_2\n",
    "\n",
    "# 將目標變量和特徵變量分開\n",
    "X = train_data.drop(columns=['target'])\n",
    "y = train_data['target']\n",
    "del train_data\n",
    "\n",
    "print(X.dtypes)"
   ]
  },
  {
   "cell_type": "code",
   "execution_count": 5,
   "id": "240ecc51",
   "metadata": {
    "execution": {
     "iopub.execute_input": "2024-03-27T14:39:12.694273Z",
     "iopub.status.busy": "2024-03-27T14:39:12.693978Z",
     "iopub.status.idle": "2024-03-27T14:39:12.697752Z",
     "shell.execute_reply": "2024-03-27T14:39:12.696943Z"
    },
    "papermill": {
     "duration": 0.015018,
     "end_time": "2024-03-27T14:39:12.699756",
     "exception": false,
     "start_time": "2024-03-27T14:39:12.684738",
     "status": "completed"
    },
    "tags": []
   },
   "outputs": [],
   "source": [
    "# # X存在非數字的column，無法輸入model訓練\n",
    "# X.dtypes"
   ]
  },
  {
   "cell_type": "code",
   "execution_count": 6,
   "id": "b54a8631",
   "metadata": {
    "execution": {
     "iopub.execute_input": "2024-03-27T14:39:12.717588Z",
     "iopub.status.busy": "2024-03-27T14:39:12.717292Z",
     "iopub.status.idle": "2024-03-27T14:39:12.971718Z",
     "shell.execute_reply": "2024-03-27T14:39:12.970764Z"
    },
    "papermill": {
     "duration": 0.265946,
     "end_time": "2024-03-27T14:39:12.974078",
     "exception": false,
     "start_time": "2024-03-27T14:39:12.708132",
     "status": "completed"
    },
    "tags": []
   },
   "outputs": [],
   "source": [
    "for col in X.columns:\n",
    "    if not (X[col].dtype in (pl.Int64, pl.Float64)):\n",
    "        X = X.drop(col)"
   ]
  },
  {
   "cell_type": "code",
   "execution_count": 7,
   "id": "ecea6f01",
   "metadata": {
    "execution": {
     "iopub.execute_input": "2024-03-27T14:39:12.993083Z",
     "iopub.status.busy": "2024-03-27T14:39:12.992757Z",
     "iopub.status.idle": "2024-03-27T14:39:12.996724Z",
     "shell.execute_reply": "2024-03-27T14:39:12.995871Z"
    },
    "papermill": {
     "duration": 0.01597,
     "end_time": "2024-03-27T14:39:12.998771",
     "exception": false,
     "start_time": "2024-03-27T14:39:12.982801",
     "status": "completed"
    },
    "tags": []
   },
   "outputs": [],
   "source": [
    "# X.dtypes"
   ]
  },
  {
   "cell_type": "code",
   "execution_count": 8,
   "id": "75ee4759",
   "metadata": {
    "execution": {
     "iopub.execute_input": "2024-03-27T14:39:13.016294Z",
     "iopub.status.busy": "2024-03-27T14:39:13.016010Z",
     "iopub.status.idle": "2024-03-27T14:39:19.847013Z",
     "shell.execute_reply": "2024-03-27T14:39:19.845881Z"
    },
    "papermill": {
     "duration": 6.84242,
     "end_time": "2024-03-27T14:39:19.849386",
     "exception": false,
     "start_time": "2024-03-27T14:39:13.006966",
     "status": "completed"
    },
    "tags": []
   },
   "outputs": [],
   "source": [
    "from sklearn.model_selection import train_test_split\n",
    "\n",
    "# 將數據劃分為訓練集和測試集\n",
    "X_train, X_test, y_train, y_test = train_test_split(X, y, test_size=0.2, random_state=42)\n",
    "del X\n",
    "del y"
   ]
  },
  {
   "cell_type": "markdown",
   "id": "d53cde49",
   "metadata": {
    "papermill": {
     "duration": 0.008761,
     "end_time": "2024-03-27T14:39:19.867405",
     "exception": false,
     "start_time": "2024-03-27T14:39:19.858644",
     "status": "completed"
    },
    "tags": []
   },
   "source": [
    "## 數據分析方法與模型選擇"
   ]
  },
  {
   "cell_type": "code",
   "execution_count": 9,
   "id": "a175a227",
   "metadata": {
    "execution": {
     "iopub.execute_input": "2024-03-27T14:39:19.886018Z",
     "iopub.status.busy": "2024-03-27T14:39:19.885311Z",
     "iopub.status.idle": "2024-03-27T14:39:19.891640Z",
     "shell.execute_reply": "2024-03-27T14:39:19.890747Z"
    },
    "papermill": {
     "duration": 0.017681,
     "end_time": "2024-03-27T14:39:19.893690",
     "exception": false,
     "start_time": "2024-03-27T14:39:19.876009",
     "status": "completed"
    },
    "tags": []
   },
   "outputs": [],
   "source": [
    "# 取得最後三十萬筆資料(ram不夠，sample不work)\n",
    "X_train = X_train.tail(300000)\n",
    "y_train = y_train.tail(300000)\n",
    "\n",
    "# bst = lgb.train(params, lgb_train, num_round, valid_sets=[lgb_train, lgb_test])\n",
    "# TypeError: Wrong type(Series) for label. It should be list, numpy 1-D array or pandas Series\n",
    "y_train = y_train.to_numpy()\n",
    "y_test = y_test.to_numpy()"
   ]
  },
  {
   "cell_type": "code",
   "execution_count": 10,
   "id": "c5a7228c",
   "metadata": {
    "execution": {
     "iopub.execute_input": "2024-03-27T14:39:19.911539Z",
     "iopub.status.busy": "2024-03-27T14:39:19.911273Z",
     "iopub.status.idle": "2024-03-27T14:39:19.915053Z",
     "shell.execute_reply": "2024-03-27T14:39:19.914230Z"
    },
    "papermill": {
     "duration": 0.015157,
     "end_time": "2024-03-27T14:39:19.917128",
     "exception": false,
     "start_time": "2024-03-27T14:39:19.901971",
     "status": "completed"
    },
    "tags": []
   },
   "outputs": [],
   "source": [
    "# # 看target值的分布\n",
    "# np.unique(y_train, return_counts=True)"
   ]
  },
  {
   "cell_type": "code",
   "execution_count": 11,
   "id": "a74b2265",
   "metadata": {
    "execution": {
     "iopub.execute_input": "2024-03-27T14:39:19.935772Z",
     "iopub.status.busy": "2024-03-27T14:39:19.935459Z",
     "iopub.status.idle": "2024-03-27T14:39:19.940083Z",
     "shell.execute_reply": "2024-03-27T14:39:19.939259Z"
    },
    "papermill": {
     "duration": 0.016326,
     "end_time": "2024-03-27T14:39:19.942071",
     "exception": false,
     "start_time": "2024-03-27T14:39:19.925745",
     "status": "completed"
    },
    "tags": []
   },
   "outputs": [],
   "source": [
    "# # 過取樣: 增加target=1的data\n",
    "\n",
    "# from sklearn.impute import SimpleImputer\n",
    "# from imblearn.over_sampling import SMOTE\n",
    "\n",
    "# # 創建 SimpleImputer 對象，用於填補NaN值\n",
    "# imputer = SimpleImputer(strategy='mean')\n",
    "\n",
    "# # 填補NaN值\n",
    "# X_train = imputer.fit_transform(X_train)\n",
    "\n",
    "# # 設置合成目標樣本數量\n",
    "# synthetic_target_count = 279555\n",
    "\n",
    "# # 初始化 SMOTE\n",
    "# smote = SMOTE(sampling_strategy={1: synthetic_target_count})\n",
    "\n",
    "# # 使用 SMOTE 生成合成少數類樣本\n",
    "# X_train, y_train = smote.fit_resample(X_train, y_train)\n",
    "\n",
    "# # 檢查合成後的資料量\n",
    "# print(\"合成後的資料量：\", len(X_train))\n",
    "\n",
    "# # 檢查合成後的目標資料分佈\n",
    "# unique, counts = np.unique(y_train, return_counts=True)\n",
    "# print(\"合成後的目標資料分佈：\", dict(zip(unique, counts)))"
   ]
  },
  {
   "cell_type": "markdown",
   "id": "1154bf80",
   "metadata": {
    "papermill": {
     "duration": 0.008225,
     "end_time": "2024-03-27T14:39:19.958691",
     "exception": false,
     "start_time": "2024-03-27T14:39:19.950466",
     "status": "completed"
    },
    "tags": []
   },
   "source": [
    "### Model1. 梯度提升樹（Gradient Boosting Decision Tree，GBDT）\n",
    "##### 優點：\n",
    "##### 1. 高效性： LightGBM 是一種高效的梯度提升樹模型，具有優秀的訓練速度和預測速度。它使用了基於直方圖的方法來加速訓練過程，並且通常比其他梯度提升樹庫（如XGBoost）更快。\n",
    "##### 2. 低內存使用： LightGBM 使用了一種稱為GOSS（Gradient-based One-Side Sampling）的方法，在訓練過程中減少了內存使用。這使得它可以處理大型數據集而不會出現內存不足的問題。\n",
    "##### 3. 高準確性： LightGBM 在處理大型和高維數據集時通常表現出色，並且提供了很好的預測性能。\n",
    "##### 4. 支持並行處理： LightGBM 支持並行處理，可以在多核 CPU 上進行訓練，從而加速了訓練過程。\n",
    "##### 5. 自動處理類別特徵： LightGBM 可以自動處理類別特徵，無需額外的編碼。\n",
    "##### 缺點：\n",
    "##### 1. 對參數敏感： 與其他梯度提升樹模型一樣，LightGBM 的性能取決於參數的調整，對參數較為敏感，需要一些經驗和時間來進行調參。\n",
    "##### 2. 需要較多數據： LightGBM 在處理小型數據集時可能不如其他模型表現好，因為它的高效性主要體現在處理大型數據集時"
   ]
  },
  {
   "cell_type": "code",
   "execution_count": 12,
   "id": "a72fb31b",
   "metadata": {
    "execution": {
     "iopub.execute_input": "2024-03-27T14:39:19.977662Z",
     "iopub.status.busy": "2024-03-27T14:39:19.977357Z",
     "iopub.status.idle": "2024-03-27T14:39:19.982154Z",
     "shell.execute_reply": "2024-03-27T14:39:19.981313Z"
    },
    "papermill": {
     "duration": 0.016468,
     "end_time": "2024-03-27T14:39:19.984122",
     "exception": false,
     "start_time": "2024-03-27T14:39:19.967654",
     "status": "completed"
    },
    "tags": []
   },
   "outputs": [],
   "source": [
    "# import lightgbm as lgb\n",
    "\n",
    "# # 創建 LightGBM 的訓練資料集\n",
    "# lgb_train = lgb.Dataset(X_train, y_train)\n",
    "# lgb_test = lgb.Dataset(X_test, y_test, reference=lgb_train)\n",
    "# del X_train\n",
    "# del y_train\n",
    "\n",
    "# # 設置參數\n",
    "# params = {\n",
    "#     'boosting_type': 'gbdt',         # 使用梯度提升樹\n",
    "#     'objective': 'binary',           # 二元分類任務\n",
    "#     'metric': 'binary_error',        # 評估指標為二元分類錯誤率\n",
    "#     'num_leaves': 31,                # 每棵樹的最大葉子數量\n",
    "#     'learning_rate': 0.05,           # 學習速率\n",
    "#     'feature_fraction': 0.9,         # 特徵抽樣比例\n",
    "#     'bagging_fraction': 0.8,         # 樣本抽樣比例\n",
    "#     'bagging_freq': 5,               # 樣本抽樣的頻率\n",
    "#     'verbose': 0,                    # 顯示訓練信息\n",
    "#     'early_stopping_rounds': 10\n",
    "# }\n",
    "\n",
    "# # 訓練模型\n",
    "# num_round = 100                      # 迭代輪次\n",
    "# bst = lgb.train(params, lgb_train, num_round, valid_sets=[lgb_train, lgb_test])\n",
    "\n",
    "# # 預測\n",
    "# y_pred = bst.predict(X_test, num_iteration=bst.best_iteration)\n",
    "# y_pred_binary = [1 if pred > 0.5 else 0 for pred in y_pred]"
   ]
  },
  {
   "cell_type": "markdown",
   "id": "a7cdebf3",
   "metadata": {
    "papermill": {
     "duration": 0.008101,
     "end_time": "2024-03-27T14:39:20.000690",
     "exception": false,
     "start_time": "2024-03-27T14:39:19.992589",
     "status": "completed"
    },
    "tags": []
   },
   "source": [
    "### Model2. RNN\n",
    "##### RNN的優點：\n",
    "##### 1. 能夠處理序列數據，保留先前時間步的信息。\n",
    "##### 2. 模型相對較簡單，易於理解和實現。\n",
    "##### RNN的缺點：\n",
    "##### 3. 容易出現梯度消失或梯度爆炸的問題，尤其在處理長序列數據時效果不佳。\n",
    "##### 4. 難以捕捉長期依賴關係"
   ]
  },
  {
   "cell_type": "code",
   "execution_count": 13,
   "id": "90ba4351",
   "metadata": {
    "execution": {
     "iopub.execute_input": "2024-03-27T14:39:20.018756Z",
     "iopub.status.busy": "2024-03-27T14:39:20.018429Z",
     "iopub.status.idle": "2024-03-27T14:39:20.024063Z",
     "shell.execute_reply": "2024-03-27T14:39:20.023172Z"
    },
    "papermill": {
     "duration": 0.016927,
     "end_time": "2024-03-27T14:39:20.026025",
     "exception": false,
     "start_time": "2024-03-27T14:39:20.009098",
     "status": "completed"
    },
    "tags": []
   },
   "outputs": [],
   "source": [
    "def focal_loss(y_true, y_pred, alpha=0.25, gamma=2.0):\n",
    "    # Calculate cross entropy loss\n",
    "    ce_loss = tf.keras.losses.binary_crossentropy(y_true, y_pred, from_logits=False)\n",
    "    \n",
    "    # Calculate focal weights\n",
    "    p_t = y_true * y_pred + (1 - y_true) * (1 - y_pred)\n",
    "    focal_weight = alpha * tf.pow(1 - p_t, gamma)\n",
    "    \n",
    "    # Apply focal weights to cross entropy loss\n",
    "    focal_loss = focal_weight * ce_loss\n",
    "    \n",
    "    # Return the mean loss over the batch\n",
    "    return tf.reduce_mean(focal_loss)"
   ]
  },
  {
   "cell_type": "code",
   "execution_count": 14,
   "id": "323938d7",
   "metadata": {
    "execution": {
     "iopub.execute_input": "2024-03-27T14:39:20.044099Z",
     "iopub.status.busy": "2024-03-27T14:39:20.043823Z",
     "iopub.status.idle": "2024-03-27T14:52:09.693144Z",
     "shell.execute_reply": "2024-03-27T14:52:09.692048Z"
    },
    "papermill": {
     "duration": 769.661411,
     "end_time": "2024-03-27T14:52:09.695850",
     "exception": false,
     "start_time": "2024-03-27T14:39:20.034439",
     "status": "completed"
    },
    "tags": []
   },
   "outputs": [
    {
     "name": "stderr",
     "output_type": "stream",
     "text": [
      "2024-03-27 14:39:23.689898: E external/local_xla/xla/stream_executor/cuda/cuda_dnn.cc:9261] Unable to register cuDNN factory: Attempting to register factory for plugin cuDNN when one has already been registered\n",
      "2024-03-27 14:39:23.690031: E external/local_xla/xla/stream_executor/cuda/cuda_fft.cc:607] Unable to register cuFFT factory: Attempting to register factory for plugin cuFFT when one has already been registered\n",
      "2024-03-27 14:39:23.932849: E external/local_xla/xla/stream_executor/cuda/cuda_blas.cc:1515] Unable to register cuBLAS factory: Attempting to register factory for plugin cuBLAS when one has already been registered\n",
      "/opt/conda/lib/python3.10/site-packages/keras/src/layers/rnn/rnn.py:205: UserWarning: Do not pass an `input_shape`/`input_dim` argument to a layer. When using Sequential models, prefer using an `Input(shape)` object as the first layer in the model instead.\n",
      "  super().__init__(**kwargs)\n"
     ]
    },
    {
     "name": "stdout",
     "output_type": "stream",
     "text": [
      "Epoch 1/3\n",
      "\u001b[1m   2/2344\u001b[0m \u001b[37m━━━━━━━━━━━━━━━━━━━━\u001b[0m \u001b[1m2:58\u001b[0m 76ms/step - accuracy: 0.9004 - loss: nan  "
     ]
    },
    {
     "name": "stderr",
     "output_type": "stream",
     "text": [
      "WARNING: All log messages before absl::InitializeLog() is called are written to STDERR\n",
      "I0000 00:00:1711550393.194216      77 device_compiler.h:186] Compiled cluster using XLA!  This line is logged at most once for the lifetime of the process.\n"
     ]
    },
    {
     "name": "stdout",
     "output_type": "stream",
     "text": [
      "\u001b[1m2344/2344\u001b[0m \u001b[32m━━━━━━━━━━━━━━━━━━━━\u001b[0m\u001b[37m\u001b[0m \u001b[1m146s\u001b[0m 58ms/step - accuracy: 0.9317 - loss: nan - val_accuracy: 0.9315 - val_loss: nan\n",
      "Epoch 2/3\n",
      "\u001b[1m2344/2344\u001b[0m \u001b[32m━━━━━━━━━━━━━━━━━━━━\u001b[0m\u001b[37m\u001b[0m \u001b[1m185s\u001b[0m 54ms/step - accuracy: 0.9317 - loss: nan - val_accuracy: 0.9315 - val_loss: nan\n",
      "Epoch 3/3\n",
      "\u001b[1m2344/2344\u001b[0m \u001b[32m━━━━━━━━━━━━━━━━━━━━\u001b[0m\u001b[37m\u001b[0m \u001b[1m126s\u001b[0m 54ms/step - accuracy: 0.9313 - loss: nan - val_accuracy: 0.9315 - val_loss: nan\n",
      "\u001b[1m17989/17989\u001b[0m \u001b[32m━━━━━━━━━━━━━━━━━━━━\u001b[0m\u001b[37m\u001b[0m \u001b[1m148s\u001b[0m 8ms/step - accuracy: 0.9320 - loss: nan\n",
      "\u001b[1m17989/17989\u001b[0m \u001b[32m━━━━━━━━━━━━━━━━━━━━\u001b[0m\u001b[37m\u001b[0m \u001b[1m124s\u001b[0m 7ms/step\n"
     ]
    }
   ],
   "source": [
    "import tensorflow as tf\n",
    "from tensorflow.keras.models import Sequential\n",
    "from tensorflow.keras.layers import SimpleRNN, Dense, Dropout\n",
    "from tensorflow.keras.callbacks import EarlyStopping\n",
    "from tensorflow.keras.optimizers import AdamW\n",
    "# from sklearn.utils.class_weight import compute_class_weight\n",
    "\n",
    "# 將 DataFrame 轉換為 NumPy 陣列\n",
    "X_train = X_train.to_numpy()\n",
    "X_test = X_test.to_numpy()\n",
    "\n",
    "# 將資料轉換成3D形狀\n",
    "X_train = X_train.reshape(X_train.shape[0], X_train.shape[1], 1)\n",
    "X_test = X_test.reshape(X_test.shape[0], X_test.shape[1], 1)\n",
    "\n",
    "# 創建 Sequential 模型\n",
    "model = Sequential()\n",
    "\n",
    "# 添加第一層 SimpleRNN 層\n",
    "model.add(SimpleRNN(50, return_sequences=True, input_shape=(X_train.shape[1], X_train.shape[2]), activation='relu'))\n",
    "model.add(Dropout(0.3))  # 添加 dropout 避免過擬合\n",
    "\n",
    "# 添加第二層 SimpleRNN 層\n",
    "model.add(SimpleRNN(50, return_sequences=True, activation='relu'))\n",
    "model.add(Dropout(0.3))\n",
    "\n",
    "# 添加第三層 SimpleRNN 層\n",
    "model.add(SimpleRNN(50, activation='relu'))\n",
    "model.add(Dropout(0.3))\n",
    "\n",
    "# 添加輸出層\n",
    "model.add(Dense(1, activation='sigmoid'))\n",
    "\n",
    "# 定義 AdamW 優化器，設置初始學習率和權重衰減\n",
    "# 嘗試不同的優化器 ：AdamW是Adam的一個變種，引入了一個額外的權重衰減（Weight Decay）項目，有助於減小參數的數值大小，從而減少過擬合的風險。\n",
    "# 調整學習率（Learning Rate）：嘗試不同的學習率值，有時降低學習率可以幫助模型更好地收斂，特別是在資料不平衡的情況下。\n",
    "optimizer = AdamW(learning_rate=0.001, weight_decay=1e-4)\n",
    "\n",
    "# 編譯模型\n",
    "# focal_loss 損失函數，可以自動為少數類別分配更大的權重\n",
    "model.compile(optimizer=optimizer, loss=focal_loss, metrics=['accuracy'])\n",
    "\n",
    "# 定義 EarlyStopping\n",
    "# 調整Early Stopping的參數：嘗試不同的patience值，以及monitor參數，這可能會影響到模型的停止訓練的時機。\n",
    "early_stopping = EarlyStopping(patience=10, monitor='val_loss', restore_best_weights=True)\n",
    "\n",
    "# 設置類別加權，例如給予類別0權重1，給予類別1權重100\n",
    "# 1. 使用 np.unique(y_train) 函數獲取訓練數據中所有類別的標籤。\n",
    "# 2. 使用 compute_class_weight 函數計算每個類別的權重，參數 'balanced' 指定使用平衡策略。\n",
    "# 3. 將計算出的類別權重存儲在 class_weight 字典中\n",
    "# class_weight = compute_class_weight('balanced', np.unique(y_train), y_train)\n",
    "class_weight = {0: 1, 1: 100}\n",
    "\n",
    "# 訓練模型\n",
    "# 批量大小: 嘗試減小批量大小，可以讓模型在每個更新步驟中看到更多樣化的樣本，可能有助於緩解數據不平衡問題。\n",
    "history = model.fit(X_train, y_train, epochs=3, batch_size=128, validation_data=(X_test, y_test), callbacks=[early_stopping], class_weight=class_weight) # class_weight='balanced' not work\n",
    "\n",
    "# 評估\n",
    "model.evaluate(X_test, y_test)\n",
    "\n",
    "# 預測\n",
    "y_pred = model.predict(X_test)\n",
    "y_pred_binary = [1 if pred > 0.5 else 0 for pred in y_pred]"
   ]
  },
  {
   "cell_type": "markdown",
   "id": "a3920d79",
   "metadata": {
    "papermill": {
     "duration": 0.69589,
     "end_time": "2024-03-27T14:52:11.105025",
     "exception": false,
     "start_time": "2024-03-27T14:52:10.409135",
     "status": "completed"
    },
    "tags": []
   },
   "source": [
    "### Model3. LSTM\n",
    "##### LSTM的優點：\n",
    "##### 1. 能夠有效地解決梯度消失或梯度爆炸的問題，能夠處理長序列數據。\n",
    "##### 2. 能夠捕捉長期依賴關係，適用於需要考慮長期記憶的任務。\n",
    "##### LSTM的缺點：\n",
    "##### 1. 模型相對複雜，訓練時間較長。\n",
    "##### 2. 需要調參和優化，有時可能會出現過擬合的問題。"
   ]
  },
  {
   "cell_type": "code",
   "execution_count": 15,
   "id": "a620264c",
   "metadata": {
    "execution": {
     "iopub.execute_input": "2024-03-27T14:52:12.583386Z",
     "iopub.status.busy": "2024-03-27T14:52:12.583022Z",
     "iopub.status.idle": "2024-03-27T14:52:12.588879Z",
     "shell.execute_reply": "2024-03-27T14:52:12.587911Z"
    },
    "papermill": {
     "duration": 0.714588,
     "end_time": "2024-03-27T14:52:12.591308",
     "exception": false,
     "start_time": "2024-03-27T14:52:11.876720",
     "status": "completed"
    },
    "tags": []
   },
   "outputs": [],
   "source": [
    "# import tensorflow as tf\n",
    "# from tensorflow.keras.models import Sequential\n",
    "# from tensorflow.keras.layers import LSTM, Dense, Dropout\n",
    "# from tensorflow.keras.callbacks import EarlyStopping\n",
    "\n",
    "# # 將 DataFrame 轉換為 NumPy 陣列\n",
    "# X_train = X_train.to_numpy()\n",
    "# X_test = X_test.to_numpy()\n",
    "\n",
    "# # 將資料轉換成3D形狀\n",
    "# X_train = X_train.reshape(X_train.shape[0], X_train.shape[1], 1)\n",
    "# X_test = X_test.reshape(X_test.shape[0], X_test.shape[1], 1)\n",
    "\n",
    "# # 創建 Sequential 模型\n",
    "# model = Sequential()\n",
    "\n",
    "# # 添加第一層 LSTM 層\n",
    "# model.add(LSTM(50, return_sequences=True, input_shape=(X_train.shape[1], X_train.shape[2]), activation='relu'))\n",
    "# model.add(Dropout(0.3))  # 添加 dropout 避免過擬合\n",
    "\n",
    "# # 添加第二層 LSTM 層\n",
    "# model.add(LSTM(50, return_sequences=True, activation='relu'))\n",
    "# model.add(Dropout(0.3))  # 添加 dropout 避免過擬合\n",
    "\n",
    "# # 添加第三層 LSTM 層\n",
    "# model.add(LSTM(50, activation='relu'))\n",
    "# model.add(Dropout(0.3))  # 添加 dropout 避免過擬合\n",
    "\n",
    "# # 添加輸出層\n",
    "# model.add(Dense(1, activation='sigmoid'))\n",
    "\n",
    "# # 編譯模型\n",
    "# model.compile(optimizer='adam', loss='binary_crossentropy', metrics=['accuracy'])\n",
    "\n",
    "# # 定義 EarlyStopping\n",
    "# early_stopping = EarlyStopping(patience=5, monitor='val_loss', restore_best_weights=True)\n",
    "\n",
    "# # 設置類別加權，例如給予類別0權重1，給予類別1權重100\n",
    "# class_weight = {0: 1, 1: 100}\n",
    "\n",
    "# # 訓練模型\n",
    "# history = model.fit(X_train, y_train, epochs=1, batch_size=2048, validation_data=(X_test, y_test), callbacks=[early_stopping], class_weight=class_weight)\n",
    "\n",
    "# # 預測\n",
    "# y_pred = model.predict(X_test)\n",
    "# y_pred_binary = [1 if pred > 0.5 else 0 for pred in y_pred]"
   ]
  },
  {
   "cell_type": "markdown",
   "id": "d3d5f3e1",
   "metadata": {
    "papermill": {
     "duration": 0.76838,
     "end_time": "2024-03-27T14:52:14.078614",
     "exception": false,
     "start_time": "2024-03-27T14:52:13.310234",
     "status": "completed"
    },
    "tags": []
   },
   "source": [
    "## 評估模型"
   ]
  },
  {
   "cell_type": "code",
   "execution_count": 16,
   "id": "4aa6b3d4",
   "metadata": {
    "execution": {
     "iopub.execute_input": "2024-03-27T14:52:15.496297Z",
     "iopub.status.busy": "2024-03-27T14:52:15.495269Z",
     "iopub.status.idle": "2024-03-27T14:52:17.060523Z",
     "shell.execute_reply": "2024-03-27T14:52:17.059533Z"
    },
    "papermill": {
     "duration": 2.274609,
     "end_time": "2024-03-27T14:52:17.063918",
     "exception": false,
     "start_time": "2024-03-27T14:52:14.789309",
     "status": "completed"
    },
    "tags": []
   },
   "outputs": [
    {
     "name": "stdout",
     "output_type": "stream",
     "text": [
      "準確率: 0.9315008286400228\n",
      "分類報告:\n"
     ]
    },
    {
     "name": "stderr",
     "output_type": "stream",
     "text": [
      "/opt/conda/lib/python3.10/site-packages/sklearn/metrics/_classification.py:1344: UndefinedMetricWarning: Precision and F-score are ill-defined and being set to 0.0 in labels with no predicted samples. Use `zero_division` parameter to control this behavior.\n",
      "  _warn_prf(average, modifier, msg_start, len(result))\n",
      "/opt/conda/lib/python3.10/site-packages/sklearn/metrics/_classification.py:1344: UndefinedMetricWarning: Precision and F-score are ill-defined and being set to 0.0 in labels with no predicted samples. Use `zero_division` parameter to control this behavior.\n",
      "  _warn_prf(average, modifier, msg_start, len(result))\n"
     ]
    },
    {
     "name": "stdout",
     "output_type": "stream",
     "text": [
      "              precision    recall  f1-score   support\n",
      "\n",
      "           0       0.93      1.00      0.96    536211\n",
      "           1       0.00      0.00      0.00     39431\n",
      "\n",
      "    accuracy                           0.93    575642\n",
      "   macro avg       0.47      0.50      0.48    575642\n",
      "weighted avg       0.87      0.93      0.90    575642\n",
      "\n"
     ]
    },
    {
     "name": "stderr",
     "output_type": "stream",
     "text": [
      "/opt/conda/lib/python3.10/site-packages/sklearn/metrics/_classification.py:1344: UndefinedMetricWarning: Precision and F-score are ill-defined and being set to 0.0 in labels with no predicted samples. Use `zero_division` parameter to control this behavior.\n",
      "  _warn_prf(average, modifier, msg_start, len(result))\n"
     ]
    }
   ],
   "source": [
    "from sklearn.metrics import accuracy_score, classification_report\n",
    "\n",
    "# 評估模型\n",
    "accuracy = accuracy_score(y_test, y_pred_binary)\n",
    "print(\"準確率:\", accuracy)\n",
    "\n",
    "# 顯示分類報告\n",
    "print(\"分類報告:\")\n",
    "print(classification_report(y_test, y_pred_binary))"
   ]
  },
  {
   "cell_type": "markdown",
   "id": "44edbce9",
   "metadata": {
    "papermill": {
     "duration": 0.70479,
     "end_time": "2024-03-27T14:52:18.553544",
     "exception": false,
     "start_time": "2024-03-27T14:52:17.848754",
     "status": "completed"
    },
    "tags": []
   },
   "source": [
    "## Submission"
   ]
  },
  {
   "cell_type": "code",
   "execution_count": 17,
   "id": "db384ea7",
   "metadata": {
    "execution": {
     "iopub.execute_input": "2024-03-27T14:52:20.002417Z",
     "iopub.status.busy": "2024-03-27T14:52:20.001523Z",
     "iopub.status.idle": "2024-03-27T14:52:20.577627Z",
     "shell.execute_reply": "2024-03-27T14:52:20.576674Z"
    },
    "papermill": {
     "duration": 1.276476,
     "end_time": "2024-03-27T14:52:20.579676",
     "exception": false,
     "start_time": "2024-03-27T14:52:19.303200",
     "status": "completed"
    },
    "tags": []
   },
   "outputs": [
    {
     "data": {
      "text/html": [
       "<div><style>\n",
       ".dataframe > thead > tr,\n",
       ".dataframe > tbody > tr {\n",
       "  text-align: right;\n",
       "  white-space: pre-wrap;\n",
       "}\n",
       "</style>\n",
       "<small>shape: (10, 153)</small><table border=\"1\" class=\"dataframe\"><thead><tr><th>case_id</th><th>MONTH</th><th>WEEK_NUM</th><th>actualdpdtolerance_344P</th><th>amtinstpaidbefduel24m_4187115A</th><th>annuity_780A</th><th>annuitynextmonth_57A</th><th>applicationcnt_361L</th><th>applications30d_658L</th><th>applicationscnt_1086L</th><th>applicationscnt_464L</th><th>applicationscnt_629L</th><th>applicationscnt_867L</th><th>avgdbddpdlast24m_3658932P</th><th>avgdbddpdlast3m_4187120P</th><th>avgdbdtollast24m_4525197P</th><th>avgdpdtolclosure24_3658938P</th><th>avginstallast24m_3658937A</th><th>avglnamtstart24m_4525187A</th><th>avgmaxdpdlast9m_3716943P</th><th>avgoutstandbalancel6m_4187114A</th><th>avgpmtlast12m_4525200A</th><th>clientscnt12m_3712952L</th><th>clientscnt3m_3712950L</th><th>clientscnt6m_3712949L</th><th>clientscnt_100L</th><th>clientscnt_1022L</th><th>clientscnt_1071L</th><th>clientscnt_1130L</th><th>clientscnt_136L</th><th>clientscnt_157L</th><th>clientscnt_257L</th><th>clientscnt_304L</th><th>clientscnt_360L</th><th>clientscnt_493L</th><th>clientscnt_533L</th><th>clientscnt_887L</th><th>&hellip;</th><th>pctinstlsallpaidearl3d_427L</th><th>pctinstlsallpaidlat10d_839L</th><th>pctinstlsallpaidlate1d_3546856L</th><th>pctinstlsallpaidlate4d_3546849L</th><th>pctinstlsallpaidlate6d_3546844L</th><th>pmtnum_254L</th><th>posfpd10lastmonth_333P</th><th>posfpd30lastmonth_3976960P</th><th>posfstqpd30lastmonth_3976962P</th><th>price_1097A</th><th>sellerplacecnt_915L</th><th>sellerplacescnt_216L</th><th>sumoutstandtotal_3546847A</th><th>sumoutstandtotalest_4493215A</th><th>totaldebt_9A</th><th>totalsettled_863A</th><th>totinstallast1m_4525188A</th><th>validfrom_1069D</th><th>contractssum_5085716L</th><th>days120_123L</th><th>days180_256L</th><th>days30_165L</th><th>days360_512L</th><th>days90_310L</th><th>firstquarter_103L</th><th>fourthquarter_440L</th><th>numberofqueries_373L</th><th>pmtaverage_4955615A</th><th>pmtcount_4955617L</th><th>secondquarter_766L</th><th>thirdquarter_1082L</th><th>childnum_185L</th><th>mainoccupationinc_384A</th><th>num_group1</th><th>personindex_1023L</th><th>persontype_1072L</th><th>persontype_792L</th></tr><tr><td>i64</td><td>i64</td><td>i64</td><td>f64</td><td>f64</td><td>f64</td><td>f64</td><td>f64</td><td>f64</td><td>f64</td><td>f64</td><td>f64</td><td>f64</td><td>f64</td><td>f64</td><td>f64</td><td>f64</td><td>f64</td><td>f64</td><td>f64</td><td>f64</td><td>f64</td><td>f64</td><td>f64</td><td>f64</td><td>f64</td><td>f64</td><td>f64</td><td>f64</td><td>f64</td><td>f64</td><td>f64</td><td>f64</td><td>f64</td><td>f64</td><td>f64</td><td>f64</td><td>&hellip;</td><td>f64</td><td>f64</td><td>f64</td><td>f64</td><td>f64</td><td>f64</td><td>f64</td><td>f64</td><td>f64</td><td>f64</td><td>f64</td><td>f64</td><td>f64</td><td>f64</td><td>f64</td><td>f64</td><td>f64</td><td>f64</td><td>f64</td><td>f64</td><td>f64</td><td>f64</td><td>f64</td><td>f64</td><td>f64</td><td>f64</td><td>f64</td><td>f64</td><td>f64</td><td>f64</td><td>f64</td><td>f64</td><td>f64</td><td>i64</td><td>f64</td><td>f64</td><td>f64</td></tr></thead><tbody><tr><td>57543</td><td>202201</td><td>100</td><td>0.0</td><td>191767.36</td><td>3674.6</td><td>1218.2001</td><td>0.0</td><td>0.0</td><td>0.0</td><td>0.0</td><td>0.0</td><td>9.0</td><td>1.0</td><td>2.0</td><td>1.0</td><td>1.0</td><td>16049.4</td><td>17054.4</td><td>2.0</td><td>14554.4</td><td>24482.0</td><td>0.0</td><td>0.0</td><td>0.0</td><td>0.0</td><td>0.0</td><td>0.0</td><td>0.0</td><td>null</td><td>0.0</td><td>0.0</td><td>0.0</td><td>0.0</td><td>0.0</td><td>0.0</td><td>0.0</td><td>&hellip;</td><td>0.35417</td><td>0.0</td><td>0.32292</td><td>0.07292</td><td>0.05208</td><td>6.0</td><td>0.0</td><td>0.0</td><td>0.0</td><td>0.0</td><td>0.0</td><td>5.0</td><td>12154.4</td><td>12154.4</td><td>12154.4</td><td>456031.1</td><td>17859.6</td><td>null</td><td>151364.0</td><td>2.0</td><td>4.0</td><td>1.0</td><td>8.0</td><td>2.0</td><td>4.0</td><td>9.0</td><td>8.0</td><td>null</td><td>null</td><td>2.0</td><td>3.0</td><td>null</td><td>34000.0</td><td>0</td><td>0.0</td><td>1.0</td><td>1.0</td></tr><tr><td>57543</td><td>202201</td><td>100</td><td>0.0</td><td>191767.36</td><td>3674.6</td><td>1218.2001</td><td>0.0</td><td>0.0</td><td>0.0</td><td>0.0</td><td>0.0</td><td>9.0</td><td>1.0</td><td>2.0</td><td>1.0</td><td>1.0</td><td>16049.4</td><td>17054.4</td><td>2.0</td><td>14554.4</td><td>24482.0</td><td>0.0</td><td>0.0</td><td>0.0</td><td>0.0</td><td>0.0</td><td>0.0</td><td>0.0</td><td>null</td><td>0.0</td><td>0.0</td><td>0.0</td><td>0.0</td><td>0.0</td><td>0.0</td><td>0.0</td><td>&hellip;</td><td>0.35417</td><td>0.0</td><td>0.32292</td><td>0.07292</td><td>0.05208</td><td>6.0</td><td>0.0</td><td>0.0</td><td>0.0</td><td>0.0</td><td>0.0</td><td>5.0</td><td>12154.4</td><td>12154.4</td><td>12154.4</td><td>456031.1</td><td>17859.6</td><td>null</td><td>151364.0</td><td>2.0</td><td>4.0</td><td>1.0</td><td>8.0</td><td>2.0</td><td>4.0</td><td>9.0</td><td>8.0</td><td>null</td><td>null</td><td>2.0</td><td>3.0</td><td>null</td><td>null</td><td>1</td><td>1.0</td><td>5.0</td><td>5.0</td></tr><tr><td>57549</td><td>202201</td><td>100</td><td>0.0</td><td>129704.4</td><td>5742.6</td><td>3546.6</td><td>0.0</td><td>2.0</td><td>0.0</td><td>0.0</td><td>0.0</td><td>10.0</td><td>0.0</td><td>0.0</td><td>-1.0</td><td>0.0</td><td>32426.201</td><td>118964.805</td><td>0.0</td><td>13681.714</td><td>32426.201</td><td>0.0</td><td>0.0</td><td>0.0</td><td>0.0</td><td>0.0</td><td>0.0</td><td>0.0</td><td>null</td><td>0.0</td><td>0.0</td><td>0.0</td><td>0.0</td><td>0.0</td><td>0.0</td><td>0.0</td><td>&hellip;</td><td>0.34091</td><td>0.11628</td><td>0.29545</td><td>0.18605</td><td>0.13953</td><td>18.0</td><td>0.0</td><td>0.0</td><td>0.0</td><td>null</td><td>2.0</td><td>7.0</td><td>10638.2</td><td>10638.2</td><td>10638.2</td><td>373720.84</td><td>126058.0</td><td>null</td><td>1.5631e6</td><td>6.0</td><td>9.0</td><td>3.0</td><td>12.0</td><td>4.0</td><td>9.0</td><td>5.0</td><td>12.0</td><td>26815.6</td><td>14.0</td><td>8.0</td><td>2.0</td><td>null</td><td>49800.0</td><td>0</td><td>0.0</td><td>1.0</td><td>1.0</td></tr><tr><td>57549</td><td>202201</td><td>100</td><td>0.0</td><td>129704.4</td><td>5742.6</td><td>3546.6</td><td>0.0</td><td>2.0</td><td>0.0</td><td>0.0</td><td>0.0</td><td>10.0</td><td>0.0</td><td>0.0</td><td>-1.0</td><td>0.0</td><td>32426.201</td><td>118964.805</td><td>0.0</td><td>13681.714</td><td>32426.201</td><td>0.0</td><td>0.0</td><td>0.0</td><td>0.0</td><td>0.0</td><td>0.0</td><td>0.0</td><td>null</td><td>0.0</td><td>0.0</td><td>0.0</td><td>0.0</td><td>0.0</td><td>0.0</td><td>0.0</td><td>&hellip;</td><td>0.34091</td><td>0.11628</td><td>0.29545</td><td>0.18605</td><td>0.13953</td><td>18.0</td><td>0.0</td><td>0.0</td><td>0.0</td><td>null</td><td>2.0</td><td>7.0</td><td>10638.2</td><td>10638.2</td><td>10638.2</td><td>373720.84</td><td>126058.0</td><td>null</td><td>1.5631e6</td><td>6.0</td><td>9.0</td><td>3.0</td><td>12.0</td><td>4.0</td><td>9.0</td><td>5.0</td><td>12.0</td><td>26815.6</td><td>14.0</td><td>8.0</td><td>2.0</td><td>null</td><td>null</td><td>1</td><td>1.0</td><td>5.0</td><td>5.0</td></tr><tr><td>57551</td><td>202201</td><td>100</td><td>0.0</td><td>71036.4</td><td>2844.6</td><td>0.0</td><td>0.0</td><td>1.0</td><td>0.0</td><td>0.0</td><td>0.0</td><td>2.0</td><td>-1.0</td><td>null</td><td>-1.0</td><td>1.0</td><td>8357.2</td><td>null</td><td>1.0</td><td>0.0</td><td>9551.0</td><td>0.0</td><td>0.0</td><td>0.0</td><td>0.0</td><td>0.0</td><td>0.0</td><td>0.0</td><td>null</td><td>0.0</td><td>0.0</td><td>0.0</td><td>0.0</td><td>0.0</td><td>0.0</td><td>0.0</td><td>&hellip;</td><td>0.33333</td><td>0.0</td><td>0.11111</td><td>0.11111</td><td>0.0</td><td>12.0</td><td>null</td><td>null</td><td>null</td><td>27095.201</td><td>1.0</td><td>2.0</td><td>0.0</td><td>0.0</td><td>0.0</td><td>75219.0</td><td>null</td><td>null</td><td>2926195.3</td><td>1.0</td><td>3.0</td><td>1.0</td><td>4.0</td><td>1.0</td><td>3.0</td><td>2.0</td><td>4.0</td><td>null</td><td>null</td><td>5.0</td><td>5.0</td><td>null</td><td>59600.0</td><td>0</td><td>0.0</td><td>1.0</td><td>1.0</td></tr><tr><td>57552</td><td>202201</td><td>100</td><td>0.0</td><td>183992.0</td><td>6298.8003</td><td>12155.4</td><td>0.0</td><td>0.0</td><td>0.0</td><td>0.0</td><td>0.0</td><td>9.0</td><td>-9.0</td><td>-7.0</td><td>-9.0</td><td>0.0</td><td>7440.4</td><td>null</td><td>0.0</td><td>199322.4</td><td>9148.4</td><td>0.0</td><td>0.0</td><td>0.0</td><td>0.0</td><td>0.0</td><td>0.0</td><td>0.0</td><td>null</td><td>0.0</td><td>0.0</td><td>0.0</td><td>0.0</td><td>0.0</td><td>0.0</td><td>0.0</td><td>&hellip;</td><td>0.83871</td><td>0.0</td><td>0.0</td><td>0.0</td><td>0.0</td><td>24.0</td><td>0.0</td><td>0.0</td><td>0.0</td><td>null</td><td>0.0</td><td>6.0</td><td>191269.61</td><td>191269.61</td><td>191269.61</td><td>284213.0</td><td>18889.0</td><td>null</td><td>747031.73</td><td>2.0</td><td>2.0</td><td>0.0</td><td>5.0</td><td>0.0</td><td>3.0</td><td>2.0</td><td>5.0</td><td>23402.8</td><td>14.0</td><td>7.0</td><td>1.0</td><td>null</td><td>112000.0</td><td>0</td><td>0.0</td><td>1.0</td><td>1.0</td></tr><tr><td>57569</td><td>202201</td><td>100</td><td>0.0</td><td>0.0</td><td>4682.6</td><td>0.0</td><td>0.0</td><td>1.0</td><td>0.0</td><td>0.0</td><td>0.0</td><td>6.0</td><td>2824.0</td><td>null</td><td>2824.0</td><td>2517.0</td><td>null</td><td>null</td><td>null</td><td>null</td><td>10796.4</td><td>0.0</td><td>0.0</td><td>0.0</td><td>0.0</td><td>0.0</td><td>0.0</td><td>0.0</td><td>null</td><td>0.0</td><td>0.0</td><td>0.0</td><td>0.0</td><td>0.0</td><td>0.0</td><td>0.0</td><td>&hellip;</td><td>0.33333</td><td>0.6</td><td>0.66667</td><td>0.66667</td><td>0.6</td><td>24.0</td><td>0.0</td><td>null</td><td>null</td><td>null</td><td>2.0</td><td>3.0</td><td>0.0</td><td>0.0</td><td>0.0</td><td>95348.42</td><td>null</td><td>null</td><td>null</td><td>4.0</td><td>4.0</td><td>1.0</td><td>4.0</td><td>4.0</td><td>0.0</td><td>0.0</td><td>4.0</td><td>17333.6</td><td>14.0</td><td>1.0</td><td>3.0</td><td>0.0</td><td>null</td><td>1</td><td>1.0</td><td>5.0</td><td>5.0</td></tr><tr><td>57569</td><td>202201</td><td>100</td><td>0.0</td><td>0.0</td><td>4682.6</td><td>0.0</td><td>0.0</td><td>1.0</td><td>0.0</td><td>0.0</td><td>0.0</td><td>6.0</td><td>2824.0</td><td>null</td><td>2824.0</td><td>2517.0</td><td>null</td><td>null</td><td>null</td><td>null</td><td>10796.4</td><td>0.0</td><td>0.0</td><td>0.0</td><td>0.0</td><td>0.0</td><td>0.0</td><td>0.0</td><td>null</td><td>0.0</td><td>0.0</td><td>0.0</td><td>0.0</td><td>0.0</td><td>0.0</td><td>0.0</td><td>&hellip;</td><td>0.33333</td><td>0.6</td><td>0.66667</td><td>0.66667</td><td>0.6</td><td>24.0</td><td>0.0</td><td>null</td><td>null</td><td>null</td><td>2.0</td><td>3.0</td><td>0.0</td><td>0.0</td><td>0.0</td><td>95348.42</td><td>null</td><td>null</td><td>null</td><td>4.0</td><td>4.0</td><td>1.0</td><td>4.0</td><td>4.0</td><td>0.0</td><td>0.0</td><td>4.0</td><td>17333.6</td><td>14.0</td><td>1.0</td><td>3.0</td><td>null</td><td>58000.0</td><td>0</td><td>0.0</td><td>1.0</td><td>1.0</td></tr><tr><td>57630</td><td>202201</td><td>100</td><td>0.0</td><td>0.0</td><td>8905.0</td><td>0.0</td><td>0.0</td><td>0.0</td><td>0.0</td><td>0.0</td><td>0.0</td><td>1.0</td><td>null</td><td>null</td><td>null</td><td>0.0</td><td>null</td><td>null</td><td>null</td><td>null</td><td>null</td><td>0.0</td><td>0.0</td><td>0.0</td><td>0.0</td><td>0.0</td><td>0.0</td><td>0.0</td><td>null</td><td>0.0</td><td>0.0</td><td>0.0</td><td>0.0</td><td>0.0</td><td>0.0</td><td>0.0</td><td>&hellip;</td><td>0.42857</td><td>0.0</td><td>0.28571</td><td>0.0</td><td>0.0</td><td>12.0</td><td>0.0</td><td>0.0</td><td>0.0</td><td>96174.0</td><td>0.0</td><td>1.0</td><td>0.0</td><td>0.0</td><td>0.0</td><td>9677.601</td><td>null</td><td>null</td><td>499975.0</td><td>1.0</td><td>2.0</td><td>1.0</td><td>5.0</td><td>1.0</td><td>1.0</td><td>3.0</td><td>5.0</td><td>null</td><td>null</td><td>4.0</td><td>1.0</td><td>null</td><td>60000.0</td><td>0</td><td>0.0</td><td>1.0</td><td>1.0</td></tr><tr><td>57630</td><td>202201</td><td>100</td><td>0.0</td><td>0.0</td><td>8905.0</td><td>0.0</td><td>0.0</td><td>0.0</td><td>0.0</td><td>0.0</td><td>0.0</td><td>1.0</td><td>null</td><td>null</td><td>null</td><td>0.0</td><td>null</td><td>null</td><td>null</td><td>null</td><td>null</td><td>0.0</td><td>0.0</td><td>0.0</td><td>0.0</td><td>0.0</td><td>0.0</td><td>0.0</td><td>null</td><td>0.0</td><td>0.0</td><td>0.0</td><td>0.0</td><td>0.0</td><td>0.0</td><td>0.0</td><td>&hellip;</td><td>0.42857</td><td>0.0</td><td>0.28571</td><td>0.0</td><td>0.0</td><td>12.0</td><td>0.0</td><td>0.0</td><td>0.0</td><td>96174.0</td><td>0.0</td><td>1.0</td><td>0.0</td><td>0.0</td><td>0.0</td><td>9677.601</td><td>null</td><td>null</td><td>499975.0</td><td>1.0</td><td>2.0</td><td>1.0</td><td>5.0</td><td>1.0</td><td>1.0</td><td>3.0</td><td>5.0</td><td>null</td><td>null</td><td>4.0</td><td>1.0</td><td>null</td><td>null</td><td>1</td><td>1.0</td><td>4.0</td><td>4.0</td></tr></tbody></table></div>"
      ],
      "text/plain": [
       "shape: (10, 153)\n",
       "┌─────────┬────────┬──────────┬────────────┬───┬────────────┬────────────┬────────────┬────────────┐\n",
       "│ case_id ┆ MONTH  ┆ WEEK_NUM ┆ actualdpdt ┆ … ┆ num_group1 ┆ personinde ┆ persontype ┆ persontype │\n",
       "│ ---     ┆ ---    ┆ ---      ┆ olerance_3 ┆   ┆ ---        ┆ x_1023L    ┆ _1072L     ┆ _792L      │\n",
       "│ i64     ┆ i64    ┆ i64      ┆ 44P        ┆   ┆ i64        ┆ ---        ┆ ---        ┆ ---        │\n",
       "│         ┆        ┆          ┆ ---        ┆   ┆            ┆ f64        ┆ f64        ┆ f64        │\n",
       "│         ┆        ┆          ┆ f64        ┆   ┆            ┆            ┆            ┆            │\n",
       "╞═════════╪════════╪══════════╪════════════╪═══╪════════════╪════════════╪════════════╪════════════╡\n",
       "│ 57543   ┆ 202201 ┆ 100      ┆ 0.0        ┆ … ┆ 0          ┆ 0.0        ┆ 1.0        ┆ 1.0        │\n",
       "│ 57543   ┆ 202201 ┆ 100      ┆ 0.0        ┆ … ┆ 1          ┆ 1.0        ┆ 5.0        ┆ 5.0        │\n",
       "│ 57549   ┆ 202201 ┆ 100      ┆ 0.0        ┆ … ┆ 0          ┆ 0.0        ┆ 1.0        ┆ 1.0        │\n",
       "│ 57549   ┆ 202201 ┆ 100      ┆ 0.0        ┆ … ┆ 1          ┆ 1.0        ┆ 5.0        ┆ 5.0        │\n",
       "│ 57551   ┆ 202201 ┆ 100      ┆ 0.0        ┆ … ┆ 0          ┆ 0.0        ┆ 1.0        ┆ 1.0        │\n",
       "│ 57552   ┆ 202201 ┆ 100      ┆ 0.0        ┆ … ┆ 0          ┆ 0.0        ┆ 1.0        ┆ 1.0        │\n",
       "│ 57569   ┆ 202201 ┆ 100      ┆ 0.0        ┆ … ┆ 1          ┆ 1.0        ┆ 5.0        ┆ 5.0        │\n",
       "│ 57569   ┆ 202201 ┆ 100      ┆ 0.0        ┆ … ┆ 0          ┆ 0.0        ┆ 1.0        ┆ 1.0        │\n",
       "│ 57630   ┆ 202201 ┆ 100      ┆ 0.0        ┆ … ┆ 0          ┆ 0.0        ┆ 1.0        ┆ 1.0        │\n",
       "│ 57630   ┆ 202201 ┆ 100      ┆ 0.0        ┆ … ┆ 1          ┆ 1.0        ┆ 4.0        ┆ 4.0        │\n",
       "└─────────┴────────┴──────────┴────────────┴───┴────────────┴────────────┴────────────┴────────────┘"
      ]
     },
     "execution_count": 17,
     "metadata": {},
     "output_type": "execute_result"
    }
   ],
   "source": [
    "# 讀取數據\n",
    "submissionDir = os.path.join(projDir, \"csv_files/test/\")\n",
    "submission_base = pl.read_csv(submissionDir + 'test_base.csv')\n",
    "\n",
    "static_dfs = [\n",
    "    pd.read_csv(submissionDir + 'test_static_0_0.csv'),\n",
    "    pd.read_csv(submissionDir + 'test_static_0_1.csv')\n",
    "]\n",
    "pd_df = pd.concat(static_dfs, ignore_index=True)\n",
    "del static_dfs\n",
    "submission_static = pl.from_pandas(pd_df)\n",
    "del pd_df\n",
    "\n",
    "submission_static_cb = pl.read_csv(submissionDir + 'test_static_cb_0.csv')\n",
    "submission_person_1 = pl.read_csv(submissionDir + 'test_person_1.csv') \n",
    "submission_credit_bureau_b_2 = pl.read_csv(submissionDir + 'test_credit_bureau_b_2.csv') \n",
    "\n",
    "# Merge all dataframes using join with how='inner'\n",
    "X_submission = submission_base.join(\n",
    "    submission_static, on='case_id', how='inner'\n",
    ").join(\n",
    "    submission_static_cb, on='case_id', how='inner'\n",
    ").join(\n",
    "    submission_person_1, on='case_id', how='inner'\n",
    ")\n",
    "# .join(\n",
    "#     submission_credit_bureau_b_2, on='case_id', how='inner'\n",
    "# )\n",
    "\n",
    "del submission_base\n",
    "del submission_static\n",
    "del submission_static_cb\n",
    "del submission_person_1\n",
    "del submission_credit_bureau_b_2\n",
    "\n",
    "# Drop datatype非數字的data\n",
    "for col in X_submission.columns:\n",
    "    if not (X_submission[col].dtype in (pl.Int64, pl.Float64)):\n",
    "        X_submission = X_submission.drop(col)\n",
    "        \n",
    "X_submission"
   ]
  },
  {
   "cell_type": "code",
   "execution_count": 18,
   "id": "9acc2908",
   "metadata": {
    "execution": {
     "iopub.execute_input": "2024-03-27T14:52:22.016479Z",
     "iopub.status.busy": "2024-03-27T14:52:22.016129Z",
     "iopub.status.idle": "2024-03-27T14:52:22.984979Z",
     "shell.execute_reply": "2024-03-27T14:52:22.984140Z"
    },
    "papermill": {
     "duration": 1.700681,
     "end_time": "2024-03-27T14:52:22.986979",
     "exception": false,
     "start_time": "2024-03-27T14:52:21.286298",
     "status": "completed"
    },
    "tags": []
   },
   "outputs": [
    {
     "name": "stdout",
     "output_type": "stream",
     "text": [
      "\u001b[1m1/1\u001b[0m \u001b[32m━━━━━━━━━━━━━━━━━━━━\u001b[0m\u001b[37m\u001b[0m \u001b[1m1s\u001b[0m 899ms/step\n"
     ]
    },
    {
     "data": {
      "text/plain": [
       "[0, 0, 0, 0, 0, 0, 0, 0, 0, 0]"
      ]
     },
     "execution_count": 18,
     "metadata": {},
     "output_type": "execute_result"
    }
   ],
   "source": [
    "# # LGBM\n",
    "# y_submission_pred = bst.predict(X_submission, num_iteration=bst.best_iteration, predict_disable_shape_check=True)\n",
    "\n",
    "# RNN, LSTM\n",
    "X_submission_array = X_submission.to_numpy()\n",
    "X_submission_rnn = X_submission_array.reshape(X_submission_array.shape[0], X_submission_array.shape[1], 1)\n",
    "y_submission_pred = model.predict(X_submission_rnn)\n",
    "\n",
    "# 轉成0或1\n",
    "y_submission_pred_binary = [1 if pred > 0.5 else 0 for pred in y_submission_pred]\n",
    "y_submission_pred_binary"
   ]
  },
  {
   "cell_type": "code",
   "execution_count": 19,
   "id": "d7e634cd",
   "metadata": {
    "execution": {
     "iopub.execute_input": "2024-03-27T14:52:24.446191Z",
     "iopub.status.busy": "2024-03-27T14:52:24.445518Z",
     "iopub.status.idle": "2024-03-27T14:52:24.459912Z",
     "shell.execute_reply": "2024-03-27T14:52:24.459163Z"
    },
    "papermill": {
     "duration": 0.720515,
     "end_time": "2024-03-27T14:52:24.461963",
     "exception": false,
     "start_time": "2024-03-27T14:52:23.741448",
     "status": "completed"
    },
    "tags": []
   },
   "outputs": [],
   "source": [
    "submission = pd.DataFrame({\n",
    "    \"case_id\": X_submission[\"case_id\"].to_numpy(),\n",
    "    \"score\": y_submission_pred_binary\n",
    "}).set_index('case_id')\n",
    "submission.to_csv(\"./submission.csv\")"
   ]
  },
  {
   "cell_type": "code",
   "execution_count": 20,
   "id": "44c0a6fd",
   "metadata": {
    "execution": {
     "iopub.execute_input": "2024-03-27T14:52:25.994758Z",
     "iopub.status.busy": "2024-03-27T14:52:25.994355Z",
     "iopub.status.idle": "2024-03-27T14:52:26.010562Z",
     "shell.execute_reply": "2024-03-27T14:52:26.009580Z"
    },
    "papermill": {
     "duration": 0.79651,
     "end_time": "2024-03-27T14:52:26.012679",
     "exception": false,
     "start_time": "2024-03-27T14:52:25.216169",
     "status": "completed"
    },
    "tags": []
   },
   "outputs": [
    {
     "data": {
      "text/html": [
       "<div>\n",
       "<style scoped>\n",
       "    .dataframe tbody tr th:only-of-type {\n",
       "        vertical-align: middle;\n",
       "    }\n",
       "\n",
       "    .dataframe tbody tr th {\n",
       "        vertical-align: top;\n",
       "    }\n",
       "\n",
       "    .dataframe thead th {\n",
       "        text-align: right;\n",
       "    }\n",
       "</style>\n",
       "<table border=\"1\" class=\"dataframe\">\n",
       "  <thead>\n",
       "    <tr style=\"text-align: right;\">\n",
       "      <th></th>\n",
       "      <th>case_id</th>\n",
       "      <th>score</th>\n",
       "    </tr>\n",
       "  </thead>\n",
       "  <tbody>\n",
       "    <tr>\n",
       "      <th>0</th>\n",
       "      <td>57543</td>\n",
       "      <td>0</td>\n",
       "    </tr>\n",
       "    <tr>\n",
       "      <th>1</th>\n",
       "      <td>57543</td>\n",
       "      <td>0</td>\n",
       "    </tr>\n",
       "    <tr>\n",
       "      <th>2</th>\n",
       "      <td>57549</td>\n",
       "      <td>0</td>\n",
       "    </tr>\n",
       "    <tr>\n",
       "      <th>3</th>\n",
       "      <td>57549</td>\n",
       "      <td>0</td>\n",
       "    </tr>\n",
       "    <tr>\n",
       "      <th>4</th>\n",
       "      <td>57551</td>\n",
       "      <td>0</td>\n",
       "    </tr>\n",
       "    <tr>\n",
       "      <th>5</th>\n",
       "      <td>57552</td>\n",
       "      <td>0</td>\n",
       "    </tr>\n",
       "    <tr>\n",
       "      <th>6</th>\n",
       "      <td>57569</td>\n",
       "      <td>0</td>\n",
       "    </tr>\n",
       "    <tr>\n",
       "      <th>7</th>\n",
       "      <td>57569</td>\n",
       "      <td>0</td>\n",
       "    </tr>\n",
       "    <tr>\n",
       "      <th>8</th>\n",
       "      <td>57630</td>\n",
       "      <td>0</td>\n",
       "    </tr>\n",
       "    <tr>\n",
       "      <th>9</th>\n",
       "      <td>57630</td>\n",
       "      <td>0</td>\n",
       "    </tr>\n",
       "  </tbody>\n",
       "</table>\n",
       "</div>"
      ],
      "text/plain": [
       "   case_id  score\n",
       "0    57543      0\n",
       "1    57543      0\n",
       "2    57549      0\n",
       "3    57549      0\n",
       "4    57551      0\n",
       "5    57552      0\n",
       "6    57569      0\n",
       "7    57569      0\n",
       "8    57630      0\n",
       "9    57630      0"
      ]
     },
     "execution_count": 20,
     "metadata": {},
     "output_type": "execute_result"
    }
   ],
   "source": [
    "pd.read_csv(\"./submission.csv\")"
   ]
  }
 ],
 "metadata": {
  "kaggle": {
   "accelerator": "nvidiaTeslaT4",
   "dataSources": [
    {
     "databundleVersionId": 7921029,
     "sourceId": 50160,
     "sourceType": "competition"
    }
   ],
   "dockerImageVersionId": 30664,
   "isGpuEnabled": true,
   "isInternetEnabled": false,
   "language": "python",
   "sourceType": "notebook"
  },
  "kernelspec": {
   "display_name": "Python 3",
   "language": "python",
   "name": "python3"
  },
  "language_info": {
   "codemirror_mode": {
    "name": "ipython",
    "version": 3
   },
   "file_extension": ".py",
   "mimetype": "text/x-python",
   "name": "python",
   "nbconvert_exporter": "python",
   "pygments_lexer": "ipython3",
   "version": "3.10.13"
  },
  "papermill": {
   "default_parameters": {},
   "duration": 872.586323,
   "end_time": "2024-03-27T14:52:30.527788",
   "environment_variables": {},
   "exception": null,
   "input_path": "__notebook__.ipynb",
   "output_path": "__notebook__.ipynb",
   "parameters": {},
   "start_time": "2024-03-27T14:37:57.941465",
   "version": "2.5.0"
  }
 },
 "nbformat": 4,
 "nbformat_minor": 5
}
