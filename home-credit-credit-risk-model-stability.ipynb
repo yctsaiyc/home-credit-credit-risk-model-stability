{
 "cells": [
  {
   "cell_type": "code",
   "execution_count": 1,
   "id": "b025ab50",
   "metadata": {
    "_cell_guid": "b1076dfc-b9ad-4769-8c92-a6c4dae69d19",
    "_uuid": "8f2839f25d086af736a60e9eeb907d3b93b6e0e5",
    "execution": {
     "iopub.execute_input": "2024-03-27T18:05:56.140471Z",
     "iopub.status.busy": "2024-03-27T18:05:56.140086Z",
     "iopub.status.idle": "2024-03-27T18:05:57.146325Z",
     "shell.execute_reply": "2024-03-27T18:05:57.145074Z"
    },
    "papermill": {
     "duration": 1.018405,
     "end_time": "2024-03-27T18:05:57.148977",
     "exception": false,
     "start_time": "2024-03-27T18:05:56.130572",
     "status": "completed"
    },
    "tags": []
   },
   "outputs": [],
   "source": [
    "import numpy as np\n",
    "import pandas as pd\n",
    "import os"
   ]
  },
  {
   "cell_type": "markdown",
   "id": "3e9428ac",
   "metadata": {
    "papermill": {
     "duration": 0.006848,
     "end_time": "2024-03-27T18:05:57.163408",
     "exception": false,
     "start_time": "2024-03-27T18:05:57.156560",
     "status": "completed"
    },
    "tags": []
   },
   "source": [
    "## 資料探索與前處理"
   ]
  },
  {
   "cell_type": "code",
   "execution_count": 2,
   "id": "f4621f17",
   "metadata": {
    "execution": {
     "iopub.execute_input": "2024-03-27T18:05:57.180173Z",
     "iopub.status.busy": "2024-03-27T18:05:57.179061Z",
     "iopub.status.idle": "2024-03-27T18:05:57.184226Z",
     "shell.execute_reply": "2024-03-27T18:05:57.183340Z"
    },
    "papermill": {
     "duration": 0.016369,
     "end_time": "2024-03-27T18:05:57.186892",
     "exception": false,
     "start_time": "2024-03-27T18:05:57.170523",
     "status": "completed"
    },
    "tags": []
   },
   "outputs": [],
   "source": [
    "# 訓練資料的目錄\n",
    "projDir = \"/kaggle/input/home-credit-credit-risk-model-stability/\"\n",
    "trainDir = os.path.join(projDir, \"csv_files/train/\")"
   ]
  },
  {
   "cell_type": "code",
   "execution_count": 3,
   "id": "42db5d3b",
   "metadata": {
    "execution": {
     "iopub.execute_input": "2024-03-27T18:05:57.203751Z",
     "iopub.status.busy": "2024-03-27T18:05:57.203033Z",
     "iopub.status.idle": "2024-03-27T18:08:36.621301Z",
     "shell.execute_reply": "2024-03-27T18:08:36.619972Z"
    },
    "papermill": {
     "duration": 159.42984,
     "end_time": "2024-03-27T18:08:36.624084",
     "exception": false,
     "start_time": "2024-03-27T18:05:57.194244",
     "status": "completed"
    },
    "tags": []
   },
   "outputs": [
    {
     "name": "stderr",
     "output_type": "stream",
     "text": [
      "/tmp/ipykernel_18/1472793701.py:10: DtypeWarning: Columns (20,45,46,53,57,84,143,146,167) have mixed types. Specify dtype option on import or set low_memory=False.\n",
      "  train_static0 = pd.read_csv(path)\n",
      "/tmp/ipykernel_18/1472793701.py:12: DtypeWarning: Columns (20,45,46,56,57,84,143,146,167) have mixed types. Specify dtype option on import or set low_memory=False.\n",
      "  train_static1 = pd.read_csv(path)\n",
      "/tmp/ipykernel_18/1472793701.py:18: DtypeWarning: Columns (1,2,3,4,7,45,46,47,48) have mixed types. Specify dtype option on import or set low_memory=False.\n",
      "  train_static_cb = pd.read_csv(path)\n"
     ]
    }
   ],
   "source": [
    "# 讀取訓練數據\n",
    "\n",
    "# base.csv\n",
    "path = os.path.join(trainDir, 'train_base.csv')\n",
    "train_base = pd.read_csv(path)\n",
    "\n",
    "# static(depth=0)\n",
    "# train_static is divided into two parts, 0 and 1. read and concat one by one\n",
    "path = os.path.join(trainDir, 'train_static_0_0.csv')\n",
    "train_static0 = pd.read_csv(path)\n",
    "path = os.path.join(trainDir, 'train_static_0_1.csv')\n",
    "train_static1 = pd.read_csv(path)\n",
    "train_static = pd.concat([train_static0, train_static1], ignore_index=True)\n",
    "del train_static0, train_static1\n",
    "\n",
    "# static_cb\n",
    "path = os.path.join(trainDir, 'train_static_cb_0.csv')\n",
    "train_static_cb = pd.read_csv(path)\n",
    "\n",
    "#------------------------------------------------------------------------------------#\n",
    "\n",
    "# Join Table\n",
    "train_data = pd.merge(train_base, train_static, how=\"left\", on=\"case_id\")\n",
    "train_data = pd.merge(train_data, train_static_cb, how=\"left\", on=\"case_id\")\n",
    "del train_base, train_static, train_static_cb\n",
    "\n",
    "#------------------------------------------------------------------------------------#\n",
    "\n",
    "# 刪除非數字的column\n",
    "for col in train_data.columns:\n",
    "    if not (train_data[col].dtype in (np.int64, np.float64)):\n",
    "        train_data = train_data.drop(col, axis=1)"
   ]
  },
  {
   "cell_type": "code",
   "execution_count": 4,
   "id": "9b122bb7",
   "metadata": {
    "execution": {
     "iopub.execute_input": "2024-03-27T18:08:36.642367Z",
     "iopub.status.busy": "2024-03-27T18:08:36.641989Z",
     "iopub.status.idle": "2024-03-27T18:08:42.191238Z",
     "shell.execute_reply": "2024-03-27T18:08:42.189966Z"
    },
    "papermill": {
     "duration": 5.561044,
     "end_time": "2024-03-27T18:08:42.193992",
     "exception": false,
     "start_time": "2024-03-27T18:08:36.632948",
     "status": "completed"
    },
    "tags": []
   },
   "outputs": [],
   "source": [
    "# 將目標變量和特徵變量分開\n",
    "X = train_data.drop(columns=['target'])\n",
    "y = train_data['target']\n",
    "\n",
    "# 將數據劃分為訓練集和測試集\n",
    "from sklearn.model_selection import train_test_split\n",
    "\n",
    "X_train, X_test, y_train, y_test = train_test_split(X, y, test_size=0.2, random_state=42)\n",
    "del X\n",
    "del y"
   ]
  },
  {
   "cell_type": "markdown",
   "id": "cf961814",
   "metadata": {
    "papermill": {
     "duration": 0.007805,
     "end_time": "2024-03-27T18:08:42.210325",
     "exception": false,
     "start_time": "2024-03-27T18:08:42.202520",
     "status": "completed"
    },
    "tags": []
   },
   "source": [
    "## 數據分析方法與模型選擇"
   ]
  },
  {
   "cell_type": "markdown",
   "id": "7121c5a5",
   "metadata": {
    "papermill": {
     "duration": 0.007188,
     "end_time": "2024-03-27T18:08:42.225587",
     "exception": false,
     "start_time": "2024-03-27T18:08:42.218399",
     "status": "completed"
    },
    "tags": []
   },
   "source": [
    "### Undersampling"
   ]
  },
  {
   "cell_type": "code",
   "execution_count": 5,
   "id": "f0b6db1e",
   "metadata": {
    "execution": {
     "iopub.execute_input": "2024-03-27T18:08:42.242927Z",
     "iopub.status.busy": "2024-03-27T18:08:42.241947Z",
     "iopub.status.idle": "2024-03-27T18:08:44.484757Z",
     "shell.execute_reply": "2024-03-27T18:08:44.483170Z"
    },
    "papermill": {
     "duration": 2.254351,
     "end_time": "2024-03-27T18:08:44.487491",
     "exception": false,
     "start_time": "2024-03-27T18:08:42.233140",
     "status": "completed"
    },
    "tags": []
   },
   "outputs": [
    {
     "name": "stdout",
     "output_type": "stream",
     "text": [
      "欠採樣後的訓練資料量： 76882\n",
      "欠採樣後的測試資料量： 19106\n",
      "欠採樣後的訓練目標資料分佈： {0: 38441, 1: 38441}\n",
      "欠採樣後的測試目標資料分佈： {0: 9553, 1: 9553}\n"
     ]
    }
   ],
   "source": [
    "# 欠採樣: 減少target=0的data\n",
    "\n",
    "from sklearn.utils import resample\n",
    "\n",
    "# 將 DataFrame 轉換為 NumPy 陣列\n",
    "X_train = X_train.to_numpy()\n",
    "X_test = X_test.to_numpy()\n",
    "\n",
    "# 隨機抽取與目標樣本數量相同的非目標樣本\n",
    "X_train_0, y_train_0 = resample(X_train[y_train == 0], y_train[y_train == 0], replace=False, n_samples=np.sum(y_train == 1))\n",
    "X_test_0, y_test_0 = resample(X_test[y_test == 0], y_test[y_test == 0], replace=False, n_samples=np.sum(y_test == 1))\n",
    "\n",
    "# 合併目標樣本和非目標樣本\n",
    "X_train = np.concatenate((X_train_0, X_train[y_train == 1]), axis=0)\n",
    "y_train = np.concatenate((y_train_0, y_train[y_train == 1]), axis=0)\n",
    "X_test = np.concatenate((X_test_0, X_test[y_test == 1]), axis=0)\n",
    "y_test = np.concatenate((y_test_0, y_test[y_test == 1]), axis=0)\n",
    "\n",
    "# 檢查欠採樣後的資料量\n",
    "print(\"欠採樣後的訓練資料量：\", len(X_train))\n",
    "print(\"欠採樣後的測試資料量：\", len(X_test))\n",
    "\n",
    "# 檢查欠採樣後的目標資料分佈\n",
    "unique, counts = np.unique(y_train, return_counts=True)\n",
    "print(\"欠採樣後的訓練目標資料分佈：\", dict(zip(unique, counts)))\n",
    "unique, counts = np.unique(y_test, return_counts=True)\n",
    "print(\"欠採樣後的測試目標資料分佈：\", dict(zip(unique, counts)))"
   ]
  },
  {
   "cell_type": "markdown",
   "id": "28a377ee",
   "metadata": {
    "papermill": {
     "duration": 0.007399,
     "end_time": "2024-03-27T18:08:44.503234",
     "exception": false,
     "start_time": "2024-03-27T18:08:44.495835",
     "status": "completed"
    },
    "tags": []
   },
   "source": [
    "### Model1. 梯度提升樹（Gradient Boosting Decision Tree，GBDT）\n",
    "##### 優點：\n",
    "##### 1. 高效性： LightGBM 是一種高效的梯度提升樹模型，具有優秀的訓練速度和預測速度。它使用了基於直方圖的方法來加速訓練過程，並且通常比其他梯度提升樹庫（如XGBoost）更快。\n",
    "##### 2. 低內存使用： LightGBM 使用了一種稱為GOSS（Gradient-based One-Side Sampling）的方法，在訓練過程中減少了內存使用。這使得它可以處理大型數據集而不會出現內存不足的問題。\n",
    "##### 3. 高準確性： LightGBM 在處理大型和高維數據集時通常表現出色，並且提供了很好的預測性能。\n",
    "##### 4. 支持並行處理： LightGBM 支持並行處理，可以在多核 CPU 上進行訓練，從而加速了訓練過程。\n",
    "##### 5. 自動處理類別特徵： LightGBM 可以自動處理類別特徵，無需額外的編碼。\n",
    "##### 缺點：\n",
    "##### 1. 對參數敏感： 與其他梯度提升樹模型一樣，LightGBM 的性能取決於參數的調整，對參數較為敏感，需要一些經驗和時間來進行調參。\n",
    "##### 2. 需要較多數據： LightGBM 在處理小型數據集時可能不如其他模型表現好，因為它的高效性主要體現在處理大型數據集時"
   ]
  },
  {
   "cell_type": "code",
   "execution_count": 6,
   "id": "3279b8fb",
   "metadata": {
    "execution": {
     "iopub.execute_input": "2024-03-27T18:08:44.520548Z",
     "iopub.status.busy": "2024-03-27T18:08:44.520130Z",
     "iopub.status.idle": "2024-03-27T18:08:51.718125Z",
     "shell.execute_reply": "2024-03-27T18:08:51.716856Z"
    },
    "papermill": {
     "duration": 7.210288,
     "end_time": "2024-03-27T18:08:51.721163",
     "exception": false,
     "start_time": "2024-03-27T18:08:44.510875",
     "status": "completed"
    },
    "tags": []
   },
   "outputs": [],
   "source": [
    "import lightgbm as lgb\n",
    "\n",
    "# 創建 LightGBM 的訓練資料集\n",
    "lgb_train = lgb.Dataset(X_train, y_train)\n",
    "lgb_test = lgb.Dataset(X_test, y_test, reference=lgb_train)\n",
    "del X_train\n",
    "del y_train\n",
    "\n",
    "# 設置參數\n",
    "params = {\n",
    "    'boosting_type': 'gbdt',         # 使用梯度提升樹\n",
    "    'objective': 'binary',           # 二元分類任務\n",
    "    'metric': 'binary_error',        # 評估指標為二元分類錯誤率\n",
    "    'num_leaves': 31,                # 每棵樹的最大葉子數量\n",
    "    'learning_rate': 0.05,           # 學習速率\n",
    "    'feature_fraction': 0.9,         # 特徵抽樣比例\n",
    "    'bagging_fraction': 0.8,         # 樣本抽樣比例\n",
    "    'bagging_freq': 5,               # 樣本抽樣的頻率\n",
    "    'verbose': 0,                    # 顯示訓練信息\n",
    "    'early_stopping_rounds': 10\n",
    "}\n",
    "\n",
    "# 訓練模型\n",
    "num_round = 100                      # 迭代輪次\n",
    "bst = lgb.train(params, lgb_train, num_round, valid_sets=[lgb_train, lgb_test])\n",
    "\n",
    "# 預測\n",
    "y_pred = bst.predict(X_test, num_iteration=bst.best_iteration)\n",
    "y_pred_binary = [1 if pred > 0.5 else 0 for pred in y_pred]"
   ]
  },
  {
   "cell_type": "markdown",
   "id": "3d69fc0e",
   "metadata": {
    "papermill": {
     "duration": 0.007391,
     "end_time": "2024-03-27T18:08:51.737548",
     "exception": false,
     "start_time": "2024-03-27T18:08:51.730157",
     "status": "completed"
    },
    "tags": []
   },
   "source": [
    "### Model2. RNN\n",
    "##### RNN的優點：\n",
    "##### 1. 能夠處理序列數據，保留先前時間步的信息。\n",
    "##### 2. 模型相對較簡單，易於理解和實現。\n",
    "##### RNN的缺點：\n",
    "##### 3. 容易出現梯度消失或梯度爆炸的問題，尤其在處理長序列數據時效果不佳。\n",
    "##### 4. 難以捕捉長期依賴關係"
   ]
  },
  {
   "cell_type": "code",
   "execution_count": 7,
   "id": "00ecd4bc",
   "metadata": {
    "execution": {
     "iopub.execute_input": "2024-03-27T18:08:51.756595Z",
     "iopub.status.busy": "2024-03-27T18:08:51.755069Z",
     "iopub.status.idle": "2024-03-27T18:08:51.762142Z",
     "shell.execute_reply": "2024-03-27T18:08:51.761054Z"
    },
    "papermill": {
     "duration": 0.019763,
     "end_time": "2024-03-27T18:08:51.764853",
     "exception": false,
     "start_time": "2024-03-27T18:08:51.745090",
     "status": "completed"
    },
    "tags": []
   },
   "outputs": [],
   "source": [
    "# def focal_loss(y_true, y_pred, alpha=0.25, gamma=2.0):\n",
    "#     # Calculate cross entropy loss\n",
    "#     ce_loss = tf.keras.losses.binary_crossentropy(y_true, y_pred, from_logits=False)\n",
    "    \n",
    "#     # Calculate focal weights\n",
    "#     p_t = y_true * y_pred + (1 - y_true) * (1 - y_pred)\n",
    "#     focal_weight = alpha * tf.pow(1 - p_t, gamma)\n",
    "    \n",
    "#     # Apply focal weights to cross entropy loss\n",
    "#     focal_loss = focal_weight * ce_loss\n",
    "    \n",
    "#     # Return the mean loss over the batch\n",
    "#     return tf.reduce_mean(focal_loss)"
   ]
  },
  {
   "cell_type": "code",
   "execution_count": 8,
   "id": "76319e9f",
   "metadata": {
    "execution": {
     "iopub.execute_input": "2024-03-27T18:08:51.781929Z",
     "iopub.status.busy": "2024-03-27T18:08:51.781534Z",
     "iopub.status.idle": "2024-03-27T18:08:51.788816Z",
     "shell.execute_reply": "2024-03-27T18:08:51.787885Z"
    },
    "papermill": {
     "duration": 0.018301,
     "end_time": "2024-03-27T18:08:51.790967",
     "exception": false,
     "start_time": "2024-03-27T18:08:51.772666",
     "status": "completed"
    },
    "tags": []
   },
   "outputs": [],
   "source": [
    "# import tensorflow as tf\n",
    "# from tensorflow.keras.models import Sequential\n",
    "# from tensorflow.keras.layers import SimpleRNN, Dense, Dropout\n",
    "# from tensorflow.keras.callbacks import EarlyStopping\n",
    "# from tensorflow.keras.optimizers import AdamW\n",
    "# # from sklearn.utils.class_weight import compute_class_weight\n",
    "\n",
    "# # 將資料轉換成3D形狀\n",
    "# X_train = X_train.reshape(X_train.shape[0], X_train.shape[1], 1)\n",
    "# X_test = X_test.reshape(X_test.shape[0], X_test.shape[1], 1)\n",
    "\n",
    "# # 創建 Sequential 模型\n",
    "# model = Sequential()\n",
    "\n",
    "# # 添加第一層 SimpleRNN 層\n",
    "# model.add(SimpleRNN(50, return_sequences=True, input_shape=(X_train.shape[1], X_train.shape[2]), activation='relu'))\n",
    "# model.add(Dropout(0.3))  # 添加 dropout 避免過擬合\n",
    "\n",
    "# # 添加第二層 SimpleRNN 層\n",
    "# model.add(SimpleRNN(50, return_sequences=True, activation='relu'))\n",
    "# model.add(Dropout(0.3))\n",
    "\n",
    "# # 添加第三層 SimpleRNN 層\n",
    "# model.add(SimpleRNN(50, activation='relu'))\n",
    "# model.add(Dropout(0.3))\n",
    "\n",
    "# # 添加輸出層\n",
    "# model.add(Dense(1, activation='sigmoid'))\n",
    "\n",
    "# # 定義 AdamW 優化器，設置初始學習率和權重衰減\n",
    "# # 嘗試不同的優化器 ：AdamW是Adam的一個變種，引入了一個額外的權重衰減（Weight Decay）項目，有助於減小參數的數值大小，從而減少過擬合的風險。\n",
    "# # 調整學習率（Learning Rate）：嘗試不同的學習率值，有時降低學習率可以幫助模型更好地收斂，特別是在資料不平衡的情況下。\n",
    "# optimizer = AdamW(learning_rate=0.001, weight_decay=1e-4)\n",
    "\n",
    "# # 編譯模型\n",
    "# # focal_loss 損失函數，可以自動為少數類別分配更大的權重\n",
    "# model.compile(optimizer=optimizer, loss=focal_loss, metrics=['accuracy'])\n",
    "\n",
    "# # 定義 EarlyStopping\n",
    "# # 調整Early Stopping的參數：嘗試不同的patience值，以及monitor參數，這可能會影響到模型的停止訓練的時機。\n",
    "# early_stopping = EarlyStopping(patience=10, monitor='val_loss', restore_best_weights=True)\n",
    "\n",
    "# # 設置類別加權，例如給予類別0權重1，給予類別1權重100\n",
    "# # 1. 使用 np.unique(y_train) 函數獲取訓練數據中所有類別的標籤。\n",
    "# # 2. 使用 compute_class_weight 函數計算每個類別的權重，參數 'balanced' 指定使用平衡策略。\n",
    "# # 3. 將計算出的類別權重存儲在 class_weight 字典中\n",
    "# # class_weight = compute_class_weight('balanced', np.unique(y_train), y_train)\n",
    "# class_weight = {0: 1, 1: 100}\n",
    "\n",
    "# # 訓練模型\n",
    "# # 批量大小: 嘗試減小批量大小，可以讓模型在每個更新步驟中看到更多樣化的樣本，可能有助於緩解數據不平衡問題。\n",
    "# history = model.fit(X_train, y_train, epochs=3, batch_size=128, validation_data=(X_test, y_test), callbacks=[early_stopping], class_weight=class_weight) # class_weight='balanced' not work\n",
    "\n",
    "# # 評估\n",
    "# model.evaluate(X_test, y_test)\n",
    "\n",
    "# # 預測\n",
    "# y_pred = model.predict(X_test)\n",
    "# y_pred_binary = [1 if pred > 0.5 else 0 for pred in y_pred]"
   ]
  },
  {
   "cell_type": "markdown",
   "id": "7bac98ea",
   "metadata": {
    "papermill": {
     "duration": 0.007399,
     "end_time": "2024-03-27T18:08:51.806002",
     "exception": false,
     "start_time": "2024-03-27T18:08:51.798603",
     "status": "completed"
    },
    "tags": []
   },
   "source": [
    "### Model3. LSTM\n",
    "##### LSTM的優點：\n",
    "##### 1. 能夠有效地解決梯度消失或梯度爆炸的問題，能夠處理長序列數據。\n",
    "##### 2. 能夠捕捉長期依賴關係，適用於需要考慮長期記憶的任務。\n",
    "##### LSTM的缺點：\n",
    "##### 1. 模型相對複雜，訓練時間較長。\n",
    "##### 2. 需要調參和優化，有時可能會出現過擬合的問題。"
   ]
  },
  {
   "cell_type": "code",
   "execution_count": 9,
   "id": "bb75f758",
   "metadata": {
    "execution": {
     "iopub.execute_input": "2024-03-27T18:08:51.823488Z",
     "iopub.status.busy": "2024-03-27T18:08:51.822714Z",
     "iopub.status.idle": "2024-03-27T18:08:51.828790Z",
     "shell.execute_reply": "2024-03-27T18:08:51.827853Z"
    },
    "papermill": {
     "duration": 0.017654,
     "end_time": "2024-03-27T18:08:51.831246",
     "exception": false,
     "start_time": "2024-03-27T18:08:51.813592",
     "status": "completed"
    },
    "tags": []
   },
   "outputs": [],
   "source": [
    "# import tensorflow as tf\n",
    "# from tensorflow.keras.models import Sequential\n",
    "# from tensorflow.keras.layers import LSTM, Dense, Dropout\n",
    "# from tensorflow.keras.callbacks import EarlyStopping\n",
    "\n",
    "# # 將 DataFrame 轉換為 NumPy 陣列\n",
    "# X_train = X_train.to_numpy()\n",
    "# X_test = X_test.to_numpy()\n",
    "\n",
    "# # 將資料轉換成3D形狀\n",
    "# X_train = X_train.reshape(X_train.shape[0], X_train.shape[1], 1)\n",
    "# X_test = X_test.reshape(X_test.shape[0], X_test.shape[1], 1)\n",
    "\n",
    "# # 創建 Sequential 模型\n",
    "# model = Sequential()\n",
    "\n",
    "# # 添加第一層 LSTM 層\n",
    "# model.add(LSTM(50, return_sequences=True, input_shape=(X_train.shape[1], X_train.shape[2]), activation='relu'))\n",
    "# model.add(Dropout(0.3))  # 添加 dropout 避免過擬合\n",
    "\n",
    "# # 添加第二層 LSTM 層\n",
    "# model.add(LSTM(50, return_sequences=True, activation='relu'))\n",
    "# model.add(Dropout(0.3))  # 添加 dropout 避免過擬合\n",
    "\n",
    "# # 添加第三層 LSTM 層\n",
    "# model.add(LSTM(50, activation='relu'))\n",
    "# model.add(Dropout(0.3))  # 添加 dropout 避免過擬合\n",
    "\n",
    "# # 添加輸出層\n",
    "# model.add(Dense(1, activation='sigmoid'))\n",
    "\n",
    "# # 編譯模型\n",
    "# model.compile(optimizer='adam', loss='binary_crossentropy', metrics=['accuracy'])\n",
    "\n",
    "# # 定義 EarlyStopping\n",
    "# early_stopping = EarlyStopping(patience=5, monitor='val_loss', restore_best_weights=True)\n",
    "\n",
    "# # 設置類別加權，例如給予類別0權重1，給予類別1權重100\n",
    "# class_weight = {0: 1, 1: 100}\n",
    "\n",
    "# # 訓練模型\n",
    "# history = model.fit(X_train, y_train, epochs=1, batch_size=2048, validation_data=(X_test, y_test), callbacks=[early_stopping], class_weight=class_weight)\n",
    "\n",
    "# # 預測\n",
    "# y_pred = model.predict(X_test)\n",
    "# y_pred_binary = [1 if pred > 0.5 else 0 for pred in y_pred]"
   ]
  },
  {
   "cell_type": "markdown",
   "id": "ebacded5",
   "metadata": {
    "papermill": {
     "duration": 0.007496,
     "end_time": "2024-03-27T18:08:51.847325",
     "exception": false,
     "start_time": "2024-03-27T18:08:51.839829",
     "status": "completed"
    },
    "tags": []
   },
   "source": [
    "## 評估模型"
   ]
  },
  {
   "cell_type": "code",
   "execution_count": 10,
   "id": "9200d199",
   "metadata": {
    "execution": {
     "iopub.execute_input": "2024-03-27T18:08:51.865605Z",
     "iopub.status.busy": "2024-03-27T18:08:51.864844Z",
     "iopub.status.idle": "2024-03-27T18:08:51.923519Z",
     "shell.execute_reply": "2024-03-27T18:08:51.922669Z"
    },
    "papermill": {
     "duration": 0.070919,
     "end_time": "2024-03-27T18:08:51.926087",
     "exception": false,
     "start_time": "2024-03-27T18:08:51.855168",
     "status": "completed"
    },
    "tags": []
   },
   "outputs": [
    {
     "name": "stdout",
     "output_type": "stream",
     "text": [
      "準確率: 0.7210823824976447\n",
      "分類報告:\n",
      "              precision    recall  f1-score   support\n",
      "\n",
      "           0       0.73      0.70      0.71      9553\n",
      "           1       0.71      0.74      0.73      9553\n",
      "\n",
      "    accuracy                           0.72     19106\n",
      "   macro avg       0.72      0.72      0.72     19106\n",
      "weighted avg       0.72      0.72      0.72     19106\n",
      "\n"
     ]
    }
   ],
   "source": [
    "from sklearn.metrics import accuracy_score, classification_report\n",
    "\n",
    "# 評估模型\n",
    "accuracy = accuracy_score(y_test, y_pred_binary)\n",
    "print(\"準確率:\", accuracy)\n",
    "\n",
    "# 顯示分類報告\n",
    "print(\"分類報告:\")\n",
    "print(classification_report(y_test, y_pred_binary))"
   ]
  },
  {
   "cell_type": "markdown",
   "id": "48bbda6b",
   "metadata": {
    "papermill": {
     "duration": 0.007373,
     "end_time": "2024-03-27T18:08:51.941240",
     "exception": false,
     "start_time": "2024-03-27T18:08:51.933867",
     "status": "completed"
    },
    "tags": []
   },
   "source": [
    "## Submission"
   ]
  },
  {
   "cell_type": "code",
   "execution_count": 11,
   "id": "af5937a2",
   "metadata": {
    "execution": {
     "iopub.execute_input": "2024-03-27T18:08:51.959014Z",
     "iopub.status.busy": "2024-03-27T18:08:51.958311Z",
     "iopub.status.idle": "2024-03-27T18:08:52.248203Z",
     "shell.execute_reply": "2024-03-27T18:08:52.247221Z"
    },
    "papermill": {
     "duration": 0.301832,
     "end_time": "2024-03-27T18:08:52.250917",
     "exception": false,
     "start_time": "2024-03-27T18:08:51.949085",
     "status": "completed"
    },
    "tags": []
   },
   "outputs": [],
   "source": [
    "# 訓練資料的目錄\n",
    "testDir = os.path.join(projDir, \"csv_files/test/\")\n",
    "\n",
    "# 讀取訓練數據\n",
    "\n",
    "# base.csv\n",
    "path = os.path.join(testDir, 'test_base.csv')\n",
    "test_base = pd.read_csv(path)\n",
    "\n",
    "# static(depth=0)\n",
    "# test_static is divided into three parts: 0, 1, and 2.\n",
    "path = os.path.join(testDir, 'test_static_0_0.csv')\n",
    "test_static0 = pd.read_csv(path)\n",
    "path = os.path.join(testDir, 'test_static_0_1.csv')\n",
    "test_static1 = pd.read_csv(path)\n",
    "path = os.path.join(testDir, 'test_static_0_2.csv')\n",
    "test_static2 = pd.read_csv(path)\n",
    "test_static = pd.concat([test_static0, test_static1, test_static2], ignore_index=True)\n",
    "del test_static0, test_static1, test_static2\n",
    "\n",
    "# static_cb\n",
    "path = os.path.join(testDir, 'test_static_cb_0.csv')\n",
    "test_static_cb = pd.read_csv(path)\n",
    "\n",
    "# Join Table\n",
    "X_test = pd.merge(test_base, test_static, how=\"left\", on=\"case_id\")\n",
    "X_test = pd.merge(X_test, test_static_cb, how=\"left\", on=\"case_id\")\n",
    "del test_base, test_static, test_static_cb\n",
    "\n",
    "# 刪非數col\n",
    "for col in X_test.columns:\n",
    "    if not (X_test[col].dtype in (np.int64, np.float64)):\n",
    "        X_test = X_test.drop(col, axis=1)"
   ]
  },
  {
   "cell_type": "code",
   "execution_count": 12,
   "id": "781e1e5c",
   "metadata": {
    "execution": {
     "iopub.execute_input": "2024-03-27T18:08:52.268670Z",
     "iopub.status.busy": "2024-03-27T18:08:52.267950Z",
     "iopub.status.idle": "2024-03-27T18:08:52.278932Z",
     "shell.execute_reply": "2024-03-27T18:08:52.278086Z"
    },
    "papermill": {
     "duration": 0.022645,
     "end_time": "2024-03-27T18:08:52.281409",
     "exception": false,
     "start_time": "2024-03-27T18:08:52.258764",
     "status": "completed"
    },
    "tags": []
   },
   "outputs": [
    {
     "data": {
      "text/plain": [
       "[1, 1, 1, 1, 1, 0, 1, 0, 1, 0]"
      ]
     },
     "execution_count": 12,
     "metadata": {},
     "output_type": "execute_result"
    }
   ],
   "source": [
    "# LGBM\n",
    "y_test_pred = bst.predict(X_test, num_iteration=bst.best_iteration, predict_disable_shape_check=True)\n",
    "\n",
    "# # RNN, LSTM\n",
    "# X_test_array = X_test.to_numpy()\n",
    "# X_test_rnn = X_test_array.reshape(X_test_array.shape[0], X_test_array.shape[1], 1)\n",
    "# y_test_pred = model.predict(X_test_rnn)\n",
    "\n",
    "# 轉成0或1\n",
    "y_test_pred_binary = [1 if pred > 0.5 else 0 for pred in y_test_pred]\n",
    "y_test_pred_binary"
   ]
  },
  {
   "cell_type": "code",
   "execution_count": 13,
   "id": "70939e24",
   "metadata": {
    "execution": {
     "iopub.execute_input": "2024-03-27T18:08:52.299447Z",
     "iopub.status.busy": "2024-03-27T18:08:52.298735Z",
     "iopub.status.idle": "2024-03-27T18:08:52.318582Z",
     "shell.execute_reply": "2024-03-27T18:08:52.317661Z"
    },
    "papermill": {
     "duration": 0.031746,
     "end_time": "2024-03-27T18:08:52.321050",
     "exception": false,
     "start_time": "2024-03-27T18:08:52.289304",
     "status": "completed"
    },
    "tags": []
   },
   "outputs": [
    {
     "data": {
      "text/html": [
       "<div>\n",
       "<style scoped>\n",
       "    .dataframe tbody tr th:only-of-type {\n",
       "        vertical-align: middle;\n",
       "    }\n",
       "\n",
       "    .dataframe tbody tr th {\n",
       "        vertical-align: top;\n",
       "    }\n",
       "\n",
       "    .dataframe thead th {\n",
       "        text-align: right;\n",
       "    }\n",
       "</style>\n",
       "<table border=\"1\" class=\"dataframe\">\n",
       "  <thead>\n",
       "    <tr style=\"text-align: right;\">\n",
       "      <th></th>\n",
       "      <th>case_id</th>\n",
       "      <th>score</th>\n",
       "    </tr>\n",
       "  </thead>\n",
       "  <tbody>\n",
       "    <tr>\n",
       "      <th>0</th>\n",
       "      <td>57543</td>\n",
       "      <td>1</td>\n",
       "    </tr>\n",
       "    <tr>\n",
       "      <th>1</th>\n",
       "      <td>57549</td>\n",
       "      <td>1</td>\n",
       "    </tr>\n",
       "    <tr>\n",
       "      <th>2</th>\n",
       "      <td>57551</td>\n",
       "      <td>1</td>\n",
       "    </tr>\n",
       "    <tr>\n",
       "      <th>3</th>\n",
       "      <td>57552</td>\n",
       "      <td>1</td>\n",
       "    </tr>\n",
       "    <tr>\n",
       "      <th>4</th>\n",
       "      <td>57569</td>\n",
       "      <td>1</td>\n",
       "    </tr>\n",
       "    <tr>\n",
       "      <th>5</th>\n",
       "      <td>57630</td>\n",
       "      <td>0</td>\n",
       "    </tr>\n",
       "    <tr>\n",
       "      <th>6</th>\n",
       "      <td>57631</td>\n",
       "      <td>1</td>\n",
       "    </tr>\n",
       "    <tr>\n",
       "      <th>7</th>\n",
       "      <td>57632</td>\n",
       "      <td>0</td>\n",
       "    </tr>\n",
       "    <tr>\n",
       "      <th>8</th>\n",
       "      <td>57633</td>\n",
       "      <td>1</td>\n",
       "    </tr>\n",
       "    <tr>\n",
       "      <th>9</th>\n",
       "      <td>57634</td>\n",
       "      <td>0</td>\n",
       "    </tr>\n",
       "  </tbody>\n",
       "</table>\n",
       "</div>"
      ],
      "text/plain": [
       "   case_id  score\n",
       "0    57543      1\n",
       "1    57549      1\n",
       "2    57551      1\n",
       "3    57552      1\n",
       "4    57569      1\n",
       "5    57630      0\n",
       "6    57631      1\n",
       "7    57632      0\n",
       "8    57633      1\n",
       "9    57634      0"
      ]
     },
     "execution_count": 13,
     "metadata": {},
     "output_type": "execute_result"
    }
   ],
   "source": [
    "submission = pd.DataFrame({\n",
    "    \"case_id\": X_test[\"case_id\"].to_numpy(),\n",
    "    \"score\": y_test_pred_binary\n",
    "}).set_index('case_id')\n",
    "submission.to_csv(\"./submission.csv\")\n",
    "\n",
    "pd.read_csv(\"./submission.csv\")"
   ]
  }
 ],
 "metadata": {
  "kaggle": {
   "accelerator": "none",
   "dataSources": [
    {
     "databundleVersionId": 7921029,
     "sourceId": 50160,
     "sourceType": "competition"
    }
   ],
   "dockerImageVersionId": 30664,
   "isGpuEnabled": false,
   "isInternetEnabled": false,
   "language": "python",
   "sourceType": "notebook"
  },
  "kernelspec": {
   "display_name": "Python 3",
   "language": "python",
   "name": "python3"
  },
  "language_info": {
   "codemirror_mode": {
    "name": "ipython",
    "version": 3
   },
   "file_extension": ".py",
   "mimetype": "text/x-python",
   "name": "python",
   "nbconvert_exporter": "python",
   "pygments_lexer": "ipython3",
   "version": "3.10.13"
  },
  "papermill": {
   "default_parameters": {},
   "duration": 180.309224,
   "end_time": "2024-03-27T18:08:53.152617",
   "environment_variables": {},
   "exception": null,
   "input_path": "__notebook__.ipynb",
   "output_path": "__notebook__.ipynb",
   "parameters": {},
   "start_time": "2024-03-27T18:05:52.843393",
   "version": "2.5.0"
  }
 },
 "nbformat": 4,
 "nbformat_minor": 5
}
