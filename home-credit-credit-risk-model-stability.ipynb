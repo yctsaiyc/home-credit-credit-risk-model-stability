{
 "cells": [
  {
   "cell_type": "code",
   "execution_count": 1,
   "id": "8957b2da",
   "metadata": {
    "_cell_guid": "b1076dfc-b9ad-4769-8c92-a6c4dae69d19",
    "_uuid": "8f2839f25d086af736a60e9eeb907d3b93b6e0e5",
    "execution": {
     "iopub.execute_input": "2024-03-27T16:32:18.622483Z",
     "iopub.status.busy": "2024-03-27T16:32:18.621963Z",
     "iopub.status.idle": "2024-03-27T16:32:20.012041Z",
     "shell.execute_reply": "2024-03-27T16:32:20.010628Z"
    },
    "papermill": {
     "duration": 1.40606,
     "end_time": "2024-03-27T16:32:20.015308",
     "exception": false,
     "start_time": "2024-03-27T16:32:18.609248",
     "status": "completed"
    },
    "tags": []
   },
   "outputs": [],
   "source": [
    "import numpy as np\n",
    "import pandas as pd\n",
    "import os\n",
    "\n",
    "import polars as pl"
   ]
  },
  {
   "cell_type": "markdown",
   "id": "efd1dff7",
   "metadata": {
    "papermill": {
     "duration": 0.009852,
     "end_time": "2024-03-27T16:32:20.035386",
     "exception": false,
     "start_time": "2024-03-27T16:32:20.025534",
     "status": "completed"
    },
    "tags": []
   },
   "source": [
    "## 資料探索與前處理"
   ]
  },
  {
   "cell_type": "markdown",
   "id": "6f9ea397",
   "metadata": {
    "papermill": {
     "duration": 0.009994,
     "end_time": "2024-03-27T16:32:20.055533",
     "exception": false,
     "start_time": "2024-03-27T16:32:20.045539",
     "status": "completed"
    },
    "tags": []
   },
   "source": [
    "### 資料概覽\n",
    "##### 列出主要的數據特徵及統計摘要"
   ]
  },
  {
   "cell_type": "code",
   "execution_count": 2,
   "id": "a25facef",
   "metadata": {
    "execution": {
     "iopub.execute_input": "2024-03-27T16:32:20.078252Z",
     "iopub.status.busy": "2024-03-27T16:32:20.077362Z",
     "iopub.status.idle": "2024-03-27T16:32:20.095502Z",
     "shell.execute_reply": "2024-03-27T16:32:20.093833Z"
    },
    "papermill": {
     "duration": 0.03248,
     "end_time": "2024-03-27T16:32:20.097970",
     "exception": false,
     "start_time": "2024-03-27T16:32:20.065490",
     "status": "completed"
    },
    "tags": []
   },
   "outputs": [
    {
     "name": "stdout",
     "output_type": "stream",
     "text": [
      "目錄下有 32 個訓練資料文件\n"
     ]
    }
   ],
   "source": [
    "# 訓練資料的目錄\n",
    "projDir = \"/kaggle/input/home-credit-credit-risk-model-stability/\"\n",
    "trainDir = os.path.join(projDir, \"csv_files/train/\")\n",
    "\n",
    "# 列出目錄下所有文件\n",
    "files = os.listdir(trainDir)\n",
    "\n",
    "# 依檔名排序\n",
    "files = sorted(files)\n",
    "\n",
    "# # 印出文件名稱\n",
    "# for file in files:\n",
    "#     print(file)\n",
    "    \n",
    "# 計算文件數量\n",
    "num_files = len(files)\n",
    "print(\"目錄下有\", num_files, \"個訓練資料文件\")\n",
    "\n",
    "del num_files"
   ]
  },
  {
   "cell_type": "code",
   "execution_count": 3,
   "id": "08c35b66",
   "metadata": {
    "execution": {
     "iopub.execute_input": "2024-03-27T16:32:20.121566Z",
     "iopub.status.busy": "2024-03-27T16:32:20.120188Z",
     "iopub.status.idle": "2024-03-27T16:32:20.126161Z",
     "shell.execute_reply": "2024-03-27T16:32:20.125066Z"
    },
    "papermill": {
     "duration": 0.020422,
     "end_time": "2024-03-27T16:32:20.128629",
     "exception": false,
     "start_time": "2024-03-27T16:32:20.108207",
     "status": "completed"
    },
    "tags": []
   },
   "outputs": [],
   "source": [
    "# # 遍歷每個文件，僅顯示前幾行資料概況\n",
    "# for file in files:\n",
    "#     # 組合完整的檔案路徑\n",
    "#     file_path = os.path.join(trainDir, file)\n",
    "    \n",
    "#     # 讀取文件的前幾行\n",
    "#     df_head = pd.read_csv(file_path, nrows=3)\n",
    "    \n",
    "#     print(\"文件名稱:\", file)\n",
    "#     print(\"前3行資料:\")\n",
    "#     display(df_head)\n",
    "#     print(\"\\n\")\n",
    "    \n",
    "del files"
   ]
  },
  {
   "cell_type": "markdown",
   "id": "70f28eee",
   "metadata": {
    "papermill": {
     "duration": 0.00988,
     "end_time": "2024-03-27T16:32:20.148709",
     "exception": false,
     "start_time": "2024-03-27T16:32:20.138829",
     "status": "completed"
    },
    "tags": []
   },
   "source": [
    "### 特徵工程\n",
    "##### 提取、轉換或建立新特徵以優化模型"
   ]
  },
  {
   "cell_type": "code",
   "execution_count": 4,
   "id": "8e319470",
   "metadata": {
    "execution": {
     "iopub.execute_input": "2024-03-27T16:32:20.171621Z",
     "iopub.status.busy": "2024-03-27T16:32:20.170680Z",
     "iopub.status.idle": "2024-03-27T16:34:11.292435Z",
     "shell.execute_reply": "2024-03-27T16:34:11.289210Z"
    },
    "papermill": {
     "duration": 111.155639,
     "end_time": "2024-03-27T16:34:11.314393",
     "exception": false,
     "start_time": "2024-03-27T16:32:20.158754",
     "status": "completed"
    },
    "tags": []
   },
   "outputs": [
    {
     "name": "stderr",
     "output_type": "stream",
     "text": [
      "/tmp/ipykernel_18/1851206736.py:5: DtypeWarning: Columns (20,45,46,53,57,84,143,146,167) have mixed types. Specify dtype option on import or set low_memory=False.\n",
      "  pd.read_csv(trainDir + 'train_static_0_0.csv'),\n",
      "/tmp/ipykernel_18/1851206736.py:6: DtypeWarning: Columns (20,45,46,56,57,84,143,146,167) have mixed types. Specify dtype option on import or set low_memory=False.\n",
      "  pd.read_csv(trainDir + 'train_static_0_1.csv')\n"
     ]
    },
    {
     "name": "stdout",
     "output_type": "stream",
     "text": [
      "[Int64, String, Int64, Int64, Float64, Float64, Float64, Float64, Float64, Float64, Float64, Float64, Float64, Float64, Float64, Float64, Float64, Float64, Float64, Float64, Float64, Float64, Float64, String, String, Float64, Float64, Float64, Float64, Float64, Float64, Float64, Float64, Float64, Float64, Float64, Float64, Float64, Float64, Float64, Float64, Float64, Float64, Float64, Float64, String, Float64, Float64, String, String, String, Float64, Float64, Float64, String, Float64, String, Float64, Boolean, Boolean, String, String, Float64, Float64, String, Float64, Float64, Boolean, Boolean, Boolean, String, String, String, String, Float64, String, String, String, Float64, Float64, Float64, String, String, Float64, String, String, String, String, String, Float64, Float64, Float64, Float64, Float64, Float64, Float64, Float64, Float64, Float64, String, Float64, Float64, Float64, Float64, Float64, Float64, Float64, Float64, Float64, Float64, Float64, Float64, Float64, Float64, Float64, Float64, Float64, Float64, Float64, Float64, Float64, Float64, Float64, Float64, Float64, Float64, Float64, Float64, Float64, Float64, Float64, Float64, Float64, Float64, Float64, Float64, Float64, Float64, Float64, Float64, Float64, Float64, Float64, Float64, Float64, Float64, Boolean, String, String, String, Float64, Float64, Float64, Float64, Float64, Float64, Float64, Float64, Float64, String, Float64, Float64, Float64, Float64, Float64, Float64, Float64, Float64, String, String, String, String, String, String, String, String, String, String, Float64, Float64, Float64, Float64, Float64, String, String, String, Float64, Float64, Float64, Float64, Float64, Float64, Float64, Float64, Float64, Float64, Float64, Float64, Float64, Float64, Float64, Float64, Float64, Float64, String, String, Float64, Float64, String, String, String, String, Float64, Float64, Float64, String, String, String, String, String, Float64, Float64, Float64, String, String, Float64, String, Boolean, Boolean, String, String, String, String, String, String, String, String, String, String, String, String, Boolean, String, Float64, String, Int64, Float64, Float64, Float64, String, String, String, String, Boolean, String, String, Boolean, String, String, Int64, Int64, String, Float64, Float64]\n"
     ]
    },
    {
     "name": "stderr",
     "output_type": "stream",
     "text": [
      "/tmp/ipykernel_18/1851206736.py:33: DeprecationWarning: named `columns` param is deprecated; use positional `*args` instead.\n",
      "  X = train_data.drop(columns=['target'])\n"
     ]
    }
   ],
   "source": [
    "# 讀取訓練數據\n",
    "train_base = pl.read_csv(trainDir + 'train_base.csv')\n",
    "\n",
    "static_dfs = [\n",
    "    pd.read_csv(trainDir + 'train_static_0_0.csv'),\n",
    "    pd.read_csv(trainDir + 'train_static_0_1.csv')\n",
    "]\n",
    "pd_df = pd.concat(static_dfs, ignore_index=True)\n",
    "del static_dfs\n",
    "train_static = pl.from_pandas(pd_df)\n",
    "\n",
    "train_static_cb = pl.read_csv(trainDir + 'train_static_cb_0.csv')\n",
    "train_person_1 = pl.read_csv(trainDir + 'train_person_1.csv') \n",
    "train_credit_bureau_b_2 = pl.read_csv(trainDir + 'train_credit_bureau_b_2.csv') \n",
    "\n",
    "# Merge all dataframes using join with how='inner'\n",
    "train_data = train_base.join(\n",
    "    train_static, on='case_id', how='inner'\n",
    ").join(\n",
    "    train_static_cb, on='case_id', how='inner'\n",
    ").join(\n",
    "    train_person_1, on='case_id', how='inner'\n",
    ").join(\n",
    "    train_credit_bureau_b_2, on='case_id', how='inner'\n",
    ")\n",
    "del train_base\n",
    "del train_static\n",
    "del train_static_cb\n",
    "del train_person_1\n",
    "del train_credit_bureau_b_2\n",
    "\n",
    "# 將目標變量和特徵變量分開\n",
    "X = train_data.drop(columns=['target'])\n",
    "y = train_data['target']\n",
    "del train_data\n",
    "\n",
    "print(X.dtypes)"
   ]
  },
  {
   "cell_type": "code",
   "execution_count": 5,
   "id": "b825d17d",
   "metadata": {
    "execution": {
     "iopub.execute_input": "2024-03-27T16:34:11.342615Z",
     "iopub.status.busy": "2024-03-27T16:34:11.341054Z",
     "iopub.status.idle": "2024-03-27T16:34:11.349608Z",
     "shell.execute_reply": "2024-03-27T16:34:11.348542Z"
    },
    "papermill": {
     "duration": 0.026794,
     "end_time": "2024-03-27T16:34:11.352326",
     "exception": false,
     "start_time": "2024-03-27T16:34:11.325532",
     "status": "completed"
    },
    "tags": []
   },
   "outputs": [],
   "source": [
    "# # X存在非數字的column，無法輸入model訓練\n",
    "# X.dtypes"
   ]
  },
  {
   "cell_type": "code",
   "execution_count": 6,
   "id": "f85158f9",
   "metadata": {
    "execution": {
     "iopub.execute_input": "2024-03-27T16:34:11.377019Z",
     "iopub.status.busy": "2024-03-27T16:34:11.376183Z",
     "iopub.status.idle": "2024-03-27T16:34:11.862796Z",
     "shell.execute_reply": "2024-03-27T16:34:11.861050Z"
    },
    "papermill": {
     "duration": 0.502755,
     "end_time": "2024-03-27T16:34:11.866292",
     "exception": false,
     "start_time": "2024-03-27T16:34:11.363537",
     "status": "completed"
    },
    "tags": []
   },
   "outputs": [],
   "source": [
    "for col in X.columns:\n",
    "    if not (X[col].dtype in (pl.Int64, pl.Float64)):\n",
    "        X = X.drop(col)"
   ]
  },
  {
   "cell_type": "code",
   "execution_count": 7,
   "id": "a19e9384",
   "metadata": {
    "execution": {
     "iopub.execute_input": "2024-03-27T16:34:11.896109Z",
     "iopub.status.busy": "2024-03-27T16:34:11.894469Z",
     "iopub.status.idle": "2024-03-27T16:34:11.903372Z",
     "shell.execute_reply": "2024-03-27T16:34:11.901847Z"
    },
    "papermill": {
     "duration": 0.026818,
     "end_time": "2024-03-27T16:34:11.906545",
     "exception": false,
     "start_time": "2024-03-27T16:34:11.879727",
     "status": "completed"
    },
    "tags": []
   },
   "outputs": [],
   "source": [
    "# X.dtypes"
   ]
  },
  {
   "cell_type": "code",
   "execution_count": 8,
   "id": "f5f2cd78",
   "metadata": {
    "execution": {
     "iopub.execute_input": "2024-03-27T16:34:11.931676Z",
     "iopub.status.busy": "2024-03-27T16:34:11.931019Z",
     "iopub.status.idle": "2024-03-27T16:34:22.220808Z",
     "shell.execute_reply": "2024-03-27T16:34:22.219091Z"
    },
    "papermill": {
     "duration": 10.306447,
     "end_time": "2024-03-27T16:34:22.224344",
     "exception": false,
     "start_time": "2024-03-27T16:34:11.917897",
     "status": "completed"
    },
    "tags": []
   },
   "outputs": [],
   "source": [
    "from sklearn.model_selection import train_test_split\n",
    "\n",
    "# 將數據劃分為訓練集和測試集\n",
    "X_train, X_test, y_train, y_test = train_test_split(X, y, test_size=0.2, random_state=42)\n",
    "del X\n",
    "del y"
   ]
  },
  {
   "cell_type": "markdown",
   "id": "61996778",
   "metadata": {
    "papermill": {
     "duration": 0.011237,
     "end_time": "2024-03-27T16:34:22.247897",
     "exception": false,
     "start_time": "2024-03-27T16:34:22.236660",
     "status": "completed"
    },
    "tags": []
   },
   "source": [
    "## 數據分析方法與模型選擇"
   ]
  },
  {
   "cell_type": "code",
   "execution_count": 9,
   "id": "c47a0748",
   "metadata": {
    "execution": {
     "iopub.execute_input": "2024-03-27T16:34:22.272949Z",
     "iopub.status.busy": "2024-03-27T16:34:22.272497Z",
     "iopub.status.idle": "2024-03-27T16:34:22.284665Z",
     "shell.execute_reply": "2024-03-27T16:34:22.283651Z"
    },
    "papermill": {
     "duration": 0.028759,
     "end_time": "2024-03-27T16:34:22.287862",
     "exception": false,
     "start_time": "2024-03-27T16:34:22.259103",
     "status": "completed"
    },
    "tags": []
   },
   "outputs": [],
   "source": [
    "# 取得最後三十萬筆資料(ram不夠，sample不work)\n",
    "X_train = X_train.tail(300000)\n",
    "y_train = y_train.tail(300000)\n",
    "\n",
    "# bst = lgb.train(params, lgb_train, num_round, valid_sets=[lgb_train, lgb_test])\n",
    "# TypeError: Wrong type(Series) for label. It should be list, numpy 1-D array or pandas Series\n",
    "y_train = y_train.to_numpy()\n",
    "y_test = y_test.to_numpy()"
   ]
  },
  {
   "cell_type": "code",
   "execution_count": 10,
   "id": "d4b03253",
   "metadata": {
    "execution": {
     "iopub.execute_input": "2024-03-27T16:34:22.313691Z",
     "iopub.status.busy": "2024-03-27T16:34:22.313229Z",
     "iopub.status.idle": "2024-03-27T16:34:22.318496Z",
     "shell.execute_reply": "2024-03-27T16:34:22.317278Z"
    },
    "papermill": {
     "duration": 0.022128,
     "end_time": "2024-03-27T16:34:22.321878",
     "exception": false,
     "start_time": "2024-03-27T16:34:22.299750",
     "status": "completed"
    },
    "tags": []
   },
   "outputs": [],
   "source": [
    "# # 看target值的分布\n",
    "# np.unique(y_train, return_counts=True)"
   ]
  },
  {
   "cell_type": "markdown",
   "id": "bc77976a",
   "metadata": {
    "papermill": {
     "duration": 0.012816,
     "end_time": "2024-03-27T16:34:22.346469",
     "exception": false,
     "start_time": "2024-03-27T16:34:22.333653",
     "status": "completed"
    },
    "tags": []
   },
   "source": [
    "### Oversampling"
   ]
  },
  {
   "cell_type": "code",
   "execution_count": 11,
   "id": "2911db27",
   "metadata": {
    "execution": {
     "iopub.execute_input": "2024-03-27T16:34:22.372979Z",
     "iopub.status.busy": "2024-03-27T16:34:22.372004Z",
     "iopub.status.idle": "2024-03-27T16:34:22.377984Z",
     "shell.execute_reply": "2024-03-27T16:34:22.377084Z"
    },
    "papermill": {
     "duration": 0.022804,
     "end_time": "2024-03-27T16:34:22.380815",
     "exception": false,
     "start_time": "2024-03-27T16:34:22.358011",
     "status": "completed"
    },
    "tags": []
   },
   "outputs": [],
   "source": [
    "# # 過取樣: 增加target=1的data\n",
    "\n",
    "# from sklearn.impute import SimpleImputer\n",
    "# from imblearn.over_sampling import SMOTE\n",
    "\n",
    "# # 創建 SimpleImputer 對象，用於填補NaN值\n",
    "# imputer = SimpleImputer(strategy='mean')\n",
    "\n",
    "# # 填補NaN值\n",
    "# X_train = imputer.fit_transform(X_train)\n",
    "\n",
    "# # 設置合成目標樣本數量\n",
    "# synthetic_target_count = 279555\n",
    "\n",
    "# # 初始化 SMOTE\n",
    "# smote = SMOTE(sampling_strategy={1: synthetic_target_count})\n",
    "\n",
    "# # 使用 SMOTE 生成合成少數類樣本\n",
    "# X_train, y_train = smote.fit_resample(X_train, y_train)\n",
    "\n",
    "# # 檢查合成後的資料量\n",
    "# print(\"合成後的資料量：\", len(X_train))\n",
    "\n",
    "# # 檢查合成後的目標資料分佈\n",
    "# unique, counts = np.unique(y_train, return_counts=True)\n",
    "# print(\"合成後的目標資料分佈：\", dict(zip(unique, counts)))"
   ]
  },
  {
   "cell_type": "markdown",
   "id": "07eb3e16",
   "metadata": {
    "papermill": {
     "duration": 0.011501,
     "end_time": "2024-03-27T16:34:22.405013",
     "exception": false,
     "start_time": "2024-03-27T16:34:22.393512",
     "status": "completed"
    },
    "tags": []
   },
   "source": [
    "### Undersampling"
   ]
  },
  {
   "cell_type": "code",
   "execution_count": 12,
   "id": "54b09ed2",
   "metadata": {
    "execution": {
     "iopub.execute_input": "2024-03-27T16:34:22.434255Z",
     "iopub.status.busy": "2024-03-27T16:34:22.432945Z",
     "iopub.status.idle": "2024-03-27T16:34:25.641194Z",
     "shell.execute_reply": "2024-03-27T16:34:25.639664Z"
    },
    "papermill": {
     "duration": 3.227342,
     "end_time": "2024-03-27T16:34:25.645207",
     "exception": false,
     "start_time": "2024-03-27T16:34:22.417865",
     "status": "completed"
    },
    "tags": []
   },
   "outputs": [
    {
     "name": "stdout",
     "output_type": "stream",
     "text": [
      "欠採樣後的訓練資料量： 40890\n",
      "欠採樣後的測試資料量： 78862\n",
      "欠採樣後的訓練目標資料分佈： {0: 20445, 1: 20445}\n",
      "欠採樣後的測試目標資料分佈： {0: 39431, 1: 39431}\n"
     ]
    }
   ],
   "source": [
    "# 欠採樣: 減少target=0的data\n",
    "\n",
    "from sklearn.utils import resample\n",
    "\n",
    "# 將 DataFrame 轉換為 NumPy 陣列\n",
    "X_train = X_train.to_numpy()\n",
    "X_test = X_test.to_numpy()\n",
    "\n",
    "# 隨機抽取與目標樣本數量相同的非目標樣本\n",
    "X_train_0, y_train_0 = resample(X_train[y_train == 0], y_train[y_train == 0], replace=False, n_samples=np.sum(y_train == 1))\n",
    "X_test_0, y_test_0 = resample(X_test[y_test == 0], y_test[y_test == 0], replace=False, n_samples=np.sum(y_test == 1))\n",
    "\n",
    "# 合併目標樣本和非目標樣本\n",
    "X_train = np.concatenate((X_train_0, X_train[y_train == 1]), axis=0)\n",
    "y_train = np.concatenate((y_train_0, y_train[y_train == 1]), axis=0)\n",
    "X_test = np.concatenate((X_test_0, X_test[y_test == 1]), axis=0)\n",
    "y_test = np.concatenate((y_test_0, y_test[y_test == 1]), axis=0)\n",
    "\n",
    "# 檢查欠採樣後的資料量\n",
    "print(\"欠採樣後的訓練資料量：\", len(X_train))\n",
    "print(\"欠採樣後的測試資料量：\", len(X_test))\n",
    "\n",
    "# 檢查欠採樣後的目標資料分佈\n",
    "unique, counts = np.unique(y_train, return_counts=True)\n",
    "print(\"欠採樣後的訓練目標資料分佈：\", dict(zip(unique, counts)))\n",
    "unique, counts = np.unique(y_test, return_counts=True)\n",
    "print(\"欠採樣後的測試目標資料分佈：\", dict(zip(unique, counts)))"
   ]
  },
  {
   "cell_type": "markdown",
   "id": "b733e4e2",
   "metadata": {
    "papermill": {
     "duration": 0.011437,
     "end_time": "2024-03-27T16:34:25.668082",
     "exception": false,
     "start_time": "2024-03-27T16:34:25.656645",
     "status": "completed"
    },
    "tags": []
   },
   "source": [
    "### Model1. 梯度提升樹（Gradient Boosting Decision Tree，GBDT）\n",
    "##### 優點：\n",
    "##### 1. 高效性： LightGBM 是一種高效的梯度提升樹模型，具有優秀的訓練速度和預測速度。它使用了基於直方圖的方法來加速訓練過程，並且通常比其他梯度提升樹庫（如XGBoost）更快。\n",
    "##### 2. 低內存使用： LightGBM 使用了一種稱為GOSS（Gradient-based One-Side Sampling）的方法，在訓練過程中減少了內存使用。這使得它可以處理大型數據集而不會出現內存不足的問題。\n",
    "##### 3. 高準確性： LightGBM 在處理大型和高維數據集時通常表現出色，並且提供了很好的預測性能。\n",
    "##### 4. 支持並行處理： LightGBM 支持並行處理，可以在多核 CPU 上進行訓練，從而加速了訓練過程。\n",
    "##### 5. 自動處理類別特徵： LightGBM 可以自動處理類別特徵，無需額外的編碼。\n",
    "##### 缺點：\n",
    "##### 1. 對參數敏感： 與其他梯度提升樹模型一樣，LightGBM 的性能取決於參數的調整，對參數較為敏感，需要一些經驗和時間來進行調參。\n",
    "##### 2. 需要較多數據： LightGBM 在處理小型數據集時可能不如其他模型表現好，因為它的高效性主要體現在處理大型數據集時"
   ]
  },
  {
   "cell_type": "code",
   "execution_count": 13,
   "id": "f24385e8",
   "metadata": {
    "execution": {
     "iopub.execute_input": "2024-03-27T16:34:25.693477Z",
     "iopub.status.busy": "2024-03-27T16:34:25.692964Z",
     "iopub.status.idle": "2024-03-27T16:34:32.299342Z",
     "shell.execute_reply": "2024-03-27T16:34:32.297807Z"
    },
    "papermill": {
     "duration": 6.62258,
     "end_time": "2024-03-27T16:34:32.302510",
     "exception": false,
     "start_time": "2024-03-27T16:34:25.679930",
     "status": "completed"
    },
    "tags": []
   },
   "outputs": [],
   "source": [
    "import lightgbm as lgb\n",
    "\n",
    "# 創建 LightGBM 的訓練資料集\n",
    "lgb_train = lgb.Dataset(X_train, y_train)\n",
    "lgb_test = lgb.Dataset(X_test, y_test, reference=lgb_train)\n",
    "del X_train\n",
    "del y_train\n",
    "\n",
    "# 設置參數\n",
    "params = {\n",
    "    'boosting_type': 'gbdt',         # 使用梯度提升樹\n",
    "    'objective': 'binary',           # 二元分類任務\n",
    "    'metric': 'binary_error',        # 評估指標為二元分類錯誤率\n",
    "    'num_leaves': 31,                # 每棵樹的最大葉子數量\n",
    "    'learning_rate': 0.05,           # 學習速率\n",
    "    'feature_fraction': 0.9,         # 特徵抽樣比例\n",
    "    'bagging_fraction': 0.8,         # 樣本抽樣比例\n",
    "    'bagging_freq': 5,               # 樣本抽樣的頻率\n",
    "    'verbose': 0,                    # 顯示訓練信息\n",
    "    'early_stopping_rounds': 10\n",
    "}\n",
    "\n",
    "# 訓練模型\n",
    "num_round = 100                      # 迭代輪次\n",
    "bst = lgb.train(params, lgb_train, num_round, valid_sets=[lgb_train, lgb_test])\n",
    "\n",
    "# 預測\n",
    "y_pred = bst.predict(X_test, num_iteration=bst.best_iteration)\n",
    "y_pred_binary = [1 if pred > 0.5 else 0 for pred in y_pred]"
   ]
  },
  {
   "cell_type": "markdown",
   "id": "bd392e82",
   "metadata": {
    "papermill": {
     "duration": 0.01094,
     "end_time": "2024-03-27T16:34:32.324790",
     "exception": false,
     "start_time": "2024-03-27T16:34:32.313850",
     "status": "completed"
    },
    "tags": []
   },
   "source": [
    "### Model2. RNN\n",
    "##### RNN的優點：\n",
    "##### 1. 能夠處理序列數據，保留先前時間步的信息。\n",
    "##### 2. 模型相對較簡單，易於理解和實現。\n",
    "##### RNN的缺點：\n",
    "##### 3. 容易出現梯度消失或梯度爆炸的問題，尤其在處理長序列數據時效果不佳。\n",
    "##### 4. 難以捕捉長期依賴關係"
   ]
  },
  {
   "cell_type": "code",
   "execution_count": 14,
   "id": "c2066ed7",
   "metadata": {
    "execution": {
     "iopub.execute_input": "2024-03-27T16:34:32.349394Z",
     "iopub.status.busy": "2024-03-27T16:34:32.348549Z",
     "iopub.status.idle": "2024-03-27T16:34:32.354611Z",
     "shell.execute_reply": "2024-03-27T16:34:32.353323Z"
    },
    "papermill": {
     "duration": 0.021753,
     "end_time": "2024-03-27T16:34:32.357293",
     "exception": false,
     "start_time": "2024-03-27T16:34:32.335540",
     "status": "completed"
    },
    "tags": []
   },
   "outputs": [],
   "source": [
    "# def focal_loss(y_true, y_pred, alpha=0.25, gamma=2.0):\n",
    "#     # Calculate cross entropy loss\n",
    "#     ce_loss = tf.keras.losses.binary_crossentropy(y_true, y_pred, from_logits=False)\n",
    "    \n",
    "#     # Calculate focal weights\n",
    "#     p_t = y_true * y_pred + (1 - y_true) * (1 - y_pred)\n",
    "#     focal_weight = alpha * tf.pow(1 - p_t, gamma)\n",
    "    \n",
    "#     # Apply focal weights to cross entropy loss\n",
    "#     focal_loss = focal_weight * ce_loss\n",
    "    \n",
    "#     # Return the mean loss over the batch\n",
    "#     return tf.reduce_mean(focal_loss)"
   ]
  },
  {
   "cell_type": "code",
   "execution_count": 15,
   "id": "fa62f6aa",
   "metadata": {
    "execution": {
     "iopub.execute_input": "2024-03-27T16:34:32.382212Z",
     "iopub.status.busy": "2024-03-27T16:34:32.381666Z",
     "iopub.status.idle": "2024-03-27T16:34:32.390089Z",
     "shell.execute_reply": "2024-03-27T16:34:32.388844Z"
    },
    "papermill": {
     "duration": 0.024564,
     "end_time": "2024-03-27T16:34:32.392735",
     "exception": false,
     "start_time": "2024-03-27T16:34:32.368171",
     "status": "completed"
    },
    "tags": []
   },
   "outputs": [],
   "source": [
    "# import tensorflow as tf\n",
    "# from tensorflow.keras.models import Sequential\n",
    "# from tensorflow.keras.layers import SimpleRNN, Dense, Dropout\n",
    "# from tensorflow.keras.callbacks import EarlyStopping\n",
    "# from tensorflow.keras.optimizers import AdamW\n",
    "# # from sklearn.utils.class_weight import compute_class_weight\n",
    "\n",
    "# # 將資料轉換成3D形狀\n",
    "# X_train = X_train.reshape(X_train.shape[0], X_train.shape[1], 1)\n",
    "# X_test = X_test.reshape(X_test.shape[0], X_test.shape[1], 1)\n",
    "\n",
    "# # 創建 Sequential 模型\n",
    "# model = Sequential()\n",
    "\n",
    "# # 添加第一層 SimpleRNN 層\n",
    "# model.add(SimpleRNN(50, return_sequences=True, input_shape=(X_train.shape[1], X_train.shape[2]), activation='relu'))\n",
    "# model.add(Dropout(0.3))  # 添加 dropout 避免過擬合\n",
    "\n",
    "# # 添加第二層 SimpleRNN 層\n",
    "# model.add(SimpleRNN(50, return_sequences=True, activation='relu'))\n",
    "# model.add(Dropout(0.3))\n",
    "\n",
    "# # 添加第三層 SimpleRNN 層\n",
    "# model.add(SimpleRNN(50, activation='relu'))\n",
    "# model.add(Dropout(0.3))\n",
    "\n",
    "# # 添加輸出層\n",
    "# model.add(Dense(1, activation='sigmoid'))\n",
    "\n",
    "# # 定義 AdamW 優化器，設置初始學習率和權重衰減\n",
    "# # 嘗試不同的優化器 ：AdamW是Adam的一個變種，引入了一個額外的權重衰減（Weight Decay）項目，有助於減小參數的數值大小，從而減少過擬合的風險。\n",
    "# # 調整學習率（Learning Rate）：嘗試不同的學習率值，有時降低學習率可以幫助模型更好地收斂，特別是在資料不平衡的情況下。\n",
    "# optimizer = AdamW(learning_rate=0.001, weight_decay=1e-4)\n",
    "\n",
    "# # 編譯模型\n",
    "# # focal_loss 損失函數，可以自動為少數類別分配更大的權重\n",
    "# model.compile(optimizer=optimizer, loss=focal_loss, metrics=['accuracy'])\n",
    "\n",
    "# # 定義 EarlyStopping\n",
    "# # 調整Early Stopping的參數：嘗試不同的patience值，以及monitor參數，這可能會影響到模型的停止訓練的時機。\n",
    "# early_stopping = EarlyStopping(patience=10, monitor='val_loss', restore_best_weights=True)\n",
    "\n",
    "# # 設置類別加權，例如給予類別0權重1，給予類別1權重100\n",
    "# # 1. 使用 np.unique(y_train) 函數獲取訓練數據中所有類別的標籤。\n",
    "# # 2. 使用 compute_class_weight 函數計算每個類別的權重，參數 'balanced' 指定使用平衡策略。\n",
    "# # 3. 將計算出的類別權重存儲在 class_weight 字典中\n",
    "# # class_weight = compute_class_weight('balanced', np.unique(y_train), y_train)\n",
    "# class_weight = {0: 1, 1: 100}\n",
    "\n",
    "# # 訓練模型\n",
    "# # 批量大小: 嘗試減小批量大小，可以讓模型在每個更新步驟中看到更多樣化的樣本，可能有助於緩解數據不平衡問題。\n",
    "# history = model.fit(X_train, y_train, epochs=3, batch_size=128, validation_data=(X_test, y_test), callbacks=[early_stopping], class_weight=class_weight) # class_weight='balanced' not work\n",
    "\n",
    "# # 評估\n",
    "# model.evaluate(X_test, y_test)\n",
    "\n",
    "# # 預測\n",
    "# y_pred = model.predict(X_test)\n",
    "# y_pred_binary = [1 if pred > 0.5 else 0 for pred in y_pred]"
   ]
  },
  {
   "cell_type": "markdown",
   "id": "b997b41d",
   "metadata": {
    "papermill": {
     "duration": 0.010531,
     "end_time": "2024-03-27T16:34:32.414260",
     "exception": false,
     "start_time": "2024-03-27T16:34:32.403729",
     "status": "completed"
    },
    "tags": []
   },
   "source": [
    "### Model3. LSTM\n",
    "##### LSTM的優點：\n",
    "##### 1. 能夠有效地解決梯度消失或梯度爆炸的問題，能夠處理長序列數據。\n",
    "##### 2. 能夠捕捉長期依賴關係，適用於需要考慮長期記憶的任務。\n",
    "##### LSTM的缺點：\n",
    "##### 1. 模型相對複雜，訓練時間較長。\n",
    "##### 2. 需要調參和優化，有時可能會出現過擬合的問題。"
   ]
  },
  {
   "cell_type": "code",
   "execution_count": 16,
   "id": "fcbdbe1e",
   "metadata": {
    "execution": {
     "iopub.execute_input": "2024-03-27T16:34:32.439014Z",
     "iopub.status.busy": "2024-03-27T16:34:32.438516Z",
     "iopub.status.idle": "2024-03-27T16:34:32.445707Z",
     "shell.execute_reply": "2024-03-27T16:34:32.444456Z"
    },
    "papermill": {
     "duration": 0.023042,
     "end_time": "2024-03-27T16:34:32.448115",
     "exception": false,
     "start_time": "2024-03-27T16:34:32.425073",
     "status": "completed"
    },
    "tags": []
   },
   "outputs": [],
   "source": [
    "# import tensorflow as tf\n",
    "# from tensorflow.keras.models import Sequential\n",
    "# from tensorflow.keras.layers import LSTM, Dense, Dropout\n",
    "# from tensorflow.keras.callbacks import EarlyStopping\n",
    "\n",
    "# # 將 DataFrame 轉換為 NumPy 陣列\n",
    "# X_train = X_train.to_numpy()\n",
    "# X_test = X_test.to_numpy()\n",
    "\n",
    "# # 將資料轉換成3D形狀\n",
    "# X_train = X_train.reshape(X_train.shape[0], X_train.shape[1], 1)\n",
    "# X_test = X_test.reshape(X_test.shape[0], X_test.shape[1], 1)\n",
    "\n",
    "# # 創建 Sequential 模型\n",
    "# model = Sequential()\n",
    "\n",
    "# # 添加第一層 LSTM 層\n",
    "# model.add(LSTM(50, return_sequences=True, input_shape=(X_train.shape[1], X_train.shape[2]), activation='relu'))\n",
    "# model.add(Dropout(0.3))  # 添加 dropout 避免過擬合\n",
    "\n",
    "# # 添加第二層 LSTM 層\n",
    "# model.add(LSTM(50, return_sequences=True, activation='relu'))\n",
    "# model.add(Dropout(0.3))  # 添加 dropout 避免過擬合\n",
    "\n",
    "# # 添加第三層 LSTM 層\n",
    "# model.add(LSTM(50, activation='relu'))\n",
    "# model.add(Dropout(0.3))  # 添加 dropout 避免過擬合\n",
    "\n",
    "# # 添加輸出層\n",
    "# model.add(Dense(1, activation='sigmoid'))\n",
    "\n",
    "# # 編譯模型\n",
    "# model.compile(optimizer='adam', loss='binary_crossentropy', metrics=['accuracy'])\n",
    "\n",
    "# # 定義 EarlyStopping\n",
    "# early_stopping = EarlyStopping(patience=5, monitor='val_loss', restore_best_weights=True)\n",
    "\n",
    "# # 設置類別加權，例如給予類別0權重1，給予類別1權重100\n",
    "# class_weight = {0: 1, 1: 100}\n",
    "\n",
    "# # 訓練模型\n",
    "# history = model.fit(X_train, y_train, epochs=1, batch_size=2048, validation_data=(X_test, y_test), callbacks=[early_stopping], class_weight=class_weight)\n",
    "\n",
    "# # 預測\n",
    "# y_pred = model.predict(X_test)\n",
    "# y_pred_binary = [1 if pred > 0.5 else 0 for pred in y_pred]"
   ]
  },
  {
   "cell_type": "markdown",
   "id": "b55e113f",
   "metadata": {
    "papermill": {
     "duration": 0.010399,
     "end_time": "2024-03-27T16:34:32.469557",
     "exception": false,
     "start_time": "2024-03-27T16:34:32.459158",
     "status": "completed"
    },
    "tags": []
   },
   "source": [
    "## 評估模型"
   ]
  },
  {
   "cell_type": "code",
   "execution_count": 17,
   "id": "ef39e679",
   "metadata": {
    "execution": {
     "iopub.execute_input": "2024-03-27T16:34:32.493251Z",
     "iopub.status.busy": "2024-03-27T16:34:32.492709Z",
     "iopub.status.idle": "2024-03-27T16:34:32.697847Z",
     "shell.execute_reply": "2024-03-27T16:34:32.696162Z"
    },
    "papermill": {
     "duration": 0.220772,
     "end_time": "2024-03-27T16:34:32.700943",
     "exception": false,
     "start_time": "2024-03-27T16:34:32.480171",
     "status": "completed"
    },
    "tags": []
   },
   "outputs": [
    {
     "name": "stdout",
     "output_type": "stream",
     "text": [
      "準確率: 0.8550125535745987\n",
      "分類報告:\n",
      "              precision    recall  f1-score   support\n",
      "\n",
      "           0       0.88      0.82      0.85     39431\n",
      "           1       0.83      0.89      0.86     39431\n",
      "\n",
      "    accuracy                           0.86     78862\n",
      "   macro avg       0.86      0.86      0.85     78862\n",
      "weighted avg       0.86      0.86      0.85     78862\n",
      "\n"
     ]
    }
   ],
   "source": [
    "from sklearn.metrics import accuracy_score, classification_report\n",
    "\n",
    "# 評估模型\n",
    "accuracy = accuracy_score(y_test, y_pred_binary)\n",
    "print(\"準確率:\", accuracy)\n",
    "\n",
    "# 顯示分類報告\n",
    "print(\"分類報告:\")\n",
    "print(classification_report(y_test, y_pred_binary))"
   ]
  },
  {
   "cell_type": "markdown",
   "id": "7215b691",
   "metadata": {
    "papermill": {
     "duration": 0.010446,
     "end_time": "2024-03-27T16:34:32.724573",
     "exception": false,
     "start_time": "2024-03-27T16:34:32.714127",
     "status": "completed"
    },
    "tags": []
   },
   "source": [
    "## Submission"
   ]
  },
  {
   "cell_type": "code",
   "execution_count": 18,
   "id": "04084987",
   "metadata": {
    "execution": {
     "iopub.execute_input": "2024-03-27T16:34:32.749421Z",
     "iopub.status.busy": "2024-03-27T16:34:32.748901Z",
     "iopub.status.idle": "2024-03-27T16:34:32.794650Z",
     "shell.execute_reply": "2024-03-27T16:34:32.792798Z"
    },
    "papermill": {
     "duration": 0.061643,
     "end_time": "2024-03-27T16:34:32.797747",
     "exception": false,
     "start_time": "2024-03-27T16:34:32.736104",
     "status": "completed"
    },
    "tags": []
   },
   "outputs": [
    {
     "data": {
      "text/html": [
       "<div>\n",
       "<style scoped>\n",
       "    .dataframe tbody tr th:only-of-type {\n",
       "        vertical-align: middle;\n",
       "    }\n",
       "\n",
       "    .dataframe tbody tr th {\n",
       "        vertical-align: top;\n",
       "    }\n",
       "\n",
       "    .dataframe thead th {\n",
       "        text-align: right;\n",
       "    }\n",
       "</style>\n",
       "<table border=\"1\" class=\"dataframe\">\n",
       "  <thead>\n",
       "    <tr style=\"text-align: right;\">\n",
       "      <th></th>\n",
       "      <th>case_id</th>\n",
       "      <th>MONTH</th>\n",
       "      <th>WEEK_NUM</th>\n",
       "    </tr>\n",
       "  </thead>\n",
       "  <tbody>\n",
       "    <tr>\n",
       "      <th>0</th>\n",
       "      <td>57543</td>\n",
       "      <td>202201</td>\n",
       "      <td>100</td>\n",
       "    </tr>\n",
       "    <tr>\n",
       "      <th>1</th>\n",
       "      <td>57549</td>\n",
       "      <td>202201</td>\n",
       "      <td>100</td>\n",
       "    </tr>\n",
       "    <tr>\n",
       "      <th>2</th>\n",
       "      <td>57551</td>\n",
       "      <td>202201</td>\n",
       "      <td>100</td>\n",
       "    </tr>\n",
       "    <tr>\n",
       "      <th>3</th>\n",
       "      <td>57552</td>\n",
       "      <td>202201</td>\n",
       "      <td>100</td>\n",
       "    </tr>\n",
       "    <tr>\n",
       "      <th>4</th>\n",
       "      <td>57569</td>\n",
       "      <td>202201</td>\n",
       "      <td>100</td>\n",
       "    </tr>\n",
       "    <tr>\n",
       "      <th>5</th>\n",
       "      <td>57630</td>\n",
       "      <td>202201</td>\n",
       "      <td>100</td>\n",
       "    </tr>\n",
       "    <tr>\n",
       "      <th>6</th>\n",
       "      <td>57631</td>\n",
       "      <td>202201</td>\n",
       "      <td>100</td>\n",
       "    </tr>\n",
       "    <tr>\n",
       "      <th>7</th>\n",
       "      <td>57632</td>\n",
       "      <td>202201</td>\n",
       "      <td>100</td>\n",
       "    </tr>\n",
       "    <tr>\n",
       "      <th>8</th>\n",
       "      <td>57633</td>\n",
       "      <td>202201</td>\n",
       "      <td>100</td>\n",
       "    </tr>\n",
       "    <tr>\n",
       "      <th>9</th>\n",
       "      <td>57634</td>\n",
       "      <td>202201</td>\n",
       "      <td>100</td>\n",
       "    </tr>\n",
       "  </tbody>\n",
       "</table>\n",
       "</div>"
      ],
      "text/plain": [
       "   case_id   MONTH  WEEK_NUM\n",
       "0    57543  202201       100\n",
       "1    57549  202201       100\n",
       "2    57551  202201       100\n",
       "3    57552  202201       100\n",
       "4    57569  202201       100\n",
       "5    57630  202201       100\n",
       "6    57631  202201       100\n",
       "7    57632  202201       100\n",
       "8    57633  202201       100\n",
       "9    57634  202201       100"
      ]
     },
     "execution_count": 18,
     "metadata": {},
     "output_type": "execute_result"
    }
   ],
   "source": [
    "submissionDir = os.path.join(projDir, \"csv_files/test/\")\n",
    "submission_path = os.path.join(submissionDir, 'test_base.csv')\n",
    "X_submission = pd.read_csv(submission_path)\n",
    "\n",
    "X_submission = X_submission.drop('date_decision', axis=1)\n",
    "X_submission"
   ]
  },
  {
   "cell_type": "code",
   "execution_count": 19,
   "id": "39b1431a",
   "metadata": {
    "execution": {
     "iopub.execute_input": "2024-03-27T16:34:32.823423Z",
     "iopub.status.busy": "2024-03-27T16:34:32.822910Z",
     "iopub.status.idle": "2024-03-27T16:34:32.835783Z",
     "shell.execute_reply": "2024-03-27T16:34:32.834388Z"
    },
    "papermill": {
     "duration": 0.028801,
     "end_time": "2024-03-27T16:34:32.838450",
     "exception": false,
     "start_time": "2024-03-27T16:34:32.809649",
     "status": "completed"
    },
    "tags": []
   },
   "outputs": [
    {
     "data": {
      "text/plain": [
       "[0, 0, 0, 0, 0, 0, 0, 0, 0, 0]"
      ]
     },
     "execution_count": 19,
     "metadata": {},
     "output_type": "execute_result"
    }
   ],
   "source": [
    "# LGBM\n",
    "y_submission_pred = bst.predict(X_submission, num_iteration=bst.best_iteration, predict_disable_shape_check=True)\n",
    "\n",
    "# # RNN, LSTM\n",
    "# X_submission_array = X_submission.to_numpy()\n",
    "# X_submission_rnn = X_submission_array.reshape(X_submission_array.shape[0], X_submission_array.shape[1], 1)\n",
    "# y_submission_pred = model.predict(X_submission_rnn)\n",
    "\n",
    "# 轉成0或1\n",
    "y_submission_pred_binary = [1 if pred > 0.5 else 0 for pred in y_submission_pred]\n",
    "y_submission_pred_binary"
   ]
  },
  {
   "cell_type": "code",
   "execution_count": 20,
   "id": "831d5c41",
   "metadata": {
    "execution": {
     "iopub.execute_input": "2024-03-27T16:34:32.864681Z",
     "iopub.status.busy": "2024-03-27T16:34:32.864195Z",
     "iopub.status.idle": "2024-03-27T16:34:32.877314Z",
     "shell.execute_reply": "2024-03-27T16:34:32.875970Z"
    },
    "papermill": {
     "duration": 0.029879,
     "end_time": "2024-03-27T16:34:32.880272",
     "exception": false,
     "start_time": "2024-03-27T16:34:32.850393",
     "status": "completed"
    },
    "tags": []
   },
   "outputs": [],
   "source": [
    "submission = pd.DataFrame({\n",
    "    \"case_id\": X_submission[\"case_id\"].to_numpy(),\n",
    "    \"score\": y_submission_pred_binary\n",
    "}).set_index('case_id')\n",
    "submission.to_csv(\"./submission.csv\")"
   ]
  },
  {
   "cell_type": "code",
   "execution_count": 21,
   "id": "c8debbf0",
   "metadata": {
    "execution": {
     "iopub.execute_input": "2024-03-27T16:34:32.906705Z",
     "iopub.status.busy": "2024-03-27T16:34:32.906237Z",
     "iopub.status.idle": "2024-03-27T16:34:32.923434Z",
     "shell.execute_reply": "2024-03-27T16:34:32.921906Z"
    },
    "papermill": {
     "duration": 0.03391,
     "end_time": "2024-03-27T16:34:32.926606",
     "exception": false,
     "start_time": "2024-03-27T16:34:32.892696",
     "status": "completed"
    },
    "tags": []
   },
   "outputs": [
    {
     "data": {
      "text/html": [
       "<div>\n",
       "<style scoped>\n",
       "    .dataframe tbody tr th:only-of-type {\n",
       "        vertical-align: middle;\n",
       "    }\n",
       "\n",
       "    .dataframe tbody tr th {\n",
       "        vertical-align: top;\n",
       "    }\n",
       "\n",
       "    .dataframe thead th {\n",
       "        text-align: right;\n",
       "    }\n",
       "</style>\n",
       "<table border=\"1\" class=\"dataframe\">\n",
       "  <thead>\n",
       "    <tr style=\"text-align: right;\">\n",
       "      <th></th>\n",
       "      <th>case_id</th>\n",
       "      <th>score</th>\n",
       "    </tr>\n",
       "  </thead>\n",
       "  <tbody>\n",
       "    <tr>\n",
       "      <th>0</th>\n",
       "      <td>57543</td>\n",
       "      <td>0</td>\n",
       "    </tr>\n",
       "    <tr>\n",
       "      <th>1</th>\n",
       "      <td>57549</td>\n",
       "      <td>0</td>\n",
       "    </tr>\n",
       "    <tr>\n",
       "      <th>2</th>\n",
       "      <td>57551</td>\n",
       "      <td>0</td>\n",
       "    </tr>\n",
       "    <tr>\n",
       "      <th>3</th>\n",
       "      <td>57552</td>\n",
       "      <td>0</td>\n",
       "    </tr>\n",
       "    <tr>\n",
       "      <th>4</th>\n",
       "      <td>57569</td>\n",
       "      <td>0</td>\n",
       "    </tr>\n",
       "    <tr>\n",
       "      <th>5</th>\n",
       "      <td>57630</td>\n",
       "      <td>0</td>\n",
       "    </tr>\n",
       "    <tr>\n",
       "      <th>6</th>\n",
       "      <td>57631</td>\n",
       "      <td>0</td>\n",
       "    </tr>\n",
       "    <tr>\n",
       "      <th>7</th>\n",
       "      <td>57632</td>\n",
       "      <td>0</td>\n",
       "    </tr>\n",
       "    <tr>\n",
       "      <th>8</th>\n",
       "      <td>57633</td>\n",
       "      <td>0</td>\n",
       "    </tr>\n",
       "    <tr>\n",
       "      <th>9</th>\n",
       "      <td>57634</td>\n",
       "      <td>0</td>\n",
       "    </tr>\n",
       "  </tbody>\n",
       "</table>\n",
       "</div>"
      ],
      "text/plain": [
       "   case_id  score\n",
       "0    57543      0\n",
       "1    57549      0\n",
       "2    57551      0\n",
       "3    57552      0\n",
       "4    57569      0\n",
       "5    57630      0\n",
       "6    57631      0\n",
       "7    57632      0\n",
       "8    57633      0\n",
       "9    57634      0"
      ]
     },
     "execution_count": 21,
     "metadata": {},
     "output_type": "execute_result"
    }
   ],
   "source": [
    "pd.read_csv(\"./submission.csv\")"
   ]
  }
 ],
 "metadata": {
  "kaggle": {
   "accelerator": "none",
   "dataSources": [
    {
     "databundleVersionId": 7921029,
     "sourceId": 50160,
     "sourceType": "competition"
    }
   ],
   "dockerImageVersionId": 30664,
   "isGpuEnabled": false,
   "isInternetEnabled": false,
   "language": "python",
   "sourceType": "notebook"
  },
  "kernelspec": {
   "display_name": "Python 3",
   "language": "python",
   "name": "python3"
  },
  "language_info": {
   "codemirror_mode": {
    "name": "ipython",
    "version": 3
   },
   "file_extension": ".py",
   "mimetype": "text/x-python",
   "name": "python",
   "nbconvert_exporter": "python",
   "pygments_lexer": "ipython3",
   "version": "3.10.13"
  },
  "papermill": {
   "default_parameters": {},
   "duration": 139.757041,
   "end_time": "2024-03-27T16:34:34.770802",
   "environment_variables": {},
   "exception": null,
   "input_path": "__notebook__.ipynb",
   "output_path": "__notebook__.ipynb",
   "parameters": {},
   "start_time": "2024-03-27T16:32:15.013761",
   "version": "2.5.0"
  }
 },
 "nbformat": 4,
 "nbformat_minor": 5
}
