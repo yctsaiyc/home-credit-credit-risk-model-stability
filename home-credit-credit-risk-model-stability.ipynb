{
 "cells": [
  {
   "cell_type": "code",
   "execution_count": 1,
   "id": "bad0c9e5",
   "metadata": {
    "_cell_guid": "b1076dfc-b9ad-4769-8c92-a6c4dae69d19",
    "_uuid": "8f2839f25d086af736a60e9eeb907d3b93b6e0e5",
    "execution": {
     "iopub.execute_input": "2024-03-28T15:46:44.235529Z",
     "iopub.status.busy": "2024-03-28T15:46:44.235083Z",
     "iopub.status.idle": "2024-03-28T15:46:45.264400Z",
     "shell.execute_reply": "2024-03-28T15:46:45.262557Z"
    },
    "papermill": {
     "duration": 1.045981,
     "end_time": "2024-03-28T15:46:45.268478",
     "exception": false,
     "start_time": "2024-03-28T15:46:44.222497",
     "status": "completed"
    },
    "tags": []
   },
   "outputs": [],
   "source": [
    "import numpy as np\n",
    "import pandas as pd\n",
    "import os"
   ]
  },
  {
   "cell_type": "markdown",
   "id": "fb9e67d3",
   "metadata": {
    "papermill": {
     "duration": 0.011077,
     "end_time": "2024-03-28T15:46:45.290336",
     "exception": false,
     "start_time": "2024-03-28T15:46:45.279259",
     "status": "completed"
    },
    "tags": []
   },
   "source": [
    "## 資料探索與前處理"
   ]
  },
  {
   "cell_type": "markdown",
   "id": "771fde64",
   "metadata": {
    "papermill": {
     "duration": 0.010218,
     "end_time": "2024-03-28T15:46:45.312139",
     "exception": false,
     "start_time": "2024-03-28T15:46:45.301921",
     "status": "completed"
    },
    "tags": []
   },
   "source": [
    "### 訓練資料的目錄"
   ]
  },
  {
   "cell_type": "code",
   "execution_count": 2,
   "id": "2d894f95",
   "metadata": {
    "execution": {
     "iopub.execute_input": "2024-03-28T15:46:45.335882Z",
     "iopub.status.busy": "2024-03-28T15:46:45.335342Z",
     "iopub.status.idle": "2024-03-28T15:46:45.342335Z",
     "shell.execute_reply": "2024-03-28T15:46:45.340823Z"
    },
    "papermill": {
     "duration": 0.024336,
     "end_time": "2024-03-28T15:46:45.346800",
     "exception": false,
     "start_time": "2024-03-28T15:46:45.322464",
     "status": "completed"
    },
    "tags": []
   },
   "outputs": [],
   "source": [
    "projDir = \"/kaggle/input/home-credit-credit-risk-model-stability/\"\n",
    "trainDir = os.path.join(projDir, \"csv_files/train/\")"
   ]
  },
  {
   "cell_type": "markdown",
   "id": "23fe6687",
   "metadata": {
    "papermill": {
     "duration": 0.010437,
     "end_time": "2024-03-28T15:46:45.368628",
     "exception": false,
     "start_time": "2024-03-28T15:46:45.358191",
     "status": "completed"
    },
    "tags": []
   },
   "source": [
    "### Join Table"
   ]
  },
  {
   "cell_type": "code",
   "execution_count": 3,
   "id": "e576f50f",
   "metadata": {
    "execution": {
     "iopub.execute_input": "2024-03-28T15:46:45.392616Z",
     "iopub.status.busy": "2024-03-28T15:46:45.391314Z",
     "iopub.status.idle": "2024-03-28T15:48:09.335620Z",
     "shell.execute_reply": "2024-03-28T15:48:09.334075Z"
    },
    "papermill": {
     "duration": 83.960138,
     "end_time": "2024-03-28T15:48:09.339306",
     "exception": false,
     "start_time": "2024-03-28T15:46:45.379168",
     "status": "completed"
    },
    "tags": []
   },
   "outputs": [
    {
     "name": "stderr",
     "output_type": "stream",
     "text": [
      "/tmp/ipykernel_18/4217689035.py:9: DtypeWarning: Columns (20,45,46,53,57,84,143,146,167) have mixed types. Specify dtype option on import or set low_memory=False.\n",
      "  train_static0 = pd.read_csv(path)\n",
      "/tmp/ipykernel_18/4217689035.py:11: DtypeWarning: Columns (20,45,46,56,57,84,143,146,167) have mixed types. Specify dtype option on import or set low_memory=False.\n",
      "  train_static1 = pd.read_csv(path)\n",
      "/tmp/ipykernel_18/4217689035.py:17: DtypeWarning: Columns (1,2,3,4,7,45,46,47,48) have mixed types. Specify dtype option on import or set low_memory=False.\n",
      "  train_static_cb = pd.read_csv(path)\n"
     ]
    }
   ],
   "source": [
    "# 讀取訓練數據\n",
    "\n",
    "# base.csv\n",
    "path = os.path.join(trainDir, 'train_base.csv')\n",
    "train_base = pd.read_csv(path)\n",
    "\n",
    "# static (depth=0)\n",
    "path = os.path.join(trainDir, 'train_static_0_0.csv')\n",
    "train_static0 = pd.read_csv(path)\n",
    "path = os.path.join(trainDir, 'train_static_0_1.csv')\n",
    "train_static1 = pd.read_csv(path)\n",
    "train_static = pd.concat([train_static0, train_static1], ignore_index=True)\n",
    "del train_static0, train_static1\n",
    "\n",
    "# static_cb (depth=0)\n",
    "path = os.path.join(trainDir, 'train_static_cb_0.csv')\n",
    "train_static_cb = pd.read_csv(path)\n",
    "\n",
    "# Join Table\n",
    "train_data = pd.merge(train_base, train_static, how=\"left\", on=\"case_id\")\n",
    "train_data = pd.merge(train_data, train_static_cb, how=\"left\", on=\"case_id\")\n",
    "del train_base, train_static, train_static_cb"
   ]
  },
  {
   "cell_type": "markdown",
   "id": "9905ce67",
   "metadata": {
    "papermill": {
     "duration": 0.010681,
     "end_time": "2024-03-28T15:48:09.361209",
     "exception": false,
     "start_time": "2024-03-28T15:48:09.350528",
     "status": "completed"
    },
    "tags": []
   },
   "source": [
    "### 刪除非數字的column"
   ]
  },
  {
   "cell_type": "code",
   "execution_count": 4,
   "id": "266f3d39",
   "metadata": {
    "execution": {
     "iopub.execute_input": "2024-03-28T15:48:09.387044Z",
     "iopub.status.busy": "2024-03-28T15:48:09.385455Z",
     "iopub.status.idle": "2024-03-28T15:49:31.647718Z",
     "shell.execute_reply": "2024-03-28T15:49:31.646163Z"
    },
    "papermill": {
     "duration": 82.278915,
     "end_time": "2024-03-28T15:49:31.651132",
     "exception": false,
     "start_time": "2024-03-28T15:48:09.372217",
     "status": "completed"
    },
    "tags": []
   },
   "outputs": [],
   "source": [
    "for col in train_data.columns:\n",
    "    if not (train_data[col].dtype in (np.int64, np.float64)):\n",
    "        train_data = train_data.drop(col, axis=1)"
   ]
  },
  {
   "cell_type": "markdown",
   "id": "a6020c9f",
   "metadata": {
    "papermill": {
     "duration": 0.011413,
     "end_time": "2024-03-28T15:49:31.673867",
     "exception": false,
     "start_time": "2024-03-28T15:49:31.662454",
     "status": "completed"
    },
    "tags": []
   },
   "source": [
    "### 將目標變量和特徵變量分開"
   ]
  },
  {
   "cell_type": "code",
   "execution_count": 5,
   "id": "443f4ba1",
   "metadata": {
    "execution": {
     "iopub.execute_input": "2024-03-28T15:49:31.698123Z",
     "iopub.status.busy": "2024-03-28T15:49:31.697430Z",
     "iopub.status.idle": "2024-03-28T15:49:32.489208Z",
     "shell.execute_reply": "2024-03-28T15:49:32.488039Z"
    },
    "papermill": {
     "duration": 0.807882,
     "end_time": "2024-03-28T15:49:32.492534",
     "exception": false,
     "start_time": "2024-03-28T15:49:31.684652",
     "status": "completed"
    },
    "tags": []
   },
   "outputs": [],
   "source": [
    "X = train_data.drop(columns=['target'])\n",
    "y = train_data['target']"
   ]
  },
  {
   "cell_type": "markdown",
   "id": "fc62609c",
   "metadata": {
    "papermill": {
     "duration": 0.010504,
     "end_time": "2024-03-28T15:49:32.514457",
     "exception": false,
     "start_time": "2024-03-28T15:49:32.503953",
     "status": "completed"
    },
    "tags": []
   },
   "source": [
    "### 處理缺失值"
   ]
  },
  {
   "cell_type": "code",
   "execution_count": 6,
   "id": "7c6908e5",
   "metadata": {
    "execution": {
     "iopub.execute_input": "2024-03-28T15:49:32.540175Z",
     "iopub.status.busy": "2024-03-28T15:49:32.538950Z",
     "iopub.status.idle": "2024-03-28T15:49:32.999185Z",
     "shell.execute_reply": "2024-03-28T15:49:32.997690Z"
    },
    "papermill": {
     "duration": 0.47789,
     "end_time": "2024-03-28T15:49:33.003676",
     "exception": false,
     "start_time": "2024-03-28T15:49:32.525786",
     "status": "completed"
    },
    "tags": []
   },
   "outputs": [
    {
     "data": {
      "text/html": [
       "<div>\n",
       "<style scoped>\n",
       "    .dataframe tbody tr th:only-of-type {\n",
       "        vertical-align: middle;\n",
       "    }\n",
       "\n",
       "    .dataframe tbody tr th {\n",
       "        vertical-align: top;\n",
       "    }\n",
       "\n",
       "    .dataframe thead th {\n",
       "        text-align: right;\n",
       "    }\n",
       "</style>\n",
       "<table border=\"1\" class=\"dataframe\">\n",
       "  <thead>\n",
       "    <tr style=\"text-align: right;\">\n",
       "      <th></th>\n",
       "      <th>case_id</th>\n",
       "      <th>MONTH</th>\n",
       "      <th>WEEK_NUM</th>\n",
       "      <th>actualdpdtolerance_344P</th>\n",
       "      <th>amtinstpaidbefduel24m_4187115A</th>\n",
       "      <th>annuity_780A</th>\n",
       "      <th>annuitynextmonth_57A</th>\n",
       "      <th>applicationcnt_361L</th>\n",
       "      <th>applications30d_658L</th>\n",
       "      <th>applicationscnt_1086L</th>\n",
       "      <th>...</th>\n",
       "      <th>pmtaverage_4527227A</th>\n",
       "      <th>pmtaverage_4955615A</th>\n",
       "      <th>pmtcount_4527229L</th>\n",
       "      <th>pmtcount_4955617L</th>\n",
       "      <th>pmtcount_693L</th>\n",
       "      <th>pmtscount_423L</th>\n",
       "      <th>pmtssum_45A</th>\n",
       "      <th>riskassesment_940T</th>\n",
       "      <th>secondquarter_766L</th>\n",
       "      <th>thirdquarter_1082L</th>\n",
       "    </tr>\n",
       "  </thead>\n",
       "  <tbody>\n",
       "    <tr>\n",
       "      <th>0</th>\n",
       "      <td>0</td>\n",
       "      <td>201901</td>\n",
       "      <td>0</td>\n",
       "      <td>NaN</td>\n",
       "      <td>NaN</td>\n",
       "      <td>1917.6000</td>\n",
       "      <td>0.0</td>\n",
       "      <td>0.0</td>\n",
       "      <td>0.0</td>\n",
       "      <td>0.0</td>\n",
       "      <td>...</td>\n",
       "      <td>NaN</td>\n",
       "      <td>NaN</td>\n",
       "      <td>NaN</td>\n",
       "      <td>NaN</td>\n",
       "      <td>NaN</td>\n",
       "      <td>NaN</td>\n",
       "      <td>NaN</td>\n",
       "      <td>NaN</td>\n",
       "      <td>NaN</td>\n",
       "      <td>NaN</td>\n",
       "    </tr>\n",
       "    <tr>\n",
       "      <th>1</th>\n",
       "      <td>1</td>\n",
       "      <td>201901</td>\n",
       "      <td>0</td>\n",
       "      <td>NaN</td>\n",
       "      <td>NaN</td>\n",
       "      <td>3134.0000</td>\n",
       "      <td>0.0</td>\n",
       "      <td>0.0</td>\n",
       "      <td>0.0</td>\n",
       "      <td>0.0</td>\n",
       "      <td>...</td>\n",
       "      <td>NaN</td>\n",
       "      <td>NaN</td>\n",
       "      <td>NaN</td>\n",
       "      <td>NaN</td>\n",
       "      <td>NaN</td>\n",
       "      <td>NaN</td>\n",
       "      <td>NaN</td>\n",
       "      <td>NaN</td>\n",
       "      <td>NaN</td>\n",
       "      <td>NaN</td>\n",
       "    </tr>\n",
       "    <tr>\n",
       "      <th>2</th>\n",
       "      <td>2</td>\n",
       "      <td>201901</td>\n",
       "      <td>0</td>\n",
       "      <td>NaN</td>\n",
       "      <td>NaN</td>\n",
       "      <td>4937.0000</td>\n",
       "      <td>0.0</td>\n",
       "      <td>0.0</td>\n",
       "      <td>0.0</td>\n",
       "      <td>0.0</td>\n",
       "      <td>...</td>\n",
       "      <td>NaN</td>\n",
       "      <td>NaN</td>\n",
       "      <td>NaN</td>\n",
       "      <td>NaN</td>\n",
       "      <td>NaN</td>\n",
       "      <td>NaN</td>\n",
       "      <td>NaN</td>\n",
       "      <td>NaN</td>\n",
       "      <td>NaN</td>\n",
       "      <td>NaN</td>\n",
       "    </tr>\n",
       "    <tr>\n",
       "      <th>3</th>\n",
       "      <td>3</td>\n",
       "      <td>201901</td>\n",
       "      <td>0</td>\n",
       "      <td>NaN</td>\n",
       "      <td>NaN</td>\n",
       "      <td>4643.6000</td>\n",
       "      <td>0.0</td>\n",
       "      <td>0.0</td>\n",
       "      <td>1.0</td>\n",
       "      <td>0.0</td>\n",
       "      <td>...</td>\n",
       "      <td>NaN</td>\n",
       "      <td>NaN</td>\n",
       "      <td>NaN</td>\n",
       "      <td>NaN</td>\n",
       "      <td>NaN</td>\n",
       "      <td>NaN</td>\n",
       "      <td>NaN</td>\n",
       "      <td>NaN</td>\n",
       "      <td>NaN</td>\n",
       "      <td>NaN</td>\n",
       "    </tr>\n",
       "    <tr>\n",
       "      <th>4</th>\n",
       "      <td>4</td>\n",
       "      <td>201901</td>\n",
       "      <td>0</td>\n",
       "      <td>NaN</td>\n",
       "      <td>NaN</td>\n",
       "      <td>3390.2000</td>\n",
       "      <td>0.0</td>\n",
       "      <td>0.0</td>\n",
       "      <td>1.0</td>\n",
       "      <td>0.0</td>\n",
       "      <td>...</td>\n",
       "      <td>NaN</td>\n",
       "      <td>NaN</td>\n",
       "      <td>NaN</td>\n",
       "      <td>NaN</td>\n",
       "      <td>NaN</td>\n",
       "      <td>NaN</td>\n",
       "      <td>NaN</td>\n",
       "      <td>NaN</td>\n",
       "      <td>NaN</td>\n",
       "      <td>NaN</td>\n",
       "    </tr>\n",
       "    <tr>\n",
       "      <th>...</th>\n",
       "      <td>...</td>\n",
       "      <td>...</td>\n",
       "      <td>...</td>\n",
       "      <td>...</td>\n",
       "      <td>...</td>\n",
       "      <td>...</td>\n",
       "      <td>...</td>\n",
       "      <td>...</td>\n",
       "      <td>...</td>\n",
       "      <td>...</td>\n",
       "      <td>...</td>\n",
       "      <td>...</td>\n",
       "      <td>...</td>\n",
       "      <td>...</td>\n",
       "      <td>...</td>\n",
       "      <td>...</td>\n",
       "      <td>...</td>\n",
       "      <td>...</td>\n",
       "      <td>...</td>\n",
       "      <td>...</td>\n",
       "      <td>...</td>\n",
       "    </tr>\n",
       "    <tr>\n",
       "      <th>1526654</th>\n",
       "      <td>2703450</td>\n",
       "      <td>202010</td>\n",
       "      <td>91</td>\n",
       "      <td>0.0</td>\n",
       "      <td>176561.36</td>\n",
       "      <td>3675.4001</td>\n",
       "      <td>0.0</td>\n",
       "      <td>0.0</td>\n",
       "      <td>0.0</td>\n",
       "      <td>0.0</td>\n",
       "      <td>...</td>\n",
       "      <td>NaN</td>\n",
       "      <td>12155.0</td>\n",
       "      <td>NaN</td>\n",
       "      <td>12.0</td>\n",
       "      <td>NaN</td>\n",
       "      <td>NaN</td>\n",
       "      <td>NaN</td>\n",
       "      <td>NaN</td>\n",
       "      <td>1.0</td>\n",
       "      <td>1.0</td>\n",
       "    </tr>\n",
       "    <tr>\n",
       "      <th>1526655</th>\n",
       "      <td>2703451</td>\n",
       "      <td>202010</td>\n",
       "      <td>91</td>\n",
       "      <td>0.0</td>\n",
       "      <td>301276.47</td>\n",
       "      <td>7088.6000</td>\n",
       "      <td>6191.6</td>\n",
       "      <td>0.0</td>\n",
       "      <td>0.0</td>\n",
       "      <td>5.0</td>\n",
       "      <td>...</td>\n",
       "      <td>NaN</td>\n",
       "      <td>22904.6</td>\n",
       "      <td>NaN</td>\n",
       "      <td>12.0</td>\n",
       "      <td>NaN</td>\n",
       "      <td>NaN</td>\n",
       "      <td>NaN</td>\n",
       "      <td>NaN</td>\n",
       "      <td>1.0</td>\n",
       "      <td>2.0</td>\n",
       "    </tr>\n",
       "    <tr>\n",
       "      <th>1526656</th>\n",
       "      <td>2703452</td>\n",
       "      <td>202010</td>\n",
       "      <td>91</td>\n",
       "      <td>0.0</td>\n",
       "      <td>14232.40</td>\n",
       "      <td>7788.8003</td>\n",
       "      <td>0.0</td>\n",
       "      <td>0.0</td>\n",
       "      <td>0.0</td>\n",
       "      <td>0.0</td>\n",
       "      <td>...</td>\n",
       "      <td>NaN</td>\n",
       "      <td>NaN</td>\n",
       "      <td>NaN</td>\n",
       "      <td>NaN</td>\n",
       "      <td>NaN</td>\n",
       "      <td>NaN</td>\n",
       "      <td>NaN</td>\n",
       "      <td>NaN</td>\n",
       "      <td>0.0</td>\n",
       "      <td>4.0</td>\n",
       "    </tr>\n",
       "    <tr>\n",
       "      <th>1526657</th>\n",
       "      <td>2703453</td>\n",
       "      <td>202010</td>\n",
       "      <td>91</td>\n",
       "      <td>0.0</td>\n",
       "      <td>197371.58</td>\n",
       "      <td>1195.4000</td>\n",
       "      <td>2827.2</td>\n",
       "      <td>0.0</td>\n",
       "      <td>0.0</td>\n",
       "      <td>36.0</td>\n",
       "      <td>...</td>\n",
       "      <td>NaN</td>\n",
       "      <td>15792.4</td>\n",
       "      <td>NaN</td>\n",
       "      <td>14.0</td>\n",
       "      <td>NaN</td>\n",
       "      <td>NaN</td>\n",
       "      <td>NaN</td>\n",
       "      <td>NaN</td>\n",
       "      <td>2.0</td>\n",
       "      <td>1.0</td>\n",
       "    </tr>\n",
       "    <tr>\n",
       "      <th>1526658</th>\n",
       "      <td>2703454</td>\n",
       "      <td>202010</td>\n",
       "      <td>91</td>\n",
       "      <td>0.0</td>\n",
       "      <td>82949.60</td>\n",
       "      <td>4533.8003</td>\n",
       "      <td>2986.8</td>\n",
       "      <td>0.0</td>\n",
       "      <td>0.0</td>\n",
       "      <td>0.0</td>\n",
       "      <td>...</td>\n",
       "      <td>NaN</td>\n",
       "      <td>21530.4</td>\n",
       "      <td>NaN</td>\n",
       "      <td>12.0</td>\n",
       "      <td>NaN</td>\n",
       "      <td>NaN</td>\n",
       "      <td>NaN</td>\n",
       "      <td>NaN</td>\n",
       "      <td>2.0</td>\n",
       "      <td>1.0</td>\n",
       "    </tr>\n",
       "  </tbody>\n",
       "</table>\n",
       "<p>1526659 rows × 167 columns</p>\n",
       "</div>"
      ],
      "text/plain": [
       "         case_id   MONTH  WEEK_NUM  actualdpdtolerance_344P  \\\n",
       "0              0  201901         0                      NaN   \n",
       "1              1  201901         0                      NaN   \n",
       "2              2  201901         0                      NaN   \n",
       "3              3  201901         0                      NaN   \n",
       "4              4  201901         0                      NaN   \n",
       "...          ...     ...       ...                      ...   \n",
       "1526654  2703450  202010        91                      0.0   \n",
       "1526655  2703451  202010        91                      0.0   \n",
       "1526656  2703452  202010        91                      0.0   \n",
       "1526657  2703453  202010        91                      0.0   \n",
       "1526658  2703454  202010        91                      0.0   \n",
       "\n",
       "         amtinstpaidbefduel24m_4187115A  annuity_780A  annuitynextmonth_57A  \\\n",
       "0                                   NaN     1917.6000                   0.0   \n",
       "1                                   NaN     3134.0000                   0.0   \n",
       "2                                   NaN     4937.0000                   0.0   \n",
       "3                                   NaN     4643.6000                   0.0   \n",
       "4                                   NaN     3390.2000                   0.0   \n",
       "...                                 ...           ...                   ...   \n",
       "1526654                       176561.36     3675.4001                   0.0   \n",
       "1526655                       301276.47     7088.6000                6191.6   \n",
       "1526656                        14232.40     7788.8003                   0.0   \n",
       "1526657                       197371.58     1195.4000                2827.2   \n",
       "1526658                        82949.60     4533.8003                2986.8   \n",
       "\n",
       "         applicationcnt_361L  applications30d_658L  applicationscnt_1086L  \\\n",
       "0                        0.0                   0.0                    0.0   \n",
       "1                        0.0                   0.0                    0.0   \n",
       "2                        0.0                   0.0                    0.0   \n",
       "3                        0.0                   1.0                    0.0   \n",
       "4                        0.0                   1.0                    0.0   \n",
       "...                      ...                   ...                    ...   \n",
       "1526654                  0.0                   0.0                    0.0   \n",
       "1526655                  0.0                   0.0                    5.0   \n",
       "1526656                  0.0                   0.0                    0.0   \n",
       "1526657                  0.0                   0.0                   36.0   \n",
       "1526658                  0.0                   0.0                    0.0   \n",
       "\n",
       "         ...  pmtaverage_4527227A  pmtaverage_4955615A  pmtcount_4527229L  \\\n",
       "0        ...                  NaN                  NaN                NaN   \n",
       "1        ...                  NaN                  NaN                NaN   \n",
       "2        ...                  NaN                  NaN                NaN   \n",
       "3        ...                  NaN                  NaN                NaN   \n",
       "4        ...                  NaN                  NaN                NaN   \n",
       "...      ...                  ...                  ...                ...   \n",
       "1526654  ...                  NaN              12155.0                NaN   \n",
       "1526655  ...                  NaN              22904.6                NaN   \n",
       "1526656  ...                  NaN                  NaN                NaN   \n",
       "1526657  ...                  NaN              15792.4                NaN   \n",
       "1526658  ...                  NaN              21530.4                NaN   \n",
       "\n",
       "         pmtcount_4955617L  pmtcount_693L  pmtscount_423L  pmtssum_45A  \\\n",
       "0                      NaN            NaN             NaN          NaN   \n",
       "1                      NaN            NaN             NaN          NaN   \n",
       "2                      NaN            NaN             NaN          NaN   \n",
       "3                      NaN            NaN             NaN          NaN   \n",
       "4                      NaN            NaN             NaN          NaN   \n",
       "...                    ...            ...             ...          ...   \n",
       "1526654               12.0            NaN             NaN          NaN   \n",
       "1526655               12.0            NaN             NaN          NaN   \n",
       "1526656                NaN            NaN             NaN          NaN   \n",
       "1526657               14.0            NaN             NaN          NaN   \n",
       "1526658               12.0            NaN             NaN          NaN   \n",
       "\n",
       "         riskassesment_940T  secondquarter_766L  thirdquarter_1082L  \n",
       "0                       NaN                 NaN                 NaN  \n",
       "1                       NaN                 NaN                 NaN  \n",
       "2                       NaN                 NaN                 NaN  \n",
       "3                       NaN                 NaN                 NaN  \n",
       "4                       NaN                 NaN                 NaN  \n",
       "...                     ...                 ...                 ...  \n",
       "1526654                 NaN                 1.0                 1.0  \n",
       "1526655                 NaN                 1.0                 2.0  \n",
       "1526656                 NaN                 0.0                 4.0  \n",
       "1526657                 NaN                 2.0                 1.0  \n",
       "1526658                 NaN                 2.0                 1.0  \n",
       "\n",
       "[1526659 rows x 167 columns]"
      ]
     },
     "execution_count": 6,
     "metadata": {},
     "output_type": "execute_result"
    }
   ],
   "source": [
    "X"
   ]
  },
  {
   "cell_type": "code",
   "execution_count": 7,
   "id": "1fbf0f41",
   "metadata": {
    "execution": {
     "iopub.execute_input": "2024-03-28T15:49:33.031415Z",
     "iopub.status.busy": "2024-03-28T15:49:33.030953Z",
     "iopub.status.idle": "2024-03-28T15:49:35.455971Z",
     "shell.execute_reply": "2024-03-28T15:49:35.454340Z"
    },
    "papermill": {
     "duration": 2.441251,
     "end_time": "2024-03-28T15:49:35.458383",
     "exception": false,
     "start_time": "2024-03-28T15:49:33.017132",
     "status": "completed"
    },
    "tags": []
   },
   "outputs": [
    {
     "name": "stdout",
     "output_type": "stream",
     "text": [
      "原始資料集形狀： (1526659, 167)\n",
      "刪除缺失比例過高的列後的資料集形狀： (1526659, 110)\n",
      "刪除缺失比例過高的行後的資料集形狀： (1447840, 110)\n"
     ]
    }
   ],
   "source": [
    "# 删除缺失值較多的row\n",
    "\n",
    "# 輸出原始資料集資訊\n",
    "print(\"原始資料集形狀：\", X.shape)\n",
    "\n",
    "threshold = 0.5  # 設定缺失比例的閾值，超過閾值的rowc和column將被刪除\n",
    "\n",
    "# 計算每column的缺失值比例\n",
    "missing_ratios = X.isnull().mean(axis=0)\n",
    "\n",
    "# 找出缺失比例超過閾值的column\n",
    "columns_to_drop = missing_ratios[missing_ratios > threshold].index\n",
    "\n",
    "# 刪除缺失比例超過閾值的column\n",
    "X = X.drop(columns=columns_to_drop, axis=1)\n",
    "\n",
    "# 輸出刪除column後的資料集資訊\n",
    "print(\"刪除缺失比例過高的列後的資料集形狀：\", X.shape)\n",
    "\n",
    "# 計算每row的缺失值比例\n",
    "missing_ratios = X.isnull().mean(axis=1)\n",
    "\n",
    "# 找出缺失比例超過閾值的row\n",
    "rows_to_drop = missing_ratios[missing_ratios > threshold].index\n",
    "\n",
    "# 刪除缺失比例超過閾值的row\n",
    "X = X.drop(index=rows_to_drop)\n",
    "y = y.drop(index=rows_to_drop)\n",
    "\n",
    "# 輸出刪除row後的資料集資訊\n",
    "print(\"刪除缺失比例過高的行後的資料集形狀：\", X.shape)"
   ]
  },
  {
   "cell_type": "code",
   "execution_count": 8,
   "id": "67703f69",
   "metadata": {
    "execution": {
     "iopub.execute_input": "2024-03-28T15:49:35.484346Z",
     "iopub.status.busy": "2024-03-28T15:49:35.483644Z",
     "iopub.status.idle": "2024-03-28T15:49:38.820931Z",
     "shell.execute_reply": "2024-03-28T15:49:38.818941Z"
    },
    "papermill": {
     "duration": 3.354056,
     "end_time": "2024-03-28T15:49:38.823999",
     "exception": false,
     "start_time": "2024-03-28T15:49:35.469943",
     "status": "completed"
    },
    "tags": []
   },
   "outputs": [
    {
     "name": "stderr",
     "output_type": "stream",
     "text": [
      "/tmp/ipykernel_18/818487920.py:7: RuntimeWarning: invalid value encountered in divide\n",
      "  outliers = (column - mean) / std_dev\n"
     ]
    },
    {
     "name": "stdout",
     "output_type": "stream",
     "text": [
      "刪除有極端值的行後的資料集形狀： (1010378, 110)\n"
     ]
    }
   ],
   "source": [
    "# 刪除有極端值的row\n",
    "\n",
    "# Define a function to detect outliers in a given column\n",
    "def detect_outliers(column, threshold=3):\n",
    "    mean = np.mean(column)\n",
    "    std_dev = np.std(column)\n",
    "    outliers = (column - mean) / std_dev\n",
    "    return np.abs(outliers) > threshold\n",
    "\n",
    "# Define a function to remove rows with outliers in X\n",
    "def remove_rows_with_outliers(X, y, threshold=3):\n",
    "    outliers_mask = np.any(np.apply_along_axis(detect_outliers, 0, X, threshold=threshold), axis=1)\n",
    "    return X[~outliers_mask], y[~outliers_mask]\n",
    "\n",
    "X, y = remove_rows_with_outliers(X, y)\n",
    "\n",
    "print(\"刪除有極端值的行後的資料集形狀：\", X.shape)"
   ]
  },
  {
   "cell_type": "code",
   "execution_count": 9,
   "id": "e127e215",
   "metadata": {
    "execution": {
     "iopub.execute_input": "2024-03-28T15:49:38.854143Z",
     "iopub.status.busy": "2024-03-28T15:49:38.853713Z",
     "iopub.status.idle": "2024-03-28T15:49:44.312991Z",
     "shell.execute_reply": "2024-03-28T15:49:44.311629Z"
    },
    "papermill": {
     "duration": 5.479187,
     "end_time": "2024-03-28T15:49:44.315844",
     "exception": false,
     "start_time": "2024-03-28T15:49:38.836657",
     "status": "completed"
    },
    "tags": []
   },
   "outputs": [
    {
     "name": "stdout",
     "output_type": "stream",
     "text": [
      "填充前X的datatype <class 'pandas.core.frame.DataFrame'>\n",
      "填充後X的datatype: <class 'numpy.ndarray'>\n"
     ]
    }
   ],
   "source": [
    "# 用平均數填充缺失值\n",
    "\n",
    "from sklearn.impute import SimpleImputer\n",
    "\n",
    "print(\"填充前X的datatype\", type(X))\n",
    "\n",
    "# Create the imputer object with strategy='mean'\n",
    "imputer = SimpleImputer(strategy='mean')\n",
    "\n",
    "# Fit the imputer to X and transform X\n",
    "X = imputer.fit_transform(X)\n",
    "\n",
    "print(\"填充後X的datatype:\", type(X))"
   ]
  },
  {
   "cell_type": "markdown",
   "id": "d4471f33",
   "metadata": {
    "papermill": {
     "duration": 0.012736,
     "end_time": "2024-03-28T15:49:44.341819",
     "exception": false,
     "start_time": "2024-03-28T15:49:44.329083",
     "status": "completed"
    },
    "tags": []
   },
   "source": [
    "### Oversampling (smote)"
   ]
  },
  {
   "cell_type": "code",
   "execution_count": 10,
   "id": "58648b69",
   "metadata": {
    "execution": {
     "iopub.execute_input": "2024-03-28T15:49:44.369802Z",
     "iopub.status.busy": "2024-03-28T15:49:44.369384Z",
     "iopub.status.idle": "2024-03-28T15:49:54.003397Z",
     "shell.execute_reply": "2024-03-28T15:49:54.001948Z"
    },
    "papermill": {
     "duration": 9.652189,
     "end_time": "2024-03-28T15:49:54.006740",
     "exception": false,
     "start_time": "2024-03-28T15:49:44.354551",
     "status": "completed"
    },
    "tags": []
   },
   "outputs": [
    {
     "name": "stdout",
     "output_type": "stream",
     "text": [
      "過採樣後的資料量： 1964182\n",
      "過採樣後的目標資料分佈： {0: 982091, 1: 982091}\n"
     ]
    }
   ],
   "source": [
    "# 過採樣: 增加target=1的data\n",
    "\n",
    "from imblearn.over_sampling import SMOTE\n",
    "\n",
    "# 初始化 SMOTE\n",
    "smote = SMOTE(sampling_strategy='not majority')\n",
    "\n",
    "# 使用 SMOTE 生成合成目標樣本\n",
    "X, y = smote.fit_resample(X, y)\n",
    "\n",
    "# 檢查過採樣後的資料量\n",
    "print(\"過採樣後的資料量：\", len(X))\n",
    "\n",
    "# 檢查過採樣後的目標資料分佈\n",
    "unique, counts = np.unique(y, return_counts=True)\n",
    "print(\"過採樣後的目標資料分佈：\", dict(zip(unique, counts)))"
   ]
  },
  {
   "cell_type": "markdown",
   "id": "44d292ab",
   "metadata": {
    "papermill": {
     "duration": 0.012479,
     "end_time": "2024-03-28T15:49:54.032321",
     "exception": false,
     "start_time": "2024-03-28T15:49:54.019842",
     "status": "completed"
    },
    "tags": []
   },
   "source": [
    "### 將數據劃分為訓練集和測試集"
   ]
  },
  {
   "cell_type": "code",
   "execution_count": 11,
   "id": "107095b8",
   "metadata": {
    "execution": {
     "iopub.execute_input": "2024-03-28T15:49:54.061114Z",
     "iopub.status.busy": "2024-03-28T15:49:54.060509Z",
     "iopub.status.idle": "2024-03-28T15:49:55.308210Z",
     "shell.execute_reply": "2024-03-28T15:49:55.305952Z"
    },
    "papermill": {
     "duration": 1.266421,
     "end_time": "2024-03-28T15:49:55.311915",
     "exception": false,
     "start_time": "2024-03-28T15:49:54.045494",
     "status": "completed"
    },
    "tags": []
   },
   "outputs": [],
   "source": [
    "from sklearn.model_selection import train_test_split\n",
    "\n",
    "X_train, X_test, y_train, y_test = train_test_split(X, y, test_size=0.2, random_state=42)\n",
    "del X\n",
    "del y"
   ]
  },
  {
   "cell_type": "markdown",
   "id": "2414688e",
   "metadata": {
    "papermill": {
     "duration": 0.012714,
     "end_time": "2024-03-28T15:49:55.340309",
     "exception": false,
     "start_time": "2024-03-28T15:49:55.327595",
     "status": "completed"
    },
    "tags": []
   },
   "source": [
    "## 數據分析方法與模型選擇"
   ]
  },
  {
   "cell_type": "markdown",
   "id": "e7dbcadc",
   "metadata": {
    "papermill": {
     "duration": 0.011603,
     "end_time": "2024-03-28T15:49:55.364099",
     "exception": false,
     "start_time": "2024-03-28T15:49:55.352496",
     "status": "completed"
    },
    "tags": []
   },
   "source": [
    "### Model1. 梯度提升樹（Gradient Boosting Decision Tree，GBDT）\n",
    "##### 優點：\n",
    "##### 1. 高效性： LightGBM 是一種高效的梯度提升樹模型，具有優秀的訓練速度和預測速度。它使用了基於直方圖的方法來加速訓練過程，並且通常比其他梯度提升樹庫（如XGBoost）更快。\n",
    "##### 2. 低內存使用： LightGBM 使用了一種稱為GOSS（Gradient-based One-Side Sampling）的方法，在訓練過程中減少了內存使用。這使得它可以處理大型數據集而不會出現內存不足的問題。\n",
    "##### 3. 高準確性： LightGBM 在處理大型和高維數據集時通常表現出色，並且提供了很好的預測性能。\n",
    "##### 4. 支持並行處理： LightGBM 支持並行處理，可以在多核 CPU 上進行訓練，從而加速了訓練過程。\n",
    "##### 5. 自動處理類別特徵： LightGBM 可以自動處理類別特徵，無需額外的編碼。\n",
    "##### 缺點：\n",
    "##### 1. 對參數敏感： 與其他梯度提升樹模型一樣，LightGBM 的性能取決於參數的調整，對參數較為敏感，需要一些經驗和時間來進行調參。\n",
    "##### 2. 需要較多數據： LightGBM 在處理小型數據集時可能不如其他模型表現好，因為它的高效性主要體現在處理大型數據集時"
   ]
  },
  {
   "cell_type": "code",
   "execution_count": 12,
   "id": "b33efcf0",
   "metadata": {
    "execution": {
     "iopub.execute_input": "2024-03-28T15:49:55.392376Z",
     "iopub.status.busy": "2024-03-28T15:49:55.390591Z",
     "iopub.status.idle": "2024-03-28T15:51:06.331231Z",
     "shell.execute_reply": "2024-03-28T15:51:06.329991Z"
    },
    "papermill": {
     "duration": 70.958474,
     "end_time": "2024-03-28T15:51:06.334295",
     "exception": false,
     "start_time": "2024-03-28T15:49:55.375821",
     "status": "completed"
    },
    "tags": []
   },
   "outputs": [],
   "source": [
    "import lightgbm as lgb\n",
    "\n",
    "# 創建 LightGBM 的訓練資料集\n",
    "lgb_train = lgb.Dataset(X_train, y_train)\n",
    "lgb_test = lgb.Dataset(X_test, y_test, reference=lgb_train)\n",
    "del X_train\n",
    "del y_train\n",
    "\n",
    "# 設置參數\n",
    "params = {\n",
    "    'boosting_type': 'gbdt',         # 使用梯度提升樹\n",
    "    'objective': 'binary',           # 二元分類任務\n",
    "    'metric': 'binary_error',        # 評估指標為二元分類錯誤率\n",
    "    'num_leaves': 31,                # 每棵樹的最大葉子數量\n",
    "    'learning_rate': 0.05,           # 學習速率\n",
    "    'feature_fraction': 0.9,         # 特徵抽樣比例\n",
    "    'bagging_fraction': 0.8,         # 樣本抽樣比例\n",
    "    'bagging_freq': 5,               # 樣本抽樣的頻率\n",
    "    'verbose': 0,                    # 顯示訓練信息\n",
    "    'early_stopping_rounds': 10\n",
    "}\n",
    "\n",
    "# 訓練模型\n",
    "num_round = 100                      # 迭代輪次\n",
    "bst = lgb.train(params, lgb_train, num_round, valid_sets=[lgb_train, lgb_test])\n",
    "\n",
    "# 預測\n",
    "y_pred = bst.predict(X_test, num_iteration=bst.best_iteration)\n",
    "y_pred_binary = [1 if pred > 0.5 else 0 for pred in y_pred]"
   ]
  },
  {
   "cell_type": "markdown",
   "id": "7807a3df",
   "metadata": {
    "papermill": {
     "duration": 0.011516,
     "end_time": "2024-03-28T15:51:06.358018",
     "exception": false,
     "start_time": "2024-03-28T15:51:06.346502",
     "status": "completed"
    },
    "tags": []
   },
   "source": [
    "### Model2. RNN\n",
    "##### RNN的優點：\n",
    "##### 1. 能夠處理序列數據，保留先前時間步的信息。\n",
    "##### 2. 模型相對較簡單，易於理解和實現。\n",
    "##### RNN的缺點：\n",
    "##### 3. 容易出現梯度消失或梯度爆炸的問題，尤其在處理長序列數據時效果不佳。\n",
    "##### 4. 難以捕捉長期依賴關係"
   ]
  },
  {
   "cell_type": "code",
   "execution_count": 13,
   "id": "3d3fb18e",
   "metadata": {
    "execution": {
     "iopub.execute_input": "2024-03-28T15:51:06.385707Z",
     "iopub.status.busy": "2024-03-28T15:51:06.384527Z",
     "iopub.status.idle": "2024-03-28T15:51:06.389913Z",
     "shell.execute_reply": "2024-03-28T15:51:06.388879Z"
    },
    "papermill": {
     "duration": 0.022575,
     "end_time": "2024-03-28T15:51:06.392362",
     "exception": false,
     "start_time": "2024-03-28T15:51:06.369787",
     "status": "completed"
    },
    "tags": []
   },
   "outputs": [],
   "source": [
    "# def focal_loss(y_true, y_pred, alpha=0.25, gamma=2.0):\n",
    "#     # Calculate cross entropy loss\n",
    "#     ce_loss = tf.keras.losses.binary_crossentropy(y_true, y_pred, from_logits=False)\n",
    "    \n",
    "#     # Calculate focal weights\n",
    "#     p_t = y_true * y_pred + (1 - y_true) * (1 - y_pred)\n",
    "#     focal_weight = alpha * tf.pow(1 - p_t, gamma)\n",
    "    \n",
    "#     # Apply focal weights to cross entropy loss\n",
    "#     focal_loss = focal_weight * ce_loss\n",
    "    \n",
    "#     # Return the mean loss over the batch\n",
    "#     return tf.reduce_mean(focal_loss)"
   ]
  },
  {
   "cell_type": "code",
   "execution_count": 14,
   "id": "3bfc3674",
   "metadata": {
    "execution": {
     "iopub.execute_input": "2024-03-28T15:51:06.419102Z",
     "iopub.status.busy": "2024-03-28T15:51:06.418010Z",
     "iopub.status.idle": "2024-03-28T15:51:06.426781Z",
     "shell.execute_reply": "2024-03-28T15:51:06.425531Z"
    },
    "papermill": {
     "duration": 0.025158,
     "end_time": "2024-03-28T15:51:06.429365",
     "exception": false,
     "start_time": "2024-03-28T15:51:06.404207",
     "status": "completed"
    },
    "tags": []
   },
   "outputs": [],
   "source": [
    "# import tensorflow as tf\n",
    "# from tensorflow.keras.models import Sequential\n",
    "# from tensorflow.keras.layers import SimpleRNN, Dense, Dropout\n",
    "# from tensorflow.keras.callbacks import EarlyStopping\n",
    "# from tensorflow.keras.optimizers import AdamW\n",
    "# # from sklearn.utils.class_weight import compute_class_weight\n",
    "\n",
    "# # 將資料轉換成3D形狀\n",
    "# X_train = X_train.reshape(X_train.shape[0], X_train.shape[1], 1)\n",
    "# X_test = X_test.reshape(X_test.shape[0], X_test.shape[1], 1)\n",
    "\n",
    "# # 創建 Sequential 模型\n",
    "# model = Sequential()\n",
    "\n",
    "# # 添加第一層 SimpleRNN 層\n",
    "# model.add(SimpleRNN(50, return_sequences=True, input_shape=(X_train.shape[1], X_train.shape[2]), activation='relu'))\n",
    "# model.add(Dropout(0.3))  # 添加 dropout 避免過擬合\n",
    "\n",
    "# # 添加第二層 SimpleRNN 層\n",
    "# model.add(SimpleRNN(50, return_sequences=True, activation='relu'))\n",
    "# model.add(Dropout(0.3))\n",
    "\n",
    "# # 添加第三層 SimpleRNN 層\n",
    "# model.add(SimpleRNN(50, activation='relu'))\n",
    "# model.add(Dropout(0.3))\n",
    "\n",
    "# # 添加輸出層\n",
    "# model.add(Dense(1, activation='sigmoid'))\n",
    "\n",
    "# # 定義 AdamW 優化器，設置初始學習率和權重衰減\n",
    "# # 嘗試不同的優化器 ：AdamW是Adam的一個變種，引入了一個額外的權重衰減（Weight Decay）項目，有助於減小參數的數值大小，從而減少過擬合的風險。\n",
    "# # 調整學習率（Learning Rate）：嘗試不同的學習率值，有時降低學習率可以幫助模型更好地收斂，特別是在資料不平衡的情況下。\n",
    "# optimizer = AdamW(learning_rate=0.001, weight_decay=1e-4)\n",
    "\n",
    "# # 編譯模型\n",
    "# # focal_loss 損失函數，可以自動為少數類別分配更大的權重\n",
    "# model.compile(optimizer=optimizer, loss=focal_loss, metrics=['accuracy'])\n",
    "\n",
    "# # 定義 EarlyStopping\n",
    "# # 調整Early Stopping的參數：嘗試不同的patience值，以及monitor參數，這可能會影響到模型的停止訓練的時機。\n",
    "# early_stopping = EarlyStopping(patience=10, monitor='val_loss', restore_best_weights=True)\n",
    "\n",
    "# # 設置類別加權，例如給予類別0權重1，給予類別1權重100\n",
    "# # 1. 使用 np.unique(y_train) 函數獲取訓練數據中所有類別的標籤。\n",
    "# # 2. 使用 compute_class_weight 函數計算每個類別的權重，參數 'balanced' 指定使用平衡策略。\n",
    "# # 3. 將計算出的類別權重存儲在 class_weight 字典中\n",
    "# # class_weight = compute_class_weight('balanced', np.unique(y_train), y_train)\n",
    "# class_weight = {0: 1, 1: 100}\n",
    "\n",
    "# # 訓練模型\n",
    "# # 批量大小: 嘗試減小批量大小，可以讓模型在每個更新步驟中看到更多樣化的樣本，可能有助於緩解數據不平衡問題。\n",
    "# history = model.fit(X_train, y_train, epochs=3, batch_size=128, validation_data=(X_test, y_test), callbacks=[early_stopping], class_weight=class_weight) # class_weight='balanced' not work\n",
    "\n",
    "# # 評估\n",
    "# model.evaluate(X_test, y_test)\n",
    "\n",
    "# # 預測\n",
    "# y_pred = model.predict(X_test)\n",
    "# y_pred_binary = [1 if pred > 0.5 else 0 for pred in y_pred]"
   ]
  },
  {
   "cell_type": "markdown",
   "id": "af31bea9",
   "metadata": {
    "papermill": {
     "duration": 0.011304,
     "end_time": "2024-03-28T15:51:06.452428",
     "exception": false,
     "start_time": "2024-03-28T15:51:06.441124",
     "status": "completed"
    },
    "tags": []
   },
   "source": [
    "### Model3. LSTM\n",
    "##### LSTM的優點：\n",
    "##### 1. 能夠有效地解決梯度消失或梯度爆炸的問題，能夠處理長序列數據。\n",
    "##### 2. 能夠捕捉長期依賴關係，適用於需要考慮長期記憶的任務。\n",
    "##### LSTM的缺點：\n",
    "##### 1. 模型相對複雜，訓練時間較長。\n",
    "##### 2. 需要調參和優化，有時可能會出現過擬合的問題。"
   ]
  },
  {
   "cell_type": "code",
   "execution_count": 15,
   "id": "7dcddaab",
   "metadata": {
    "execution": {
     "iopub.execute_input": "2024-03-28T15:51:06.479368Z",
     "iopub.status.busy": "2024-03-28T15:51:06.478373Z",
     "iopub.status.idle": "2024-03-28T15:51:06.485786Z",
     "shell.execute_reply": "2024-03-28T15:51:06.484690Z"
    },
    "papermill": {
     "duration": 0.024064,
     "end_time": "2024-03-28T15:51:06.488307",
     "exception": false,
     "start_time": "2024-03-28T15:51:06.464243",
     "status": "completed"
    },
    "tags": []
   },
   "outputs": [],
   "source": [
    "# import tensorflow as tf\n",
    "# from tensorflow.keras.models import Sequential\n",
    "# from tensorflow.keras.layers import LSTM, Dense, Dropout\n",
    "# from tensorflow.keras.callbacks import EarlyStopping\n",
    "\n",
    "# # 將 DataFrame 轉換為 NumPy 陣列\n",
    "# X_train = X_train.to_numpy()\n",
    "# X_test = X_test.to_numpy()\n",
    "\n",
    "# # 將資料轉換成3D形狀\n",
    "# X_train = X_train.reshape(X_train.shape[0], X_train.shape[1], 1)\n",
    "# X_test = X_test.reshape(X_test.shape[0], X_test.shape[1], 1)\n",
    "\n",
    "# # 創建 Sequential 模型\n",
    "# model = Sequential()\n",
    "\n",
    "# # 添加第一層 LSTM 層\n",
    "# model.add(LSTM(50, return_sequences=True, input_shape=(X_train.shape[1], X_train.shape[2]), activation='relu'))\n",
    "# model.add(Dropout(0.3))  # 添加 dropout 避免過擬合\n",
    "\n",
    "# # 添加第二層 LSTM 層\n",
    "# model.add(LSTM(50, return_sequences=True, activation='relu'))\n",
    "# model.add(Dropout(0.3))  # 添加 dropout 避免過擬合\n",
    "\n",
    "# # 添加第三層 LSTM 層\n",
    "# model.add(LSTM(50, activation='relu'))\n",
    "# model.add(Dropout(0.3))  # 添加 dropout 避免過擬合\n",
    "\n",
    "# # 添加輸出層\n",
    "# model.add(Dense(1, activation='sigmoid'))\n",
    "\n",
    "# # 編譯模型\n",
    "# model.compile(optimizer='adam', loss='binary_crossentropy', metrics=['accuracy'])\n",
    "\n",
    "# # 定義 EarlyStopping\n",
    "# early_stopping = EarlyStopping(patience=5, monitor='val_loss', restore_best_weights=True)\n",
    "\n",
    "# # 設置類別加權，例如給予類別0權重1，給予類別1權重100\n",
    "# class_weight = {0: 1, 1: 100}\n",
    "\n",
    "# # 訓練模型\n",
    "# history = model.fit(X_train, y_train, epochs=1, batch_size=2048, validation_data=(X_test, y_test), callbacks=[early_stopping], class_weight=class_weight)\n",
    "\n",
    "# # 預測\n",
    "# y_pred = model.predict(X_test)\n",
    "# y_pred_binary = [1 if pred > 0.5 else 0 for pred in y_pred]"
   ]
  },
  {
   "cell_type": "markdown",
   "id": "03ae45dc",
   "metadata": {
    "papermill": {
     "duration": 0.01157,
     "end_time": "2024-03-28T15:51:06.512022",
     "exception": false,
     "start_time": "2024-03-28T15:51:06.500452",
     "status": "completed"
    },
    "tags": []
   },
   "source": [
    "## 評估模型"
   ]
  },
  {
   "cell_type": "code",
   "execution_count": 16,
   "id": "2aba7c95",
   "metadata": {
    "execution": {
     "iopub.execute_input": "2024-03-28T15:51:06.546071Z",
     "iopub.status.busy": "2024-03-28T15:51:06.544949Z",
     "iopub.status.idle": "2024-03-28T15:51:07.763147Z",
     "shell.execute_reply": "2024-03-28T15:51:07.761860Z"
    },
    "papermill": {
     "duration": 1.238763,
     "end_time": "2024-03-28T15:51:07.766207",
     "exception": false,
     "start_time": "2024-03-28T15:51:06.527444",
     "status": "completed"
    },
    "tags": []
   },
   "outputs": [
    {
     "name": "stdout",
     "output_type": "stream",
     "text": [
      "準確率: 0.979984064637496\n",
      "分類報告:\n",
      "              precision    recall  f1-score   support\n",
      "\n",
      "           0       0.96      1.00      0.98    196307\n",
      "           1       1.00      0.96      0.98    196530\n",
      "\n",
      "    accuracy                           0.98    392837\n",
      "   macro avg       0.98      0.98      0.98    392837\n",
      "weighted avg       0.98      0.98      0.98    392837\n",
      "\n"
     ]
    }
   ],
   "source": [
    "from sklearn.metrics import accuracy_score, classification_report\n",
    "\n",
    "# 評估模型\n",
    "accuracy = accuracy_score(y_test, y_pred_binary)\n",
    "print(\"準確率:\", accuracy)\n",
    "\n",
    "# 顯示分類報告\n",
    "print(\"分類報告:\")\n",
    "print(classification_report(y_test, y_pred_binary))"
   ]
  },
  {
   "cell_type": "markdown",
   "id": "da006624",
   "metadata": {
    "papermill": {
     "duration": 0.012586,
     "end_time": "2024-03-28T15:51:07.791874",
     "exception": false,
     "start_time": "2024-03-28T15:51:07.779288",
     "status": "completed"
    },
    "tags": []
   },
   "source": [
    "## Submission"
   ]
  },
  {
   "cell_type": "code",
   "execution_count": 17,
   "id": "5dcc79c6",
   "metadata": {
    "execution": {
     "iopub.execute_input": "2024-03-28T15:51:07.819216Z",
     "iopub.status.busy": "2024-03-28T15:51:07.818485Z",
     "iopub.status.idle": "2024-03-28T15:51:07.953465Z",
     "shell.execute_reply": "2024-03-28T15:51:07.952426Z"
    },
    "papermill": {
     "duration": 0.152062,
     "end_time": "2024-03-28T15:51:07.956412",
     "exception": false,
     "start_time": "2024-03-28T15:51:07.804350",
     "status": "completed"
    },
    "tags": []
   },
   "outputs": [],
   "source": [
    "# 測試資料的目錄\n",
    "testDir = os.path.join(projDir, \"csv_files/test/\")\n",
    "\n",
    "# 讀取測試數據\n",
    "\n",
    "# base.csv\n",
    "path = os.path.join(testDir, 'test_base.csv')\n",
    "test_base = pd.read_csv(path)\n",
    "\n",
    "# static(depth=0)\n",
    "path = os.path.join(testDir, 'test_static_0_0.csv')\n",
    "test_static0 = pd.read_csv(path)\n",
    "path = os.path.join(testDir, 'test_static_0_1.csv')\n",
    "test_static1 = pd.read_csv(path)\n",
    "path = os.path.join(testDir, 'test_static_0_2.csv')\n",
    "test_static2 = pd.read_csv(path)\n",
    "test_static = pd.concat([test_static0, test_static1, test_static2], ignore_index=True)\n",
    "del test_static0, test_static1, test_static2\n",
    "\n",
    "# static_cb\n",
    "path = os.path.join(testDir, 'test_static_cb_0.csv')\n",
    "test_static_cb = pd.read_csv(path)\n",
    "\n",
    "# Join Table\n",
    "X_test = pd.merge(test_base, test_static, how=\"left\", on=\"case_id\")\n",
    "X_test = pd.merge(X_test, test_static_cb, how=\"left\", on=\"case_id\")\n",
    "del test_base, test_static, test_static_cb\n",
    "\n",
    "# 刪非數col\n",
    "for col in X_test.columns:\n",
    "    if not (X_test[col].dtype in (np.int64, np.float64)):\n",
    "        X_test = X_test.drop(col, axis=1)"
   ]
  },
  {
   "cell_type": "code",
   "execution_count": 18,
   "id": "6131f5f8",
   "metadata": {
    "execution": {
     "iopub.execute_input": "2024-03-28T15:51:07.985915Z",
     "iopub.status.busy": "2024-03-28T15:51:07.985209Z",
     "iopub.status.idle": "2024-03-28T15:51:07.995572Z",
     "shell.execute_reply": "2024-03-28T15:51:07.994120Z"
    },
    "papermill": {
     "duration": 0.028881,
     "end_time": "2024-03-28T15:51:07.998428",
     "exception": false,
     "start_time": "2024-03-28T15:51:07.969547",
     "status": "completed"
    },
    "tags": []
   },
   "outputs": [
    {
     "data": {
      "text/plain": [
       "[0, 0, 0, 0, 0, 0, 0, 0, 0, 0]"
      ]
     },
     "execution_count": 18,
     "metadata": {},
     "output_type": "execute_result"
    }
   ],
   "source": [
    "# LGBM\n",
    "y_test_pred = bst.predict(X_test, num_iteration=bst.best_iteration, predict_disable_shape_check=True)\n",
    "\n",
    "# # RNN, LSTM\n",
    "# X_test_array = X_test.to_numpy()\n",
    "# X_test_rnn = X_test_array.reshape(X_test_array.shape[0], X_test_array.shape[1], 1)\n",
    "# y_test_pred = model.predict(X_test_rnn)\n",
    "\n",
    "# 轉成0或1\n",
    "y_test_pred_binary = [1 if pred > 0.5 else 0 for pred in y_test_pred]\n",
    "y_test_pred_binary"
   ]
  },
  {
   "cell_type": "code",
   "execution_count": 19,
   "id": "7d58ac0c",
   "metadata": {
    "execution": {
     "iopub.execute_input": "2024-03-28T15:51:08.030252Z",
     "iopub.status.busy": "2024-03-28T15:51:08.029850Z",
     "iopub.status.idle": "2024-03-28T15:51:08.052335Z",
     "shell.execute_reply": "2024-03-28T15:51:08.050654Z"
    },
    "papermill": {
     "duration": 0.041004,
     "end_time": "2024-03-28T15:51:08.055109",
     "exception": false,
     "start_time": "2024-03-28T15:51:08.014105",
     "status": "completed"
    },
    "tags": []
   },
   "outputs": [
    {
     "data": {
      "text/html": [
       "<div>\n",
       "<style scoped>\n",
       "    .dataframe tbody tr th:only-of-type {\n",
       "        vertical-align: middle;\n",
       "    }\n",
       "\n",
       "    .dataframe tbody tr th {\n",
       "        vertical-align: top;\n",
       "    }\n",
       "\n",
       "    .dataframe thead th {\n",
       "        text-align: right;\n",
       "    }\n",
       "</style>\n",
       "<table border=\"1\" class=\"dataframe\">\n",
       "  <thead>\n",
       "    <tr style=\"text-align: right;\">\n",
       "      <th></th>\n",
       "      <th>case_id</th>\n",
       "      <th>score</th>\n",
       "    </tr>\n",
       "  </thead>\n",
       "  <tbody>\n",
       "    <tr>\n",
       "      <th>0</th>\n",
       "      <td>57543</td>\n",
       "      <td>0</td>\n",
       "    </tr>\n",
       "    <tr>\n",
       "      <th>1</th>\n",
       "      <td>57549</td>\n",
       "      <td>0</td>\n",
       "    </tr>\n",
       "    <tr>\n",
       "      <th>2</th>\n",
       "      <td>57551</td>\n",
       "      <td>0</td>\n",
       "    </tr>\n",
       "    <tr>\n",
       "      <th>3</th>\n",
       "      <td>57552</td>\n",
       "      <td>0</td>\n",
       "    </tr>\n",
       "    <tr>\n",
       "      <th>4</th>\n",
       "      <td>57569</td>\n",
       "      <td>0</td>\n",
       "    </tr>\n",
       "    <tr>\n",
       "      <th>5</th>\n",
       "      <td>57630</td>\n",
       "      <td>0</td>\n",
       "    </tr>\n",
       "    <tr>\n",
       "      <th>6</th>\n",
       "      <td>57631</td>\n",
       "      <td>0</td>\n",
       "    </tr>\n",
       "    <tr>\n",
       "      <th>7</th>\n",
       "      <td>57632</td>\n",
       "      <td>0</td>\n",
       "    </tr>\n",
       "    <tr>\n",
       "      <th>8</th>\n",
       "      <td>57633</td>\n",
       "      <td>0</td>\n",
       "    </tr>\n",
       "    <tr>\n",
       "      <th>9</th>\n",
       "      <td>57634</td>\n",
       "      <td>0</td>\n",
       "    </tr>\n",
       "  </tbody>\n",
       "</table>\n",
       "</div>"
      ],
      "text/plain": [
       "   case_id  score\n",
       "0    57543      0\n",
       "1    57549      0\n",
       "2    57551      0\n",
       "3    57552      0\n",
       "4    57569      0\n",
       "5    57630      0\n",
       "6    57631      0\n",
       "7    57632      0\n",
       "8    57633      0\n",
       "9    57634      0"
      ]
     },
     "execution_count": 19,
     "metadata": {},
     "output_type": "execute_result"
    }
   ],
   "source": [
    "submission = pd.DataFrame({\n",
    "    \"case_id\": X_test[\"case_id\"].to_numpy(),\n",
    "    \"score\": y_test_pred_binary\n",
    "}).set_index('case_id')\n",
    "submission.to_csv(\"./submission.csv\")\n",
    "\n",
    "pd.read_csv(\"./submission.csv\")"
   ]
  }
 ],
 "metadata": {
  "kaggle": {
   "accelerator": "none",
   "dataSources": [
    {
     "databundleVersionId": 7921029,
     "sourceId": 50160,
     "sourceType": "competition"
    }
   ],
   "dockerImageVersionId": 30664,
   "isGpuEnabled": false,
   "isInternetEnabled": false,
   "language": "python",
   "sourceType": "notebook"
  },
  "kernelspec": {
   "display_name": "Python 3",
   "language": "python",
   "name": "python3"
  },
  "language_info": {
   "codemirror_mode": {
    "name": "ipython",
    "version": 3
   },
   "file_extension": ".py",
   "mimetype": "text/x-python",
   "name": "python",
   "nbconvert_exporter": "python",
   "pygments_lexer": "ipython3",
   "version": "3.10.13"
  },
  "papermill": {
   "default_parameters": {},
   "duration": 268.561734,
   "end_time": "2024-03-28T15:51:08.997402",
   "environment_variables": {},
   "exception": null,
   "input_path": "__notebook__.ipynb",
   "output_path": "__notebook__.ipynb",
   "parameters": {},
   "start_time": "2024-03-28T15:46:40.435668",
   "version": "2.5.0"
  }
 },
 "nbformat": 4,
 "nbformat_minor": 5
}
