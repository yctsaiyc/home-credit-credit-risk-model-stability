{
 "cells": [
  {
   "cell_type": "code",
   "execution_count": 1,
   "id": "a62c3344",
   "metadata": {
    "_cell_guid": "b1076dfc-b9ad-4769-8c92-a6c4dae69d19",
    "_uuid": "8f2839f25d086af736a60e9eeb907d3b93b6e0e5",
    "execution": {
     "iopub.execute_input": "2024-03-27T10:39:31.994005Z",
     "iopub.status.busy": "2024-03-27T10:39:31.993275Z",
     "iopub.status.idle": "2024-03-27T10:39:32.930858Z",
     "shell.execute_reply": "2024-03-27T10:39:32.930075Z"
    },
    "papermill": {
     "duration": 0.948688,
     "end_time": "2024-03-27T10:39:32.933053",
     "exception": false,
     "start_time": "2024-03-27T10:39:31.984365",
     "status": "completed"
    },
    "tags": []
   },
   "outputs": [],
   "source": [
    "import numpy as np\n",
    "import pandas as pd\n",
    "import os\n",
    "\n",
    "import polars as pl"
   ]
  },
  {
   "cell_type": "markdown",
   "id": "2ffcbe8b",
   "metadata": {
    "papermill": {
     "duration": 0.006874,
     "end_time": "2024-03-27T10:39:32.947187",
     "exception": false,
     "start_time": "2024-03-27T10:39:32.940313",
     "status": "completed"
    },
    "tags": []
   },
   "source": [
    "## 資料探索與前處理"
   ]
  },
  {
   "cell_type": "markdown",
   "id": "b38d1b02",
   "metadata": {
    "papermill": {
     "duration": 0.006353,
     "end_time": "2024-03-27T10:39:32.960104",
     "exception": false,
     "start_time": "2024-03-27T10:39:32.953751",
     "status": "completed"
    },
    "tags": []
   },
   "source": [
    "### 資料概覽\n",
    "##### 列出主要的數據特徵及統計摘要"
   ]
  },
  {
   "cell_type": "code",
   "execution_count": 2,
   "id": "62c4057c",
   "metadata": {
    "execution": {
     "iopub.execute_input": "2024-03-27T10:39:32.974712Z",
     "iopub.status.busy": "2024-03-27T10:39:32.974336Z",
     "iopub.status.idle": "2024-03-27T10:39:32.985219Z",
     "shell.execute_reply": "2024-03-27T10:39:32.984129Z"
    },
    "papermill": {
     "duration": 0.020372,
     "end_time": "2024-03-27T10:39:32.987120",
     "exception": false,
     "start_time": "2024-03-27T10:39:32.966748",
     "status": "completed"
    },
    "tags": []
   },
   "outputs": [
    {
     "name": "stdout",
     "output_type": "stream",
     "text": [
      "目錄下有 32 個訓練資料文件\n"
     ]
    }
   ],
   "source": [
    "# 訓練資料的目錄\n",
    "projDir = \"/kaggle/input/home-credit-credit-risk-model-stability/\"\n",
    "trainDir = os.path.join(projDir, \"csv_files/train/\")\n",
    "\n",
    "# 列出目錄下所有文件\n",
    "files = os.listdir(trainDir)\n",
    "\n",
    "# 依檔名排序\n",
    "files = sorted(files)\n",
    "\n",
    "# # 印出文件名稱\n",
    "# for file in files:\n",
    "#     print(file)\n",
    "    \n",
    "# 計算文件數量\n",
    "num_files = len(files)\n",
    "print(\"目錄下有\", num_files, \"個訓練資料文件\")\n",
    "\n",
    "del num_files"
   ]
  },
  {
   "cell_type": "code",
   "execution_count": 3,
   "id": "4662d6fe",
   "metadata": {
    "execution": {
     "iopub.execute_input": "2024-03-27T10:39:33.001908Z",
     "iopub.status.busy": "2024-03-27T10:39:33.001637Z",
     "iopub.status.idle": "2024-03-27T10:39:33.005574Z",
     "shell.execute_reply": "2024-03-27T10:39:33.004773Z"
    },
    "papermill": {
     "duration": 0.013673,
     "end_time": "2024-03-27T10:39:33.007590",
     "exception": false,
     "start_time": "2024-03-27T10:39:32.993917",
     "status": "completed"
    },
    "tags": []
   },
   "outputs": [],
   "source": [
    "# # 遍歷每個文件，僅顯示前幾行資料概況\n",
    "# for file in files:\n",
    "#     # 組合完整的檔案路徑\n",
    "#     file_path = os.path.join(trainDir, file)\n",
    "    \n",
    "#     # 讀取文件的前幾行\n",
    "#     df_head = pd.read_csv(file_path, nrows=3)\n",
    "    \n",
    "#     print(\"文件名稱:\", file)\n",
    "#     print(\"前3行資料:\")\n",
    "#     display(df_head)\n",
    "#     print(\"\\n\")\n",
    "    \n",
    "del files"
   ]
  },
  {
   "cell_type": "markdown",
   "id": "acbe86de",
   "metadata": {
    "papermill": {
     "duration": 0.006452,
     "end_time": "2024-03-27T10:39:33.020807",
     "exception": false,
     "start_time": "2024-03-27T10:39:33.014355",
     "status": "completed"
    },
    "tags": []
   },
   "source": [
    "### 特徵工程\n",
    "##### 提取、轉換或建立新特徵以優化模型"
   ]
  },
  {
   "cell_type": "code",
   "execution_count": 4,
   "id": "ed912138",
   "metadata": {
    "execution": {
     "iopub.execute_input": "2024-03-27T10:39:33.035228Z",
     "iopub.status.busy": "2024-03-27T10:39:33.034946Z",
     "iopub.status.idle": "2024-03-27T10:40:35.627777Z",
     "shell.execute_reply": "2024-03-27T10:40:35.626875Z"
    },
    "papermill": {
     "duration": 62.603351,
     "end_time": "2024-03-27T10:40:35.630851",
     "exception": false,
     "start_time": "2024-03-27T10:39:33.027500",
     "status": "completed"
    },
    "tags": []
   },
   "outputs": [
    {
     "name": "stderr",
     "output_type": "stream",
     "text": [
      "/tmp/ipykernel_26/1851206736.py:5: DtypeWarning: Columns (20,45,46,53,57,84,143,146,167) have mixed types. Specify dtype option on import or set low_memory=False.\n",
      "  pd.read_csv(trainDir + 'train_static_0_0.csv'),\n",
      "/tmp/ipykernel_26/1851206736.py:6: DtypeWarning: Columns (20,45,46,56,57,84,143,146,167) have mixed types. Specify dtype option on import or set low_memory=False.\n",
      "  pd.read_csv(trainDir + 'train_static_0_1.csv')\n"
     ]
    },
    {
     "name": "stdout",
     "output_type": "stream",
     "text": [
      "[Int64, String, Int64, Int64, Float64, Float64, Float64, Float64, Float64, Float64, Float64, Float64, Float64, Float64, Float64, Float64, Float64, Float64, Float64, Float64, Float64, Float64, Float64, String, String, Float64, Float64, Float64, Float64, Float64, Float64, Float64, Float64, Float64, Float64, Float64, Float64, Float64, Float64, Float64, Float64, Float64, Float64, Float64, Float64, String, Float64, Float64, String, String, String, Float64, Float64, Float64, String, Float64, String, Float64, Boolean, Boolean, String, String, Float64, Float64, String, Float64, Float64, Boolean, Boolean, Boolean, String, String, String, String, Float64, String, String, String, Float64, Float64, Float64, String, String, Float64, String, String, String, String, String, Float64, Float64, Float64, Float64, Float64, Float64, Float64, Float64, Float64, Float64, String, Float64, Float64, Float64, Float64, Float64, Float64, Float64, Float64, Float64, Float64, Float64, Float64, Float64, Float64, Float64, Float64, Float64, Float64, Float64, Float64, Float64, Float64, Float64, Float64, Float64, Float64, Float64, Float64, Float64, Float64, Float64, Float64, Float64, Float64, Float64, Float64, Float64, Float64, Float64, Float64, Float64, Float64, Float64, Float64, Float64, Float64, Boolean, String, String, String, Float64, Float64, Float64, Float64, Float64, Float64, Float64, Float64, Float64, String, Float64, Float64, Float64, Float64, Float64, Float64, Float64, Float64, String, String, String, String, String, String, String, String, String, String, Float64, Float64, Float64, Float64, Float64, String, String, String, Float64, Float64, Float64, Float64, Float64, Float64, Float64, Float64, Float64, Float64, Float64, Float64, Float64, Float64, Float64, Float64, Float64, Float64, String, String, Float64, Float64, String, String, String, String, Float64, Float64, Float64, String, String, String, String, String, Float64, Float64, Float64, String, String, Float64, String, Boolean, Boolean, String, String, String, String, String, String, String, String, String, String, String, String, Boolean, String, Float64, String, Int64, Float64, Float64, Float64, String, String, String, String, Boolean, String, String, Boolean, String, String, Int64, Int64, String, Float64, Float64]\n"
     ]
    },
    {
     "name": "stderr",
     "output_type": "stream",
     "text": [
      "/tmp/ipykernel_26/1851206736.py:33: DeprecationWarning: named `columns` param is deprecated; use positional `*args` instead.\n",
      "  X = train_data.drop(columns=['target'])\n"
     ]
    }
   ],
   "source": [
    "# 讀取訓練數據\n",
    "train_base = pl.read_csv(trainDir + 'train_base.csv')\n",
    "\n",
    "static_dfs = [\n",
    "    pd.read_csv(trainDir + 'train_static_0_0.csv'),\n",
    "    pd.read_csv(trainDir + 'train_static_0_1.csv')\n",
    "]\n",
    "pd_df = pd.concat(static_dfs, ignore_index=True)\n",
    "del static_dfs\n",
    "train_static = pl.from_pandas(pd_df)\n",
    "\n",
    "train_static_cb = pl.read_csv(trainDir + 'train_static_cb_0.csv')\n",
    "train_person_1 = pl.read_csv(trainDir + 'train_person_1.csv') \n",
    "train_credit_bureau_b_2 = pl.read_csv(trainDir + 'train_credit_bureau_b_2.csv') \n",
    "\n",
    "# Merge all dataframes using join with how='inner'\n",
    "train_data = train_base.join(\n",
    "    train_static, on='case_id', how='inner'\n",
    ").join(\n",
    "    train_static_cb, on='case_id', how='inner'\n",
    ").join(\n",
    "    train_person_1, on='case_id', how='inner'\n",
    ").join(\n",
    "    train_credit_bureau_b_2, on='case_id', how='inner'\n",
    ")\n",
    "del train_base\n",
    "del train_static\n",
    "del train_static_cb\n",
    "del train_person_1\n",
    "del train_credit_bureau_b_2\n",
    "\n",
    "# 將目標變量和特徵變量分開\n",
    "X = train_data.drop(columns=['target'])\n",
    "y = train_data['target']\n",
    "del train_data\n",
    "\n",
    "print(X.dtypes)"
   ]
  },
  {
   "cell_type": "code",
   "execution_count": 5,
   "id": "f179bc95",
   "metadata": {
    "execution": {
     "iopub.execute_input": "2024-03-27T10:40:35.646886Z",
     "iopub.status.busy": "2024-03-27T10:40:35.646585Z",
     "iopub.status.idle": "2024-03-27T10:40:35.650200Z",
     "shell.execute_reply": "2024-03-27T10:40:35.649380Z"
    },
    "papermill": {
     "duration": 0.013886,
     "end_time": "2024-03-27T10:40:35.652191",
     "exception": false,
     "start_time": "2024-03-27T10:40:35.638305",
     "status": "completed"
    },
    "tags": []
   },
   "outputs": [],
   "source": [
    "# # X存在非數字的column，無法輸入model訓練\n",
    "# X.dtypes"
   ]
  },
  {
   "cell_type": "code",
   "execution_count": 6,
   "id": "e3f2ebe0",
   "metadata": {
    "execution": {
     "iopub.execute_input": "2024-03-27T10:40:35.668722Z",
     "iopub.status.busy": "2024-03-27T10:40:35.668008Z",
     "iopub.status.idle": "2024-03-27T10:40:35.913107Z",
     "shell.execute_reply": "2024-03-27T10:40:35.912154Z"
    },
    "papermill": {
     "duration": 0.255287,
     "end_time": "2024-03-27T10:40:35.915499",
     "exception": false,
     "start_time": "2024-03-27T10:40:35.660212",
     "status": "completed"
    },
    "tags": []
   },
   "outputs": [],
   "source": [
    "for col in X.columns:\n",
    "    if not (X[col].dtype in (pl.Int64, pl.Float64)):\n",
    "        X = X.drop(col)"
   ]
  },
  {
   "cell_type": "code",
   "execution_count": 7,
   "id": "e1ec18e4",
   "metadata": {
    "execution": {
     "iopub.execute_input": "2024-03-27T10:40:35.932591Z",
     "iopub.status.busy": "2024-03-27T10:40:35.932023Z",
     "iopub.status.idle": "2024-03-27T10:40:35.935938Z",
     "shell.execute_reply": "2024-03-27T10:40:35.935108Z"
    },
    "papermill": {
     "duration": 0.014714,
     "end_time": "2024-03-27T10:40:35.937916",
     "exception": false,
     "start_time": "2024-03-27T10:40:35.923202",
     "status": "completed"
    },
    "tags": []
   },
   "outputs": [],
   "source": [
    "# X.dtypes"
   ]
  },
  {
   "cell_type": "code",
   "execution_count": 8,
   "id": "d1314832",
   "metadata": {
    "execution": {
     "iopub.execute_input": "2024-03-27T10:40:35.954557Z",
     "iopub.status.busy": "2024-03-27T10:40:35.954262Z",
     "iopub.status.idle": "2024-03-27T10:40:41.755913Z",
     "shell.execute_reply": "2024-03-27T10:40:41.755130Z"
    },
    "papermill": {
     "duration": 5.812577,
     "end_time": "2024-03-27T10:40:41.758172",
     "exception": false,
     "start_time": "2024-03-27T10:40:35.945595",
     "status": "completed"
    },
    "tags": []
   },
   "outputs": [],
   "source": [
    "from sklearn.model_selection import train_test_split\n",
    "\n",
    "# 將數據劃分為訓練集和測試集\n",
    "X_train, X_test, y_train, y_test = train_test_split(X, y, test_size=0.2, random_state=42)\n",
    "del X\n",
    "del y"
   ]
  },
  {
   "cell_type": "markdown",
   "id": "9ed998b9",
   "metadata": {
    "papermill": {
     "duration": 0.007023,
     "end_time": "2024-03-27T10:40:41.772798",
     "exception": false,
     "start_time": "2024-03-27T10:40:41.765775",
     "status": "completed"
    },
    "tags": []
   },
   "source": [
    "## 數據分析方法與模型選擇"
   ]
  },
  {
   "cell_type": "code",
   "execution_count": 9,
   "id": "d235f220",
   "metadata": {
    "execution": {
     "iopub.execute_input": "2024-03-27T10:40:41.788630Z",
     "iopub.status.busy": "2024-03-27T10:40:41.787818Z",
     "iopub.status.idle": "2024-03-27T10:40:41.793907Z",
     "shell.execute_reply": "2024-03-27T10:40:41.793217Z"
    },
    "papermill": {
     "duration": 0.015973,
     "end_time": "2024-03-27T10:40:41.795791",
     "exception": false,
     "start_time": "2024-03-27T10:40:41.779818",
     "status": "completed"
    },
    "tags": []
   },
   "outputs": [],
   "source": [
    "# 取得最後三十萬筆資料(ram不夠，sample不work)\n",
    "X_train = X_train.tail(300000)\n",
    "y_train = y_train.tail(300000)\n",
    "\n",
    "# bst = lgb.train(params, lgb_train, num_round, valid_sets=[lgb_train, lgb_test])\n",
    "# TypeError: Wrong type(Series) for label. It should be list, numpy 1-D array or pandas Series\n",
    "y_train = y_train.to_numpy()\n",
    "y_test = y_test.to_numpy()"
   ]
  },
  {
   "cell_type": "code",
   "execution_count": 10,
   "id": "5c5e47b6",
   "metadata": {
    "execution": {
     "iopub.execute_input": "2024-03-27T10:40:41.811186Z",
     "iopub.status.busy": "2024-03-27T10:40:41.810693Z",
     "iopub.status.idle": "2024-03-27T10:40:41.814232Z",
     "shell.execute_reply": "2024-03-27T10:40:41.813456Z"
    },
    "papermill": {
     "duration": 0.013267,
     "end_time": "2024-03-27T10:40:41.816056",
     "exception": false,
     "start_time": "2024-03-27T10:40:41.802789",
     "status": "completed"
    },
    "tags": []
   },
   "outputs": [],
   "source": [
    "# # 看target值的分布\n",
    "# np.unique(y_train, return_counts=True)"
   ]
  },
  {
   "cell_type": "code",
   "execution_count": 11,
   "id": "7dc312ec",
   "metadata": {
    "execution": {
     "iopub.execute_input": "2024-03-27T10:40:41.831530Z",
     "iopub.status.busy": "2024-03-27T10:40:41.831006Z",
     "iopub.status.idle": "2024-03-27T10:40:41.835204Z",
     "shell.execute_reply": "2024-03-27T10:40:41.834438Z"
    },
    "papermill": {
     "duration": 0.013891,
     "end_time": "2024-03-27T10:40:41.837084",
     "exception": false,
     "start_time": "2024-03-27T10:40:41.823193",
     "status": "completed"
    },
    "tags": []
   },
   "outputs": [],
   "source": [
    "# # 過取樣: 增加target=1的data\n",
    "\n",
    "# from sklearn.impute import SimpleImputer\n",
    "# from imblearn.over_sampling import SMOTE\n",
    "\n",
    "# # 創建 SimpleImputer 對象，用於填補NaN值\n",
    "# imputer = SimpleImputer(strategy='mean')\n",
    "\n",
    "# # 填補NaN值\n",
    "# X_train = imputer.fit_transform(X_train)\n",
    "\n",
    "# # 設置合成目標樣本數量\n",
    "# synthetic_target_count = 279555\n",
    "\n",
    "# # 初始化 SMOTE\n",
    "# smote = SMOTE(sampling_strategy={1: synthetic_target_count})\n",
    "\n",
    "# # 使用 SMOTE 生成合成少數類樣本\n",
    "# X_train, y_train = smote.fit_resample(X_train, y_train)\n",
    "\n",
    "# # 檢查合成後的資料量\n",
    "# print(\"合成後的資料量：\", len(X_train))\n",
    "\n",
    "# # 檢查合成後的目標資料分佈\n",
    "# unique, counts = np.unique(y_train, return_counts=True)\n",
    "# print(\"合成後的目標資料分佈：\", dict(zip(unique, counts)))"
   ]
  },
  {
   "cell_type": "markdown",
   "id": "27b673ae",
   "metadata": {
    "papermill": {
     "duration": 0.007134,
     "end_time": "2024-03-27T10:40:41.851463",
     "exception": false,
     "start_time": "2024-03-27T10:40:41.844329",
     "status": "completed"
    },
    "tags": []
   },
   "source": [
    "### Model1. 梯度提升樹（Gradient Boosting Decision Tree，GBDT）"
   ]
  },
  {
   "cell_type": "code",
   "execution_count": 12,
   "id": "89bb9878",
   "metadata": {
    "execution": {
     "iopub.execute_input": "2024-03-27T10:40:41.868928Z",
     "iopub.status.busy": "2024-03-27T10:40:41.868651Z",
     "iopub.status.idle": "2024-03-27T10:40:41.873870Z",
     "shell.execute_reply": "2024-03-27T10:40:41.872936Z"
    },
    "papermill": {
     "duration": 0.016794,
     "end_time": "2024-03-27T10:40:41.876353",
     "exception": false,
     "start_time": "2024-03-27T10:40:41.859559",
     "status": "completed"
    },
    "tags": []
   },
   "outputs": [],
   "source": [
    "# import lightgbm as lgb\n",
    "\n",
    "# # 創建 LightGBM 的訓練資料集\n",
    "# lgb_train = lgb.Dataset(X_train, y_train)\n",
    "# lgb_test = lgb.Dataset(X_test, y_test, reference=lgb_train)\n",
    "# del X_train\n",
    "# del y_train\n",
    "\n",
    "# # 設置參數\n",
    "# params = {\n",
    "#     'boosting_type': 'gbdt',         # 使用梯度提升樹\n",
    "#     'objective': 'binary',           # 二元分類任務\n",
    "#     'metric': 'binary_error',        # 評估指標為二元分類錯誤率\n",
    "#     'num_leaves': 31,                # 每棵樹的最大葉子數量\n",
    "#     'learning_rate': 0.05,           # 學習速率\n",
    "#     'feature_fraction': 0.9,         # 特徵抽樣比例\n",
    "#     'bagging_fraction': 0.8,         # 樣本抽樣比例\n",
    "#     'bagging_freq': 5,               # 樣本抽樣的頻率\n",
    "#     'verbose': 0,                    # 顯示訓練信息\n",
    "#     'early_stopping_rounds': 10\n",
    "# }\n",
    "\n",
    "# # 訓練模型\n",
    "# num_round = 100                      # 迭代輪次\n",
    "# bst = lgb.train(params, lgb_train, num_round, valid_sets=[lgb_train, lgb_test])\n",
    "\n",
    "# # 預測\n",
    "# y_pred = bst.predict(X_test, num_iteration=bst.best_iteration)\n",
    "# y_pred_binary = [1 if pred > 0.5 else 0 for pred in y_pred]"
   ]
  },
  {
   "cell_type": "markdown",
   "id": "b9c72341",
   "metadata": {
    "papermill": {
     "duration": 0.008505,
     "end_time": "2024-03-27T10:40:41.893524",
     "exception": false,
     "start_time": "2024-03-27T10:40:41.885019",
     "status": "completed"
    },
    "tags": []
   },
   "source": [
    "### Model2. RNN"
   ]
  },
  {
   "cell_type": "code",
   "execution_count": 13,
   "id": "81cd4252",
   "metadata": {
    "execution": {
     "iopub.execute_input": "2024-03-27T10:40:41.910884Z",
     "iopub.status.busy": "2024-03-27T10:40:41.910605Z",
     "iopub.status.idle": "2024-03-27T10:44:22.418037Z",
     "shell.execute_reply": "2024-03-27T10:44:22.417136Z"
    },
    "papermill": {
     "duration": 220.518932,
     "end_time": "2024-03-27T10:44:22.420647",
     "exception": false,
     "start_time": "2024-03-27T10:40:41.901715",
     "status": "completed"
    },
    "tags": []
   },
   "outputs": [
    {
     "name": "stderr",
     "output_type": "stream",
     "text": [
      "2024-03-27 10:40:43.799917: E external/local_xla/xla/stream_executor/cuda/cuda_dnn.cc:9261] Unable to register cuDNN factory: Attempting to register factory for plugin cuDNN when one has already been registered\n",
      "2024-03-27 10:40:43.800015: E external/local_xla/xla/stream_executor/cuda/cuda_fft.cc:607] Unable to register cuFFT factory: Attempting to register factory for plugin cuFFT when one has already been registered\n",
      "2024-03-27 10:40:43.949086: E external/local_xla/xla/stream_executor/cuda/cuda_blas.cc:1515] Unable to register cuBLAS factory: Attempting to register factory for plugin cuBLAS when one has already been registered\n",
      "/opt/conda/lib/python3.10/site-packages/keras/src/layers/rnn/rnn.py:205: UserWarning: Do not pass an `input_shape`/`input_dim` argument to a layer. When using Sequential models, prefer using an `Input(shape)` object as the first layer in the model instead.\n",
      "  super().__init__(**kwargs)\n"
     ]
    },
    {
     "name": "stdout",
     "output_type": "stream",
     "text": [
      "Epoch 1/2\n",
      "\u001b[1m   7/4688\u001b[0m \u001b[37m━━━━━━━━━━━━━━━━━━━━\u001b[0m \u001b[1m1:33\u001b[0m 20ms/step - accuracy: 0.9023 - loss: nan"
     ]
    },
    {
     "name": "stderr",
     "output_type": "stream",
     "text": [
      "WARNING: All log messages before absl::InitializeLog() is called are written to STDERR\n",
      "I0000 00:00:1711536059.661702      80 device_compiler.h:186] Compiled cluster using XLA!  This line is logged at most once for the lifetime of the process.\n"
     ]
    },
    {
     "name": "stdout",
     "output_type": "stream",
     "text": [
      "\u001b[1m4688/4688\u001b[0m \u001b[32m━━━━━━━━━━━━━━━━━━━━\u001b[0m\u001b[37m\u001b[0m \u001b[1m80s\u001b[0m 17ms/step - accuracy: 0.9310 - loss: nan - val_accuracy: 0.9315 - val_loss: nan\n",
      "Epoch 2/2\n",
      "\u001b[1m4688/4688\u001b[0m \u001b[32m━━━━━━━━━━━━━━━━━━━━\u001b[0m\u001b[37m\u001b[0m \u001b[1m74s\u001b[0m 16ms/step - accuracy: 0.9314 - loss: nan - val_accuracy: 0.9315 - val_loss: nan\n",
      "\u001b[1m17989/17989\u001b[0m \u001b[32m━━━━━━━━━━━━━━━━━━━━\u001b[0m\u001b[37m\u001b[0m \u001b[1m35s\u001b[0m 2ms/step\n"
     ]
    }
   ],
   "source": [
    "import tensorflow as tf\n",
    "from tensorflow.keras.models import Sequential\n",
    "from tensorflow.keras.layers import SimpleRNN, Dense\n",
    "from tensorflow.keras.callbacks import EarlyStopping\n",
    "\n",
    "# 將 DataFrame 轉換為 NumPy 陣列\n",
    "X_train = X_train.to_numpy()\n",
    "X_test = X_test.to_numpy()\n",
    "\n",
    "# 將資料轉換成3D形狀\n",
    "X_train_rnn = X_train.reshape(X_train.shape[0], X_train.shape[1], 1)\n",
    "X_test_rnn = X_test.reshape(X_test.shape[0], X_test.shape[1], 1)\n",
    "\n",
    "# 創建 Sequential 模型\n",
    "model = Sequential()\n",
    "\n",
    "# 添加 SimpleRNN 層\n",
    "model.add(SimpleRNN(50, input_shape=(X_train_rnn.shape[1], X_train_rnn.shape[2]), activation='relu'))\n",
    "\n",
    "# 添加輸出層\n",
    "model.add(Dense(1, activation='sigmoid'))\n",
    "\n",
    "# 編譯模型\n",
    "model.compile(optimizer='adam', loss='binary_crossentropy', metrics=['accuracy'])\n",
    "\n",
    "# 定義 EarlyStopping\n",
    "early_stopping = EarlyStopping(patience=5, monitor='val_loss', restore_best_weights=True)\n",
    "\n",
    "# 訓練模型\n",
    "history = model.fit(X_train_rnn, y_train, epochs=2, batch_size=64, validation_data=(X_test_rnn, y_test), callbacks=[early_stopping])\n",
    "\n",
    "# 預測\n",
    "y_pred = model.predict(X_test)\n",
    "y_pred_binary = [1 if pred > 0.5 else 0 for pred in y_pred]"
   ]
  },
  {
   "cell_type": "markdown",
   "id": "6c51024e",
   "metadata": {
    "papermill": {
     "duration": 0.211538,
     "end_time": "2024-03-27T10:44:22.866488",
     "exception": false,
     "start_time": "2024-03-27T10:44:22.654950",
     "status": "completed"
    },
    "tags": []
   },
   "source": [
    "## 評估模型"
   ]
  },
  {
   "cell_type": "code",
   "execution_count": 14,
   "id": "149ee8fb",
   "metadata": {
    "execution": {
     "iopub.execute_input": "2024-03-27T10:44:23.290310Z",
     "iopub.status.busy": "2024-03-27T10:44:23.289482Z",
     "iopub.status.idle": "2024-03-27T10:44:24.834118Z",
     "shell.execute_reply": "2024-03-27T10:44:24.833023Z"
    },
    "papermill": {
     "duration": 1.758371,
     "end_time": "2024-03-27T10:44:24.836357",
     "exception": false,
     "start_time": "2024-03-27T10:44:23.077986",
     "status": "completed"
    },
    "tags": []
   },
   "outputs": [
    {
     "name": "stdout",
     "output_type": "stream",
     "text": [
      "準確率: 0.9315008286400228\n",
      "分類報告:\n"
     ]
    },
    {
     "name": "stderr",
     "output_type": "stream",
     "text": [
      "/opt/conda/lib/python3.10/site-packages/sklearn/metrics/_classification.py:1344: UndefinedMetricWarning: Precision and F-score are ill-defined and being set to 0.0 in labels with no predicted samples. Use `zero_division` parameter to control this behavior.\n",
      "  _warn_prf(average, modifier, msg_start, len(result))\n",
      "/opt/conda/lib/python3.10/site-packages/sklearn/metrics/_classification.py:1344: UndefinedMetricWarning: Precision and F-score are ill-defined and being set to 0.0 in labels with no predicted samples. Use `zero_division` parameter to control this behavior.\n",
      "  _warn_prf(average, modifier, msg_start, len(result))\n"
     ]
    },
    {
     "name": "stdout",
     "output_type": "stream",
     "text": [
      "              precision    recall  f1-score   support\n",
      "\n",
      "           0       0.93      1.00      0.96    536211\n",
      "           1       0.00      0.00      0.00     39431\n",
      "\n",
      "    accuracy                           0.93    575642\n",
      "   macro avg       0.47      0.50      0.48    575642\n",
      "weighted avg       0.87      0.93      0.90    575642\n",
      "\n"
     ]
    },
    {
     "name": "stderr",
     "output_type": "stream",
     "text": [
      "/opt/conda/lib/python3.10/site-packages/sklearn/metrics/_classification.py:1344: UndefinedMetricWarning: Precision and F-score are ill-defined and being set to 0.0 in labels with no predicted samples. Use `zero_division` parameter to control this behavior.\n",
      "  _warn_prf(average, modifier, msg_start, len(result))\n"
     ]
    }
   ],
   "source": [
    "from sklearn.metrics import accuracy_score, classification_report\n",
    "\n",
    "# 評估模型\n",
    "accuracy = accuracy_score(y_test, y_pred_binary)\n",
    "print(\"準確率:\", accuracy)\n",
    "\n",
    "# 顯示分類報告\n",
    "print(\"分類報告:\")\n",
    "print(classification_report(y_test, y_pred_binary))"
   ]
  },
  {
   "cell_type": "markdown",
   "id": "e3a74cf2",
   "metadata": {
    "papermill": {
     "duration": 0.216707,
     "end_time": "2024-03-27T10:44:25.268188",
     "exception": false,
     "start_time": "2024-03-27T10:44:25.051481",
     "status": "completed"
    },
    "tags": []
   },
   "source": [
    "## Submission"
   ]
  },
  {
   "cell_type": "code",
   "execution_count": 15,
   "id": "c617222d",
   "metadata": {
    "execution": {
     "iopub.execute_input": "2024-03-27T10:44:25.699594Z",
     "iopub.status.busy": "2024-03-27T10:44:25.698771Z",
     "iopub.status.idle": "2024-03-27T10:44:26.434671Z",
     "shell.execute_reply": "2024-03-27T10:44:26.433808Z"
    },
    "papermill": {
     "duration": 0.956107,
     "end_time": "2024-03-27T10:44:26.437062",
     "exception": false,
     "start_time": "2024-03-27T10:44:25.480955",
     "status": "completed"
    },
    "tags": []
   },
   "outputs": [
    {
     "data": {
      "text/html": [
       "<div><style>\n",
       ".dataframe > thead > tr,\n",
       ".dataframe > tbody > tr {\n",
       "  text-align: right;\n",
       "  white-space: pre-wrap;\n",
       "}\n",
       "</style>\n",
       "<small>shape: (10, 153)</small><table border=\"1\" class=\"dataframe\"><thead><tr><th>case_id</th><th>MONTH</th><th>WEEK_NUM</th><th>actualdpdtolerance_344P</th><th>amtinstpaidbefduel24m_4187115A</th><th>annuity_780A</th><th>annuitynextmonth_57A</th><th>applicationcnt_361L</th><th>applications30d_658L</th><th>applicationscnt_1086L</th><th>applicationscnt_464L</th><th>applicationscnt_629L</th><th>applicationscnt_867L</th><th>avgdbddpdlast24m_3658932P</th><th>avgdbddpdlast3m_4187120P</th><th>avgdbdtollast24m_4525197P</th><th>avgdpdtolclosure24_3658938P</th><th>avginstallast24m_3658937A</th><th>avglnamtstart24m_4525187A</th><th>avgmaxdpdlast9m_3716943P</th><th>avgoutstandbalancel6m_4187114A</th><th>avgpmtlast12m_4525200A</th><th>clientscnt12m_3712952L</th><th>clientscnt3m_3712950L</th><th>clientscnt6m_3712949L</th><th>clientscnt_100L</th><th>clientscnt_1022L</th><th>clientscnt_1071L</th><th>clientscnt_1130L</th><th>clientscnt_136L</th><th>clientscnt_157L</th><th>clientscnt_257L</th><th>clientscnt_304L</th><th>clientscnt_360L</th><th>clientscnt_493L</th><th>clientscnt_533L</th><th>clientscnt_887L</th><th>&hellip;</th><th>pctinstlsallpaidearl3d_427L</th><th>pctinstlsallpaidlat10d_839L</th><th>pctinstlsallpaidlate1d_3546856L</th><th>pctinstlsallpaidlate4d_3546849L</th><th>pctinstlsallpaidlate6d_3546844L</th><th>pmtnum_254L</th><th>posfpd10lastmonth_333P</th><th>posfpd30lastmonth_3976960P</th><th>posfstqpd30lastmonth_3976962P</th><th>price_1097A</th><th>sellerplacecnt_915L</th><th>sellerplacescnt_216L</th><th>sumoutstandtotal_3546847A</th><th>sumoutstandtotalest_4493215A</th><th>totaldebt_9A</th><th>totalsettled_863A</th><th>totinstallast1m_4525188A</th><th>validfrom_1069D</th><th>contractssum_5085716L</th><th>days120_123L</th><th>days180_256L</th><th>days30_165L</th><th>days360_512L</th><th>days90_310L</th><th>firstquarter_103L</th><th>fourthquarter_440L</th><th>numberofqueries_373L</th><th>pmtaverage_4955615A</th><th>pmtcount_4955617L</th><th>secondquarter_766L</th><th>thirdquarter_1082L</th><th>childnum_185L</th><th>mainoccupationinc_384A</th><th>num_group1</th><th>personindex_1023L</th><th>persontype_1072L</th><th>persontype_792L</th></tr><tr><td>i64</td><td>i64</td><td>i64</td><td>f64</td><td>f64</td><td>f64</td><td>f64</td><td>f64</td><td>f64</td><td>f64</td><td>f64</td><td>f64</td><td>f64</td><td>f64</td><td>f64</td><td>f64</td><td>f64</td><td>f64</td><td>f64</td><td>f64</td><td>f64</td><td>f64</td><td>f64</td><td>f64</td><td>f64</td><td>f64</td><td>f64</td><td>f64</td><td>f64</td><td>f64</td><td>f64</td><td>f64</td><td>f64</td><td>f64</td><td>f64</td><td>f64</td><td>f64</td><td>&hellip;</td><td>f64</td><td>f64</td><td>f64</td><td>f64</td><td>f64</td><td>f64</td><td>f64</td><td>f64</td><td>f64</td><td>f64</td><td>f64</td><td>f64</td><td>f64</td><td>f64</td><td>f64</td><td>f64</td><td>f64</td><td>f64</td><td>f64</td><td>f64</td><td>f64</td><td>f64</td><td>f64</td><td>f64</td><td>f64</td><td>f64</td><td>f64</td><td>f64</td><td>f64</td><td>f64</td><td>f64</td><td>f64</td><td>f64</td><td>i64</td><td>f64</td><td>f64</td><td>f64</td></tr></thead><tbody><tr><td>57543</td><td>202201</td><td>100</td><td>0.0</td><td>191767.36</td><td>3674.6</td><td>1218.2001</td><td>0.0</td><td>0.0</td><td>0.0</td><td>0.0</td><td>0.0</td><td>9.0</td><td>1.0</td><td>2.0</td><td>1.0</td><td>1.0</td><td>16049.4</td><td>17054.4</td><td>2.0</td><td>14554.4</td><td>24482.0</td><td>0.0</td><td>0.0</td><td>0.0</td><td>0.0</td><td>0.0</td><td>0.0</td><td>0.0</td><td>null</td><td>0.0</td><td>0.0</td><td>0.0</td><td>0.0</td><td>0.0</td><td>0.0</td><td>0.0</td><td>&hellip;</td><td>0.35417</td><td>0.0</td><td>0.32292</td><td>0.07292</td><td>0.05208</td><td>6.0</td><td>0.0</td><td>0.0</td><td>0.0</td><td>0.0</td><td>0.0</td><td>5.0</td><td>12154.4</td><td>12154.4</td><td>12154.4</td><td>456031.1</td><td>17859.6</td><td>null</td><td>151364.0</td><td>2.0</td><td>4.0</td><td>1.0</td><td>8.0</td><td>2.0</td><td>4.0</td><td>9.0</td><td>8.0</td><td>null</td><td>null</td><td>2.0</td><td>3.0</td><td>null</td><td>34000.0</td><td>0</td><td>0.0</td><td>1.0</td><td>1.0</td></tr><tr><td>57543</td><td>202201</td><td>100</td><td>0.0</td><td>191767.36</td><td>3674.6</td><td>1218.2001</td><td>0.0</td><td>0.0</td><td>0.0</td><td>0.0</td><td>0.0</td><td>9.0</td><td>1.0</td><td>2.0</td><td>1.0</td><td>1.0</td><td>16049.4</td><td>17054.4</td><td>2.0</td><td>14554.4</td><td>24482.0</td><td>0.0</td><td>0.0</td><td>0.0</td><td>0.0</td><td>0.0</td><td>0.0</td><td>0.0</td><td>null</td><td>0.0</td><td>0.0</td><td>0.0</td><td>0.0</td><td>0.0</td><td>0.0</td><td>0.0</td><td>&hellip;</td><td>0.35417</td><td>0.0</td><td>0.32292</td><td>0.07292</td><td>0.05208</td><td>6.0</td><td>0.0</td><td>0.0</td><td>0.0</td><td>0.0</td><td>0.0</td><td>5.0</td><td>12154.4</td><td>12154.4</td><td>12154.4</td><td>456031.1</td><td>17859.6</td><td>null</td><td>151364.0</td><td>2.0</td><td>4.0</td><td>1.0</td><td>8.0</td><td>2.0</td><td>4.0</td><td>9.0</td><td>8.0</td><td>null</td><td>null</td><td>2.0</td><td>3.0</td><td>null</td><td>null</td><td>1</td><td>1.0</td><td>5.0</td><td>5.0</td></tr><tr><td>57549</td><td>202201</td><td>100</td><td>0.0</td><td>129704.4</td><td>5742.6</td><td>3546.6</td><td>0.0</td><td>2.0</td><td>0.0</td><td>0.0</td><td>0.0</td><td>10.0</td><td>0.0</td><td>0.0</td><td>-1.0</td><td>0.0</td><td>32426.201</td><td>118964.805</td><td>0.0</td><td>13681.714</td><td>32426.201</td><td>0.0</td><td>0.0</td><td>0.0</td><td>0.0</td><td>0.0</td><td>0.0</td><td>0.0</td><td>null</td><td>0.0</td><td>0.0</td><td>0.0</td><td>0.0</td><td>0.0</td><td>0.0</td><td>0.0</td><td>&hellip;</td><td>0.34091</td><td>0.11628</td><td>0.29545</td><td>0.18605</td><td>0.13953</td><td>18.0</td><td>0.0</td><td>0.0</td><td>0.0</td><td>null</td><td>2.0</td><td>7.0</td><td>10638.2</td><td>10638.2</td><td>10638.2</td><td>373720.84</td><td>126058.0</td><td>null</td><td>1.5631e6</td><td>6.0</td><td>9.0</td><td>3.0</td><td>12.0</td><td>4.0</td><td>9.0</td><td>5.0</td><td>12.0</td><td>26815.6</td><td>14.0</td><td>8.0</td><td>2.0</td><td>null</td><td>49800.0</td><td>0</td><td>0.0</td><td>1.0</td><td>1.0</td></tr><tr><td>57549</td><td>202201</td><td>100</td><td>0.0</td><td>129704.4</td><td>5742.6</td><td>3546.6</td><td>0.0</td><td>2.0</td><td>0.0</td><td>0.0</td><td>0.0</td><td>10.0</td><td>0.0</td><td>0.0</td><td>-1.0</td><td>0.0</td><td>32426.201</td><td>118964.805</td><td>0.0</td><td>13681.714</td><td>32426.201</td><td>0.0</td><td>0.0</td><td>0.0</td><td>0.0</td><td>0.0</td><td>0.0</td><td>0.0</td><td>null</td><td>0.0</td><td>0.0</td><td>0.0</td><td>0.0</td><td>0.0</td><td>0.0</td><td>0.0</td><td>&hellip;</td><td>0.34091</td><td>0.11628</td><td>0.29545</td><td>0.18605</td><td>0.13953</td><td>18.0</td><td>0.0</td><td>0.0</td><td>0.0</td><td>null</td><td>2.0</td><td>7.0</td><td>10638.2</td><td>10638.2</td><td>10638.2</td><td>373720.84</td><td>126058.0</td><td>null</td><td>1.5631e6</td><td>6.0</td><td>9.0</td><td>3.0</td><td>12.0</td><td>4.0</td><td>9.0</td><td>5.0</td><td>12.0</td><td>26815.6</td><td>14.0</td><td>8.0</td><td>2.0</td><td>null</td><td>null</td><td>1</td><td>1.0</td><td>5.0</td><td>5.0</td></tr><tr><td>57551</td><td>202201</td><td>100</td><td>0.0</td><td>71036.4</td><td>2844.6</td><td>0.0</td><td>0.0</td><td>1.0</td><td>0.0</td><td>0.0</td><td>0.0</td><td>2.0</td><td>-1.0</td><td>null</td><td>-1.0</td><td>1.0</td><td>8357.2</td><td>null</td><td>1.0</td><td>0.0</td><td>9551.0</td><td>0.0</td><td>0.0</td><td>0.0</td><td>0.0</td><td>0.0</td><td>0.0</td><td>0.0</td><td>null</td><td>0.0</td><td>0.0</td><td>0.0</td><td>0.0</td><td>0.0</td><td>0.0</td><td>0.0</td><td>&hellip;</td><td>0.33333</td><td>0.0</td><td>0.11111</td><td>0.11111</td><td>0.0</td><td>12.0</td><td>null</td><td>null</td><td>null</td><td>27095.201</td><td>1.0</td><td>2.0</td><td>0.0</td><td>0.0</td><td>0.0</td><td>75219.0</td><td>null</td><td>null</td><td>2926195.3</td><td>1.0</td><td>3.0</td><td>1.0</td><td>4.0</td><td>1.0</td><td>3.0</td><td>2.0</td><td>4.0</td><td>null</td><td>null</td><td>5.0</td><td>5.0</td><td>null</td><td>59600.0</td><td>0</td><td>0.0</td><td>1.0</td><td>1.0</td></tr><tr><td>57552</td><td>202201</td><td>100</td><td>0.0</td><td>183992.0</td><td>6298.8003</td><td>12155.4</td><td>0.0</td><td>0.0</td><td>0.0</td><td>0.0</td><td>0.0</td><td>9.0</td><td>-9.0</td><td>-7.0</td><td>-9.0</td><td>0.0</td><td>7440.4</td><td>null</td><td>0.0</td><td>199322.4</td><td>9148.4</td><td>0.0</td><td>0.0</td><td>0.0</td><td>0.0</td><td>0.0</td><td>0.0</td><td>0.0</td><td>null</td><td>0.0</td><td>0.0</td><td>0.0</td><td>0.0</td><td>0.0</td><td>0.0</td><td>0.0</td><td>&hellip;</td><td>0.83871</td><td>0.0</td><td>0.0</td><td>0.0</td><td>0.0</td><td>24.0</td><td>0.0</td><td>0.0</td><td>0.0</td><td>null</td><td>0.0</td><td>6.0</td><td>191269.61</td><td>191269.61</td><td>191269.61</td><td>284213.0</td><td>18889.0</td><td>null</td><td>747031.73</td><td>2.0</td><td>2.0</td><td>0.0</td><td>5.0</td><td>0.0</td><td>3.0</td><td>2.0</td><td>5.0</td><td>23402.8</td><td>14.0</td><td>7.0</td><td>1.0</td><td>null</td><td>112000.0</td><td>0</td><td>0.0</td><td>1.0</td><td>1.0</td></tr><tr><td>57569</td><td>202201</td><td>100</td><td>0.0</td><td>0.0</td><td>4682.6</td><td>0.0</td><td>0.0</td><td>1.0</td><td>0.0</td><td>0.0</td><td>0.0</td><td>6.0</td><td>2824.0</td><td>null</td><td>2824.0</td><td>2517.0</td><td>null</td><td>null</td><td>null</td><td>null</td><td>10796.4</td><td>0.0</td><td>0.0</td><td>0.0</td><td>0.0</td><td>0.0</td><td>0.0</td><td>0.0</td><td>null</td><td>0.0</td><td>0.0</td><td>0.0</td><td>0.0</td><td>0.0</td><td>0.0</td><td>0.0</td><td>&hellip;</td><td>0.33333</td><td>0.6</td><td>0.66667</td><td>0.66667</td><td>0.6</td><td>24.0</td><td>0.0</td><td>null</td><td>null</td><td>null</td><td>2.0</td><td>3.0</td><td>0.0</td><td>0.0</td><td>0.0</td><td>95348.42</td><td>null</td><td>null</td><td>null</td><td>4.0</td><td>4.0</td><td>1.0</td><td>4.0</td><td>4.0</td><td>0.0</td><td>0.0</td><td>4.0</td><td>17333.6</td><td>14.0</td><td>1.0</td><td>3.0</td><td>0.0</td><td>null</td><td>1</td><td>1.0</td><td>5.0</td><td>5.0</td></tr><tr><td>57569</td><td>202201</td><td>100</td><td>0.0</td><td>0.0</td><td>4682.6</td><td>0.0</td><td>0.0</td><td>1.0</td><td>0.0</td><td>0.0</td><td>0.0</td><td>6.0</td><td>2824.0</td><td>null</td><td>2824.0</td><td>2517.0</td><td>null</td><td>null</td><td>null</td><td>null</td><td>10796.4</td><td>0.0</td><td>0.0</td><td>0.0</td><td>0.0</td><td>0.0</td><td>0.0</td><td>0.0</td><td>null</td><td>0.0</td><td>0.0</td><td>0.0</td><td>0.0</td><td>0.0</td><td>0.0</td><td>0.0</td><td>&hellip;</td><td>0.33333</td><td>0.6</td><td>0.66667</td><td>0.66667</td><td>0.6</td><td>24.0</td><td>0.0</td><td>null</td><td>null</td><td>null</td><td>2.0</td><td>3.0</td><td>0.0</td><td>0.0</td><td>0.0</td><td>95348.42</td><td>null</td><td>null</td><td>null</td><td>4.0</td><td>4.0</td><td>1.0</td><td>4.0</td><td>4.0</td><td>0.0</td><td>0.0</td><td>4.0</td><td>17333.6</td><td>14.0</td><td>1.0</td><td>3.0</td><td>null</td><td>58000.0</td><td>0</td><td>0.0</td><td>1.0</td><td>1.0</td></tr><tr><td>57630</td><td>202201</td><td>100</td><td>0.0</td><td>0.0</td><td>8905.0</td><td>0.0</td><td>0.0</td><td>0.0</td><td>0.0</td><td>0.0</td><td>0.0</td><td>1.0</td><td>null</td><td>null</td><td>null</td><td>0.0</td><td>null</td><td>null</td><td>null</td><td>null</td><td>null</td><td>0.0</td><td>0.0</td><td>0.0</td><td>0.0</td><td>0.0</td><td>0.0</td><td>0.0</td><td>null</td><td>0.0</td><td>0.0</td><td>0.0</td><td>0.0</td><td>0.0</td><td>0.0</td><td>0.0</td><td>&hellip;</td><td>0.42857</td><td>0.0</td><td>0.28571</td><td>0.0</td><td>0.0</td><td>12.0</td><td>0.0</td><td>0.0</td><td>0.0</td><td>96174.0</td><td>0.0</td><td>1.0</td><td>0.0</td><td>0.0</td><td>0.0</td><td>9677.601</td><td>null</td><td>null</td><td>499975.0</td><td>1.0</td><td>2.0</td><td>1.0</td><td>5.0</td><td>1.0</td><td>1.0</td><td>3.0</td><td>5.0</td><td>null</td><td>null</td><td>4.0</td><td>1.0</td><td>null</td><td>60000.0</td><td>0</td><td>0.0</td><td>1.0</td><td>1.0</td></tr><tr><td>57630</td><td>202201</td><td>100</td><td>0.0</td><td>0.0</td><td>8905.0</td><td>0.0</td><td>0.0</td><td>0.0</td><td>0.0</td><td>0.0</td><td>0.0</td><td>1.0</td><td>null</td><td>null</td><td>null</td><td>0.0</td><td>null</td><td>null</td><td>null</td><td>null</td><td>null</td><td>0.0</td><td>0.0</td><td>0.0</td><td>0.0</td><td>0.0</td><td>0.0</td><td>0.0</td><td>null</td><td>0.0</td><td>0.0</td><td>0.0</td><td>0.0</td><td>0.0</td><td>0.0</td><td>0.0</td><td>&hellip;</td><td>0.42857</td><td>0.0</td><td>0.28571</td><td>0.0</td><td>0.0</td><td>12.0</td><td>0.0</td><td>0.0</td><td>0.0</td><td>96174.0</td><td>0.0</td><td>1.0</td><td>0.0</td><td>0.0</td><td>0.0</td><td>9677.601</td><td>null</td><td>null</td><td>499975.0</td><td>1.0</td><td>2.0</td><td>1.0</td><td>5.0</td><td>1.0</td><td>1.0</td><td>3.0</td><td>5.0</td><td>null</td><td>null</td><td>4.0</td><td>1.0</td><td>null</td><td>null</td><td>1</td><td>1.0</td><td>4.0</td><td>4.0</td></tr></tbody></table></div>"
      ],
      "text/plain": [
       "shape: (10, 153)\n",
       "┌─────────┬────────┬──────────┬────────────┬───┬────────────┬────────────┬────────────┬────────────┐\n",
       "│ case_id ┆ MONTH  ┆ WEEK_NUM ┆ actualdpdt ┆ … ┆ num_group1 ┆ personinde ┆ persontype ┆ persontype │\n",
       "│ ---     ┆ ---    ┆ ---      ┆ olerance_3 ┆   ┆ ---        ┆ x_1023L    ┆ _1072L     ┆ _792L      │\n",
       "│ i64     ┆ i64    ┆ i64      ┆ 44P        ┆   ┆ i64        ┆ ---        ┆ ---        ┆ ---        │\n",
       "│         ┆        ┆          ┆ ---        ┆   ┆            ┆ f64        ┆ f64        ┆ f64        │\n",
       "│         ┆        ┆          ┆ f64        ┆   ┆            ┆            ┆            ┆            │\n",
       "╞═════════╪════════╪══════════╪════════════╪═══╪════════════╪════════════╪════════════╪════════════╡\n",
       "│ 57543   ┆ 202201 ┆ 100      ┆ 0.0        ┆ … ┆ 0          ┆ 0.0        ┆ 1.0        ┆ 1.0        │\n",
       "│ 57543   ┆ 202201 ┆ 100      ┆ 0.0        ┆ … ┆ 1          ┆ 1.0        ┆ 5.0        ┆ 5.0        │\n",
       "│ 57549   ┆ 202201 ┆ 100      ┆ 0.0        ┆ … ┆ 0          ┆ 0.0        ┆ 1.0        ┆ 1.0        │\n",
       "│ 57549   ┆ 202201 ┆ 100      ┆ 0.0        ┆ … ┆ 1          ┆ 1.0        ┆ 5.0        ┆ 5.0        │\n",
       "│ 57551   ┆ 202201 ┆ 100      ┆ 0.0        ┆ … ┆ 0          ┆ 0.0        ┆ 1.0        ┆ 1.0        │\n",
       "│ 57552   ┆ 202201 ┆ 100      ┆ 0.0        ┆ … ┆ 0          ┆ 0.0        ┆ 1.0        ┆ 1.0        │\n",
       "│ 57569   ┆ 202201 ┆ 100      ┆ 0.0        ┆ … ┆ 1          ┆ 1.0        ┆ 5.0        ┆ 5.0        │\n",
       "│ 57569   ┆ 202201 ┆ 100      ┆ 0.0        ┆ … ┆ 0          ┆ 0.0        ┆ 1.0        ┆ 1.0        │\n",
       "│ 57630   ┆ 202201 ┆ 100      ┆ 0.0        ┆ … ┆ 0          ┆ 0.0        ┆ 1.0        ┆ 1.0        │\n",
       "│ 57630   ┆ 202201 ┆ 100      ┆ 0.0        ┆ … ┆ 1          ┆ 1.0        ┆ 4.0        ┆ 4.0        │\n",
       "└─────────┴────────┴──────────┴────────────┴───┴────────────┴────────────┴────────────┴────────────┘"
      ]
     },
     "execution_count": 15,
     "metadata": {},
     "output_type": "execute_result"
    }
   ],
   "source": [
    "# 讀取數據\n",
    "submissionDir = os.path.join(projDir, \"csv_files/test/\")\n",
    "submission_base = pl.read_csv(submissionDir + 'test_base.csv')\n",
    "\n",
    "static_dfs = [\n",
    "    pd.read_csv(submissionDir + 'test_static_0_0.csv'),\n",
    "    pd.read_csv(submissionDir + 'test_static_0_1.csv')\n",
    "]\n",
    "pd_df = pd.concat(static_dfs, ignore_index=True)\n",
    "del static_dfs\n",
    "submission_static = pl.from_pandas(pd_df)\n",
    "del pd_df\n",
    "\n",
    "submission_static_cb = pl.read_csv(submissionDir + 'test_static_cb_0.csv')\n",
    "submission_person_1 = pl.read_csv(submissionDir + 'test_person_1.csv') \n",
    "submission_credit_bureau_b_2 = pl.read_csv(submissionDir + 'test_credit_bureau_b_2.csv') \n",
    "\n",
    "# Merge all dataframes using join with how='inner'\n",
    "X_submission = submission_base.join(\n",
    "    submission_static, on='case_id', how='inner'\n",
    ").join(\n",
    "    submission_static_cb, on='case_id', how='inner'\n",
    ").join(\n",
    "    submission_person_1, on='case_id', how='inner'\n",
    ")\n",
    "# .join(\n",
    "#     submission_credit_bureau_b_2, on='case_id', how='inner'\n",
    "# )\n",
    "\n",
    "del submission_base\n",
    "del submission_static\n",
    "del submission_static_cb\n",
    "del submission_person_1\n",
    "del submission_credit_bureau_b_2\n",
    "\n",
    "# Drop datatype非數字的data\n",
    "for col in X_submission.columns:\n",
    "    if not (X_submission[col].dtype in (pl.Int64, pl.Float64)):\n",
    "        X_submission = X_submission.drop(col)\n",
    "        \n",
    "X_submission"
   ]
  },
  {
   "cell_type": "code",
   "execution_count": 16,
   "id": "aef5bdfa",
   "metadata": {
    "execution": {
     "iopub.execute_input": "2024-03-27T10:44:26.880411Z",
     "iopub.status.busy": "2024-03-27T10:44:26.879759Z",
     "iopub.status.idle": "2024-03-27T10:44:27.379800Z",
     "shell.execute_reply": "2024-03-27T10:44:27.378872Z"
    },
    "papermill": {
     "duration": 0.730732,
     "end_time": "2024-03-27T10:44:27.381887",
     "exception": false,
     "start_time": "2024-03-27T10:44:26.651155",
     "status": "completed"
    },
    "tags": []
   },
   "outputs": [
    {
     "name": "stdout",
     "output_type": "stream",
     "text": [
      "\u001b[1m1/1\u001b[0m \u001b[32m━━━━━━━━━━━━━━━━━━━━\u001b[0m\u001b[37m\u001b[0m \u001b[1m0s\u001b[0m 440ms/step\n"
     ]
    },
    {
     "data": {
      "text/plain": [
       "[0, 0, 0, 0, 0, 0, 0, 0, 0, 0]"
      ]
     },
     "execution_count": 16,
     "metadata": {},
     "output_type": "execute_result"
    }
   ],
   "source": [
    "# # LGBM\n",
    "# y_submission_pred = bst.predict(X_submission, num_iteration=bst.best_iteration, predict_disable_shape_check=True)\n",
    "\n",
    "# RNN\n",
    "y_submission_pred = model.predict(X_submission)\n",
    "\n",
    "y_submission_pred_binary = [1 if pred > 0.5 else 0 for pred in y_submission_pred]\n",
    "y_submission_pred_binary"
   ]
  },
  {
   "cell_type": "code",
   "execution_count": 17,
   "id": "a0397a88",
   "metadata": {
    "execution": {
     "iopub.execute_input": "2024-03-27T10:44:27.820044Z",
     "iopub.status.busy": "2024-03-27T10:44:27.819694Z",
     "iopub.status.idle": "2024-03-27T10:44:27.828773Z",
     "shell.execute_reply": "2024-03-27T10:44:27.827824Z"
    },
    "papermill": {
     "duration": 0.223315,
     "end_time": "2024-03-27T10:44:27.831281",
     "exception": false,
     "start_time": "2024-03-27T10:44:27.607966",
     "status": "completed"
    },
    "tags": []
   },
   "outputs": [],
   "source": [
    "submission = pd.DataFrame({\n",
    "    \"case_id\": X_submission[\"case_id\"].to_numpy(),\n",
    "    \"score\": y_submission_pred_binary\n",
    "}).set_index('case_id')\n",
    "submission.to_csv(\"./submission.csv\")"
   ]
  },
  {
   "cell_type": "code",
   "execution_count": 18,
   "id": "abad2a1a",
   "metadata": {
    "execution": {
     "iopub.execute_input": "2024-03-27T10:44:28.321617Z",
     "iopub.status.busy": "2024-03-27T10:44:28.321247Z",
     "iopub.status.idle": "2024-03-27T10:44:28.337394Z",
     "shell.execute_reply": "2024-03-27T10:44:28.336367Z"
    },
    "papermill": {
     "duration": 0.254742,
     "end_time": "2024-03-27T10:44:28.339465",
     "exception": false,
     "start_time": "2024-03-27T10:44:28.084723",
     "status": "completed"
    },
    "tags": []
   },
   "outputs": [
    {
     "data": {
      "text/html": [
       "<div>\n",
       "<style scoped>\n",
       "    .dataframe tbody tr th:only-of-type {\n",
       "        vertical-align: middle;\n",
       "    }\n",
       "\n",
       "    .dataframe tbody tr th {\n",
       "        vertical-align: top;\n",
       "    }\n",
       "\n",
       "    .dataframe thead th {\n",
       "        text-align: right;\n",
       "    }\n",
       "</style>\n",
       "<table border=\"1\" class=\"dataframe\">\n",
       "  <thead>\n",
       "    <tr style=\"text-align: right;\">\n",
       "      <th></th>\n",
       "      <th>case_id</th>\n",
       "      <th>score</th>\n",
       "    </tr>\n",
       "  </thead>\n",
       "  <tbody>\n",
       "    <tr>\n",
       "      <th>0</th>\n",
       "      <td>57543</td>\n",
       "      <td>0</td>\n",
       "    </tr>\n",
       "    <tr>\n",
       "      <th>1</th>\n",
       "      <td>57543</td>\n",
       "      <td>0</td>\n",
       "    </tr>\n",
       "    <tr>\n",
       "      <th>2</th>\n",
       "      <td>57549</td>\n",
       "      <td>0</td>\n",
       "    </tr>\n",
       "    <tr>\n",
       "      <th>3</th>\n",
       "      <td>57549</td>\n",
       "      <td>0</td>\n",
       "    </tr>\n",
       "    <tr>\n",
       "      <th>4</th>\n",
       "      <td>57551</td>\n",
       "      <td>0</td>\n",
       "    </tr>\n",
       "    <tr>\n",
       "      <th>5</th>\n",
       "      <td>57552</td>\n",
       "      <td>0</td>\n",
       "    </tr>\n",
       "    <tr>\n",
       "      <th>6</th>\n",
       "      <td>57569</td>\n",
       "      <td>0</td>\n",
       "    </tr>\n",
       "    <tr>\n",
       "      <th>7</th>\n",
       "      <td>57569</td>\n",
       "      <td>0</td>\n",
       "    </tr>\n",
       "    <tr>\n",
       "      <th>8</th>\n",
       "      <td>57630</td>\n",
       "      <td>0</td>\n",
       "    </tr>\n",
       "    <tr>\n",
       "      <th>9</th>\n",
       "      <td>57630</td>\n",
       "      <td>0</td>\n",
       "    </tr>\n",
       "  </tbody>\n",
       "</table>\n",
       "</div>"
      ],
      "text/plain": [
       "   case_id  score\n",
       "0    57543      0\n",
       "1    57543      0\n",
       "2    57549      0\n",
       "3    57549      0\n",
       "4    57551      0\n",
       "5    57552      0\n",
       "6    57569      0\n",
       "7    57569      0\n",
       "8    57630      0\n",
       "9    57630      0"
      ]
     },
     "execution_count": 18,
     "metadata": {},
     "output_type": "execute_result"
    }
   ],
   "source": [
    "pd.read_csv(\"./submission.csv\")"
   ]
  }
 ],
 "metadata": {
  "kaggle": {
   "accelerator": "nvidiaTeslaT4",
   "dataSources": [
    {
     "databundleVersionId": 7921029,
     "sourceId": 50160,
     "sourceType": "competition"
    }
   ],
   "dockerImageVersionId": 30664,
   "isGpuEnabled": true,
   "isInternetEnabled": false,
   "language": "python",
   "sourceType": "notebook"
  },
  "kernelspec": {
   "display_name": "Python 3",
   "language": "python",
   "name": "python3"
  },
  "language_info": {
   "codemirror_mode": {
    "name": "ipython",
    "version": 3
   },
   "file_extension": ".py",
   "mimetype": "text/x-python",
   "name": "python",
   "nbconvert_exporter": "python",
   "pygments_lexer": "ipython3",
   "version": "3.10.13"
  },
  "papermill": {
   "default_parameters": {},
   "duration": 302.360774,
   "end_time": "2024-03-27T10:44:31.558665",
   "environment_variables": {},
   "exception": null,
   "input_path": "__notebook__.ipynb",
   "output_path": "__notebook__.ipynb",
   "parameters": {},
   "start_time": "2024-03-27T10:39:29.197891",
   "version": "2.5.0"
  }
 },
 "nbformat": 4,
 "nbformat_minor": 5
}
