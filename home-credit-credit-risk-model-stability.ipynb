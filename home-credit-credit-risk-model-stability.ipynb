{
 "cells": [
  {
   "cell_type": "code",
   "execution_count": 1,
   "id": "c415deca",
   "metadata": {
    "_cell_guid": "b1076dfc-b9ad-4769-8c92-a6c4dae69d19",
    "_uuid": "8f2839f25d086af736a60e9eeb907d3b93b6e0e5",
    "execution": {
     "iopub.execute_input": "2024-03-27T16:48:10.210022Z",
     "iopub.status.busy": "2024-03-27T16:48:10.209266Z",
     "iopub.status.idle": "2024-03-27T16:48:11.579030Z",
     "shell.execute_reply": "2024-03-27T16:48:11.577685Z"
    },
    "papermill": {
     "duration": 1.386741,
     "end_time": "2024-03-27T16:48:11.582719",
     "exception": false,
     "start_time": "2024-03-27T16:48:10.195978",
     "status": "completed"
    },
    "tags": []
   },
   "outputs": [],
   "source": [
    "import numpy as np\n",
    "import pandas as pd\n",
    "import os\n",
    "\n",
    "import polars as pl"
   ]
  },
  {
   "cell_type": "markdown",
   "id": "d874ccb9",
   "metadata": {
    "papermill": {
     "duration": 0.010629,
     "end_time": "2024-03-27T16:48:11.604721",
     "exception": false,
     "start_time": "2024-03-27T16:48:11.594092",
     "status": "completed"
    },
    "tags": []
   },
   "source": [
    "## 資料探索與前處理"
   ]
  },
  {
   "cell_type": "markdown",
   "id": "67c9d4fb",
   "metadata": {
    "papermill": {
     "duration": 0.011146,
     "end_time": "2024-03-27T16:48:11.627000",
     "exception": false,
     "start_time": "2024-03-27T16:48:11.615854",
     "status": "completed"
    },
    "tags": []
   },
   "source": [
    "### 資料概覽\n",
    "##### 列出主要的數據特徵及統計摘要"
   ]
  },
  {
   "cell_type": "code",
   "execution_count": 2,
   "id": "12bba682",
   "metadata": {
    "execution": {
     "iopub.execute_input": "2024-03-27T16:48:11.651515Z",
     "iopub.status.busy": "2024-03-27T16:48:11.650901Z",
     "iopub.status.idle": "2024-03-27T16:48:11.664394Z",
     "shell.execute_reply": "2024-03-27T16:48:11.663165Z"
    },
    "papermill": {
     "duration": 0.028427,
     "end_time": "2024-03-27T16:48:11.666894",
     "exception": false,
     "start_time": "2024-03-27T16:48:11.638467",
     "status": "completed"
    },
    "tags": []
   },
   "outputs": [
    {
     "name": "stdout",
     "output_type": "stream",
     "text": [
      "目錄下有 32 個訓練資料文件\n"
     ]
    }
   ],
   "source": [
    "# 訓練資料的目錄\n",
    "projDir = \"/kaggle/input/home-credit-credit-risk-model-stability/\"\n",
    "trainDir = os.path.join(projDir, \"csv_files/train/\")\n",
    "\n",
    "# 列出目錄下所有文件\n",
    "files = os.listdir(trainDir)\n",
    "\n",
    "# 依檔名排序\n",
    "files = sorted(files)\n",
    "\n",
    "# # 印出文件名稱\n",
    "# for file in files:\n",
    "#     print(file)\n",
    "    \n",
    "# 計算文件數量\n",
    "num_files = len(files)\n",
    "print(\"目錄下有\", num_files, \"個訓練資料文件\")\n",
    "\n",
    "del num_files"
   ]
  },
  {
   "cell_type": "code",
   "execution_count": 3,
   "id": "222e256c",
   "metadata": {
    "execution": {
     "iopub.execute_input": "2024-03-27T16:48:11.691239Z",
     "iopub.status.busy": "2024-03-27T16:48:11.690403Z",
     "iopub.status.idle": "2024-03-27T16:48:11.695616Z",
     "shell.execute_reply": "2024-03-27T16:48:11.694519Z"
    },
    "papermill": {
     "duration": 0.020634,
     "end_time": "2024-03-27T16:48:11.698315",
     "exception": false,
     "start_time": "2024-03-27T16:48:11.677681",
     "status": "completed"
    },
    "tags": []
   },
   "outputs": [],
   "source": [
    "# # 遍歷每個文件，僅顯示前幾行資料概況\n",
    "# for file in files:\n",
    "#     # 組合完整的檔案路徑\n",
    "#     file_path = os.path.join(trainDir, file)\n",
    "    \n",
    "#     # 讀取文件的前幾行\n",
    "#     df_head = pd.read_csv(file_path, nrows=3)\n",
    "    \n",
    "#     print(\"文件名稱:\", file)\n",
    "#     print(\"前3行資料:\")\n",
    "#     display(df_head)\n",
    "#     print(\"\\n\")\n",
    "    \n",
    "del files"
   ]
  },
  {
   "cell_type": "markdown",
   "id": "38c0424d",
   "metadata": {
    "papermill": {
     "duration": 0.010853,
     "end_time": "2024-03-27T16:48:11.719720",
     "exception": false,
     "start_time": "2024-03-27T16:48:11.708867",
     "status": "completed"
    },
    "tags": []
   },
   "source": [
    "### 特徵工程\n",
    "##### 提取、轉換或建立新特徵以優化模型"
   ]
  },
  {
   "cell_type": "code",
   "execution_count": 4,
   "id": "75312f1d",
   "metadata": {
    "execution": {
     "iopub.execute_input": "2024-03-27T16:48:11.743526Z",
     "iopub.status.busy": "2024-03-27T16:48:11.742970Z",
     "iopub.status.idle": "2024-03-27T16:48:11.749545Z",
     "shell.execute_reply": "2024-03-27T16:48:11.748154Z"
    },
    "papermill": {
     "duration": 0.021746,
     "end_time": "2024-03-27T16:48:11.752078",
     "exception": false,
     "start_time": "2024-03-27T16:48:11.730332",
     "status": "completed"
    },
    "tags": []
   },
   "outputs": [],
   "source": [
    "# # 讀取訓練數據\n",
    "# train_base = pl.read_csv(trainDir + 'train_base.csv')\n",
    "\n",
    "# static_dfs = [\n",
    "#     pd.read_csv(trainDir + 'train_static_0_0.csv'),\n",
    "#     pd.read_csv(trainDir + 'train_static_0_1.csv')\n",
    "# ]\n",
    "# pd_df = pd.concat(static_dfs, ignore_index=True)\n",
    "# del static_dfs\n",
    "# train_static = pl.from_pandas(pd_df)\n",
    "\n",
    "# train_static_cb = pl.read_csv(trainDir + 'train_static_cb_0.csv')\n",
    "# train_person_1 = pl.read_csv(trainDir + 'train_person_1.csv') \n",
    "# train_credit_bureau_b_2 = pl.read_csv(trainDir + 'train_credit_bureau_b_2.csv') \n",
    "\n",
    "# # Merge all dataframes using join with how='inner'\n",
    "# train_data = train_base.join(\n",
    "#     train_static, on='case_id', how='inner'\n",
    "# ).join(\n",
    "#     train_static_cb, on='case_id', how='inner'\n",
    "# ).join(\n",
    "#     train_person_1, on='case_id', how='inner'\n",
    "# ).join(\n",
    "#     train_credit_bureau_b_2, on='case_id', how='inner'\n",
    "# )\n",
    "# del train_base\n",
    "# del train_static\n",
    "# del train_static_cb\n",
    "# del train_person_1\n",
    "# del train_credit_bureau_b_2\n",
    "\n",
    "# # 將目標變量和特徵變量分開\n",
    "# X = train_data.drop(columns=['target'])\n",
    "# y = train_data['target']\n",
    "# del train_data\n",
    "\n",
    "# print(X.dtypes)"
   ]
  },
  {
   "cell_type": "code",
   "execution_count": 5,
   "id": "0021cd1a",
   "metadata": {
    "execution": {
     "iopub.execute_input": "2024-03-27T16:48:11.776799Z",
     "iopub.status.busy": "2024-03-27T16:48:11.775569Z",
     "iopub.status.idle": "2024-03-27T16:48:14.169831Z",
     "shell.execute_reply": "2024-03-27T16:48:14.168211Z"
    },
    "papermill": {
     "duration": 2.411175,
     "end_time": "2024-03-27T16:48:14.173661",
     "exception": false,
     "start_time": "2024-03-27T16:48:11.762486",
     "status": "completed"
    },
    "tags": []
   },
   "outputs": [
    {
     "name": "stdout",
     "output_type": "stream",
     "text": [
      "case_id           int64\n",
      "date_decision    object\n",
      "MONTH             int64\n",
      "WEEK_NUM          int64\n",
      "dtype: object\n"
     ]
    },
    {
     "data": {
      "text/html": [
       "<div>\n",
       "<style scoped>\n",
       "    .dataframe tbody tr th:only-of-type {\n",
       "        vertical-align: middle;\n",
       "    }\n",
       "\n",
       "    .dataframe tbody tr th {\n",
       "        vertical-align: top;\n",
       "    }\n",
       "\n",
       "    .dataframe thead th {\n",
       "        text-align: right;\n",
       "    }\n",
       "</style>\n",
       "<table border=\"1\" class=\"dataframe\">\n",
       "  <thead>\n",
       "    <tr style=\"text-align: right;\">\n",
       "      <th></th>\n",
       "      <th>case_id</th>\n",
       "      <th>year</th>\n",
       "      <th>month</th>\n",
       "      <th>day</th>\n",
       "      <th>MONTH</th>\n",
       "      <th>WEEK_NUM</th>\n",
       "    </tr>\n",
       "  </thead>\n",
       "  <tbody>\n",
       "    <tr>\n",
       "      <th>0</th>\n",
       "      <td>0</td>\n",
       "      <td>2019</td>\n",
       "      <td>1</td>\n",
       "      <td>3</td>\n",
       "      <td>201901</td>\n",
       "      <td>0</td>\n",
       "    </tr>\n",
       "    <tr>\n",
       "      <th>1</th>\n",
       "      <td>1</td>\n",
       "      <td>2019</td>\n",
       "      <td>1</td>\n",
       "      <td>3</td>\n",
       "      <td>201901</td>\n",
       "      <td>0</td>\n",
       "    </tr>\n",
       "    <tr>\n",
       "      <th>2</th>\n",
       "      <td>2</td>\n",
       "      <td>2019</td>\n",
       "      <td>1</td>\n",
       "      <td>4</td>\n",
       "      <td>201901</td>\n",
       "      <td>0</td>\n",
       "    </tr>\n",
       "    <tr>\n",
       "      <th>3</th>\n",
       "      <td>3</td>\n",
       "      <td>2019</td>\n",
       "      <td>1</td>\n",
       "      <td>3</td>\n",
       "      <td>201901</td>\n",
       "      <td>0</td>\n",
       "    </tr>\n",
       "    <tr>\n",
       "      <th>4</th>\n",
       "      <td>4</td>\n",
       "      <td>2019</td>\n",
       "      <td>1</td>\n",
       "      <td>4</td>\n",
       "      <td>201901</td>\n",
       "      <td>0</td>\n",
       "    </tr>\n",
       "    <tr>\n",
       "      <th>...</th>\n",
       "      <td>...</td>\n",
       "      <td>...</td>\n",
       "      <td>...</td>\n",
       "      <td>...</td>\n",
       "      <td>...</td>\n",
       "      <td>...</td>\n",
       "    </tr>\n",
       "    <tr>\n",
       "      <th>1526654</th>\n",
       "      <td>2703450</td>\n",
       "      <td>2020</td>\n",
       "      <td>10</td>\n",
       "      <td>5</td>\n",
       "      <td>202010</td>\n",
       "      <td>91</td>\n",
       "    </tr>\n",
       "    <tr>\n",
       "      <th>1526655</th>\n",
       "      <td>2703451</td>\n",
       "      <td>2020</td>\n",
       "      <td>10</td>\n",
       "      <td>5</td>\n",
       "      <td>202010</td>\n",
       "      <td>91</td>\n",
       "    </tr>\n",
       "    <tr>\n",
       "      <th>1526656</th>\n",
       "      <td>2703452</td>\n",
       "      <td>2020</td>\n",
       "      <td>10</td>\n",
       "      <td>5</td>\n",
       "      <td>202010</td>\n",
       "      <td>91</td>\n",
       "    </tr>\n",
       "    <tr>\n",
       "      <th>1526657</th>\n",
       "      <td>2703453</td>\n",
       "      <td>2020</td>\n",
       "      <td>10</td>\n",
       "      <td>5</td>\n",
       "      <td>202010</td>\n",
       "      <td>91</td>\n",
       "    </tr>\n",
       "    <tr>\n",
       "      <th>1526658</th>\n",
       "      <td>2703454</td>\n",
       "      <td>2020</td>\n",
       "      <td>10</td>\n",
       "      <td>5</td>\n",
       "      <td>202010</td>\n",
       "      <td>91</td>\n",
       "    </tr>\n",
       "  </tbody>\n",
       "</table>\n",
       "<p>1526659 rows × 6 columns</p>\n",
       "</div>"
      ],
      "text/plain": [
       "         case_id  year  month  day   MONTH  WEEK_NUM\n",
       "0              0  2019      1    3  201901         0\n",
       "1              1  2019      1    3  201901         0\n",
       "2              2  2019      1    4  201901         0\n",
       "3              3  2019      1    3  201901         0\n",
       "4              4  2019      1    4  201901         0\n",
       "...          ...   ...    ...  ...     ...       ...\n",
       "1526654  2703450  2020     10    5  202010        91\n",
       "1526655  2703451  2020     10    5  202010        91\n",
       "1526656  2703452  2020     10    5  202010        91\n",
       "1526657  2703453  2020     10    5  202010        91\n",
       "1526658  2703454  2020     10    5  202010        91\n",
       "\n",
       "[1526659 rows x 6 columns]"
      ]
     },
     "metadata": {},
     "output_type": "display_data"
    },
    {
     "name": "stdout",
     "output_type": "stream",
     "text": [
      "target\n",
      "0    1478665\n",
      "1      47994\n",
      "Name: count, dtype: int64\n"
     ]
    }
   ],
   "source": [
    "# 讀取訓練數據\n",
    "train_path = os.path.join(trainDir, 'train_base.csv')\n",
    "train_data = pd.read_csv(train_path)\n",
    "\n",
    "# 將目標變量和特徵變量分開\n",
    "X = train_data.drop(columns=['target'])\n",
    "y = train_data['target']\n",
    "\n",
    "print(X.dtypes)\n",
    "\n",
    "# Extract year, month and day as separate features\n",
    "X['date_decision'] = pd.to_datetime(X['date_decision'])\n",
    "X.insert(1, 'year', X['date_decision'].dt.year)\n",
    "X.insert(2, 'month', X['date_decision'].dt.month)\n",
    "X.insert(3, 'day', X['date_decision'].dt.day)\n",
    "X = X.drop('date_decision', axis=1)\n",
    "display(X)\n",
    "\n",
    "print(y.value_counts())"
   ]
  },
  {
   "cell_type": "code",
   "execution_count": 6,
   "id": "25b8b5ce",
   "metadata": {
    "execution": {
     "iopub.execute_input": "2024-03-27T16:48:14.200153Z",
     "iopub.status.busy": "2024-03-27T16:48:14.199687Z",
     "iopub.status.idle": "2024-03-27T16:48:14.205015Z",
     "shell.execute_reply": "2024-03-27T16:48:14.203540Z"
    },
    "papermill": {
     "duration": 0.021692,
     "end_time": "2024-03-27T16:48:14.207866",
     "exception": false,
     "start_time": "2024-03-27T16:48:14.186174",
     "status": "completed"
    },
    "tags": []
   },
   "outputs": [],
   "source": [
    "# # X存在非數字的column，無法輸入model訓練\n",
    "# X.dtypes"
   ]
  },
  {
   "cell_type": "code",
   "execution_count": 7,
   "id": "08090378",
   "metadata": {
    "execution": {
     "iopub.execute_input": "2024-03-27T16:48:14.237924Z",
     "iopub.status.busy": "2024-03-27T16:48:14.237323Z",
     "iopub.status.idle": "2024-03-27T16:48:14.244989Z",
     "shell.execute_reply": "2024-03-27T16:48:14.243267Z"
    },
    "papermill": {
     "duration": 0.027892,
     "end_time": "2024-03-27T16:48:14.249243",
     "exception": false,
     "start_time": "2024-03-27T16:48:14.221351",
     "status": "completed"
    },
    "tags": []
   },
   "outputs": [],
   "source": [
    "# for col in X.columns:\n",
    "#     if not (X[col].dtype in (pl.Int64, pl.Float64)):\n",
    "#         X = X.drop(col)"
   ]
  },
  {
   "cell_type": "code",
   "execution_count": 8,
   "id": "d9f779b7",
   "metadata": {
    "execution": {
     "iopub.execute_input": "2024-03-27T16:48:14.283766Z",
     "iopub.status.busy": "2024-03-27T16:48:14.282747Z",
     "iopub.status.idle": "2024-03-27T16:48:14.290525Z",
     "shell.execute_reply": "2024-03-27T16:48:14.288769Z"
    },
    "papermill": {
     "duration": 0.029346,
     "end_time": "2024-03-27T16:48:14.293091",
     "exception": false,
     "start_time": "2024-03-27T16:48:14.263745",
     "status": "completed"
    },
    "tags": []
   },
   "outputs": [],
   "source": [
    "# X.dtypes"
   ]
  },
  {
   "cell_type": "code",
   "execution_count": 9,
   "id": "27d444b4",
   "metadata": {
    "execution": {
     "iopub.execute_input": "2024-03-27T16:48:14.319262Z",
     "iopub.status.busy": "2024-03-27T16:48:14.318284Z",
     "iopub.status.idle": "2024-03-27T16:48:16.150810Z",
     "shell.execute_reply": "2024-03-27T16:48:16.149608Z"
    },
    "papermill": {
     "duration": 1.849073,
     "end_time": "2024-03-27T16:48:16.154131",
     "exception": false,
     "start_time": "2024-03-27T16:48:14.305058",
     "status": "completed"
    },
    "tags": []
   },
   "outputs": [],
   "source": [
    "from sklearn.model_selection import train_test_split\n",
    "\n",
    "# 將數據劃分為訓練集和測試集\n",
    "X_train, X_test, y_train, y_test = train_test_split(X, y, test_size=0.2, random_state=42)\n",
    "del X\n",
    "del y"
   ]
  },
  {
   "cell_type": "markdown",
   "id": "4593ed04",
   "metadata": {
    "papermill": {
     "duration": 0.011476,
     "end_time": "2024-03-27T16:48:16.177305",
     "exception": false,
     "start_time": "2024-03-27T16:48:16.165829",
     "status": "completed"
    },
    "tags": []
   },
   "source": [
    "## 數據分析方法與模型選擇"
   ]
  },
  {
   "cell_type": "code",
   "execution_count": 10,
   "id": "2dea1bf3",
   "metadata": {
    "execution": {
     "iopub.execute_input": "2024-03-27T16:48:16.203272Z",
     "iopub.status.busy": "2024-03-27T16:48:16.202850Z",
     "iopub.status.idle": "2024-03-27T16:48:16.208259Z",
     "shell.execute_reply": "2024-03-27T16:48:16.206865Z"
    },
    "papermill": {
     "duration": 0.021286,
     "end_time": "2024-03-27T16:48:16.210722",
     "exception": false,
     "start_time": "2024-03-27T16:48:16.189436",
     "status": "completed"
    },
    "tags": []
   },
   "outputs": [],
   "source": [
    "# # 取得最後三十萬筆資料(ram不夠，sample不work)\n",
    "# X_train = X_train.tail(300000)\n",
    "# y_train = y_train.tail(300000)\n",
    "\n",
    "# # bst = lgb.train(params, lgb_train, num_round, valid_sets=[lgb_train, lgb_test])\n",
    "# # TypeError: Wrong type(Series) for label. It should be list, numpy 1-D array or pandas Series\n",
    "# y_train = y_train.to_numpy()\n",
    "# y_test = y_test.to_numpy()"
   ]
  },
  {
   "cell_type": "code",
   "execution_count": 11,
   "id": "2cd724a4",
   "metadata": {
    "execution": {
     "iopub.execute_input": "2024-03-27T16:48:16.234717Z",
     "iopub.status.busy": "2024-03-27T16:48:16.234328Z",
     "iopub.status.idle": "2024-03-27T16:48:16.239792Z",
     "shell.execute_reply": "2024-03-27T16:48:16.238287Z"
    },
    "papermill": {
     "duration": 0.020575,
     "end_time": "2024-03-27T16:48:16.242314",
     "exception": false,
     "start_time": "2024-03-27T16:48:16.221739",
     "status": "completed"
    },
    "tags": []
   },
   "outputs": [],
   "source": [
    "# # 看target值的分布\n",
    "# np.unique(y_train, return_counts=True)"
   ]
  },
  {
   "cell_type": "markdown",
   "id": "d9e5ffca",
   "metadata": {
    "papermill": {
     "duration": 0.010488,
     "end_time": "2024-03-27T16:48:16.263824",
     "exception": false,
     "start_time": "2024-03-27T16:48:16.253336",
     "status": "completed"
    },
    "tags": []
   },
   "source": [
    "### Oversampling"
   ]
  },
  {
   "cell_type": "code",
   "execution_count": 12,
   "id": "47db1efc",
   "metadata": {
    "execution": {
     "iopub.execute_input": "2024-03-27T16:48:16.287918Z",
     "iopub.status.busy": "2024-03-27T16:48:16.287522Z",
     "iopub.status.idle": "2024-03-27T16:48:16.294069Z",
     "shell.execute_reply": "2024-03-27T16:48:16.292590Z"
    },
    "papermill": {
     "duration": 0.022117,
     "end_time": "2024-03-27T16:48:16.296670",
     "exception": false,
     "start_time": "2024-03-27T16:48:16.274553",
     "status": "completed"
    },
    "tags": []
   },
   "outputs": [],
   "source": [
    "# # 過取樣: 增加target=1的data\n",
    "\n",
    "# from sklearn.impute import SimpleImputer\n",
    "# from imblearn.over_sampling import SMOTE\n",
    "\n",
    "# # 創建 SimpleImputer 對象，用於填補NaN值\n",
    "# imputer = SimpleImputer(strategy='mean')\n",
    "\n",
    "# # 填補NaN值\n",
    "# X_train = imputer.fit_transform(X_train)\n",
    "\n",
    "# # 設置合成目標樣本數量\n",
    "# synthetic_target_count = 279555\n",
    "\n",
    "# # 初始化 SMOTE\n",
    "# smote = SMOTE(sampling_strategy={1: synthetic_target_count})\n",
    "\n",
    "# # 使用 SMOTE 生成合成少數類樣本\n",
    "# X_train, y_train = smote.fit_resample(X_train, y_train)\n",
    "\n",
    "# # 檢查合成後的資料量\n",
    "# print(\"合成後的資料量：\", len(X_train))\n",
    "\n",
    "# # 檢查合成後的目標資料分佈\n",
    "# unique, counts = np.unique(y_train, return_counts=True)\n",
    "# print(\"合成後的目標資料分佈：\", dict(zip(unique, counts)))"
   ]
  },
  {
   "cell_type": "markdown",
   "id": "63ae84e4",
   "metadata": {
    "papermill": {
     "duration": 0.010841,
     "end_time": "2024-03-27T16:48:16.318648",
     "exception": false,
     "start_time": "2024-03-27T16:48:16.307807",
     "status": "completed"
    },
    "tags": []
   },
   "source": [
    "### Undersampling"
   ]
  },
  {
   "cell_type": "code",
   "execution_count": 13,
   "id": "a973b37d",
   "metadata": {
    "execution": {
     "iopub.execute_input": "2024-03-27T16:48:16.343184Z",
     "iopub.status.busy": "2024-03-27T16:48:16.342610Z",
     "iopub.status.idle": "2024-03-27T16:48:16.575197Z",
     "shell.execute_reply": "2024-03-27T16:48:16.573779Z"
    },
    "papermill": {
     "duration": 0.248202,
     "end_time": "2024-03-27T16:48:16.578227",
     "exception": false,
     "start_time": "2024-03-27T16:48:16.330025",
     "status": "completed"
    },
    "tags": []
   },
   "outputs": [
    {
     "name": "stdout",
     "output_type": "stream",
     "text": [
      "欠採樣後的訓練資料量： 76882\n",
      "欠採樣後的測試資料量： 19106\n",
      "欠採樣後的訓練目標資料分佈： {0: 38441, 1: 38441}\n",
      "欠採樣後的測試目標資料分佈： {0: 9553, 1: 9553}\n"
     ]
    }
   ],
   "source": [
    "# 欠採樣: 減少target=0的data\n",
    "\n",
    "from sklearn.utils import resample\n",
    "\n",
    "# 將 DataFrame 轉換為 NumPy 陣列\n",
    "X_train = X_train.to_numpy()\n",
    "X_test = X_test.to_numpy()\n",
    "\n",
    "# 隨機抽取與目標樣本數量相同的非目標樣本\n",
    "X_train_0, y_train_0 = resample(X_train[y_train == 0], y_train[y_train == 0], replace=False, n_samples=np.sum(y_train == 1))\n",
    "X_test_0, y_test_0 = resample(X_test[y_test == 0], y_test[y_test == 0], replace=False, n_samples=np.sum(y_test == 1))\n",
    "\n",
    "# 合併目標樣本和非目標樣本\n",
    "X_train = np.concatenate((X_train_0, X_train[y_train == 1]), axis=0)\n",
    "y_train = np.concatenate((y_train_0, y_train[y_train == 1]), axis=0)\n",
    "X_test = np.concatenate((X_test_0, X_test[y_test == 1]), axis=0)\n",
    "y_test = np.concatenate((y_test_0, y_test[y_test == 1]), axis=0)\n",
    "\n",
    "# 檢查欠採樣後的資料量\n",
    "print(\"欠採樣後的訓練資料量：\", len(X_train))\n",
    "print(\"欠採樣後的測試資料量：\", len(X_test))\n",
    "\n",
    "# 檢查欠採樣後的目標資料分佈\n",
    "unique, counts = np.unique(y_train, return_counts=True)\n",
    "print(\"欠採樣後的訓練目標資料分佈：\", dict(zip(unique, counts)))\n",
    "unique, counts = np.unique(y_test, return_counts=True)\n",
    "print(\"欠採樣後的測試目標資料分佈：\", dict(zip(unique, counts)))"
   ]
  },
  {
   "cell_type": "markdown",
   "id": "3f2219f3",
   "metadata": {
    "papermill": {
     "duration": 0.010768,
     "end_time": "2024-03-27T16:48:16.600092",
     "exception": false,
     "start_time": "2024-03-27T16:48:16.589324",
     "status": "completed"
    },
    "tags": []
   },
   "source": [
    "### Model1. 梯度提升樹（Gradient Boosting Decision Tree，GBDT）\n",
    "##### 優點：\n",
    "##### 1. 高效性： LightGBM 是一種高效的梯度提升樹模型，具有優秀的訓練速度和預測速度。它使用了基於直方圖的方法來加速訓練過程，並且通常比其他梯度提升樹庫（如XGBoost）更快。\n",
    "##### 2. 低內存使用： LightGBM 使用了一種稱為GOSS（Gradient-based One-Side Sampling）的方法，在訓練過程中減少了內存使用。這使得它可以處理大型數據集而不會出現內存不足的問題。\n",
    "##### 3. 高準確性： LightGBM 在處理大型和高維數據集時通常表現出色，並且提供了很好的預測性能。\n",
    "##### 4. 支持並行處理： LightGBM 支持並行處理，可以在多核 CPU 上進行訓練，從而加速了訓練過程。\n",
    "##### 5. 自動處理類別特徵： LightGBM 可以自動處理類別特徵，無需額外的編碼。\n",
    "##### 缺點：\n",
    "##### 1. 對參數敏感： 與其他梯度提升樹模型一樣，LightGBM 的性能取決於參數的調整，對參數較為敏感，需要一些經驗和時間來進行調參。\n",
    "##### 2. 需要較多數據： LightGBM 在處理小型數據集時可能不如其他模型表現好，因為它的高效性主要體現在處理大型數據集時"
   ]
  },
  {
   "cell_type": "code",
   "execution_count": 14,
   "id": "aa486f61",
   "metadata": {
    "execution": {
     "iopub.execute_input": "2024-03-27T16:48:16.624941Z",
     "iopub.status.busy": "2024-03-27T16:48:16.623907Z",
     "iopub.status.idle": "2024-03-27T16:48:18.236059Z",
     "shell.execute_reply": "2024-03-27T16:48:18.234735Z"
    },
    "papermill": {
     "duration": 1.627815,
     "end_time": "2024-03-27T16:48:18.238977",
     "exception": false,
     "start_time": "2024-03-27T16:48:16.611162",
     "status": "completed"
    },
    "tags": []
   },
   "outputs": [],
   "source": [
    "import lightgbm as lgb\n",
    "\n",
    "# 創建 LightGBM 的訓練資料集\n",
    "lgb_train = lgb.Dataset(X_train, y_train)\n",
    "lgb_test = lgb.Dataset(X_test, y_test, reference=lgb_train)\n",
    "del X_train\n",
    "del y_train\n",
    "\n",
    "# 設置參數\n",
    "params = {\n",
    "    'boosting_type': 'gbdt',         # 使用梯度提升樹\n",
    "    'objective': 'binary',           # 二元分類任務\n",
    "    'metric': 'binary_error',        # 評估指標為二元分類錯誤率\n",
    "    'num_leaves': 31,                # 每棵樹的最大葉子數量\n",
    "    'learning_rate': 0.05,           # 學習速率\n",
    "    'feature_fraction': 0.9,         # 特徵抽樣比例\n",
    "    'bagging_fraction': 0.8,         # 樣本抽樣比例\n",
    "    'bagging_freq': 5,               # 樣本抽樣的頻率\n",
    "    'verbose': 0,                    # 顯示訓練信息\n",
    "    'early_stopping_rounds': 10\n",
    "}\n",
    "\n",
    "# 訓練模型\n",
    "num_round = 100                      # 迭代輪次\n",
    "bst = lgb.train(params, lgb_train, num_round, valid_sets=[lgb_train, lgb_test])\n",
    "\n",
    "# 預測\n",
    "y_pred = bst.predict(X_test, num_iteration=bst.best_iteration)\n",
    "y_pred_binary = [1 if pred > 0.5 else 0 for pred in y_pred]"
   ]
  },
  {
   "cell_type": "markdown",
   "id": "bedccc47",
   "metadata": {
    "papermill": {
     "duration": 0.010612,
     "end_time": "2024-03-27T16:48:18.260783",
     "exception": false,
     "start_time": "2024-03-27T16:48:18.250171",
     "status": "completed"
    },
    "tags": []
   },
   "source": [
    "### Model2. RNN\n",
    "##### RNN的優點：\n",
    "##### 1. 能夠處理序列數據，保留先前時間步的信息。\n",
    "##### 2. 模型相對較簡單，易於理解和實現。\n",
    "##### RNN的缺點：\n",
    "##### 3. 容易出現梯度消失或梯度爆炸的問題，尤其在處理長序列數據時效果不佳。\n",
    "##### 4. 難以捕捉長期依賴關係"
   ]
  },
  {
   "cell_type": "code",
   "execution_count": 15,
   "id": "1bb831c5",
   "metadata": {
    "execution": {
     "iopub.execute_input": "2024-03-27T16:48:18.288839Z",
     "iopub.status.busy": "2024-03-27T16:48:18.286528Z",
     "iopub.status.idle": "2024-03-27T16:48:18.294278Z",
     "shell.execute_reply": "2024-03-27T16:48:18.292892Z"
    },
    "papermill": {
     "duration": 0.025285,
     "end_time": "2024-03-27T16:48:18.297002",
     "exception": false,
     "start_time": "2024-03-27T16:48:18.271717",
     "status": "completed"
    },
    "tags": []
   },
   "outputs": [],
   "source": [
    "# def focal_loss(y_true, y_pred, alpha=0.25, gamma=2.0):\n",
    "#     # Calculate cross entropy loss\n",
    "#     ce_loss = tf.keras.losses.binary_crossentropy(y_true, y_pred, from_logits=False)\n",
    "    \n",
    "#     # Calculate focal weights\n",
    "#     p_t = y_true * y_pred + (1 - y_true) * (1 - y_pred)\n",
    "#     focal_weight = alpha * tf.pow(1 - p_t, gamma)\n",
    "    \n",
    "#     # Apply focal weights to cross entropy loss\n",
    "#     focal_loss = focal_weight * ce_loss\n",
    "    \n",
    "#     # Return the mean loss over the batch\n",
    "#     return tf.reduce_mean(focal_loss)"
   ]
  },
  {
   "cell_type": "code",
   "execution_count": 16,
   "id": "0962c5fe",
   "metadata": {
    "execution": {
     "iopub.execute_input": "2024-03-27T16:48:18.321436Z",
     "iopub.status.busy": "2024-03-27T16:48:18.320883Z",
     "iopub.status.idle": "2024-03-27T16:48:18.329945Z",
     "shell.execute_reply": "2024-03-27T16:48:18.328244Z"
    },
    "papermill": {
     "duration": 0.024362,
     "end_time": "2024-03-27T16:48:18.332386",
     "exception": false,
     "start_time": "2024-03-27T16:48:18.308024",
     "status": "completed"
    },
    "tags": []
   },
   "outputs": [],
   "source": [
    "# import tensorflow as tf\n",
    "# from tensorflow.keras.models import Sequential\n",
    "# from tensorflow.keras.layers import SimpleRNN, Dense, Dropout\n",
    "# from tensorflow.keras.callbacks import EarlyStopping\n",
    "# from tensorflow.keras.optimizers import AdamW\n",
    "# # from sklearn.utils.class_weight import compute_class_weight\n",
    "\n",
    "# # 將資料轉換成3D形狀\n",
    "# X_train = X_train.reshape(X_train.shape[0], X_train.shape[1], 1)\n",
    "# X_test = X_test.reshape(X_test.shape[0], X_test.shape[1], 1)\n",
    "\n",
    "# # 創建 Sequential 模型\n",
    "# model = Sequential()\n",
    "\n",
    "# # 添加第一層 SimpleRNN 層\n",
    "# model.add(SimpleRNN(50, return_sequences=True, input_shape=(X_train.shape[1], X_train.shape[2]), activation='relu'))\n",
    "# model.add(Dropout(0.3))  # 添加 dropout 避免過擬合\n",
    "\n",
    "# # 添加第二層 SimpleRNN 層\n",
    "# model.add(SimpleRNN(50, return_sequences=True, activation='relu'))\n",
    "# model.add(Dropout(0.3))\n",
    "\n",
    "# # 添加第三層 SimpleRNN 層\n",
    "# model.add(SimpleRNN(50, activation='relu'))\n",
    "# model.add(Dropout(0.3))\n",
    "\n",
    "# # 添加輸出層\n",
    "# model.add(Dense(1, activation='sigmoid'))\n",
    "\n",
    "# # 定義 AdamW 優化器，設置初始學習率和權重衰減\n",
    "# # 嘗試不同的優化器 ：AdamW是Adam的一個變種，引入了一個額外的權重衰減（Weight Decay）項目，有助於減小參數的數值大小，從而減少過擬合的風險。\n",
    "# # 調整學習率（Learning Rate）：嘗試不同的學習率值，有時降低學習率可以幫助模型更好地收斂，特別是在資料不平衡的情況下。\n",
    "# optimizer = AdamW(learning_rate=0.001, weight_decay=1e-4)\n",
    "\n",
    "# # 編譯模型\n",
    "# # focal_loss 損失函數，可以自動為少數類別分配更大的權重\n",
    "# model.compile(optimizer=optimizer, loss=focal_loss, metrics=['accuracy'])\n",
    "\n",
    "# # 定義 EarlyStopping\n",
    "# # 調整Early Stopping的參數：嘗試不同的patience值，以及monitor參數，這可能會影響到模型的停止訓練的時機。\n",
    "# early_stopping = EarlyStopping(patience=10, monitor='val_loss', restore_best_weights=True)\n",
    "\n",
    "# # 設置類別加權，例如給予類別0權重1，給予類別1權重100\n",
    "# # 1. 使用 np.unique(y_train) 函數獲取訓練數據中所有類別的標籤。\n",
    "# # 2. 使用 compute_class_weight 函數計算每個類別的權重，參數 'balanced' 指定使用平衡策略。\n",
    "# # 3. 將計算出的類別權重存儲在 class_weight 字典中\n",
    "# # class_weight = compute_class_weight('balanced', np.unique(y_train), y_train)\n",
    "# class_weight = {0: 1, 1: 100}\n",
    "\n",
    "# # 訓練模型\n",
    "# # 批量大小: 嘗試減小批量大小，可以讓模型在每個更新步驟中看到更多樣化的樣本，可能有助於緩解數據不平衡問題。\n",
    "# history = model.fit(X_train, y_train, epochs=3, batch_size=128, validation_data=(X_test, y_test), callbacks=[early_stopping], class_weight=class_weight) # class_weight='balanced' not work\n",
    "\n",
    "# # 評估\n",
    "# model.evaluate(X_test, y_test)\n",
    "\n",
    "# # 預測\n",
    "# y_pred = model.predict(X_test)\n",
    "# y_pred_binary = [1 if pred > 0.5 else 0 for pred in y_pred]"
   ]
  },
  {
   "cell_type": "markdown",
   "id": "7711a9ae",
   "metadata": {
    "papermill": {
     "duration": 0.010963,
     "end_time": "2024-03-27T16:48:18.354493",
     "exception": false,
     "start_time": "2024-03-27T16:48:18.343530",
     "status": "completed"
    },
    "tags": []
   },
   "source": [
    "### Model3. LSTM\n",
    "##### LSTM的優點：\n",
    "##### 1. 能夠有效地解決梯度消失或梯度爆炸的問題，能夠處理長序列數據。\n",
    "##### 2. 能夠捕捉長期依賴關係，適用於需要考慮長期記憶的任務。\n",
    "##### LSTM的缺點：\n",
    "##### 1. 模型相對複雜，訓練時間較長。\n",
    "##### 2. 需要調參和優化，有時可能會出現過擬合的問題。"
   ]
  },
  {
   "cell_type": "code",
   "execution_count": 17,
   "id": "c3698557",
   "metadata": {
    "execution": {
     "iopub.execute_input": "2024-03-27T16:48:18.380016Z",
     "iopub.status.busy": "2024-03-27T16:48:18.378917Z",
     "iopub.status.idle": "2024-03-27T16:48:18.385620Z",
     "shell.execute_reply": "2024-03-27T16:48:18.384593Z"
    },
    "papermill": {
     "duration": 0.022134,
     "end_time": "2024-03-27T16:48:18.388112",
     "exception": false,
     "start_time": "2024-03-27T16:48:18.365978",
     "status": "completed"
    },
    "tags": []
   },
   "outputs": [],
   "source": [
    "# import tensorflow as tf\n",
    "# from tensorflow.keras.models import Sequential\n",
    "# from tensorflow.keras.layers import LSTM, Dense, Dropout\n",
    "# from tensorflow.keras.callbacks import EarlyStopping\n",
    "\n",
    "# # 將 DataFrame 轉換為 NumPy 陣列\n",
    "# X_train = X_train.to_numpy()\n",
    "# X_test = X_test.to_numpy()\n",
    "\n",
    "# # 將資料轉換成3D形狀\n",
    "# X_train = X_train.reshape(X_train.shape[0], X_train.shape[1], 1)\n",
    "# X_test = X_test.reshape(X_test.shape[0], X_test.shape[1], 1)\n",
    "\n",
    "# # 創建 Sequential 模型\n",
    "# model = Sequential()\n",
    "\n",
    "# # 添加第一層 LSTM 層\n",
    "# model.add(LSTM(50, return_sequences=True, input_shape=(X_train.shape[1], X_train.shape[2]), activation='relu'))\n",
    "# model.add(Dropout(0.3))  # 添加 dropout 避免過擬合\n",
    "\n",
    "# # 添加第二層 LSTM 層\n",
    "# model.add(LSTM(50, return_sequences=True, activation='relu'))\n",
    "# model.add(Dropout(0.3))  # 添加 dropout 避免過擬合\n",
    "\n",
    "# # 添加第三層 LSTM 層\n",
    "# model.add(LSTM(50, activation='relu'))\n",
    "# model.add(Dropout(0.3))  # 添加 dropout 避免過擬合\n",
    "\n",
    "# # 添加輸出層\n",
    "# model.add(Dense(1, activation='sigmoid'))\n",
    "\n",
    "# # 編譯模型\n",
    "# model.compile(optimizer='adam', loss='binary_crossentropy', metrics=['accuracy'])\n",
    "\n",
    "# # 定義 EarlyStopping\n",
    "# early_stopping = EarlyStopping(patience=5, monitor='val_loss', restore_best_weights=True)\n",
    "\n",
    "# # 設置類別加權，例如給予類別0權重1，給予類別1權重100\n",
    "# class_weight = {0: 1, 1: 100}\n",
    "\n",
    "# # 訓練模型\n",
    "# history = model.fit(X_train, y_train, epochs=1, batch_size=2048, validation_data=(X_test, y_test), callbacks=[early_stopping], class_weight=class_weight)\n",
    "\n",
    "# # 預測\n",
    "# y_pred = model.predict(X_test)\n",
    "# y_pred_binary = [1 if pred > 0.5 else 0 for pred in y_pred]"
   ]
  },
  {
   "cell_type": "markdown",
   "id": "f7ebc302",
   "metadata": {
    "papermill": {
     "duration": 0.01062,
     "end_time": "2024-03-27T16:48:18.409778",
     "exception": false,
     "start_time": "2024-03-27T16:48:18.399158",
     "status": "completed"
    },
    "tags": []
   },
   "source": [
    "## 評估模型"
   ]
  },
  {
   "cell_type": "code",
   "execution_count": 18,
   "id": "c7d83f1f",
   "metadata": {
    "execution": {
     "iopub.execute_input": "2024-03-27T16:48:18.434702Z",
     "iopub.status.busy": "2024-03-27T16:48:18.433974Z",
     "iopub.status.idle": "2024-03-27T16:48:18.494341Z",
     "shell.execute_reply": "2024-03-27T16:48:18.493329Z"
    },
    "papermill": {
     "duration": 0.075822,
     "end_time": "2024-03-27T16:48:18.496760",
     "exception": false,
     "start_time": "2024-03-27T16:48:18.420938",
     "status": "completed"
    },
    "tags": []
   },
   "outputs": [
    {
     "name": "stdout",
     "output_type": "stream",
     "text": [
      "準確率: 0.5623364388150319\n",
      "分類報告:\n",
      "              precision    recall  f1-score   support\n",
      "\n",
      "           0       0.56      0.63      0.59      9553\n",
      "           1       0.57      0.50      0.53      9553\n",
      "\n",
      "    accuracy                           0.56     19106\n",
      "   macro avg       0.56      0.56      0.56     19106\n",
      "weighted avg       0.56      0.56      0.56     19106\n",
      "\n"
     ]
    }
   ],
   "source": [
    "from sklearn.metrics import accuracy_score, classification_report\n",
    "\n",
    "# 評估模型\n",
    "accuracy = accuracy_score(y_test, y_pred_binary)\n",
    "print(\"準確率:\", accuracy)\n",
    "\n",
    "# 顯示分類報告\n",
    "print(\"分類報告:\")\n",
    "print(classification_report(y_test, y_pred_binary))"
   ]
  },
  {
   "cell_type": "markdown",
   "id": "447aeb23",
   "metadata": {
    "papermill": {
     "duration": 0.010766,
     "end_time": "2024-03-27T16:48:18.518578",
     "exception": false,
     "start_time": "2024-03-27T16:48:18.507812",
     "status": "completed"
    },
    "tags": []
   },
   "source": [
    "## Submission"
   ]
  },
  {
   "cell_type": "code",
   "execution_count": 19,
   "id": "a8814890",
   "metadata": {
    "execution": {
     "iopub.execute_input": "2024-03-27T16:48:18.543497Z",
     "iopub.status.busy": "2024-03-27T16:48:18.542697Z",
     "iopub.status.idle": "2024-03-27T16:48:18.576490Z",
     "shell.execute_reply": "2024-03-27T16:48:18.575215Z"
    },
    "papermill": {
     "duration": 0.049389,
     "end_time": "2024-03-27T16:48:18.579059",
     "exception": false,
     "start_time": "2024-03-27T16:48:18.529670",
     "status": "completed"
    },
    "tags": []
   },
   "outputs": [
    {
     "data": {
      "text/html": [
       "<div>\n",
       "<style scoped>\n",
       "    .dataframe tbody tr th:only-of-type {\n",
       "        vertical-align: middle;\n",
       "    }\n",
       "\n",
       "    .dataframe tbody tr th {\n",
       "        vertical-align: top;\n",
       "    }\n",
       "\n",
       "    .dataframe thead th {\n",
       "        text-align: right;\n",
       "    }\n",
       "</style>\n",
       "<table border=\"1\" class=\"dataframe\">\n",
       "  <thead>\n",
       "    <tr style=\"text-align: right;\">\n",
       "      <th></th>\n",
       "      <th>case_id</th>\n",
       "      <th>year</th>\n",
       "      <th>month</th>\n",
       "      <th>day</th>\n",
       "      <th>MONTH</th>\n",
       "      <th>WEEK_NUM</th>\n",
       "    </tr>\n",
       "  </thead>\n",
       "  <tbody>\n",
       "    <tr>\n",
       "      <th>0</th>\n",
       "      <td>57543</td>\n",
       "      <td>2021</td>\n",
       "      <td>5</td>\n",
       "      <td>14</td>\n",
       "      <td>202201</td>\n",
       "      <td>100</td>\n",
       "    </tr>\n",
       "    <tr>\n",
       "      <th>1</th>\n",
       "      <td>57549</td>\n",
       "      <td>2022</td>\n",
       "      <td>1</td>\n",
       "      <td>17</td>\n",
       "      <td>202201</td>\n",
       "      <td>100</td>\n",
       "    </tr>\n",
       "    <tr>\n",
       "      <th>2</th>\n",
       "      <td>57551</td>\n",
       "      <td>2020</td>\n",
       "      <td>11</td>\n",
       "      <td>27</td>\n",
       "      <td>202201</td>\n",
       "      <td>100</td>\n",
       "    </tr>\n",
       "    <tr>\n",
       "      <th>3</th>\n",
       "      <td>57552</td>\n",
       "      <td>2020</td>\n",
       "      <td>11</td>\n",
       "      <td>27</td>\n",
       "      <td>202201</td>\n",
       "      <td>100</td>\n",
       "    </tr>\n",
       "    <tr>\n",
       "      <th>4</th>\n",
       "      <td>57569</td>\n",
       "      <td>2021</td>\n",
       "      <td>12</td>\n",
       "      <td>20</td>\n",
       "      <td>202201</td>\n",
       "      <td>100</td>\n",
       "    </tr>\n",
       "    <tr>\n",
       "      <th>5</th>\n",
       "      <td>57630</td>\n",
       "      <td>2021</td>\n",
       "      <td>3</td>\n",
       "      <td>16</td>\n",
       "      <td>202201</td>\n",
       "      <td>100</td>\n",
       "    </tr>\n",
       "    <tr>\n",
       "      <th>6</th>\n",
       "      <td>57631</td>\n",
       "      <td>2022</td>\n",
       "      <td>6</td>\n",
       "      <td>4</td>\n",
       "      <td>202201</td>\n",
       "      <td>100</td>\n",
       "    </tr>\n",
       "    <tr>\n",
       "      <th>7</th>\n",
       "      <td>57632</td>\n",
       "      <td>2022</td>\n",
       "      <td>2</td>\n",
       "      <td>5</td>\n",
       "      <td>202201</td>\n",
       "      <td>100</td>\n",
       "    </tr>\n",
       "    <tr>\n",
       "      <th>8</th>\n",
       "      <td>57633</td>\n",
       "      <td>2022</td>\n",
       "      <td>1</td>\n",
       "      <td>25</td>\n",
       "      <td>202201</td>\n",
       "      <td>100</td>\n",
       "    </tr>\n",
       "    <tr>\n",
       "      <th>9</th>\n",
       "      <td>57634</td>\n",
       "      <td>2021</td>\n",
       "      <td>1</td>\n",
       "      <td>27</td>\n",
       "      <td>202201</td>\n",
       "      <td>100</td>\n",
       "    </tr>\n",
       "  </tbody>\n",
       "</table>\n",
       "</div>"
      ],
      "text/plain": [
       "   case_id  year  month  day   MONTH  WEEK_NUM\n",
       "0    57543  2021      5   14  202201       100\n",
       "1    57549  2022      1   17  202201       100\n",
       "2    57551  2020     11   27  202201       100\n",
       "3    57552  2020     11   27  202201       100\n",
       "4    57569  2021     12   20  202201       100\n",
       "5    57630  2021      3   16  202201       100\n",
       "6    57631  2022      6    4  202201       100\n",
       "7    57632  2022      2    5  202201       100\n",
       "8    57633  2022      1   25  202201       100\n",
       "9    57634  2021      1   27  202201       100"
      ]
     },
     "execution_count": 19,
     "metadata": {},
     "output_type": "execute_result"
    }
   ],
   "source": [
    "submissionDir = os.path.join(projDir, \"csv_files/test/\")\n",
    "submission_path = os.path.join(submissionDir, 'test_base.csv')\n",
    "X_submission = pd.read_csv(submission_path)\n",
    "\n",
    "X_submission['date_decision'] = pd.to_datetime(X_submission['date_decision'])\n",
    "X_submission.insert(1, 'year', X_submission['date_decision'].dt.year)\n",
    "X_submission.insert(2, 'month', X_submission['date_decision'].dt.month)\n",
    "X_submission.insert(3, 'day', X_submission['date_decision'].dt.day)\n",
    "X_submission = X_submission.drop('date_decision', axis=1)\n",
    "X_submission"
   ]
  },
  {
   "cell_type": "code",
   "execution_count": 20,
   "id": "615c8afb",
   "metadata": {
    "execution": {
     "iopub.execute_input": "2024-03-27T16:48:18.605213Z",
     "iopub.status.busy": "2024-03-27T16:48:18.604690Z",
     "iopub.status.idle": "2024-03-27T16:48:18.619181Z",
     "shell.execute_reply": "2024-03-27T16:48:18.617645Z"
    },
    "papermill": {
     "duration": 0.031976,
     "end_time": "2024-03-27T16:48:18.622714",
     "exception": false,
     "start_time": "2024-03-27T16:48:18.590738",
     "status": "completed"
    },
    "tags": []
   },
   "outputs": [
    {
     "data": {
      "text/plain": [
       "[0, 0, 0, 0, 0, 0, 0, 0, 0, 0]"
      ]
     },
     "execution_count": 20,
     "metadata": {},
     "output_type": "execute_result"
    }
   ],
   "source": [
    "# LGBM\n",
    "y_submission_pred = bst.predict(X_submission, num_iteration=bst.best_iteration, predict_disable_shape_check=True)\n",
    "\n",
    "# # RNN, LSTM\n",
    "# X_submission_array = X_submission.to_numpy()\n",
    "# X_submission_rnn = X_submission_array.reshape(X_submission_array.shape[0], X_submission_array.shape[1], 1)\n",
    "# y_submission_pred = model.predict(X_submission_rnn)\n",
    "\n",
    "# 轉成0或1\n",
    "y_submission_pred_binary = [1 if pred > 0.5 else 0 for pred in y_submission_pred]\n",
    "y_submission_pred_binary"
   ]
  },
  {
   "cell_type": "code",
   "execution_count": 21,
   "id": "77f52ebe",
   "metadata": {
    "execution": {
     "iopub.execute_input": "2024-03-27T16:48:18.651173Z",
     "iopub.status.busy": "2024-03-27T16:48:18.650650Z",
     "iopub.status.idle": "2024-03-27T16:48:18.661850Z",
     "shell.execute_reply": "2024-03-27T16:48:18.660417Z"
    },
    "papermill": {
     "duration": 0.029179,
     "end_time": "2024-03-27T16:48:18.664308",
     "exception": false,
     "start_time": "2024-03-27T16:48:18.635129",
     "status": "completed"
    },
    "tags": []
   },
   "outputs": [],
   "source": [
    "submission = pd.DataFrame({\n",
    "    \"case_id\": X_submission[\"case_id\"].to_numpy(),\n",
    "    \"score\": y_submission_pred_binary\n",
    "}).set_index('case_id')\n",
    "submission.to_csv(\"./submission.csv\")"
   ]
  },
  {
   "cell_type": "code",
   "execution_count": 22,
   "id": "24c30dad",
   "metadata": {
    "execution": {
     "iopub.execute_input": "2024-03-27T16:48:18.690420Z",
     "iopub.status.busy": "2024-03-27T16:48:18.689517Z",
     "iopub.status.idle": "2024-03-27T16:48:18.702425Z",
     "shell.execute_reply": "2024-03-27T16:48:18.701500Z"
    },
    "papermill": {
     "duration": 0.028642,
     "end_time": "2024-03-27T16:48:18.704723",
     "exception": false,
     "start_time": "2024-03-27T16:48:18.676081",
     "status": "completed"
    },
    "tags": []
   },
   "outputs": [
    {
     "data": {
      "text/html": [
       "<div>\n",
       "<style scoped>\n",
       "    .dataframe tbody tr th:only-of-type {\n",
       "        vertical-align: middle;\n",
       "    }\n",
       "\n",
       "    .dataframe tbody tr th {\n",
       "        vertical-align: top;\n",
       "    }\n",
       "\n",
       "    .dataframe thead th {\n",
       "        text-align: right;\n",
       "    }\n",
       "</style>\n",
       "<table border=\"1\" class=\"dataframe\">\n",
       "  <thead>\n",
       "    <tr style=\"text-align: right;\">\n",
       "      <th></th>\n",
       "      <th>case_id</th>\n",
       "      <th>score</th>\n",
       "    </tr>\n",
       "  </thead>\n",
       "  <tbody>\n",
       "    <tr>\n",
       "      <th>0</th>\n",
       "      <td>57543</td>\n",
       "      <td>0</td>\n",
       "    </tr>\n",
       "    <tr>\n",
       "      <th>1</th>\n",
       "      <td>57549</td>\n",
       "      <td>0</td>\n",
       "    </tr>\n",
       "    <tr>\n",
       "      <th>2</th>\n",
       "      <td>57551</td>\n",
       "      <td>0</td>\n",
       "    </tr>\n",
       "    <tr>\n",
       "      <th>3</th>\n",
       "      <td>57552</td>\n",
       "      <td>0</td>\n",
       "    </tr>\n",
       "    <tr>\n",
       "      <th>4</th>\n",
       "      <td>57569</td>\n",
       "      <td>0</td>\n",
       "    </tr>\n",
       "    <tr>\n",
       "      <th>5</th>\n",
       "      <td>57630</td>\n",
       "      <td>0</td>\n",
       "    </tr>\n",
       "    <tr>\n",
       "      <th>6</th>\n",
       "      <td>57631</td>\n",
       "      <td>0</td>\n",
       "    </tr>\n",
       "    <tr>\n",
       "      <th>7</th>\n",
       "      <td>57632</td>\n",
       "      <td>0</td>\n",
       "    </tr>\n",
       "    <tr>\n",
       "      <th>8</th>\n",
       "      <td>57633</td>\n",
       "      <td>0</td>\n",
       "    </tr>\n",
       "    <tr>\n",
       "      <th>9</th>\n",
       "      <td>57634</td>\n",
       "      <td>0</td>\n",
       "    </tr>\n",
       "  </tbody>\n",
       "</table>\n",
       "</div>"
      ],
      "text/plain": [
       "   case_id  score\n",
       "0    57543      0\n",
       "1    57549      0\n",
       "2    57551      0\n",
       "3    57552      0\n",
       "4    57569      0\n",
       "5    57630      0\n",
       "6    57631      0\n",
       "7    57632      0\n",
       "8    57633      0\n",
       "9    57634      0"
      ]
     },
     "execution_count": 22,
     "metadata": {},
     "output_type": "execute_result"
    }
   ],
   "source": [
    "pd.read_csv(\"./submission.csv\")"
   ]
  }
 ],
 "metadata": {
  "kaggle": {
   "accelerator": "none",
   "dataSources": [
    {
     "databundleVersionId": 7921029,
     "sourceId": 50160,
     "sourceType": "competition"
    }
   ],
   "dockerImageVersionId": 30664,
   "isGpuEnabled": false,
   "isInternetEnabled": false,
   "language": "python",
   "sourceType": "notebook"
  },
  "kernelspec": {
   "display_name": "Python 3",
   "language": "python",
   "name": "python3"
  },
  "language_info": {
   "codemirror_mode": {
    "name": "ipython",
    "version": 3
   },
   "file_extension": ".py",
   "mimetype": "text/x-python",
   "name": "python",
   "nbconvert_exporter": "python",
   "pygments_lexer": "ipython3",
   "version": "3.10.13"
  },
  "papermill": {
   "default_parameters": {},
   "duration": 12.751052,
   "end_time": "2024-03-27T16:48:19.741000",
   "environment_variables": {},
   "exception": null,
   "input_path": "__notebook__.ipynb",
   "output_path": "__notebook__.ipynb",
   "parameters": {},
   "start_time": "2024-03-27T16:48:06.989948",
   "version": "2.5.0"
  }
 },
 "nbformat": 4,
 "nbformat_minor": 5
}
