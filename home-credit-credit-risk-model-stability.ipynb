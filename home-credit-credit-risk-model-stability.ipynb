{
 "cells": [
  {
   "cell_type": "code",
   "execution_count": 1,
   "id": "d221ad4e",
   "metadata": {
    "_cell_guid": "b1076dfc-b9ad-4769-8c92-a6c4dae69d19",
    "_uuid": "8f2839f25d086af736a60e9eeb907d3b93b6e0e5",
    "execution": {
     "iopub.execute_input": "2024-03-27T09:30:32.183043Z",
     "iopub.status.busy": "2024-03-27T09:30:32.182602Z",
     "iopub.status.idle": "2024-03-27T09:30:33.415463Z",
     "shell.execute_reply": "2024-03-27T09:30:33.414048Z"
    },
    "papermill": {
     "duration": 1.246141,
     "end_time": "2024-03-27T09:30:33.418374",
     "exception": false,
     "start_time": "2024-03-27T09:30:32.172233",
     "status": "completed"
    },
    "tags": []
   },
   "outputs": [],
   "source": [
    "import numpy as np\n",
    "import pandas as pd\n",
    "import os\n",
    "\n",
    "import polars as pl"
   ]
  },
  {
   "cell_type": "markdown",
   "id": "ea0a401a",
   "metadata": {
    "papermill": {
     "duration": 0.007761,
     "end_time": "2024-03-27T09:30:33.434409",
     "exception": false,
     "start_time": "2024-03-27T09:30:33.426648",
     "status": "completed"
    },
    "tags": []
   },
   "source": [
    "## 資料探索與前處理"
   ]
  },
  {
   "cell_type": "markdown",
   "id": "f8ae9165",
   "metadata": {
    "papermill": {
     "duration": 0.007579,
     "end_time": "2024-03-27T09:30:33.449880",
     "exception": false,
     "start_time": "2024-03-27T09:30:33.442301",
     "status": "completed"
    },
    "tags": []
   },
   "source": [
    "### 資料概覽\n",
    "##### 列出主要的數據特徵及統計摘要"
   ]
  },
  {
   "cell_type": "code",
   "execution_count": 2,
   "id": "74b0090f",
   "metadata": {
    "execution": {
     "iopub.execute_input": "2024-03-27T09:30:33.467757Z",
     "iopub.status.busy": "2024-03-27T09:30:33.467173Z",
     "iopub.status.idle": "2024-03-27T09:30:33.481764Z",
     "shell.execute_reply": "2024-03-27T09:30:33.480479Z"
    },
    "papermill": {
     "duration": 0.0265,
     "end_time": "2024-03-27T09:30:33.484399",
     "exception": false,
     "start_time": "2024-03-27T09:30:33.457899",
     "status": "completed"
    },
    "tags": []
   },
   "outputs": [
    {
     "name": "stdout",
     "output_type": "stream",
     "text": [
      "目錄下有 32 個訓練資料文件\n"
     ]
    }
   ],
   "source": [
    "# 訓練資料的目錄\n",
    "projDir = \"/kaggle/input/home-credit-credit-risk-model-stability/\"\n",
    "trainDir = os.path.join(projDir, \"csv_files/train/\")\n",
    "\n",
    "# 列出目錄下所有文件\n",
    "files = os.listdir(trainDir)\n",
    "\n",
    "# 依檔名排序\n",
    "files = sorted(files)\n",
    "\n",
    "# # 印出文件名稱\n",
    "# for file in files:\n",
    "#     print(file)\n",
    "    \n",
    "# 計算文件數量\n",
    "num_files = len(files)\n",
    "print(\"目錄下有\", num_files, \"個訓練資料文件\")\n",
    "\n",
    "del num_files"
   ]
  },
  {
   "cell_type": "code",
   "execution_count": 3,
   "id": "ca08e0f4",
   "metadata": {
    "execution": {
     "iopub.execute_input": "2024-03-27T09:30:33.503067Z",
     "iopub.status.busy": "2024-03-27T09:30:33.502393Z",
     "iopub.status.idle": "2024-03-27T09:30:33.507458Z",
     "shell.execute_reply": "2024-03-27T09:30:33.506636Z"
    },
    "papermill": {
     "duration": 0.017127,
     "end_time": "2024-03-27T09:30:33.509717",
     "exception": false,
     "start_time": "2024-03-27T09:30:33.492590",
     "status": "completed"
    },
    "tags": []
   },
   "outputs": [],
   "source": [
    "# # 遍歷每個文件，僅顯示前幾行資料概況\n",
    "# for file in files:\n",
    "#     # 組合完整的檔案路徑\n",
    "#     file_path = os.path.join(trainDir, file)\n",
    "    \n",
    "#     # 讀取文件的前幾行\n",
    "#     df_head = pd.read_csv(file_path, nrows=3)\n",
    "    \n",
    "#     print(\"文件名稱:\", file)\n",
    "#     print(\"前3行資料:\")\n",
    "#     display(df_head)\n",
    "#     print(\"\\n\")\n",
    "    \n",
    "del files"
   ]
  },
  {
   "cell_type": "markdown",
   "id": "7ae67625",
   "metadata": {
    "papermill": {
     "duration": 0.007753,
     "end_time": "2024-03-27T09:30:33.525466",
     "exception": false,
     "start_time": "2024-03-27T09:30:33.517713",
     "status": "completed"
    },
    "tags": []
   },
   "source": [
    "### 特徵工程\n",
    "##### 提取、轉換或建立新特徵以優化模型"
   ]
  },
  {
   "cell_type": "code",
   "execution_count": 4,
   "id": "52bc5df5",
   "metadata": {
    "execution": {
     "iopub.execute_input": "2024-03-27T09:30:33.543900Z",
     "iopub.status.busy": "2024-03-27T09:30:33.543196Z",
     "iopub.status.idle": "2024-03-27T09:31:51.466692Z",
     "shell.execute_reply": "2024-03-27T09:31:51.465557Z"
    },
    "papermill": {
     "duration": 77.945157,
     "end_time": "2024-03-27T09:31:51.478788",
     "exception": false,
     "start_time": "2024-03-27T09:30:33.533631",
     "status": "completed"
    },
    "tags": []
   },
   "outputs": [
    {
     "name": "stderr",
     "output_type": "stream",
     "text": [
      "/tmp/ipykernel_18/1851206736.py:5: DtypeWarning: Columns (20,45,46,53,57,84,143,146,167) have mixed types. Specify dtype option on import or set low_memory=False.\n",
      "  pd.read_csv(trainDir + 'train_static_0_0.csv'),\n",
      "/tmp/ipykernel_18/1851206736.py:6: DtypeWarning: Columns (20,45,46,56,57,84,143,146,167) have mixed types. Specify dtype option on import or set low_memory=False.\n",
      "  pd.read_csv(trainDir + 'train_static_0_1.csv')\n"
     ]
    },
    {
     "name": "stdout",
     "output_type": "stream",
     "text": [
      "[Int64, String, Int64, Int64, Float64, Float64, Float64, Float64, Float64, Float64, Float64, Float64, Float64, Float64, Float64, Float64, Float64, Float64, Float64, Float64, Float64, Float64, Float64, String, String, Float64, Float64, Float64, Float64, Float64, Float64, Float64, Float64, Float64, Float64, Float64, Float64, Float64, Float64, Float64, Float64, Float64, Float64, Float64, Float64, String, Float64, Float64, String, String, String, Float64, Float64, Float64, String, Float64, String, Float64, Boolean, Boolean, String, String, Float64, Float64, String, Float64, Float64, Boolean, Boolean, Boolean, String, String, String, String, Float64, String, String, String, Float64, Float64, Float64, String, String, Float64, String, String, String, String, String, Float64, Float64, Float64, Float64, Float64, Float64, Float64, Float64, Float64, Float64, String, Float64, Float64, Float64, Float64, Float64, Float64, Float64, Float64, Float64, Float64, Float64, Float64, Float64, Float64, Float64, Float64, Float64, Float64, Float64, Float64, Float64, Float64, Float64, Float64, Float64, Float64, Float64, Float64, Float64, Float64, Float64, Float64, Float64, Float64, Float64, Float64, Float64, Float64, Float64, Float64, Float64, Float64, Float64, Float64, Float64, Float64, Boolean, String, String, String, Float64, Float64, Float64, Float64, Float64, Float64, Float64, Float64, Float64, String, Float64, Float64, Float64, Float64, Float64, Float64, Float64, Float64, String, String, String, String, String, String, String, String, String, String, Float64, Float64, Float64, Float64, Float64, String, String, String, Float64, Float64, Float64, Float64, Float64, Float64, Float64, Float64, Float64, Float64, Float64, Float64, Float64, Float64, Float64, Float64, Float64, Float64, String, String, Float64, Float64, String, String, String, String, Float64, Float64, Float64, String, String, String, String, String, Float64, Float64, Float64, String, String, Float64, String, Boolean, Boolean, String, String, String, String, String, String, String, String, String, String, String, String, Boolean, String, Float64, String, Int64, Float64, Float64, Float64, String, String, String, String, Boolean, String, String, Boolean, String, String, Int64, Int64, String, Float64, Float64]\n"
     ]
    },
    {
     "name": "stderr",
     "output_type": "stream",
     "text": [
      "/tmp/ipykernel_18/1851206736.py:33: DeprecationWarning: named `columns` param is deprecated; use positional `*args` instead.\n",
      "  X = train_data.drop(columns=['target'])\n"
     ]
    }
   ],
   "source": [
    "# 讀取訓練數據\n",
    "train_base = pl.read_csv(trainDir + 'train_base.csv')\n",
    "\n",
    "static_dfs = [\n",
    "    pd.read_csv(trainDir + 'train_static_0_0.csv'),\n",
    "    pd.read_csv(trainDir + 'train_static_0_1.csv')\n",
    "]\n",
    "pd_df = pd.concat(static_dfs, ignore_index=True)\n",
    "del static_dfs\n",
    "train_static = pl.from_pandas(pd_df)\n",
    "\n",
    "train_static_cb = pl.read_csv(trainDir + 'train_static_cb_0.csv')\n",
    "train_person_1 = pl.read_csv(trainDir + 'train_person_1.csv') \n",
    "train_credit_bureau_b_2 = pl.read_csv(trainDir + 'train_credit_bureau_b_2.csv') \n",
    "\n",
    "# Merge all dataframes using join with how='inner'\n",
    "train_data = train_base.join(\n",
    "    train_static, on='case_id', how='inner'\n",
    ").join(\n",
    "    train_static_cb, on='case_id', how='inner'\n",
    ").join(\n",
    "    train_person_1, on='case_id', how='inner'\n",
    ").join(\n",
    "    train_credit_bureau_b_2, on='case_id', how='inner'\n",
    ")\n",
    "del train_base\n",
    "del train_static\n",
    "del train_static_cb\n",
    "del train_person_1\n",
    "del train_credit_bureau_b_2\n",
    "\n",
    "# 將目標變量和特徵變量分開\n",
    "X = train_data.drop(columns=['target'])\n",
    "y = train_data['target']\n",
    "del train_data\n",
    "\n",
    "print(X.dtypes)"
   ]
  },
  {
   "cell_type": "code",
   "execution_count": 5,
   "id": "6c3b2a76",
   "metadata": {
    "execution": {
     "iopub.execute_input": "2024-03-27T09:31:51.498600Z",
     "iopub.status.busy": "2024-03-27T09:31:51.497476Z",
     "iopub.status.idle": "2024-03-27T09:31:51.502668Z",
     "shell.execute_reply": "2024-03-27T09:31:51.501490Z"
    },
    "papermill": {
     "duration": 0.017525,
     "end_time": "2024-03-27T09:31:51.504974",
     "exception": false,
     "start_time": "2024-03-27T09:31:51.487449",
     "status": "completed"
    },
    "tags": []
   },
   "outputs": [],
   "source": [
    "# # X存在非數字的數字，無法輸入model訓練\n",
    "# X.dtypes"
   ]
  },
  {
   "cell_type": "code",
   "execution_count": 6,
   "id": "379eee42",
   "metadata": {
    "execution": {
     "iopub.execute_input": "2024-03-27T09:31:51.525654Z",
     "iopub.status.busy": "2024-03-27T09:31:51.524853Z",
     "iopub.status.idle": "2024-03-27T09:31:51.822983Z",
     "shell.execute_reply": "2024-03-27T09:31:51.821698Z"
    },
    "papermill": {
     "duration": 0.312282,
     "end_time": "2024-03-27T09:31:51.825786",
     "exception": false,
     "start_time": "2024-03-27T09:31:51.513504",
     "status": "completed"
    },
    "tags": []
   },
   "outputs": [],
   "source": [
    "for col in X.columns:\n",
    "    if not (X[col].dtype in (pl.Int64, pl.Float64)):\n",
    "        X = X.drop(col)"
   ]
  },
  {
   "cell_type": "code",
   "execution_count": 7,
   "id": "e496de23",
   "metadata": {
    "execution": {
     "iopub.execute_input": "2024-03-27T09:31:51.845157Z",
     "iopub.status.busy": "2024-03-27T09:31:51.844400Z",
     "iopub.status.idle": "2024-03-27T09:31:51.849398Z",
     "shell.execute_reply": "2024-03-27T09:31:51.848199Z"
    },
    "papermill": {
     "duration": 0.017248,
     "end_time": "2024-03-27T09:31:51.851829",
     "exception": false,
     "start_time": "2024-03-27T09:31:51.834581",
     "status": "completed"
    },
    "tags": []
   },
   "outputs": [],
   "source": [
    "# X.dtypes"
   ]
  },
  {
   "cell_type": "code",
   "execution_count": 8,
   "id": "aad0ccc3",
   "metadata": {
    "execution": {
     "iopub.execute_input": "2024-03-27T09:31:51.871070Z",
     "iopub.status.busy": "2024-03-27T09:31:51.870680Z",
     "iopub.status.idle": "2024-03-27T09:31:59.386050Z",
     "shell.execute_reply": "2024-03-27T09:31:59.384916Z"
    },
    "papermill": {
     "duration": 7.528095,
     "end_time": "2024-03-27T09:31:59.388789",
     "exception": false,
     "start_time": "2024-03-27T09:31:51.860694",
     "status": "completed"
    },
    "tags": []
   },
   "outputs": [],
   "source": [
    "from sklearn.model_selection import train_test_split\n",
    "\n",
    "# 將數據劃分為訓練集和測試集\n",
    "X_train, X_test, y_train, y_test = train_test_split(X, y, test_size=0.2, random_state=42)\n",
    "del X\n",
    "del y"
   ]
  },
  {
   "cell_type": "markdown",
   "id": "5ec190a9",
   "metadata": {
    "papermill": {
     "duration": 0.008243,
     "end_time": "2024-03-27T09:31:59.406019",
     "exception": false,
     "start_time": "2024-03-27T09:31:59.397776",
     "status": "completed"
    },
    "tags": []
   },
   "source": [
    "## 數據分析方法與模型選擇"
   ]
  },
  {
   "cell_type": "markdown",
   "id": "d22404a8",
   "metadata": {
    "papermill": {
     "duration": 0.009172,
     "end_time": "2024-03-27T09:31:59.423913",
     "exception": false,
     "start_time": "2024-03-27T09:31:59.414741",
     "status": "completed"
    },
    "tags": []
   },
   "source": [
    "### 梯度提升樹（Gradient Boosting Decision Tree，GBDT）"
   ]
  },
  {
   "cell_type": "code",
   "execution_count": 9,
   "id": "0c43b97e",
   "metadata": {
    "execution": {
     "iopub.execute_input": "2024-03-27T09:31:59.443383Z",
     "iopub.status.busy": "2024-03-27T09:31:59.442722Z",
     "iopub.status.idle": "2024-03-27T09:32:00.333344Z",
     "shell.execute_reply": "2024-03-27T09:32:00.332118Z"
    },
    "papermill": {
     "duration": 0.903452,
     "end_time": "2024-03-27T09:32:00.336097",
     "exception": false,
     "start_time": "2024-03-27T09:31:59.432645",
     "status": "completed"
    },
    "tags": []
   },
   "outputs": [],
   "source": [
    "import lightgbm as lgb\n",
    "from sklearn.metrics import accuracy_score, classification_report\n",
    "\n",
    "# 取得最後三十萬筆資料(ram不夠，sample不work)\n",
    "X_train = X_train.tail(300000)\n",
    "y_train = y_train.tail(300000)\n",
    "\n",
    "y_train = y_train.to_numpy()\n",
    "y_test = y_test.to_numpy()"
   ]
  },
  {
   "cell_type": "code",
   "execution_count": 10,
   "id": "05ae0392",
   "metadata": {
    "execution": {
     "iopub.execute_input": "2024-03-27T09:32:00.357149Z",
     "iopub.status.busy": "2024-03-27T09:32:00.356531Z",
     "iopub.status.idle": "2024-03-27T09:32:00.371869Z",
     "shell.execute_reply": "2024-03-27T09:32:00.370798Z"
    },
    "papermill": {
     "duration": 0.027921,
     "end_time": "2024-03-27T09:32:00.374354",
     "exception": false,
     "start_time": "2024-03-27T09:32:00.346433",
     "status": "completed"
    },
    "tags": []
   },
   "outputs": [
    {
     "data": {
      "text/plain": [
       "(array([0, 1]), array([279555,  20445]))"
      ]
     },
     "execution_count": 10,
     "metadata": {},
     "output_type": "execute_result"
    }
   ],
   "source": [
    "# 看target值的分布\n",
    "np.unique(y_train, return_counts=True)"
   ]
  },
  {
   "cell_type": "code",
   "execution_count": 11,
   "id": "7409f643",
   "metadata": {
    "execution": {
     "iopub.execute_input": "2024-03-27T09:32:00.394126Z",
     "iopub.status.busy": "2024-03-27T09:32:00.393125Z",
     "iopub.status.idle": "2024-03-27T09:32:08.517359Z",
     "shell.execute_reply": "2024-03-27T09:32:08.516013Z"
    },
    "papermill": {
     "duration": 8.137148,
     "end_time": "2024-03-27T09:32:08.520103",
     "exception": false,
     "start_time": "2024-03-27T09:32:00.382955",
     "status": "completed"
    },
    "tags": []
   },
   "outputs": [
    {
     "name": "stdout",
     "output_type": "stream",
     "text": [
      "合成後的資料量： 559110\n",
      "合成後的目標資料分佈： {0: 279555, 1: 279555}\n"
     ]
    }
   ],
   "source": [
    "# 過取樣: 增加target=1的data\n",
    "\n",
    "from sklearn.impute import SimpleImputer\n",
    "from imblearn.over_sampling import SMOTE\n",
    "\n",
    "# 創建 SimpleImputer 對象，用於填補NaN值\n",
    "imputer = SimpleImputer(strategy='mean')\n",
    "\n",
    "# 填補NaN值\n",
    "X_train = imputer.fit_transform(X_train)\n",
    "\n",
    "# 設置合成目標樣本數量\n",
    "synthetic_target_count = 279555\n",
    "\n",
    "# 初始化 SMOTE\n",
    "smote = SMOTE(sampling_strategy={1: synthetic_target_count})\n",
    "\n",
    "# 使用 SMOTE 生成合成少數類樣本\n",
    "X_train, y_train = smote.fit_resample(X_train, y_train)\n",
    "\n",
    "# 檢查合成後的資料量\n",
    "print(\"合成後的資料量：\", len(X_train))\n",
    "\n",
    "# 檢查合成後的目標資料分佈\n",
    "unique, counts = np.unique(y_train, return_counts=True)\n",
    "print(\"合成後的目標資料分佈：\", dict(zip(unique, counts)))"
   ]
  },
  {
   "cell_type": "code",
   "execution_count": 12,
   "id": "0d1b1ea4",
   "metadata": {
    "execution": {
     "iopub.execute_input": "2024-03-27T09:32:08.539998Z",
     "iopub.status.busy": "2024-03-27T09:32:08.539394Z",
     "iopub.status.idle": "2024-03-27T09:32:08.549000Z",
     "shell.execute_reply": "2024-03-27T09:32:08.547761Z"
    },
    "papermill": {
     "duration": 0.022561,
     "end_time": "2024-03-27T09:32:08.551533",
     "exception": false,
     "start_time": "2024-03-27T09:32:08.528972",
     "status": "completed"
    },
    "tags": []
   },
   "outputs": [],
   "source": [
    "# 創建 LightGBM 的訓練資料集\n",
    "lgb_train = lgb.Dataset(X_train, y_train)\n",
    "lgb_test = lgb.Dataset(X_test, y_test, reference=lgb_train)\n",
    "del X_train\n",
    "del y_train\n",
    "\n",
    "# 設置參數\n",
    "params = {\n",
    "    'boosting_type': 'gbdt',         # 使用梯度提升樹\n",
    "    'objective': 'binary',           # 二元分類任務\n",
    "    'metric': 'binary_error',        # 評估指標為二元分類錯誤率\n",
    "    'num_leaves': 31,                # 每棵樹的最大葉子數量\n",
    "    'learning_rate': 0.05,           # 學習速率\n",
    "    'feature_fraction': 0.9,         # 特徵抽樣比例\n",
    "    'bagging_fraction': 0.8,         # 樣本抽樣比例\n",
    "    'bagging_freq': 5,               # 樣本抽樣的頻率\n",
    "    'verbose': 0,                    # 顯示訓練信息\n",
    "    'early_stopping_rounds': 10\n",
    "}"
   ]
  },
  {
   "cell_type": "code",
   "execution_count": 13,
   "id": "f43af73b",
   "metadata": {
    "execution": {
     "iopub.execute_input": "2024-03-27T09:32:08.570945Z",
     "iopub.status.busy": "2024-03-27T09:32:08.570499Z",
     "iopub.status.idle": "2024-03-27T09:32:49.535036Z",
     "shell.execute_reply": "2024-03-27T09:32:49.533819Z"
    },
    "papermill": {
     "duration": 40.977669,
     "end_time": "2024-03-27T09:32:49.538041",
     "exception": false,
     "start_time": "2024-03-27T09:32:08.560372",
     "status": "completed"
    },
    "tags": []
   },
   "outputs": [],
   "source": [
    "# 訓練模型\n",
    "num_round = 100                      # 迭代輪次\n",
    "bst = lgb.train(params, lgb_train, num_round, valid_sets=[lgb_train, lgb_test])"
   ]
  },
  {
   "cell_type": "code",
   "execution_count": 14,
   "id": "2d995df6",
   "metadata": {
    "execution": {
     "iopub.execute_input": "2024-03-27T09:32:49.559743Z",
     "iopub.status.busy": "2024-03-27T09:32:49.559271Z",
     "iopub.status.idle": "2024-03-27T09:32:58.747405Z",
     "shell.execute_reply": "2024-03-27T09:32:58.746048Z"
    },
    "papermill": {
     "duration": 9.200887,
     "end_time": "2024-03-27T09:32:58.749964",
     "exception": false,
     "start_time": "2024-03-27T09:32:49.549077",
     "status": "completed"
    },
    "tags": []
   },
   "outputs": [
    {
     "name": "stderr",
     "output_type": "stream",
     "text": [
      "/opt/conda/lib/python3.10/site-packages/lightgbm/basic.py:1192: UserWarning: Converting data to scipy sparse matrix.\n",
      "  _log_warning('Converting data to scipy sparse matrix.')\n"
     ]
    },
    {
     "name": "stdout",
     "output_type": "stream",
     "text": [
      "準確率: 0.9024463121176008\n",
      "分類報告:\n",
      "              precision    recall  f1-score   support\n",
      "\n",
      "           0       0.95      0.95      0.95    536211\n",
      "           1       0.29      0.28      0.28     39431\n",
      "\n",
      "    accuracy                           0.90    575642\n",
      "   macro avg       0.62      0.61      0.62    575642\n",
      "weighted avg       0.90      0.90      0.90    575642\n",
      "\n"
     ]
    }
   ],
   "source": [
    "# 預測\n",
    "y_pred = bst.predict(X_test, num_iteration=bst.best_iteration)\n",
    "y_pred_binary = [1 if pred > 0.5 else 0 for pred in y_pred]\n",
    "\n",
    "# 評估模型\n",
    "accuracy = accuracy_score(y_test, y_pred_binary)\n",
    "print(\"準確率:\", accuracy)\n",
    "\n",
    "# 顯示分類報告\n",
    "print(\"分類報告:\")\n",
    "print(classification_report(y_test, y_pred_binary))"
   ]
  },
  {
   "cell_type": "markdown",
   "id": "fbdd4e7f",
   "metadata": {
    "papermill": {
     "duration": 0.008774,
     "end_time": "2024-03-27T09:32:58.767849",
     "exception": false,
     "start_time": "2024-03-27T09:32:58.759075",
     "status": "completed"
    },
    "tags": []
   },
   "source": [
    "## Submission"
   ]
  },
  {
   "cell_type": "code",
   "execution_count": 15,
   "id": "fcb1d73a",
   "metadata": {
    "execution": {
     "iopub.execute_input": "2024-03-27T09:32:58.788140Z",
     "iopub.status.busy": "2024-03-27T09:32:58.787681Z",
     "iopub.status.idle": "2024-03-27T09:32:59.503611Z",
     "shell.execute_reply": "2024-03-27T09:32:59.502483Z"
    },
    "papermill": {
     "duration": 0.729114,
     "end_time": "2024-03-27T09:32:59.506210",
     "exception": false,
     "start_time": "2024-03-27T09:32:58.777096",
     "status": "completed"
    },
    "tags": []
   },
   "outputs": [
    {
     "data": {
      "text/html": [
       "<div><style>\n",
       ".dataframe > thead > tr,\n",
       ".dataframe > tbody > tr {\n",
       "  text-align: right;\n",
       "  white-space: pre-wrap;\n",
       "}\n",
       "</style>\n",
       "<small>shape: (10, 153)</small><table border=\"1\" class=\"dataframe\"><thead><tr><th>case_id</th><th>MONTH</th><th>WEEK_NUM</th><th>actualdpdtolerance_344P</th><th>amtinstpaidbefduel24m_4187115A</th><th>annuity_780A</th><th>annuitynextmonth_57A</th><th>applicationcnt_361L</th><th>applications30d_658L</th><th>applicationscnt_1086L</th><th>applicationscnt_464L</th><th>applicationscnt_629L</th><th>applicationscnt_867L</th><th>avgdbddpdlast24m_3658932P</th><th>avgdbddpdlast3m_4187120P</th><th>avgdbdtollast24m_4525197P</th><th>avgdpdtolclosure24_3658938P</th><th>avginstallast24m_3658937A</th><th>avglnamtstart24m_4525187A</th><th>avgmaxdpdlast9m_3716943P</th><th>avgoutstandbalancel6m_4187114A</th><th>avgpmtlast12m_4525200A</th><th>clientscnt12m_3712952L</th><th>clientscnt3m_3712950L</th><th>clientscnt6m_3712949L</th><th>clientscnt_100L</th><th>clientscnt_1022L</th><th>clientscnt_1071L</th><th>clientscnt_1130L</th><th>clientscnt_136L</th><th>clientscnt_157L</th><th>clientscnt_257L</th><th>clientscnt_304L</th><th>clientscnt_360L</th><th>clientscnt_493L</th><th>clientscnt_533L</th><th>clientscnt_887L</th><th>&hellip;</th><th>pctinstlsallpaidearl3d_427L</th><th>pctinstlsallpaidlat10d_839L</th><th>pctinstlsallpaidlate1d_3546856L</th><th>pctinstlsallpaidlate4d_3546849L</th><th>pctinstlsallpaidlate6d_3546844L</th><th>pmtnum_254L</th><th>posfpd10lastmonth_333P</th><th>posfpd30lastmonth_3976960P</th><th>posfstqpd30lastmonth_3976962P</th><th>price_1097A</th><th>sellerplacecnt_915L</th><th>sellerplacescnt_216L</th><th>sumoutstandtotal_3546847A</th><th>sumoutstandtotalest_4493215A</th><th>totaldebt_9A</th><th>totalsettled_863A</th><th>totinstallast1m_4525188A</th><th>validfrom_1069D</th><th>contractssum_5085716L</th><th>days120_123L</th><th>days180_256L</th><th>days30_165L</th><th>days360_512L</th><th>days90_310L</th><th>firstquarter_103L</th><th>fourthquarter_440L</th><th>numberofqueries_373L</th><th>pmtaverage_4955615A</th><th>pmtcount_4955617L</th><th>secondquarter_766L</th><th>thirdquarter_1082L</th><th>childnum_185L</th><th>mainoccupationinc_384A</th><th>num_group1</th><th>personindex_1023L</th><th>persontype_1072L</th><th>persontype_792L</th></tr><tr><td>i64</td><td>i64</td><td>i64</td><td>f64</td><td>f64</td><td>f64</td><td>f64</td><td>f64</td><td>f64</td><td>f64</td><td>f64</td><td>f64</td><td>f64</td><td>f64</td><td>f64</td><td>f64</td><td>f64</td><td>f64</td><td>f64</td><td>f64</td><td>f64</td><td>f64</td><td>f64</td><td>f64</td><td>f64</td><td>f64</td><td>f64</td><td>f64</td><td>f64</td><td>f64</td><td>f64</td><td>f64</td><td>f64</td><td>f64</td><td>f64</td><td>f64</td><td>f64</td><td>&hellip;</td><td>f64</td><td>f64</td><td>f64</td><td>f64</td><td>f64</td><td>f64</td><td>f64</td><td>f64</td><td>f64</td><td>f64</td><td>f64</td><td>f64</td><td>f64</td><td>f64</td><td>f64</td><td>f64</td><td>f64</td><td>f64</td><td>f64</td><td>f64</td><td>f64</td><td>f64</td><td>f64</td><td>f64</td><td>f64</td><td>f64</td><td>f64</td><td>f64</td><td>f64</td><td>f64</td><td>f64</td><td>f64</td><td>f64</td><td>i64</td><td>f64</td><td>f64</td><td>f64</td></tr></thead><tbody><tr><td>57543</td><td>202201</td><td>100</td><td>0.0</td><td>191767.36</td><td>3674.6</td><td>1218.2001</td><td>0.0</td><td>0.0</td><td>0.0</td><td>0.0</td><td>0.0</td><td>9.0</td><td>1.0</td><td>2.0</td><td>1.0</td><td>1.0</td><td>16049.4</td><td>17054.4</td><td>2.0</td><td>14554.4</td><td>24482.0</td><td>0.0</td><td>0.0</td><td>0.0</td><td>0.0</td><td>0.0</td><td>0.0</td><td>0.0</td><td>null</td><td>0.0</td><td>0.0</td><td>0.0</td><td>0.0</td><td>0.0</td><td>0.0</td><td>0.0</td><td>&hellip;</td><td>0.35417</td><td>0.0</td><td>0.32292</td><td>0.07292</td><td>0.05208</td><td>6.0</td><td>0.0</td><td>0.0</td><td>0.0</td><td>0.0</td><td>0.0</td><td>5.0</td><td>12154.4</td><td>12154.4</td><td>12154.4</td><td>456031.1</td><td>17859.6</td><td>null</td><td>151364.0</td><td>2.0</td><td>4.0</td><td>1.0</td><td>8.0</td><td>2.0</td><td>4.0</td><td>9.0</td><td>8.0</td><td>null</td><td>null</td><td>2.0</td><td>3.0</td><td>null</td><td>34000.0</td><td>0</td><td>0.0</td><td>1.0</td><td>1.0</td></tr><tr><td>57543</td><td>202201</td><td>100</td><td>0.0</td><td>191767.36</td><td>3674.6</td><td>1218.2001</td><td>0.0</td><td>0.0</td><td>0.0</td><td>0.0</td><td>0.0</td><td>9.0</td><td>1.0</td><td>2.0</td><td>1.0</td><td>1.0</td><td>16049.4</td><td>17054.4</td><td>2.0</td><td>14554.4</td><td>24482.0</td><td>0.0</td><td>0.0</td><td>0.0</td><td>0.0</td><td>0.0</td><td>0.0</td><td>0.0</td><td>null</td><td>0.0</td><td>0.0</td><td>0.0</td><td>0.0</td><td>0.0</td><td>0.0</td><td>0.0</td><td>&hellip;</td><td>0.35417</td><td>0.0</td><td>0.32292</td><td>0.07292</td><td>0.05208</td><td>6.0</td><td>0.0</td><td>0.0</td><td>0.0</td><td>0.0</td><td>0.0</td><td>5.0</td><td>12154.4</td><td>12154.4</td><td>12154.4</td><td>456031.1</td><td>17859.6</td><td>null</td><td>151364.0</td><td>2.0</td><td>4.0</td><td>1.0</td><td>8.0</td><td>2.0</td><td>4.0</td><td>9.0</td><td>8.0</td><td>null</td><td>null</td><td>2.0</td><td>3.0</td><td>null</td><td>null</td><td>1</td><td>1.0</td><td>5.0</td><td>5.0</td></tr><tr><td>57549</td><td>202201</td><td>100</td><td>0.0</td><td>129704.4</td><td>5742.6</td><td>3546.6</td><td>0.0</td><td>2.0</td><td>0.0</td><td>0.0</td><td>0.0</td><td>10.0</td><td>0.0</td><td>0.0</td><td>-1.0</td><td>0.0</td><td>32426.201</td><td>118964.805</td><td>0.0</td><td>13681.714</td><td>32426.201</td><td>0.0</td><td>0.0</td><td>0.0</td><td>0.0</td><td>0.0</td><td>0.0</td><td>0.0</td><td>null</td><td>0.0</td><td>0.0</td><td>0.0</td><td>0.0</td><td>0.0</td><td>0.0</td><td>0.0</td><td>&hellip;</td><td>0.34091</td><td>0.11628</td><td>0.29545</td><td>0.18605</td><td>0.13953</td><td>18.0</td><td>0.0</td><td>0.0</td><td>0.0</td><td>null</td><td>2.0</td><td>7.0</td><td>10638.2</td><td>10638.2</td><td>10638.2</td><td>373720.84</td><td>126058.0</td><td>null</td><td>1.5631e6</td><td>6.0</td><td>9.0</td><td>3.0</td><td>12.0</td><td>4.0</td><td>9.0</td><td>5.0</td><td>12.0</td><td>26815.6</td><td>14.0</td><td>8.0</td><td>2.0</td><td>null</td><td>49800.0</td><td>0</td><td>0.0</td><td>1.0</td><td>1.0</td></tr><tr><td>57549</td><td>202201</td><td>100</td><td>0.0</td><td>129704.4</td><td>5742.6</td><td>3546.6</td><td>0.0</td><td>2.0</td><td>0.0</td><td>0.0</td><td>0.0</td><td>10.0</td><td>0.0</td><td>0.0</td><td>-1.0</td><td>0.0</td><td>32426.201</td><td>118964.805</td><td>0.0</td><td>13681.714</td><td>32426.201</td><td>0.0</td><td>0.0</td><td>0.0</td><td>0.0</td><td>0.0</td><td>0.0</td><td>0.0</td><td>null</td><td>0.0</td><td>0.0</td><td>0.0</td><td>0.0</td><td>0.0</td><td>0.0</td><td>0.0</td><td>&hellip;</td><td>0.34091</td><td>0.11628</td><td>0.29545</td><td>0.18605</td><td>0.13953</td><td>18.0</td><td>0.0</td><td>0.0</td><td>0.0</td><td>null</td><td>2.0</td><td>7.0</td><td>10638.2</td><td>10638.2</td><td>10638.2</td><td>373720.84</td><td>126058.0</td><td>null</td><td>1.5631e6</td><td>6.0</td><td>9.0</td><td>3.0</td><td>12.0</td><td>4.0</td><td>9.0</td><td>5.0</td><td>12.0</td><td>26815.6</td><td>14.0</td><td>8.0</td><td>2.0</td><td>null</td><td>null</td><td>1</td><td>1.0</td><td>5.0</td><td>5.0</td></tr><tr><td>57551</td><td>202201</td><td>100</td><td>0.0</td><td>71036.4</td><td>2844.6</td><td>0.0</td><td>0.0</td><td>1.0</td><td>0.0</td><td>0.0</td><td>0.0</td><td>2.0</td><td>-1.0</td><td>null</td><td>-1.0</td><td>1.0</td><td>8357.2</td><td>null</td><td>1.0</td><td>0.0</td><td>9551.0</td><td>0.0</td><td>0.0</td><td>0.0</td><td>0.0</td><td>0.0</td><td>0.0</td><td>0.0</td><td>null</td><td>0.0</td><td>0.0</td><td>0.0</td><td>0.0</td><td>0.0</td><td>0.0</td><td>0.0</td><td>&hellip;</td><td>0.33333</td><td>0.0</td><td>0.11111</td><td>0.11111</td><td>0.0</td><td>12.0</td><td>null</td><td>null</td><td>null</td><td>27095.201</td><td>1.0</td><td>2.0</td><td>0.0</td><td>0.0</td><td>0.0</td><td>75219.0</td><td>null</td><td>null</td><td>2926195.3</td><td>1.0</td><td>3.0</td><td>1.0</td><td>4.0</td><td>1.0</td><td>3.0</td><td>2.0</td><td>4.0</td><td>null</td><td>null</td><td>5.0</td><td>5.0</td><td>null</td><td>59600.0</td><td>0</td><td>0.0</td><td>1.0</td><td>1.0</td></tr><tr><td>57552</td><td>202201</td><td>100</td><td>0.0</td><td>183992.0</td><td>6298.8003</td><td>12155.4</td><td>0.0</td><td>0.0</td><td>0.0</td><td>0.0</td><td>0.0</td><td>9.0</td><td>-9.0</td><td>-7.0</td><td>-9.0</td><td>0.0</td><td>7440.4</td><td>null</td><td>0.0</td><td>199322.4</td><td>9148.4</td><td>0.0</td><td>0.0</td><td>0.0</td><td>0.0</td><td>0.0</td><td>0.0</td><td>0.0</td><td>null</td><td>0.0</td><td>0.0</td><td>0.0</td><td>0.0</td><td>0.0</td><td>0.0</td><td>0.0</td><td>&hellip;</td><td>0.83871</td><td>0.0</td><td>0.0</td><td>0.0</td><td>0.0</td><td>24.0</td><td>0.0</td><td>0.0</td><td>0.0</td><td>null</td><td>0.0</td><td>6.0</td><td>191269.61</td><td>191269.61</td><td>191269.61</td><td>284213.0</td><td>18889.0</td><td>null</td><td>747031.73</td><td>2.0</td><td>2.0</td><td>0.0</td><td>5.0</td><td>0.0</td><td>3.0</td><td>2.0</td><td>5.0</td><td>23402.8</td><td>14.0</td><td>7.0</td><td>1.0</td><td>null</td><td>112000.0</td><td>0</td><td>0.0</td><td>1.0</td><td>1.0</td></tr><tr><td>57569</td><td>202201</td><td>100</td><td>0.0</td><td>0.0</td><td>4682.6</td><td>0.0</td><td>0.0</td><td>1.0</td><td>0.0</td><td>0.0</td><td>0.0</td><td>6.0</td><td>2824.0</td><td>null</td><td>2824.0</td><td>2517.0</td><td>null</td><td>null</td><td>null</td><td>null</td><td>10796.4</td><td>0.0</td><td>0.0</td><td>0.0</td><td>0.0</td><td>0.0</td><td>0.0</td><td>0.0</td><td>null</td><td>0.0</td><td>0.0</td><td>0.0</td><td>0.0</td><td>0.0</td><td>0.0</td><td>0.0</td><td>&hellip;</td><td>0.33333</td><td>0.6</td><td>0.66667</td><td>0.66667</td><td>0.6</td><td>24.0</td><td>0.0</td><td>null</td><td>null</td><td>null</td><td>2.0</td><td>3.0</td><td>0.0</td><td>0.0</td><td>0.0</td><td>95348.42</td><td>null</td><td>null</td><td>null</td><td>4.0</td><td>4.0</td><td>1.0</td><td>4.0</td><td>4.0</td><td>0.0</td><td>0.0</td><td>4.0</td><td>17333.6</td><td>14.0</td><td>1.0</td><td>3.0</td><td>0.0</td><td>null</td><td>1</td><td>1.0</td><td>5.0</td><td>5.0</td></tr><tr><td>57569</td><td>202201</td><td>100</td><td>0.0</td><td>0.0</td><td>4682.6</td><td>0.0</td><td>0.0</td><td>1.0</td><td>0.0</td><td>0.0</td><td>0.0</td><td>6.0</td><td>2824.0</td><td>null</td><td>2824.0</td><td>2517.0</td><td>null</td><td>null</td><td>null</td><td>null</td><td>10796.4</td><td>0.0</td><td>0.0</td><td>0.0</td><td>0.0</td><td>0.0</td><td>0.0</td><td>0.0</td><td>null</td><td>0.0</td><td>0.0</td><td>0.0</td><td>0.0</td><td>0.0</td><td>0.0</td><td>0.0</td><td>&hellip;</td><td>0.33333</td><td>0.6</td><td>0.66667</td><td>0.66667</td><td>0.6</td><td>24.0</td><td>0.0</td><td>null</td><td>null</td><td>null</td><td>2.0</td><td>3.0</td><td>0.0</td><td>0.0</td><td>0.0</td><td>95348.42</td><td>null</td><td>null</td><td>null</td><td>4.0</td><td>4.0</td><td>1.0</td><td>4.0</td><td>4.0</td><td>0.0</td><td>0.0</td><td>4.0</td><td>17333.6</td><td>14.0</td><td>1.0</td><td>3.0</td><td>null</td><td>58000.0</td><td>0</td><td>0.0</td><td>1.0</td><td>1.0</td></tr><tr><td>57630</td><td>202201</td><td>100</td><td>0.0</td><td>0.0</td><td>8905.0</td><td>0.0</td><td>0.0</td><td>0.0</td><td>0.0</td><td>0.0</td><td>0.0</td><td>1.0</td><td>null</td><td>null</td><td>null</td><td>0.0</td><td>null</td><td>null</td><td>null</td><td>null</td><td>null</td><td>0.0</td><td>0.0</td><td>0.0</td><td>0.0</td><td>0.0</td><td>0.0</td><td>0.0</td><td>null</td><td>0.0</td><td>0.0</td><td>0.0</td><td>0.0</td><td>0.0</td><td>0.0</td><td>0.0</td><td>&hellip;</td><td>0.42857</td><td>0.0</td><td>0.28571</td><td>0.0</td><td>0.0</td><td>12.0</td><td>0.0</td><td>0.0</td><td>0.0</td><td>96174.0</td><td>0.0</td><td>1.0</td><td>0.0</td><td>0.0</td><td>0.0</td><td>9677.601</td><td>null</td><td>null</td><td>499975.0</td><td>1.0</td><td>2.0</td><td>1.0</td><td>5.0</td><td>1.0</td><td>1.0</td><td>3.0</td><td>5.0</td><td>null</td><td>null</td><td>4.0</td><td>1.0</td><td>null</td><td>60000.0</td><td>0</td><td>0.0</td><td>1.0</td><td>1.0</td></tr><tr><td>57630</td><td>202201</td><td>100</td><td>0.0</td><td>0.0</td><td>8905.0</td><td>0.0</td><td>0.0</td><td>0.0</td><td>0.0</td><td>0.0</td><td>0.0</td><td>1.0</td><td>null</td><td>null</td><td>null</td><td>0.0</td><td>null</td><td>null</td><td>null</td><td>null</td><td>null</td><td>0.0</td><td>0.0</td><td>0.0</td><td>0.0</td><td>0.0</td><td>0.0</td><td>0.0</td><td>null</td><td>0.0</td><td>0.0</td><td>0.0</td><td>0.0</td><td>0.0</td><td>0.0</td><td>0.0</td><td>&hellip;</td><td>0.42857</td><td>0.0</td><td>0.28571</td><td>0.0</td><td>0.0</td><td>12.0</td><td>0.0</td><td>0.0</td><td>0.0</td><td>96174.0</td><td>0.0</td><td>1.0</td><td>0.0</td><td>0.0</td><td>0.0</td><td>9677.601</td><td>null</td><td>null</td><td>499975.0</td><td>1.0</td><td>2.0</td><td>1.0</td><td>5.0</td><td>1.0</td><td>1.0</td><td>3.0</td><td>5.0</td><td>null</td><td>null</td><td>4.0</td><td>1.0</td><td>null</td><td>null</td><td>1</td><td>1.0</td><td>4.0</td><td>4.0</td></tr></tbody></table></div>"
      ],
      "text/plain": [
       "shape: (10, 153)\n",
       "┌─────────┬────────┬──────────┬────────────┬───┬────────────┬────────────┬────────────┬────────────┐\n",
       "│ case_id ┆ MONTH  ┆ WEEK_NUM ┆ actualdpdt ┆ … ┆ num_group1 ┆ personinde ┆ persontype ┆ persontype │\n",
       "│ ---     ┆ ---    ┆ ---      ┆ olerance_3 ┆   ┆ ---        ┆ x_1023L    ┆ _1072L     ┆ _792L      │\n",
       "│ i64     ┆ i64    ┆ i64      ┆ 44P        ┆   ┆ i64        ┆ ---        ┆ ---        ┆ ---        │\n",
       "│         ┆        ┆          ┆ ---        ┆   ┆            ┆ f64        ┆ f64        ┆ f64        │\n",
       "│         ┆        ┆          ┆ f64        ┆   ┆            ┆            ┆            ┆            │\n",
       "╞═════════╪════════╪══════════╪════════════╪═══╪════════════╪════════════╪════════════╪════════════╡\n",
       "│ 57543   ┆ 202201 ┆ 100      ┆ 0.0        ┆ … ┆ 0          ┆ 0.0        ┆ 1.0        ┆ 1.0        │\n",
       "│ 57543   ┆ 202201 ┆ 100      ┆ 0.0        ┆ … ┆ 1          ┆ 1.0        ┆ 5.0        ┆ 5.0        │\n",
       "│ 57549   ┆ 202201 ┆ 100      ┆ 0.0        ┆ … ┆ 0          ┆ 0.0        ┆ 1.0        ┆ 1.0        │\n",
       "│ 57549   ┆ 202201 ┆ 100      ┆ 0.0        ┆ … ┆ 1          ┆ 1.0        ┆ 5.0        ┆ 5.0        │\n",
       "│ 57551   ┆ 202201 ┆ 100      ┆ 0.0        ┆ … ┆ 0          ┆ 0.0        ┆ 1.0        ┆ 1.0        │\n",
       "│ 57552   ┆ 202201 ┆ 100      ┆ 0.0        ┆ … ┆ 0          ┆ 0.0        ┆ 1.0        ┆ 1.0        │\n",
       "│ 57569   ┆ 202201 ┆ 100      ┆ 0.0        ┆ … ┆ 1          ┆ 1.0        ┆ 5.0        ┆ 5.0        │\n",
       "│ 57569   ┆ 202201 ┆ 100      ┆ 0.0        ┆ … ┆ 0          ┆ 0.0        ┆ 1.0        ┆ 1.0        │\n",
       "│ 57630   ┆ 202201 ┆ 100      ┆ 0.0        ┆ … ┆ 0          ┆ 0.0        ┆ 1.0        ┆ 1.0        │\n",
       "│ 57630   ┆ 202201 ┆ 100      ┆ 0.0        ┆ … ┆ 1          ┆ 1.0        ┆ 4.0        ┆ 4.0        │\n",
       "└─────────┴────────┴──────────┴────────────┴───┴────────────┴────────────┴────────────┴────────────┘"
      ]
     },
     "execution_count": 15,
     "metadata": {},
     "output_type": "execute_result"
    }
   ],
   "source": [
    "# 讀取數據\n",
    "submissionDir = os.path.join(projDir, \"csv_files/test/\")\n",
    "submission_base = pl.read_csv(submissionDir + 'test_base.csv')\n",
    "\n",
    "static_dfs = [\n",
    "    pd.read_csv(submissionDir + 'test_static_0_0.csv'),\n",
    "    pd.read_csv(submissionDir + 'test_static_0_1.csv')\n",
    "]\n",
    "pd_df = pd.concat(static_dfs, ignore_index=True)\n",
    "del static_dfs\n",
    "submission_static = pl.from_pandas(pd_df)\n",
    "del pd_df\n",
    "\n",
    "submission_static_cb = pl.read_csv(submissionDir + 'test_static_cb_0.csv')\n",
    "submission_person_1 = pl.read_csv(submissionDir + 'test_person_1.csv') \n",
    "submission_credit_bureau_b_2 = pl.read_csv(submissionDir + 'test_credit_bureau_b_2.csv') \n",
    "\n",
    "# Merge all dataframes using join with how='inner'\n",
    "X_submission = submission_base.join(\n",
    "    submission_static, on='case_id', how='inner'\n",
    ").join(\n",
    "    submission_static_cb, on='case_id', how='inner'\n",
    ").join(\n",
    "    submission_person_1, on='case_id', how='inner'\n",
    ")\n",
    "# .join(\n",
    "#     submission_credit_bureau_b_2, on='case_id', how='inner'\n",
    "# )\n",
    "\n",
    "del submission_base\n",
    "del submission_static\n",
    "del submission_static_cb\n",
    "del submission_person_1\n",
    "del submission_credit_bureau_b_2\n",
    "\n",
    "# Drop datatype非數字的data\n",
    "for col in X_submission.columns:\n",
    "    if not (X_submission[col].dtype in (pl.Int64, pl.Float64)):\n",
    "        X_submission = X_submission.drop(col)\n",
    "        \n",
    "X_submission"
   ]
  },
  {
   "cell_type": "code",
   "execution_count": 16,
   "id": "a598ca54",
   "metadata": {
    "execution": {
     "iopub.execute_input": "2024-03-27T09:32:59.527013Z",
     "iopub.status.busy": "2024-03-27T09:32:59.526633Z",
     "iopub.status.idle": "2024-03-27T09:32:59.537570Z",
     "shell.execute_reply": "2024-03-27T09:32:59.536399Z"
    },
    "papermill": {
     "duration": 0.024402,
     "end_time": "2024-03-27T09:32:59.539972",
     "exception": false,
     "start_time": "2024-03-27T09:32:59.515570",
     "status": "completed"
    },
    "tags": []
   },
   "outputs": [
    {
     "name": "stderr",
     "output_type": "stream",
     "text": [
      "/opt/conda/lib/python3.10/site-packages/lightgbm/basic.py:1192: UserWarning: Converting data to scipy sparse matrix.\n",
      "  _log_warning('Converting data to scipy sparse matrix.')\n"
     ]
    },
    {
     "data": {
      "text/plain": [
       "[0, 0, 0, 0, 0, 0, 0, 0, 0, 0]"
      ]
     },
     "execution_count": 16,
     "metadata": {},
     "output_type": "execute_result"
    }
   ],
   "source": [
    "y_submission_pred = bst.predict(X_submission, num_iteration=bst.best_iteration, predict_disable_shape_check=True)\n",
    "y_submission_pred_binary = [1 if pred > 0.5 else 0 for pred in y_submission_pred]\n",
    "y_submission_pred_binary"
   ]
  },
  {
   "cell_type": "code",
   "execution_count": 17,
   "id": "691fc7fe",
   "metadata": {
    "execution": {
     "iopub.execute_input": "2024-03-27T09:32:59.560828Z",
     "iopub.status.busy": "2024-03-27T09:32:59.560446Z",
     "iopub.status.idle": "2024-03-27T09:32:59.570164Z",
     "shell.execute_reply": "2024-03-27T09:32:59.569126Z"
    },
    "papermill": {
     "duration": 0.023242,
     "end_time": "2024-03-27T09:32:59.572704",
     "exception": false,
     "start_time": "2024-03-27T09:32:59.549462",
     "status": "completed"
    },
    "tags": []
   },
   "outputs": [],
   "source": [
    "submission = pd.DataFrame({\n",
    "    \"case_id\": X_submission[\"case_id\"].to_numpy(),\n",
    "    \"score\": y_submission_pred_binary\n",
    "}).set_index('case_id')\n",
    "submission.to_csv(\"./submission.csv\")"
   ]
  },
  {
   "cell_type": "code",
   "execution_count": 18,
   "id": "d00192a7",
   "metadata": {
    "execution": {
     "iopub.execute_input": "2024-03-27T09:32:59.594301Z",
     "iopub.status.busy": "2024-03-27T09:32:59.593920Z",
     "iopub.status.idle": "2024-03-27T09:32:59.611720Z",
     "shell.execute_reply": "2024-03-27T09:32:59.610517Z"
    },
    "papermill": {
     "duration": 0.031845,
     "end_time": "2024-03-27T09:32:59.614418",
     "exception": false,
     "start_time": "2024-03-27T09:32:59.582573",
     "status": "completed"
    },
    "tags": []
   },
   "outputs": [
    {
     "data": {
      "text/html": [
       "<div>\n",
       "<style scoped>\n",
       "    .dataframe tbody tr th:only-of-type {\n",
       "        vertical-align: middle;\n",
       "    }\n",
       "\n",
       "    .dataframe tbody tr th {\n",
       "        vertical-align: top;\n",
       "    }\n",
       "\n",
       "    .dataframe thead th {\n",
       "        text-align: right;\n",
       "    }\n",
       "</style>\n",
       "<table border=\"1\" class=\"dataframe\">\n",
       "  <thead>\n",
       "    <tr style=\"text-align: right;\">\n",
       "      <th></th>\n",
       "      <th>case_id</th>\n",
       "      <th>score</th>\n",
       "    </tr>\n",
       "  </thead>\n",
       "  <tbody>\n",
       "    <tr>\n",
       "      <th>0</th>\n",
       "      <td>57543</td>\n",
       "      <td>0</td>\n",
       "    </tr>\n",
       "    <tr>\n",
       "      <th>1</th>\n",
       "      <td>57543</td>\n",
       "      <td>0</td>\n",
       "    </tr>\n",
       "    <tr>\n",
       "      <th>2</th>\n",
       "      <td>57549</td>\n",
       "      <td>0</td>\n",
       "    </tr>\n",
       "    <tr>\n",
       "      <th>3</th>\n",
       "      <td>57549</td>\n",
       "      <td>0</td>\n",
       "    </tr>\n",
       "    <tr>\n",
       "      <th>4</th>\n",
       "      <td>57551</td>\n",
       "      <td>0</td>\n",
       "    </tr>\n",
       "    <tr>\n",
       "      <th>5</th>\n",
       "      <td>57552</td>\n",
       "      <td>0</td>\n",
       "    </tr>\n",
       "    <tr>\n",
       "      <th>6</th>\n",
       "      <td>57569</td>\n",
       "      <td>0</td>\n",
       "    </tr>\n",
       "    <tr>\n",
       "      <th>7</th>\n",
       "      <td>57569</td>\n",
       "      <td>0</td>\n",
       "    </tr>\n",
       "    <tr>\n",
       "      <th>8</th>\n",
       "      <td>57630</td>\n",
       "      <td>0</td>\n",
       "    </tr>\n",
       "    <tr>\n",
       "      <th>9</th>\n",
       "      <td>57630</td>\n",
       "      <td>0</td>\n",
       "    </tr>\n",
       "  </tbody>\n",
       "</table>\n",
       "</div>"
      ],
      "text/plain": [
       "   case_id  score\n",
       "0    57543      0\n",
       "1    57543      0\n",
       "2    57549      0\n",
       "3    57549      0\n",
       "4    57551      0\n",
       "5    57552      0\n",
       "6    57569      0\n",
       "7    57569      0\n",
       "8    57630      0\n",
       "9    57630      0"
      ]
     },
     "execution_count": 18,
     "metadata": {},
     "output_type": "execute_result"
    }
   ],
   "source": [
    "pd.read_csv(\"./submission.csv\")"
   ]
  }
 ],
 "metadata": {
  "kaggle": {
   "accelerator": "none",
   "dataSources": [
    {
     "databundleVersionId": 7921029,
     "sourceId": 50160,
     "sourceType": "competition"
    }
   ],
   "dockerImageVersionId": 30664,
   "isGpuEnabled": false,
   "isInternetEnabled": false,
   "language": "python",
   "sourceType": "notebook"
  },
  "kernelspec": {
   "display_name": "Python 3",
   "language": "python",
   "name": "python3"
  },
  "language_info": {
   "codemirror_mode": {
    "name": "ipython",
    "version": 3
   },
   "file_extension": ".py",
   "mimetype": "text/x-python",
   "name": "python",
   "nbconvert_exporter": "python",
   "pygments_lexer": "ipython3",
   "version": "3.10.13"
  },
  "papermill": {
   "default_parameters": {},
   "duration": 152.030459,
   "end_time": "2024-03-27T09:33:00.648086",
   "environment_variables": {},
   "exception": null,
   "input_path": "__notebook__.ipynb",
   "output_path": "__notebook__.ipynb",
   "parameters": {},
   "start_time": "2024-03-27T09:30:28.617627",
   "version": "2.5.0"
  }
 },
 "nbformat": 4,
 "nbformat_minor": 5
}
