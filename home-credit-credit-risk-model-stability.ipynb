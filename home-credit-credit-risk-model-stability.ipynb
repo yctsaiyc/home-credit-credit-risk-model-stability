{
 "cells": [
  {
   "cell_type": "code",
   "execution_count": 1,
   "id": "faf915bc",
   "metadata": {
    "_cell_guid": "b1076dfc-b9ad-4769-8c92-a6c4dae69d19",
    "_uuid": "8f2839f25d086af736a60e9eeb907d3b93b6e0e5",
    "execution": {
     "iopub.execute_input": "2024-03-27T11:57:41.821211Z",
     "iopub.status.busy": "2024-03-27T11:57:41.820674Z",
     "iopub.status.idle": "2024-03-27T11:57:42.653428Z",
     "shell.execute_reply": "2024-03-27T11:57:42.652799Z"
    },
    "papermill": {
     "duration": 0.84148,
     "end_time": "2024-03-27T11:57:42.655307",
     "exception": false,
     "start_time": "2024-03-27T11:57:41.813827",
     "status": "completed"
    },
    "tags": []
   },
   "outputs": [],
   "source": [
    "import numpy as np\n",
    "import pandas as pd\n",
    "import os\n",
    "\n",
    "import polars as pl"
   ]
  },
  {
   "cell_type": "markdown",
   "id": "0092347a",
   "metadata": {
    "papermill": {
     "duration": 0.004881,
     "end_time": "2024-03-27T11:57:42.665547",
     "exception": false,
     "start_time": "2024-03-27T11:57:42.660666",
     "status": "completed"
    },
    "tags": []
   },
   "source": [
    "## 資料探索與前處理"
   ]
  },
  {
   "cell_type": "markdown",
   "id": "dadfa103",
   "metadata": {
    "papermill": {
     "duration": 0.006424,
     "end_time": "2024-03-27T11:57:42.677736",
     "exception": false,
     "start_time": "2024-03-27T11:57:42.671312",
     "status": "completed"
    },
    "tags": []
   },
   "source": [
    "### 資料概覽\n",
    "##### 列出主要的數據特徵及統計摘要"
   ]
  },
  {
   "cell_type": "code",
   "execution_count": 2,
   "id": "4fae20ad",
   "metadata": {
    "execution": {
     "iopub.execute_input": "2024-03-27T11:57:42.689335Z",
     "iopub.status.busy": "2024-03-27T11:57:42.688903Z",
     "iopub.status.idle": "2024-03-27T11:57:42.701833Z",
     "shell.execute_reply": "2024-03-27T11:57:42.700985Z"
    },
    "papermill": {
     "duration": 0.020273,
     "end_time": "2024-03-27T11:57:42.703249",
     "exception": false,
     "start_time": "2024-03-27T11:57:42.682976",
     "status": "completed"
    },
    "tags": []
   },
   "outputs": [
    {
     "name": "stdout",
     "output_type": "stream",
     "text": [
      "目錄下有 32 個訓練資料文件\n"
     ]
    }
   ],
   "source": [
    "# 訓練資料的目錄\n",
    "projDir = \"/kaggle/input/home-credit-credit-risk-model-stability/\"\n",
    "trainDir = os.path.join(projDir, \"csv_files/train/\")\n",
    "\n",
    "# 列出目錄下所有文件\n",
    "files = os.listdir(trainDir)\n",
    "\n",
    "# 依檔名排序\n",
    "files = sorted(files)\n",
    "\n",
    "# # 印出文件名稱\n",
    "# for file in files:\n",
    "#     print(file)\n",
    "    \n",
    "# 計算文件數量\n",
    "num_files = len(files)\n",
    "print(\"目錄下有\", num_files, \"個訓練資料文件\")\n",
    "\n",
    "del num_files"
   ]
  },
  {
   "cell_type": "code",
   "execution_count": 3,
   "id": "34fd1e9a",
   "metadata": {
    "execution": {
     "iopub.execute_input": "2024-03-27T11:57:42.714730Z",
     "iopub.status.busy": "2024-03-27T11:57:42.714135Z",
     "iopub.status.idle": "2024-03-27T11:57:42.717790Z",
     "shell.execute_reply": "2024-03-27T11:57:42.717079Z"
    },
    "papermill": {
     "duration": 0.010891,
     "end_time": "2024-03-27T11:57:42.719315",
     "exception": false,
     "start_time": "2024-03-27T11:57:42.708424",
     "status": "completed"
    },
    "tags": []
   },
   "outputs": [],
   "source": [
    "# # 遍歷每個文件，僅顯示前幾行資料概況\n",
    "# for file in files:\n",
    "#     # 組合完整的檔案路徑\n",
    "#     file_path = os.path.join(trainDir, file)\n",
    "    \n",
    "#     # 讀取文件的前幾行\n",
    "#     df_head = pd.read_csv(file_path, nrows=3)\n",
    "    \n",
    "#     print(\"文件名稱:\", file)\n",
    "#     print(\"前3行資料:\")\n",
    "#     display(df_head)\n",
    "#     print(\"\\n\")\n",
    "    \n",
    "del files"
   ]
  },
  {
   "cell_type": "markdown",
   "id": "789740e6",
   "metadata": {
    "papermill": {
     "duration": 0.004802,
     "end_time": "2024-03-27T11:57:42.729507",
     "exception": false,
     "start_time": "2024-03-27T11:57:42.724705",
     "status": "completed"
    },
    "tags": []
   },
   "source": [
    "### 特徵工程\n",
    "##### 提取、轉換或建立新特徵以優化模型"
   ]
  },
  {
   "cell_type": "code",
   "execution_count": 4,
   "id": "ea1ef38f",
   "metadata": {
    "execution": {
     "iopub.execute_input": "2024-03-27T11:57:42.740621Z",
     "iopub.status.busy": "2024-03-27T11:57:42.740164Z",
     "iopub.status.idle": "2024-03-27T11:58:25.599319Z",
     "shell.execute_reply": "2024-03-27T11:58:25.597198Z"
    },
    "papermill": {
     "duration": 42.883579,
     "end_time": "2024-03-27T11:58:25.618007",
     "exception": false,
     "start_time": "2024-03-27T11:57:42.734428",
     "status": "completed"
    },
    "tags": []
   },
   "outputs": [
    {
     "name": "stderr",
     "output_type": "stream",
     "text": [
      "/tmp/ipykernel_18/1851206736.py:5: DtypeWarning: Columns (20,45,46,53,57,84,143,146,167) have mixed types. Specify dtype option on import or set low_memory=False.\n",
      "  pd.read_csv(trainDir + 'train_static_0_0.csv'),\n",
      "/tmp/ipykernel_18/1851206736.py:6: DtypeWarning: Columns (20,45,46,56,57,84,143,146,167) have mixed types. Specify dtype option on import or set low_memory=False.\n",
      "  pd.read_csv(trainDir + 'train_static_0_1.csv')\n"
     ]
    },
    {
     "name": "stdout",
     "output_type": "stream",
     "text": [
      "[Int64, String, Int64, Int64, Float64, Float64, Float64, Float64, Float64, Float64, Float64, Float64, Float64, Float64, Float64, Float64, Float64, Float64, Float64, Float64, Float64, Float64, Float64, String, String, Float64, Float64, Float64, Float64, Float64, Float64, Float64, Float64, Float64, Float64, Float64, Float64, Float64, Float64, Float64, Float64, Float64, Float64, Float64, Float64, String, Float64, Float64, String, String, String, Float64, Float64, Float64, String, Float64, String, Float64, Boolean, Boolean, String, String, Float64, Float64, String, Float64, Float64, Boolean, Boolean, Boolean, String, String, String, String, Float64, String, String, String, Float64, Float64, Float64, String, String, Float64, String, String, String, String, String, Float64, Float64, Float64, Float64, Float64, Float64, Float64, Float64, Float64, Float64, String, Float64, Float64, Float64, Float64, Float64, Float64, Float64, Float64, Float64, Float64, Float64, Float64, Float64, Float64, Float64, Float64, Float64, Float64, Float64, Float64, Float64, Float64, Float64, Float64, Float64, Float64, Float64, Float64, Float64, Float64, Float64, Float64, Float64, Float64, Float64, Float64, Float64, Float64, Float64, Float64, Float64, Float64, Float64, Float64, Float64, Float64, Boolean, String, String, String, Float64, Float64, Float64, Float64, Float64, Float64, Float64, Float64, Float64, String, Float64, Float64, Float64, Float64, Float64, Float64, Float64, Float64, String, String, String, String, String, String, String, String, String, String, Float64, Float64, Float64, Float64, Float64, String, String, String, Float64, Float64, Float64, Float64, Float64, Float64, Float64, Float64, Float64, Float64, Float64, Float64, Float64, Float64, Float64, Float64, Float64, Float64, String, String, Float64, Float64, String, String, String, String, Float64, Float64, Float64, String, String, String, String, String, Float64, Float64, Float64, String, String, Float64, String, Boolean, Boolean, String, String, String, String, String, String, String, String, String, String, String, String, Boolean, String, Float64, String, Int64, Float64, Float64, Float64, String, String, String, String, Boolean, String, String, Boolean, String, String, Int64, Int64, String, Float64, Float64]\n"
     ]
    },
    {
     "name": "stderr",
     "output_type": "stream",
     "text": [
      "/tmp/ipykernel_18/1851206736.py:33: DeprecationWarning: named `columns` param is deprecated; use positional `*args` instead.\n",
      "  X = train_data.drop(columns=['target'])\n"
     ]
    }
   ],
   "source": [
    "# 讀取訓練數據\n",
    "train_base = pl.read_csv(trainDir + 'train_base.csv')\n",
    "\n",
    "static_dfs = [\n",
    "    pd.read_csv(trainDir + 'train_static_0_0.csv'),\n",
    "    pd.read_csv(trainDir + 'train_static_0_1.csv')\n",
    "]\n",
    "pd_df = pd.concat(static_dfs, ignore_index=True)\n",
    "del static_dfs\n",
    "train_static = pl.from_pandas(pd_df)\n",
    "\n",
    "train_static_cb = pl.read_csv(trainDir + 'train_static_cb_0.csv')\n",
    "train_person_1 = pl.read_csv(trainDir + 'train_person_1.csv') \n",
    "train_credit_bureau_b_2 = pl.read_csv(trainDir + 'train_credit_bureau_b_2.csv') \n",
    "\n",
    "# Merge all dataframes using join with how='inner'\n",
    "train_data = train_base.join(\n",
    "    train_static, on='case_id', how='inner'\n",
    ").join(\n",
    "    train_static_cb, on='case_id', how='inner'\n",
    ").join(\n",
    "    train_person_1, on='case_id', how='inner'\n",
    ").join(\n",
    "    train_credit_bureau_b_2, on='case_id', how='inner'\n",
    ")\n",
    "del train_base\n",
    "del train_static\n",
    "del train_static_cb\n",
    "del train_person_1\n",
    "del train_credit_bureau_b_2\n",
    "\n",
    "# 將目標變量和特徵變量分開\n",
    "X = train_data.drop(columns=['target'])\n",
    "y = train_data['target']\n",
    "del train_data\n",
    "\n",
    "print(X.dtypes)"
   ]
  },
  {
   "cell_type": "code",
   "execution_count": 5,
   "id": "79f24dee",
   "metadata": {
    "execution": {
     "iopub.execute_input": "2024-03-27T11:58:25.631529Z",
     "iopub.status.busy": "2024-03-27T11:58:25.631074Z",
     "iopub.status.idle": "2024-03-27T11:58:25.635715Z",
     "shell.execute_reply": "2024-03-27T11:58:25.634904Z"
    },
    "papermill": {
     "duration": 0.013893,
     "end_time": "2024-03-27T11:58:25.637409",
     "exception": false,
     "start_time": "2024-03-27T11:58:25.623516",
     "status": "completed"
    },
    "tags": []
   },
   "outputs": [],
   "source": [
    "# # X存在非數字的column，無法輸入model訓練\n",
    "# X.dtypes"
   ]
  },
  {
   "cell_type": "code",
   "execution_count": 6,
   "id": "de9fab60",
   "metadata": {
    "execution": {
     "iopub.execute_input": "2024-03-27T11:58:25.649496Z",
     "iopub.status.busy": "2024-03-27T11:58:25.649200Z",
     "iopub.status.idle": "2024-03-27T11:58:25.868786Z",
     "shell.execute_reply": "2024-03-27T11:58:25.867739Z"
    },
    "papermill": {
     "duration": 0.228461,
     "end_time": "2024-03-27T11:58:25.871318",
     "exception": false,
     "start_time": "2024-03-27T11:58:25.642857",
     "status": "completed"
    },
    "tags": []
   },
   "outputs": [],
   "source": [
    "for col in X.columns:\n",
    "    if not (X[col].dtype in (pl.Int64, pl.Float64)):\n",
    "        X = X.drop(col)"
   ]
  },
  {
   "cell_type": "code",
   "execution_count": 7,
   "id": "b4bb3f6e",
   "metadata": {
    "execution": {
     "iopub.execute_input": "2024-03-27T11:58:25.886764Z",
     "iopub.status.busy": "2024-03-27T11:58:25.886471Z",
     "iopub.status.idle": "2024-03-27T11:58:25.890254Z",
     "shell.execute_reply": "2024-03-27T11:58:25.889507Z"
    },
    "papermill": {
     "duration": 0.014539,
     "end_time": "2024-03-27T11:58:25.891846",
     "exception": false,
     "start_time": "2024-03-27T11:58:25.877307",
     "status": "completed"
    },
    "tags": []
   },
   "outputs": [],
   "source": [
    "# X.dtypes"
   ]
  },
  {
   "cell_type": "code",
   "execution_count": 8,
   "id": "6855d897",
   "metadata": {
    "execution": {
     "iopub.execute_input": "2024-03-27T11:58:25.903798Z",
     "iopub.status.busy": "2024-03-27T11:58:25.903431Z",
     "iopub.status.idle": "2024-03-27T11:58:34.657199Z",
     "shell.execute_reply": "2024-03-27T11:58:34.656543Z"
    },
    "papermill": {
     "duration": 8.761948,
     "end_time": "2024-03-27T11:58:34.659130",
     "exception": false,
     "start_time": "2024-03-27T11:58:25.897182",
     "status": "completed"
    },
    "tags": []
   },
   "outputs": [],
   "source": [
    "from sklearn.model_selection import train_test_split\n",
    "\n",
    "# 將數據劃分為訓練集和測試集\n",
    "X_train, X_test, y_train, y_test = train_test_split(X, y, test_size=0.2, random_state=42)\n",
    "del X\n",
    "del y"
   ]
  },
  {
   "cell_type": "markdown",
   "id": "4a423515",
   "metadata": {
    "papermill": {
     "duration": 0.005203,
     "end_time": "2024-03-27T11:58:34.669944",
     "exception": false,
     "start_time": "2024-03-27T11:58:34.664741",
     "status": "completed"
    },
    "tags": []
   },
   "source": [
    "## 數據分析方法與模型選擇"
   ]
  },
  {
   "cell_type": "code",
   "execution_count": 9,
   "id": "e7c8f817",
   "metadata": {
    "execution": {
     "iopub.execute_input": "2024-03-27T11:58:34.682073Z",
     "iopub.status.busy": "2024-03-27T11:58:34.681579Z",
     "iopub.status.idle": "2024-03-27T11:58:34.687063Z",
     "shell.execute_reply": "2024-03-27T11:58:34.686503Z"
    },
    "papermill": {
     "duration": 0.013707,
     "end_time": "2024-03-27T11:58:34.688851",
     "exception": false,
     "start_time": "2024-03-27T11:58:34.675144",
     "status": "completed"
    },
    "tags": []
   },
   "outputs": [],
   "source": [
    "# 取得最後三十萬筆資料(ram不夠，sample不work)\n",
    "X_train = X_train.tail(300000)\n",
    "y_train = y_train.tail(300000)\n",
    "\n",
    "# bst = lgb.train(params, lgb_train, num_round, valid_sets=[lgb_train, lgb_test])\n",
    "# TypeError: Wrong type(Series) for label. It should be list, numpy 1-D array or pandas Series\n",
    "y_train = y_train.to_numpy()\n",
    "y_test = y_test.to_numpy()"
   ]
  },
  {
   "cell_type": "code",
   "execution_count": 10,
   "id": "bc8cd52f",
   "metadata": {
    "execution": {
     "iopub.execute_input": "2024-03-27T11:58:34.702797Z",
     "iopub.status.busy": "2024-03-27T11:58:34.701872Z",
     "iopub.status.idle": "2024-03-27T11:58:34.706327Z",
     "shell.execute_reply": "2024-03-27T11:58:34.705511Z"
    },
    "papermill": {
     "duration": 0.013244,
     "end_time": "2024-03-27T11:58:34.708274",
     "exception": false,
     "start_time": "2024-03-27T11:58:34.695030",
     "status": "completed"
    },
    "tags": []
   },
   "outputs": [],
   "source": [
    "# # 看target值的分布\n",
    "# np.unique(y_train, return_counts=True)"
   ]
  },
  {
   "cell_type": "code",
   "execution_count": 11,
   "id": "d02cd556",
   "metadata": {
    "execution": {
     "iopub.execute_input": "2024-03-27T11:58:34.720378Z",
     "iopub.status.busy": "2024-03-27T11:58:34.719695Z",
     "iopub.status.idle": "2024-03-27T11:58:34.723847Z",
     "shell.execute_reply": "2024-03-27T11:58:34.723260Z"
    },
    "papermill": {
     "duration": 0.011769,
     "end_time": "2024-03-27T11:58:34.725401",
     "exception": false,
     "start_time": "2024-03-27T11:58:34.713632",
     "status": "completed"
    },
    "tags": []
   },
   "outputs": [],
   "source": [
    "# # 過取樣: 增加target=1的data\n",
    "\n",
    "# from sklearn.impute import SimpleImputer\n",
    "# from imblearn.over_sampling import SMOTE\n",
    "\n",
    "# # 創建 SimpleImputer 對象，用於填補NaN值\n",
    "# imputer = SimpleImputer(strategy='mean')\n",
    "\n",
    "# # 填補NaN值\n",
    "# X_train = imputer.fit_transform(X_train)\n",
    "\n",
    "# # 設置合成目標樣本數量\n",
    "# synthetic_target_count = 279555\n",
    "\n",
    "# # 初始化 SMOTE\n",
    "# smote = SMOTE(sampling_strategy={1: synthetic_target_count})\n",
    "\n",
    "# # 使用 SMOTE 生成合成少數類樣本\n",
    "# X_train, y_train = smote.fit_resample(X_train, y_train)\n",
    "\n",
    "# # 檢查合成後的資料量\n",
    "# print(\"合成後的資料量：\", len(X_train))\n",
    "\n",
    "# # 檢查合成後的目標資料分佈\n",
    "# unique, counts = np.unique(y_train, return_counts=True)\n",
    "# print(\"合成後的目標資料分佈：\", dict(zip(unique, counts)))"
   ]
  },
  {
   "cell_type": "markdown",
   "id": "6943815c",
   "metadata": {
    "papermill": {
     "duration": 0.005026,
     "end_time": "2024-03-27T11:58:34.735686",
     "exception": false,
     "start_time": "2024-03-27T11:58:34.730660",
     "status": "completed"
    },
    "tags": []
   },
   "source": [
    "### Model1. 梯度提升樹（Gradient Boosting Decision Tree，GBDT）"
   ]
  },
  {
   "cell_type": "code",
   "execution_count": 12,
   "id": "ce993a70",
   "metadata": {
    "execution": {
     "iopub.execute_input": "2024-03-27T11:58:34.747777Z",
     "iopub.status.busy": "2024-03-27T11:58:34.747249Z",
     "iopub.status.idle": "2024-03-27T11:58:34.752121Z",
     "shell.execute_reply": "2024-03-27T11:58:34.751412Z"
    },
    "papermill": {
     "duration": 0.013372,
     "end_time": "2024-03-27T11:58:34.754218",
     "exception": false,
     "start_time": "2024-03-27T11:58:34.740846",
     "status": "completed"
    },
    "tags": []
   },
   "outputs": [],
   "source": [
    "# import lightgbm as lgb\n",
    "\n",
    "# # 創建 LightGBM 的訓練資料集\n",
    "# lgb_train = lgb.Dataset(X_train, y_train)\n",
    "# lgb_test = lgb.Dataset(X_test, y_test, reference=lgb_train)\n",
    "# del X_train\n",
    "# del y_train\n",
    "\n",
    "# # 設置參數\n",
    "# params = {\n",
    "#     'boosting_type': 'gbdt',         # 使用梯度提升樹\n",
    "#     'objective': 'binary',           # 二元分類任務\n",
    "#     'metric': 'binary_error',        # 評估指標為二元分類錯誤率\n",
    "#     'num_leaves': 31,                # 每棵樹的最大葉子數量\n",
    "#     'learning_rate': 0.05,           # 學習速率\n",
    "#     'feature_fraction': 0.9,         # 特徵抽樣比例\n",
    "#     'bagging_fraction': 0.8,         # 樣本抽樣比例\n",
    "#     'bagging_freq': 5,               # 樣本抽樣的頻率\n",
    "#     'verbose': 0,                    # 顯示訓練信息\n",
    "#     'early_stopping_rounds': 10\n",
    "# }\n",
    "\n",
    "# # 訓練模型\n",
    "# num_round = 100                      # 迭代輪次\n",
    "# bst = lgb.train(params, lgb_train, num_round, valid_sets=[lgb_train, lgb_test])\n",
    "\n",
    "# # 預測\n",
    "# y_pred = bst.predict(X_test, num_iteration=bst.best_iteration)\n",
    "# y_pred_binary = [1 if pred > 0.5 else 0 for pred in y_pred]"
   ]
  },
  {
   "cell_type": "markdown",
   "id": "abd11425",
   "metadata": {
    "papermill": {
     "duration": 0.005464,
     "end_time": "2024-03-27T11:58:34.766083",
     "exception": false,
     "start_time": "2024-03-27T11:58:34.760619",
     "status": "completed"
    },
    "tags": []
   },
   "source": [
    "### Model2. RNN"
   ]
  },
  {
   "cell_type": "code",
   "execution_count": 13,
   "id": "a4e0d08d",
   "metadata": {
    "execution": {
     "iopub.execute_input": "2024-03-27T11:58:34.778903Z",
     "iopub.status.busy": "2024-03-27T11:58:34.778036Z",
     "iopub.status.idle": "2024-03-27T12:01:15.108883Z",
     "shell.execute_reply": "2024-03-27T12:01:15.107624Z"
    },
    "papermill": {
     "duration": 160.339842,
     "end_time": "2024-03-27T12:01:15.111359",
     "exception": false,
     "start_time": "2024-03-27T11:58:34.771517",
     "status": "completed"
    },
    "tags": []
   },
   "outputs": [
    {
     "name": "stderr",
     "output_type": "stream",
     "text": [
      "2024-03-27 11:58:36.354010: E external/local_xla/xla/stream_executor/cuda/cuda_dnn.cc:9261] Unable to register cuDNN factory: Attempting to register factory for plugin cuDNN when one has already been registered\n",
      "2024-03-27 11:58:36.354144: E external/local_xla/xla/stream_executor/cuda/cuda_fft.cc:607] Unable to register cuFFT factory: Attempting to register factory for plugin cuFFT when one has already been registered\n",
      "2024-03-27 11:58:36.480961: E external/local_xla/xla/stream_executor/cuda/cuda_blas.cc:1515] Unable to register cuBLAS factory: Attempting to register factory for plugin cuBLAS when one has already been registered\n",
      "/opt/conda/lib/python3.10/site-packages/keras/src/layers/rnn/rnn.py:205: UserWarning: Do not pass an `input_shape`/`input_dim` argument to a layer. When using Sequential models, prefer using an `Input(shape)` object as the first layer in the model instead.\n",
      "  super().__init__(**kwargs)\n"
     ]
    },
    {
     "name": "stdout",
     "output_type": "stream",
     "text": [
      "\u001b[1m147/147\u001b[0m \u001b[32m━━━━━━━━━━━━━━━━━━━━\u001b[0m\u001b[37m\u001b[0m \u001b[1m39s\u001b[0m 260ms/step - accuracy: 0.9313 - loss: nan - val_accuracy: 0.9315 - val_loss: nan\n",
      "\u001b[1m17989/17989\u001b[0m \u001b[32m━━━━━━━━━━━━━━━━━━━━\u001b[0m\u001b[37m\u001b[0m \u001b[1m99s\u001b[0m 5ms/step\n"
     ]
    }
   ],
   "source": [
    "import tensorflow as tf\n",
    "from tensorflow.keras.models import Sequential\n",
    "from tensorflow.keras.layers import SimpleRNN, Dense\n",
    "from tensorflow.keras.callbacks import EarlyStopping\n",
    "\n",
    "# 將 DataFrame 轉換為 NumPy 陣列\n",
    "X_train = X_train.to_numpy()\n",
    "X_test = X_test.to_numpy()\n",
    "\n",
    "# 將資料轉換成3D形狀\n",
    "X_train = X_train.reshape(X_train.shape[0], X_train.shape[1], 1)\n",
    "X_test = X_test.reshape(X_test.shape[0], X_test.shape[1], 1)\n",
    "\n",
    "# 創建 Sequential 模型\n",
    "model = Sequential()\n",
    "\n",
    "# 添加 SimpleRNN 層\n",
    "model.add(SimpleRNN(50, input_shape=(X_train.shape[1], X_train.shape[2]), activation='relu'))\n",
    "\n",
    "# 添加輸出層\n",
    "model.add(Dense(1, activation='sigmoid'))\n",
    "\n",
    "# 編譯模型\n",
    "model.compile(optimizer='adam', loss='binary_crossentropy', metrics=['accuracy'])\n",
    "\n",
    "# 定義 EarlyStopping\n",
    "early_stopping = EarlyStopping(patience=5, monitor='val_loss', restore_best_weights=True)\n",
    "\n",
    "# 設置類別加權，例如給予類別0權重1，給予類別1權重100\n",
    "class_weight = {0: 1, 1: 100}\n",
    "\n",
    "# 訓練模型\n",
    "history = model.fit(X_train, y_train, epochs=1, batch_size=2048, validation_data=(X_test, y_test), callbacks=[early_stopping], class_weight=class_weight)\n",
    "\n",
    "# 預測\n",
    "y_pred = model.predict(X_test)\n",
    "y_pred_binary = [1 if pred > 0.5 else 0 for pred in y_pred]"
   ]
  },
  {
   "cell_type": "markdown",
   "id": "da594555",
   "metadata": {
    "papermill": {
     "duration": 0.117725,
     "end_time": "2024-03-27T12:01:15.347216",
     "exception": false,
     "start_time": "2024-03-27T12:01:15.229491",
     "status": "completed"
    },
    "tags": []
   },
   "source": [
    "## 評估模型"
   ]
  },
  {
   "cell_type": "code",
   "execution_count": 14,
   "id": "0fa936ac",
   "metadata": {
    "execution": {
     "iopub.execute_input": "2024-03-27T12:01:15.590108Z",
     "iopub.status.busy": "2024-03-27T12:01:15.589025Z",
     "iopub.status.idle": "2024-03-27T12:01:16.215948Z",
     "shell.execute_reply": "2024-03-27T12:01:16.215133Z"
    },
    "papermill": {
     "duration": 0.750693,
     "end_time": "2024-03-27T12:01:16.218603",
     "exception": false,
     "start_time": "2024-03-27T12:01:15.467910",
     "status": "completed"
    },
    "tags": []
   },
   "outputs": [
    {
     "name": "stdout",
     "output_type": "stream",
     "text": [
      "準確率: 0.9315008286400228\n",
      "分類報告:\n"
     ]
    },
    {
     "name": "stderr",
     "output_type": "stream",
     "text": [
      "/opt/conda/lib/python3.10/site-packages/sklearn/metrics/_classification.py:1344: UndefinedMetricWarning: Precision and F-score are ill-defined and being set to 0.0 in labels with no predicted samples. Use `zero_division` parameter to control this behavior.\n",
      "  _warn_prf(average, modifier, msg_start, len(result))\n"
     ]
    },
    {
     "name": "stdout",
     "output_type": "stream",
     "text": [
      "              precision    recall  f1-score   support\n",
      "\n",
      "           0       0.93      1.00      0.96    536211\n",
      "           1       0.00      0.00      0.00     39431\n",
      "\n",
      "    accuracy                           0.93    575642\n",
      "   macro avg       0.47      0.50      0.48    575642\n",
      "weighted avg       0.87      0.93      0.90    575642\n",
      "\n"
     ]
    },
    {
     "name": "stderr",
     "output_type": "stream",
     "text": [
      "/opt/conda/lib/python3.10/site-packages/sklearn/metrics/_classification.py:1344: UndefinedMetricWarning: Precision and F-score are ill-defined and being set to 0.0 in labels with no predicted samples. Use `zero_division` parameter to control this behavior.\n",
      "  _warn_prf(average, modifier, msg_start, len(result))\n",
      "/opt/conda/lib/python3.10/site-packages/sklearn/metrics/_classification.py:1344: UndefinedMetricWarning: Precision and F-score are ill-defined and being set to 0.0 in labels with no predicted samples. Use `zero_division` parameter to control this behavior.\n",
      "  _warn_prf(average, modifier, msg_start, len(result))\n"
     ]
    }
   ],
   "source": [
    "from sklearn.metrics import accuracy_score, classification_report\n",
    "\n",
    "# 評估模型\n",
    "accuracy = accuracy_score(y_test, y_pred_binary)\n",
    "print(\"準確率:\", accuracy)\n",
    "\n",
    "# 顯示分類報告\n",
    "print(\"分類報告:\")\n",
    "print(classification_report(y_test, y_pred_binary))"
   ]
  },
  {
   "cell_type": "markdown",
   "id": "4632091a",
   "metadata": {
    "papermill": {
     "duration": 0.120004,
     "end_time": "2024-03-27T12:01:16.456746",
     "exception": false,
     "start_time": "2024-03-27T12:01:16.336742",
     "status": "completed"
    },
    "tags": []
   },
   "source": [
    "## Submission"
   ]
  },
  {
   "cell_type": "code",
   "execution_count": 15,
   "id": "2c461624",
   "metadata": {
    "execution": {
     "iopub.execute_input": "2024-03-27T12:01:16.696165Z",
     "iopub.status.busy": "2024-03-27T12:01:16.695840Z",
     "iopub.status.idle": "2024-03-27T12:01:17.099066Z",
     "shell.execute_reply": "2024-03-27T12:01:17.098237Z"
    },
    "papermill": {
     "duration": 0.525948,
     "end_time": "2024-03-27T12:01:17.100721",
     "exception": false,
     "start_time": "2024-03-27T12:01:16.574773",
     "status": "completed"
    },
    "tags": []
   },
   "outputs": [
    {
     "data": {
      "text/html": [
       "<div><style>\n",
       ".dataframe > thead > tr,\n",
       ".dataframe > tbody > tr {\n",
       "  text-align: right;\n",
       "  white-space: pre-wrap;\n",
       "}\n",
       "</style>\n",
       "<small>shape: (10, 153)</small><table border=\"1\" class=\"dataframe\"><thead><tr><th>case_id</th><th>MONTH</th><th>WEEK_NUM</th><th>actualdpdtolerance_344P</th><th>amtinstpaidbefduel24m_4187115A</th><th>annuity_780A</th><th>annuitynextmonth_57A</th><th>applicationcnt_361L</th><th>applications30d_658L</th><th>applicationscnt_1086L</th><th>applicationscnt_464L</th><th>applicationscnt_629L</th><th>applicationscnt_867L</th><th>avgdbddpdlast24m_3658932P</th><th>avgdbddpdlast3m_4187120P</th><th>avgdbdtollast24m_4525197P</th><th>avgdpdtolclosure24_3658938P</th><th>avginstallast24m_3658937A</th><th>avglnamtstart24m_4525187A</th><th>avgmaxdpdlast9m_3716943P</th><th>avgoutstandbalancel6m_4187114A</th><th>avgpmtlast12m_4525200A</th><th>clientscnt12m_3712952L</th><th>clientscnt3m_3712950L</th><th>clientscnt6m_3712949L</th><th>clientscnt_100L</th><th>clientscnt_1022L</th><th>clientscnt_1071L</th><th>clientscnt_1130L</th><th>clientscnt_136L</th><th>clientscnt_157L</th><th>clientscnt_257L</th><th>clientscnt_304L</th><th>clientscnt_360L</th><th>clientscnt_493L</th><th>clientscnt_533L</th><th>clientscnt_887L</th><th>&hellip;</th><th>pctinstlsallpaidearl3d_427L</th><th>pctinstlsallpaidlat10d_839L</th><th>pctinstlsallpaidlate1d_3546856L</th><th>pctinstlsallpaidlate4d_3546849L</th><th>pctinstlsallpaidlate6d_3546844L</th><th>pmtnum_254L</th><th>posfpd10lastmonth_333P</th><th>posfpd30lastmonth_3976960P</th><th>posfstqpd30lastmonth_3976962P</th><th>price_1097A</th><th>sellerplacecnt_915L</th><th>sellerplacescnt_216L</th><th>sumoutstandtotal_3546847A</th><th>sumoutstandtotalest_4493215A</th><th>totaldebt_9A</th><th>totalsettled_863A</th><th>totinstallast1m_4525188A</th><th>validfrom_1069D</th><th>contractssum_5085716L</th><th>days120_123L</th><th>days180_256L</th><th>days30_165L</th><th>days360_512L</th><th>days90_310L</th><th>firstquarter_103L</th><th>fourthquarter_440L</th><th>numberofqueries_373L</th><th>pmtaverage_4955615A</th><th>pmtcount_4955617L</th><th>secondquarter_766L</th><th>thirdquarter_1082L</th><th>childnum_185L</th><th>mainoccupationinc_384A</th><th>num_group1</th><th>personindex_1023L</th><th>persontype_1072L</th><th>persontype_792L</th></tr><tr><td>i64</td><td>i64</td><td>i64</td><td>f64</td><td>f64</td><td>f64</td><td>f64</td><td>f64</td><td>f64</td><td>f64</td><td>f64</td><td>f64</td><td>f64</td><td>f64</td><td>f64</td><td>f64</td><td>f64</td><td>f64</td><td>f64</td><td>f64</td><td>f64</td><td>f64</td><td>f64</td><td>f64</td><td>f64</td><td>f64</td><td>f64</td><td>f64</td><td>f64</td><td>f64</td><td>f64</td><td>f64</td><td>f64</td><td>f64</td><td>f64</td><td>f64</td><td>f64</td><td>&hellip;</td><td>f64</td><td>f64</td><td>f64</td><td>f64</td><td>f64</td><td>f64</td><td>f64</td><td>f64</td><td>f64</td><td>f64</td><td>f64</td><td>f64</td><td>f64</td><td>f64</td><td>f64</td><td>f64</td><td>f64</td><td>f64</td><td>f64</td><td>f64</td><td>f64</td><td>f64</td><td>f64</td><td>f64</td><td>f64</td><td>f64</td><td>f64</td><td>f64</td><td>f64</td><td>f64</td><td>f64</td><td>f64</td><td>f64</td><td>i64</td><td>f64</td><td>f64</td><td>f64</td></tr></thead><tbody><tr><td>57543</td><td>202201</td><td>100</td><td>0.0</td><td>191767.36</td><td>3674.6</td><td>1218.2001</td><td>0.0</td><td>0.0</td><td>0.0</td><td>0.0</td><td>0.0</td><td>9.0</td><td>1.0</td><td>2.0</td><td>1.0</td><td>1.0</td><td>16049.4</td><td>17054.4</td><td>2.0</td><td>14554.4</td><td>24482.0</td><td>0.0</td><td>0.0</td><td>0.0</td><td>0.0</td><td>0.0</td><td>0.0</td><td>0.0</td><td>null</td><td>0.0</td><td>0.0</td><td>0.0</td><td>0.0</td><td>0.0</td><td>0.0</td><td>0.0</td><td>&hellip;</td><td>0.35417</td><td>0.0</td><td>0.32292</td><td>0.07292</td><td>0.05208</td><td>6.0</td><td>0.0</td><td>0.0</td><td>0.0</td><td>0.0</td><td>0.0</td><td>5.0</td><td>12154.4</td><td>12154.4</td><td>12154.4</td><td>456031.1</td><td>17859.6</td><td>null</td><td>151364.0</td><td>2.0</td><td>4.0</td><td>1.0</td><td>8.0</td><td>2.0</td><td>4.0</td><td>9.0</td><td>8.0</td><td>null</td><td>null</td><td>2.0</td><td>3.0</td><td>null</td><td>34000.0</td><td>0</td><td>0.0</td><td>1.0</td><td>1.0</td></tr><tr><td>57543</td><td>202201</td><td>100</td><td>0.0</td><td>191767.36</td><td>3674.6</td><td>1218.2001</td><td>0.0</td><td>0.0</td><td>0.0</td><td>0.0</td><td>0.0</td><td>9.0</td><td>1.0</td><td>2.0</td><td>1.0</td><td>1.0</td><td>16049.4</td><td>17054.4</td><td>2.0</td><td>14554.4</td><td>24482.0</td><td>0.0</td><td>0.0</td><td>0.0</td><td>0.0</td><td>0.0</td><td>0.0</td><td>0.0</td><td>null</td><td>0.0</td><td>0.0</td><td>0.0</td><td>0.0</td><td>0.0</td><td>0.0</td><td>0.0</td><td>&hellip;</td><td>0.35417</td><td>0.0</td><td>0.32292</td><td>0.07292</td><td>0.05208</td><td>6.0</td><td>0.0</td><td>0.0</td><td>0.0</td><td>0.0</td><td>0.0</td><td>5.0</td><td>12154.4</td><td>12154.4</td><td>12154.4</td><td>456031.1</td><td>17859.6</td><td>null</td><td>151364.0</td><td>2.0</td><td>4.0</td><td>1.0</td><td>8.0</td><td>2.0</td><td>4.0</td><td>9.0</td><td>8.0</td><td>null</td><td>null</td><td>2.0</td><td>3.0</td><td>null</td><td>null</td><td>1</td><td>1.0</td><td>5.0</td><td>5.0</td></tr><tr><td>57549</td><td>202201</td><td>100</td><td>0.0</td><td>129704.4</td><td>5742.6</td><td>3546.6</td><td>0.0</td><td>2.0</td><td>0.0</td><td>0.0</td><td>0.0</td><td>10.0</td><td>0.0</td><td>0.0</td><td>-1.0</td><td>0.0</td><td>32426.201</td><td>118964.805</td><td>0.0</td><td>13681.714</td><td>32426.201</td><td>0.0</td><td>0.0</td><td>0.0</td><td>0.0</td><td>0.0</td><td>0.0</td><td>0.0</td><td>null</td><td>0.0</td><td>0.0</td><td>0.0</td><td>0.0</td><td>0.0</td><td>0.0</td><td>0.0</td><td>&hellip;</td><td>0.34091</td><td>0.11628</td><td>0.29545</td><td>0.18605</td><td>0.13953</td><td>18.0</td><td>0.0</td><td>0.0</td><td>0.0</td><td>null</td><td>2.0</td><td>7.0</td><td>10638.2</td><td>10638.2</td><td>10638.2</td><td>373720.84</td><td>126058.0</td><td>null</td><td>1.5631e6</td><td>6.0</td><td>9.0</td><td>3.0</td><td>12.0</td><td>4.0</td><td>9.0</td><td>5.0</td><td>12.0</td><td>26815.6</td><td>14.0</td><td>8.0</td><td>2.0</td><td>null</td><td>49800.0</td><td>0</td><td>0.0</td><td>1.0</td><td>1.0</td></tr><tr><td>57549</td><td>202201</td><td>100</td><td>0.0</td><td>129704.4</td><td>5742.6</td><td>3546.6</td><td>0.0</td><td>2.0</td><td>0.0</td><td>0.0</td><td>0.0</td><td>10.0</td><td>0.0</td><td>0.0</td><td>-1.0</td><td>0.0</td><td>32426.201</td><td>118964.805</td><td>0.0</td><td>13681.714</td><td>32426.201</td><td>0.0</td><td>0.0</td><td>0.0</td><td>0.0</td><td>0.0</td><td>0.0</td><td>0.0</td><td>null</td><td>0.0</td><td>0.0</td><td>0.0</td><td>0.0</td><td>0.0</td><td>0.0</td><td>0.0</td><td>&hellip;</td><td>0.34091</td><td>0.11628</td><td>0.29545</td><td>0.18605</td><td>0.13953</td><td>18.0</td><td>0.0</td><td>0.0</td><td>0.0</td><td>null</td><td>2.0</td><td>7.0</td><td>10638.2</td><td>10638.2</td><td>10638.2</td><td>373720.84</td><td>126058.0</td><td>null</td><td>1.5631e6</td><td>6.0</td><td>9.0</td><td>3.0</td><td>12.0</td><td>4.0</td><td>9.0</td><td>5.0</td><td>12.0</td><td>26815.6</td><td>14.0</td><td>8.0</td><td>2.0</td><td>null</td><td>null</td><td>1</td><td>1.0</td><td>5.0</td><td>5.0</td></tr><tr><td>57551</td><td>202201</td><td>100</td><td>0.0</td><td>71036.4</td><td>2844.6</td><td>0.0</td><td>0.0</td><td>1.0</td><td>0.0</td><td>0.0</td><td>0.0</td><td>2.0</td><td>-1.0</td><td>null</td><td>-1.0</td><td>1.0</td><td>8357.2</td><td>null</td><td>1.0</td><td>0.0</td><td>9551.0</td><td>0.0</td><td>0.0</td><td>0.0</td><td>0.0</td><td>0.0</td><td>0.0</td><td>0.0</td><td>null</td><td>0.0</td><td>0.0</td><td>0.0</td><td>0.0</td><td>0.0</td><td>0.0</td><td>0.0</td><td>&hellip;</td><td>0.33333</td><td>0.0</td><td>0.11111</td><td>0.11111</td><td>0.0</td><td>12.0</td><td>null</td><td>null</td><td>null</td><td>27095.201</td><td>1.0</td><td>2.0</td><td>0.0</td><td>0.0</td><td>0.0</td><td>75219.0</td><td>null</td><td>null</td><td>2926195.3</td><td>1.0</td><td>3.0</td><td>1.0</td><td>4.0</td><td>1.0</td><td>3.0</td><td>2.0</td><td>4.0</td><td>null</td><td>null</td><td>5.0</td><td>5.0</td><td>null</td><td>59600.0</td><td>0</td><td>0.0</td><td>1.0</td><td>1.0</td></tr><tr><td>57552</td><td>202201</td><td>100</td><td>0.0</td><td>183992.0</td><td>6298.8003</td><td>12155.4</td><td>0.0</td><td>0.0</td><td>0.0</td><td>0.0</td><td>0.0</td><td>9.0</td><td>-9.0</td><td>-7.0</td><td>-9.0</td><td>0.0</td><td>7440.4</td><td>null</td><td>0.0</td><td>199322.4</td><td>9148.4</td><td>0.0</td><td>0.0</td><td>0.0</td><td>0.0</td><td>0.0</td><td>0.0</td><td>0.0</td><td>null</td><td>0.0</td><td>0.0</td><td>0.0</td><td>0.0</td><td>0.0</td><td>0.0</td><td>0.0</td><td>&hellip;</td><td>0.83871</td><td>0.0</td><td>0.0</td><td>0.0</td><td>0.0</td><td>24.0</td><td>0.0</td><td>0.0</td><td>0.0</td><td>null</td><td>0.0</td><td>6.0</td><td>191269.61</td><td>191269.61</td><td>191269.61</td><td>284213.0</td><td>18889.0</td><td>null</td><td>747031.73</td><td>2.0</td><td>2.0</td><td>0.0</td><td>5.0</td><td>0.0</td><td>3.0</td><td>2.0</td><td>5.0</td><td>23402.8</td><td>14.0</td><td>7.0</td><td>1.0</td><td>null</td><td>112000.0</td><td>0</td><td>0.0</td><td>1.0</td><td>1.0</td></tr><tr><td>57569</td><td>202201</td><td>100</td><td>0.0</td><td>0.0</td><td>4682.6</td><td>0.0</td><td>0.0</td><td>1.0</td><td>0.0</td><td>0.0</td><td>0.0</td><td>6.0</td><td>2824.0</td><td>null</td><td>2824.0</td><td>2517.0</td><td>null</td><td>null</td><td>null</td><td>null</td><td>10796.4</td><td>0.0</td><td>0.0</td><td>0.0</td><td>0.0</td><td>0.0</td><td>0.0</td><td>0.0</td><td>null</td><td>0.0</td><td>0.0</td><td>0.0</td><td>0.0</td><td>0.0</td><td>0.0</td><td>0.0</td><td>&hellip;</td><td>0.33333</td><td>0.6</td><td>0.66667</td><td>0.66667</td><td>0.6</td><td>24.0</td><td>0.0</td><td>null</td><td>null</td><td>null</td><td>2.0</td><td>3.0</td><td>0.0</td><td>0.0</td><td>0.0</td><td>95348.42</td><td>null</td><td>null</td><td>null</td><td>4.0</td><td>4.0</td><td>1.0</td><td>4.0</td><td>4.0</td><td>0.0</td><td>0.0</td><td>4.0</td><td>17333.6</td><td>14.0</td><td>1.0</td><td>3.0</td><td>0.0</td><td>null</td><td>1</td><td>1.0</td><td>5.0</td><td>5.0</td></tr><tr><td>57569</td><td>202201</td><td>100</td><td>0.0</td><td>0.0</td><td>4682.6</td><td>0.0</td><td>0.0</td><td>1.0</td><td>0.0</td><td>0.0</td><td>0.0</td><td>6.0</td><td>2824.0</td><td>null</td><td>2824.0</td><td>2517.0</td><td>null</td><td>null</td><td>null</td><td>null</td><td>10796.4</td><td>0.0</td><td>0.0</td><td>0.0</td><td>0.0</td><td>0.0</td><td>0.0</td><td>0.0</td><td>null</td><td>0.0</td><td>0.0</td><td>0.0</td><td>0.0</td><td>0.0</td><td>0.0</td><td>0.0</td><td>&hellip;</td><td>0.33333</td><td>0.6</td><td>0.66667</td><td>0.66667</td><td>0.6</td><td>24.0</td><td>0.0</td><td>null</td><td>null</td><td>null</td><td>2.0</td><td>3.0</td><td>0.0</td><td>0.0</td><td>0.0</td><td>95348.42</td><td>null</td><td>null</td><td>null</td><td>4.0</td><td>4.0</td><td>1.0</td><td>4.0</td><td>4.0</td><td>0.0</td><td>0.0</td><td>4.0</td><td>17333.6</td><td>14.0</td><td>1.0</td><td>3.0</td><td>null</td><td>58000.0</td><td>0</td><td>0.0</td><td>1.0</td><td>1.0</td></tr><tr><td>57630</td><td>202201</td><td>100</td><td>0.0</td><td>0.0</td><td>8905.0</td><td>0.0</td><td>0.0</td><td>0.0</td><td>0.0</td><td>0.0</td><td>0.0</td><td>1.0</td><td>null</td><td>null</td><td>null</td><td>0.0</td><td>null</td><td>null</td><td>null</td><td>null</td><td>null</td><td>0.0</td><td>0.0</td><td>0.0</td><td>0.0</td><td>0.0</td><td>0.0</td><td>0.0</td><td>null</td><td>0.0</td><td>0.0</td><td>0.0</td><td>0.0</td><td>0.0</td><td>0.0</td><td>0.0</td><td>&hellip;</td><td>0.42857</td><td>0.0</td><td>0.28571</td><td>0.0</td><td>0.0</td><td>12.0</td><td>0.0</td><td>0.0</td><td>0.0</td><td>96174.0</td><td>0.0</td><td>1.0</td><td>0.0</td><td>0.0</td><td>0.0</td><td>9677.601</td><td>null</td><td>null</td><td>499975.0</td><td>1.0</td><td>2.0</td><td>1.0</td><td>5.0</td><td>1.0</td><td>1.0</td><td>3.0</td><td>5.0</td><td>null</td><td>null</td><td>4.0</td><td>1.0</td><td>null</td><td>60000.0</td><td>0</td><td>0.0</td><td>1.0</td><td>1.0</td></tr><tr><td>57630</td><td>202201</td><td>100</td><td>0.0</td><td>0.0</td><td>8905.0</td><td>0.0</td><td>0.0</td><td>0.0</td><td>0.0</td><td>0.0</td><td>0.0</td><td>1.0</td><td>null</td><td>null</td><td>null</td><td>0.0</td><td>null</td><td>null</td><td>null</td><td>null</td><td>null</td><td>0.0</td><td>0.0</td><td>0.0</td><td>0.0</td><td>0.0</td><td>0.0</td><td>0.0</td><td>null</td><td>0.0</td><td>0.0</td><td>0.0</td><td>0.0</td><td>0.0</td><td>0.0</td><td>0.0</td><td>&hellip;</td><td>0.42857</td><td>0.0</td><td>0.28571</td><td>0.0</td><td>0.0</td><td>12.0</td><td>0.0</td><td>0.0</td><td>0.0</td><td>96174.0</td><td>0.0</td><td>1.0</td><td>0.0</td><td>0.0</td><td>0.0</td><td>9677.601</td><td>null</td><td>null</td><td>499975.0</td><td>1.0</td><td>2.0</td><td>1.0</td><td>5.0</td><td>1.0</td><td>1.0</td><td>3.0</td><td>5.0</td><td>null</td><td>null</td><td>4.0</td><td>1.0</td><td>null</td><td>null</td><td>1</td><td>1.0</td><td>4.0</td><td>4.0</td></tr></tbody></table></div>"
      ],
      "text/plain": [
       "shape: (10, 153)\n",
       "┌─────────┬────────┬──────────┬────────────┬───┬────────────┬────────────┬────────────┬────────────┐\n",
       "│ case_id ┆ MONTH  ┆ WEEK_NUM ┆ actualdpdt ┆ … ┆ num_group1 ┆ personinde ┆ persontype ┆ persontype │\n",
       "│ ---     ┆ ---    ┆ ---      ┆ olerance_3 ┆   ┆ ---        ┆ x_1023L    ┆ _1072L     ┆ _792L      │\n",
       "│ i64     ┆ i64    ┆ i64      ┆ 44P        ┆   ┆ i64        ┆ ---        ┆ ---        ┆ ---        │\n",
       "│         ┆        ┆          ┆ ---        ┆   ┆            ┆ f64        ┆ f64        ┆ f64        │\n",
       "│         ┆        ┆          ┆ f64        ┆   ┆            ┆            ┆            ┆            │\n",
       "╞═════════╪════════╪══════════╪════════════╪═══╪════════════╪════════════╪════════════╪════════════╡\n",
       "│ 57543   ┆ 202201 ┆ 100      ┆ 0.0        ┆ … ┆ 0          ┆ 0.0        ┆ 1.0        ┆ 1.0        │\n",
       "│ 57543   ┆ 202201 ┆ 100      ┆ 0.0        ┆ … ┆ 1          ┆ 1.0        ┆ 5.0        ┆ 5.0        │\n",
       "│ 57549   ┆ 202201 ┆ 100      ┆ 0.0        ┆ … ┆ 0          ┆ 0.0        ┆ 1.0        ┆ 1.0        │\n",
       "│ 57549   ┆ 202201 ┆ 100      ┆ 0.0        ┆ … ┆ 1          ┆ 1.0        ┆ 5.0        ┆ 5.0        │\n",
       "│ 57551   ┆ 202201 ┆ 100      ┆ 0.0        ┆ … ┆ 0          ┆ 0.0        ┆ 1.0        ┆ 1.0        │\n",
       "│ 57552   ┆ 202201 ┆ 100      ┆ 0.0        ┆ … ┆ 0          ┆ 0.0        ┆ 1.0        ┆ 1.0        │\n",
       "│ 57569   ┆ 202201 ┆ 100      ┆ 0.0        ┆ … ┆ 1          ┆ 1.0        ┆ 5.0        ┆ 5.0        │\n",
       "│ 57569   ┆ 202201 ┆ 100      ┆ 0.0        ┆ … ┆ 0          ┆ 0.0        ┆ 1.0        ┆ 1.0        │\n",
       "│ 57630   ┆ 202201 ┆ 100      ┆ 0.0        ┆ … ┆ 0          ┆ 0.0        ┆ 1.0        ┆ 1.0        │\n",
       "│ 57630   ┆ 202201 ┆ 100      ┆ 0.0        ┆ … ┆ 1          ┆ 1.0        ┆ 4.0        ┆ 4.0        │\n",
       "└─────────┴────────┴──────────┴────────────┴───┴────────────┴────────────┴────────────┴────────────┘"
      ]
     },
     "execution_count": 15,
     "metadata": {},
     "output_type": "execute_result"
    }
   ],
   "source": [
    "# 讀取數據\n",
    "submissionDir = os.path.join(projDir, \"csv_files/test/\")\n",
    "submission_base = pl.read_csv(submissionDir + 'test_base.csv')\n",
    "\n",
    "static_dfs = [\n",
    "    pd.read_csv(submissionDir + 'test_static_0_0.csv'),\n",
    "    pd.read_csv(submissionDir + 'test_static_0_1.csv')\n",
    "]\n",
    "pd_df = pd.concat(static_dfs, ignore_index=True)\n",
    "del static_dfs\n",
    "submission_static = pl.from_pandas(pd_df)\n",
    "del pd_df\n",
    "\n",
    "submission_static_cb = pl.read_csv(submissionDir + 'test_static_cb_0.csv')\n",
    "submission_person_1 = pl.read_csv(submissionDir + 'test_person_1.csv') \n",
    "submission_credit_bureau_b_2 = pl.read_csv(submissionDir + 'test_credit_bureau_b_2.csv') \n",
    "\n",
    "# Merge all dataframes using join with how='inner'\n",
    "X_submission = submission_base.join(\n",
    "    submission_static, on='case_id', how='inner'\n",
    ").join(\n",
    "    submission_static_cb, on='case_id', how='inner'\n",
    ").join(\n",
    "    submission_person_1, on='case_id', how='inner'\n",
    ")\n",
    "# .join(\n",
    "#     submission_credit_bureau_b_2, on='case_id', how='inner'\n",
    "# )\n",
    "\n",
    "del submission_base\n",
    "del submission_static\n",
    "del submission_static_cb\n",
    "del submission_person_1\n",
    "del submission_credit_bureau_b_2\n",
    "\n",
    "# Drop datatype非數字的data\n",
    "for col in X_submission.columns:\n",
    "    if not (X_submission[col].dtype in (pl.Int64, pl.Float64)):\n",
    "        X_submission = X_submission.drop(col)\n",
    "        \n",
    "X_submission"
   ]
  },
  {
   "cell_type": "code",
   "execution_count": 16,
   "id": "83e34937",
   "metadata": {
    "execution": {
     "iopub.execute_input": "2024-03-27T12:01:17.343085Z",
     "iopub.status.busy": "2024-03-27T12:01:17.342750Z",
     "iopub.status.idle": "2024-03-27T12:01:17.523108Z",
     "shell.execute_reply": "2024-03-27T12:01:17.521937Z"
    },
    "papermill": {
     "duration": 0.3037,
     "end_time": "2024-03-27T12:01:17.525014",
     "exception": false,
     "start_time": "2024-03-27T12:01:17.221314",
     "status": "completed"
    },
    "tags": []
   },
   "outputs": [
    {
     "name": "stdout",
     "output_type": "stream",
     "text": [
      "\u001b[1m1/1\u001b[0m \u001b[32m━━━━━━━━━━━━━━━━━━━━\u001b[0m\u001b[37m\u001b[0m \u001b[1m0s\u001b[0m 131ms/step\n"
     ]
    },
    {
     "data": {
      "text/plain": [
       "[0, 0, 0, 0, 0, 0, 0, 0, 0, 0]"
      ]
     },
     "execution_count": 16,
     "metadata": {},
     "output_type": "execute_result"
    }
   ],
   "source": [
    "# # LGBM\n",
    "# y_submission_pred = bst.predict(X_submission, num_iteration=bst.best_iteration, predict_disable_shape_check=True)\n",
    "\n",
    "# RNN\n",
    "X_submission_array = X_submission.to_numpy()\n",
    "X_submission_rnn = X_submission_array.reshape(X_submission_array.shape[0], X_submission_array.shape[1], 1)\n",
    "y_submission_pred = model.predict(X_submission_rnn)\n",
    "\n",
    "# 轉乘0或1\n",
    "y_submission_pred_binary = [1 if pred > 0.5 else 0 for pred in y_submission_pred]\n",
    "y_submission_pred_binary"
   ]
  },
  {
   "cell_type": "code",
   "execution_count": 17,
   "id": "0db5f93a",
   "metadata": {
    "execution": {
     "iopub.execute_input": "2024-03-27T12:01:17.764475Z",
     "iopub.status.busy": "2024-03-27T12:01:17.763915Z",
     "iopub.status.idle": "2024-03-27T12:01:17.771065Z",
     "shell.execute_reply": "2024-03-27T12:01:17.770509Z"
    },
    "papermill": {
     "duration": 0.127425,
     "end_time": "2024-03-27T12:01:17.772422",
     "exception": false,
     "start_time": "2024-03-27T12:01:17.644997",
     "status": "completed"
    },
    "tags": []
   },
   "outputs": [],
   "source": [
    "submission = pd.DataFrame({\n",
    "    \"case_id\": X_submission[\"case_id\"].to_numpy(),\n",
    "    \"score\": y_submission_pred_binary\n",
    "}).set_index('case_id')\n",
    "submission.to_csv(\"./submission.csv\")"
   ]
  },
  {
   "cell_type": "code",
   "execution_count": 18,
   "id": "5b00acd9",
   "metadata": {
    "execution": {
     "iopub.execute_input": "2024-03-27T12:01:18.013721Z",
     "iopub.status.busy": "2024-03-27T12:01:18.013252Z",
     "iopub.status.idle": "2024-03-27T12:01:18.023329Z",
     "shell.execute_reply": "2024-03-27T12:01:18.022696Z"
    },
    "papermill": {
     "duration": 0.132117,
     "end_time": "2024-03-27T12:01:18.024821",
     "exception": false,
     "start_time": "2024-03-27T12:01:17.892704",
     "status": "completed"
    },
    "tags": []
   },
   "outputs": [
    {
     "data": {
      "text/html": [
       "<div>\n",
       "<style scoped>\n",
       "    .dataframe tbody tr th:only-of-type {\n",
       "        vertical-align: middle;\n",
       "    }\n",
       "\n",
       "    .dataframe tbody tr th {\n",
       "        vertical-align: top;\n",
       "    }\n",
       "\n",
       "    .dataframe thead th {\n",
       "        text-align: right;\n",
       "    }\n",
       "</style>\n",
       "<table border=\"1\" class=\"dataframe\">\n",
       "  <thead>\n",
       "    <tr style=\"text-align: right;\">\n",
       "      <th></th>\n",
       "      <th>case_id</th>\n",
       "      <th>score</th>\n",
       "    </tr>\n",
       "  </thead>\n",
       "  <tbody>\n",
       "    <tr>\n",
       "      <th>0</th>\n",
       "      <td>57543</td>\n",
       "      <td>0</td>\n",
       "    </tr>\n",
       "    <tr>\n",
       "      <th>1</th>\n",
       "      <td>57543</td>\n",
       "      <td>0</td>\n",
       "    </tr>\n",
       "    <tr>\n",
       "      <th>2</th>\n",
       "      <td>57549</td>\n",
       "      <td>0</td>\n",
       "    </tr>\n",
       "    <tr>\n",
       "      <th>3</th>\n",
       "      <td>57549</td>\n",
       "      <td>0</td>\n",
       "    </tr>\n",
       "    <tr>\n",
       "      <th>4</th>\n",
       "      <td>57551</td>\n",
       "      <td>0</td>\n",
       "    </tr>\n",
       "    <tr>\n",
       "      <th>5</th>\n",
       "      <td>57552</td>\n",
       "      <td>0</td>\n",
       "    </tr>\n",
       "    <tr>\n",
       "      <th>6</th>\n",
       "      <td>57569</td>\n",
       "      <td>0</td>\n",
       "    </tr>\n",
       "    <tr>\n",
       "      <th>7</th>\n",
       "      <td>57569</td>\n",
       "      <td>0</td>\n",
       "    </tr>\n",
       "    <tr>\n",
       "      <th>8</th>\n",
       "      <td>57630</td>\n",
       "      <td>0</td>\n",
       "    </tr>\n",
       "    <tr>\n",
       "      <th>9</th>\n",
       "      <td>57630</td>\n",
       "      <td>0</td>\n",
       "    </tr>\n",
       "  </tbody>\n",
       "</table>\n",
       "</div>"
      ],
      "text/plain": [
       "   case_id  score\n",
       "0    57543      0\n",
       "1    57543      0\n",
       "2    57549      0\n",
       "3    57549      0\n",
       "4    57551      0\n",
       "5    57552      0\n",
       "6    57569      0\n",
       "7    57569      0\n",
       "8    57630      0\n",
       "9    57630      0"
      ]
     },
     "execution_count": 18,
     "metadata": {},
     "output_type": "execute_result"
    }
   ],
   "source": [
    "pd.read_csv(\"./submission.csv\")"
   ]
  }
 ],
 "metadata": {
  "kaggle": {
   "accelerator": "none",
   "dataSources": [
    {
     "databundleVersionId": 7921029,
     "sourceId": 50160,
     "sourceType": "competition"
    }
   ],
   "dockerImageVersionId": 30664,
   "isGpuEnabled": false,
   "isInternetEnabled": false,
   "language": "python",
   "sourceType": "notebook"
  },
  "kernelspec": {
   "display_name": "Python 3",
   "language": "python",
   "name": "python3"
  },
  "language_info": {
   "codemirror_mode": {
    "name": "ipython",
    "version": 3
   },
   "file_extension": ".py",
   "mimetype": "text/x-python",
   "name": "python",
   "nbconvert_exporter": "python",
   "pygments_lexer": "ipython3",
   "version": "3.10.13"
  },
  "papermill": {
   "default_parameters": {},
   "duration": 220.854951,
   "end_time": "2024-03-27T12:01:20.619757",
   "environment_variables": {},
   "exception": null,
   "input_path": "__notebook__.ipynb",
   "output_path": "__notebook__.ipynb",
   "parameters": {},
   "start_time": "2024-03-27T11:57:39.764806",
   "version": "2.5.0"
  }
 },
 "nbformat": 4,
 "nbformat_minor": 5
}
