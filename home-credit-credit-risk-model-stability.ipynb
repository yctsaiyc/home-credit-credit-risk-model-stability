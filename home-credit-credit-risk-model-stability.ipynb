{
 "cells": [
  {
   "cell_type": "code",
   "execution_count": 1,
   "id": "7ce14873",
   "metadata": {
    "_cell_guid": "b1076dfc-b9ad-4769-8c92-a6c4dae69d19",
    "_uuid": "8f2839f25d086af736a60e9eeb907d3b93b6e0e5",
    "execution": {
     "iopub.execute_input": "2024-03-27T16:21:49.906467Z",
     "iopub.status.busy": "2024-03-27T16:21:49.905620Z",
     "iopub.status.idle": "2024-03-27T16:21:51.002563Z",
     "shell.execute_reply": "2024-03-27T16:21:51.001572Z"
    },
    "papermill": {
     "duration": 1.109468,
     "end_time": "2024-03-27T16:21:51.005163",
     "exception": false,
     "start_time": "2024-03-27T16:21:49.895695",
     "status": "completed"
    },
    "tags": []
   },
   "outputs": [],
   "source": [
    "import numpy as np\n",
    "import pandas as pd\n",
    "import os\n",
    "\n",
    "import polars as pl"
   ]
  },
  {
   "cell_type": "markdown",
   "id": "a6c7cbac",
   "metadata": {
    "papermill": {
     "duration": 0.00789,
     "end_time": "2024-03-27T16:21:51.021592",
     "exception": false,
     "start_time": "2024-03-27T16:21:51.013702",
     "status": "completed"
    },
    "tags": []
   },
   "source": [
    "## 資料探索與前處理"
   ]
  },
  {
   "cell_type": "markdown",
   "id": "fddc6d2d",
   "metadata": {
    "papermill": {
     "duration": 0.008133,
     "end_time": "2024-03-27T16:21:51.037838",
     "exception": false,
     "start_time": "2024-03-27T16:21:51.029705",
     "status": "completed"
    },
    "tags": []
   },
   "source": [
    "### 資料概覽\n",
    "##### 列出主要的數據特徵及統計摘要"
   ]
  },
  {
   "cell_type": "code",
   "execution_count": 2,
   "id": "a81adbb7",
   "metadata": {
    "execution": {
     "iopub.execute_input": "2024-03-27T16:21:51.055664Z",
     "iopub.status.busy": "2024-03-27T16:21:51.054797Z",
     "iopub.status.idle": "2024-03-27T16:21:51.068048Z",
     "shell.execute_reply": "2024-03-27T16:21:51.067034Z"
    },
    "papermill": {
     "duration": 0.024245,
     "end_time": "2024-03-27T16:21:51.070037",
     "exception": false,
     "start_time": "2024-03-27T16:21:51.045792",
     "status": "completed"
    },
    "tags": []
   },
   "outputs": [
    {
     "name": "stdout",
     "output_type": "stream",
     "text": [
      "目錄下有 32 個訓練資料文件\n"
     ]
    }
   ],
   "source": [
    "# 訓練資料的目錄\n",
    "projDir = \"/kaggle/input/home-credit-credit-risk-model-stability/\"\n",
    "trainDir = os.path.join(projDir, \"csv_files/train/\")\n",
    "\n",
    "# 列出目錄下所有文件\n",
    "files = os.listdir(trainDir)\n",
    "\n",
    "# 依檔名排序\n",
    "files = sorted(files)\n",
    "\n",
    "# # 印出文件名稱\n",
    "# for file in files:\n",
    "#     print(file)\n",
    "    \n",
    "# 計算文件數量\n",
    "num_files = len(files)\n",
    "print(\"目錄下有\", num_files, \"個訓練資料文件\")\n",
    "\n",
    "del num_files"
   ]
  },
  {
   "cell_type": "code",
   "execution_count": 3,
   "id": "fa1f48b3",
   "metadata": {
    "execution": {
     "iopub.execute_input": "2024-03-27T16:21:51.087892Z",
     "iopub.status.busy": "2024-03-27T16:21:51.087336Z",
     "iopub.status.idle": "2024-03-27T16:21:51.091513Z",
     "shell.execute_reply": "2024-03-27T16:21:51.090649Z"
    },
    "papermill": {
     "duration": 0.015044,
     "end_time": "2024-03-27T16:21:51.093358",
     "exception": false,
     "start_time": "2024-03-27T16:21:51.078314",
     "status": "completed"
    },
    "tags": []
   },
   "outputs": [],
   "source": [
    "# # 遍歷每個文件，僅顯示前幾行資料概況\n",
    "# for file in files:\n",
    "#     # 組合完整的檔案路徑\n",
    "#     file_path = os.path.join(trainDir, file)\n",
    "    \n",
    "#     # 讀取文件的前幾行\n",
    "#     df_head = pd.read_csv(file_path, nrows=3)\n",
    "    \n",
    "#     print(\"文件名稱:\", file)\n",
    "#     print(\"前3行資料:\")\n",
    "#     display(df_head)\n",
    "#     print(\"\\n\")\n",
    "    \n",
    "del files"
   ]
  },
  {
   "cell_type": "markdown",
   "id": "f46d4c47",
   "metadata": {
    "papermill": {
     "duration": 0.007788,
     "end_time": "2024-03-27T16:21:51.109326",
     "exception": false,
     "start_time": "2024-03-27T16:21:51.101538",
     "status": "completed"
    },
    "tags": []
   },
   "source": [
    "### 特徵工程\n",
    "##### 提取、轉換或建立新特徵以優化模型"
   ]
  },
  {
   "cell_type": "code",
   "execution_count": 4,
   "id": "3a659f7c",
   "metadata": {
    "execution": {
     "iopub.execute_input": "2024-03-27T16:21:51.127507Z",
     "iopub.status.busy": "2024-03-27T16:21:51.127225Z",
     "iopub.status.idle": "2024-03-27T16:22:54.186947Z",
     "shell.execute_reply": "2024-03-27T16:22:54.185984Z"
    },
    "papermill": {
     "duration": 63.072922,
     "end_time": "2024-03-27T16:22:54.190174",
     "exception": false,
     "start_time": "2024-03-27T16:21:51.117252",
     "status": "completed"
    },
    "tags": []
   },
   "outputs": [
    {
     "name": "stderr",
     "output_type": "stream",
     "text": [
      "/tmp/ipykernel_26/1851206736.py:5: DtypeWarning: Columns (20,45,46,53,57,84,143,146,167) have mixed types. Specify dtype option on import or set low_memory=False.\n",
      "  pd.read_csv(trainDir + 'train_static_0_0.csv'),\n",
      "/tmp/ipykernel_26/1851206736.py:6: DtypeWarning: Columns (20,45,46,56,57,84,143,146,167) have mixed types. Specify dtype option on import or set low_memory=False.\n",
      "  pd.read_csv(trainDir + 'train_static_0_1.csv')\n"
     ]
    },
    {
     "name": "stdout",
     "output_type": "stream",
     "text": [
      "[Int64, String, Int64, Int64, Float64, Float64, Float64, Float64, Float64, Float64, Float64, Float64, Float64, Float64, Float64, Float64, Float64, Float64, Float64, Float64, Float64, Float64, Float64, String, String, Float64, Float64, Float64, Float64, Float64, Float64, Float64, Float64, Float64, Float64, Float64, Float64, Float64, Float64, Float64, Float64, Float64, Float64, Float64, Float64, String, Float64, Float64, String, String, String, Float64, Float64, Float64, String, Float64, String, Float64, Boolean, Boolean, String, String, Float64, Float64, String, Float64, Float64, Boolean, Boolean, Boolean, String, String, String, String, Float64, String, String, String, Float64, Float64, Float64, String, String, Float64, String, String, String, String, String, Float64, Float64, Float64, Float64, Float64, Float64, Float64, Float64, Float64, Float64, String, Float64, Float64, Float64, Float64, Float64, Float64, Float64, Float64, Float64, Float64, Float64, Float64, Float64, Float64, Float64, Float64, Float64, Float64, Float64, Float64, Float64, Float64, Float64, Float64, Float64, Float64, Float64, Float64, Float64, Float64, Float64, Float64, Float64, Float64, Float64, Float64, Float64, Float64, Float64, Float64, Float64, Float64, Float64, Float64, Float64, Float64, Boolean, String, String, String, Float64, Float64, Float64, Float64, Float64, Float64, Float64, Float64, Float64, String, Float64, Float64, Float64, Float64, Float64, Float64, Float64, Float64, String, String, String, String, String, String, String, String, String, String, Float64, Float64, Float64, Float64, Float64, String, String, String, Float64, Float64, Float64, Float64, Float64, Float64, Float64, Float64, Float64, Float64, Float64, Float64, Float64, Float64, Float64, Float64, Float64, Float64, String, String, Float64, Float64, String, String, String, String, Float64, Float64, Float64, String, String, String, String, String, Float64, Float64, Float64, String, String, Float64, String, Boolean, Boolean, String, String, String, String, String, String, String, String, String, String, String, String, Boolean, String, Float64, String, Int64, Float64, Float64, Float64, String, String, String, String, Boolean, String, String, Boolean, String, String, Int64, Int64, String, Float64, Float64]\n"
     ]
    },
    {
     "name": "stderr",
     "output_type": "stream",
     "text": [
      "/tmp/ipykernel_26/1851206736.py:33: DeprecationWarning: named `columns` param is deprecated; use positional `*args` instead.\n",
      "  X = train_data.drop(columns=['target'])\n"
     ]
    }
   ],
   "source": [
    "# 讀取訓練數據\n",
    "train_base = pl.read_csv(trainDir + 'train_base.csv')\n",
    "\n",
    "static_dfs = [\n",
    "    pd.read_csv(trainDir + 'train_static_0_0.csv'),\n",
    "    pd.read_csv(trainDir + 'train_static_0_1.csv')\n",
    "]\n",
    "pd_df = pd.concat(static_dfs, ignore_index=True)\n",
    "del static_dfs\n",
    "train_static = pl.from_pandas(pd_df)\n",
    "\n",
    "train_static_cb = pl.read_csv(trainDir + 'train_static_cb_0.csv')\n",
    "train_person_1 = pl.read_csv(trainDir + 'train_person_1.csv') \n",
    "train_credit_bureau_b_2 = pl.read_csv(trainDir + 'train_credit_bureau_b_2.csv') \n",
    "\n",
    "# Merge all dataframes using join with how='inner'\n",
    "train_data = train_base.join(\n",
    "    train_static, on='case_id', how='inner'\n",
    ").join(\n",
    "    train_static_cb, on='case_id', how='inner'\n",
    ").join(\n",
    "    train_person_1, on='case_id', how='inner'\n",
    ").join(\n",
    "    train_credit_bureau_b_2, on='case_id', how='inner'\n",
    ")\n",
    "del train_base\n",
    "del train_static\n",
    "del train_static_cb\n",
    "del train_person_1\n",
    "del train_credit_bureau_b_2\n",
    "\n",
    "# 將目標變量和特徵變量分開\n",
    "X = train_data.drop(columns=['target'])\n",
    "y = train_data['target']\n",
    "del train_data\n",
    "\n",
    "print(X.dtypes)"
   ]
  },
  {
   "cell_type": "code",
   "execution_count": 5,
   "id": "05b8d299",
   "metadata": {
    "execution": {
     "iopub.execute_input": "2024-03-27T16:22:54.208936Z",
     "iopub.status.busy": "2024-03-27T16:22:54.208595Z",
     "iopub.status.idle": "2024-03-27T16:22:54.212415Z",
     "shell.execute_reply": "2024-03-27T16:22:54.211564Z"
    },
    "papermill": {
     "duration": 0.015174,
     "end_time": "2024-03-27T16:22:54.214276",
     "exception": false,
     "start_time": "2024-03-27T16:22:54.199102",
     "status": "completed"
    },
    "tags": []
   },
   "outputs": [],
   "source": [
    "# # X存在非數字的column，無法輸入model訓練\n",
    "# X.dtypes"
   ]
  },
  {
   "cell_type": "code",
   "execution_count": 6,
   "id": "b96f105e",
   "metadata": {
    "execution": {
     "iopub.execute_input": "2024-03-27T16:22:54.232003Z",
     "iopub.status.busy": "2024-03-27T16:22:54.231706Z",
     "iopub.status.idle": "2024-03-27T16:22:54.471769Z",
     "shell.execute_reply": "2024-03-27T16:22:54.470895Z"
    },
    "papermill": {
     "duration": 0.251448,
     "end_time": "2024-03-27T16:22:54.474048",
     "exception": false,
     "start_time": "2024-03-27T16:22:54.222600",
     "status": "completed"
    },
    "tags": []
   },
   "outputs": [],
   "source": [
    "for col in X.columns:\n",
    "    if not (X[col].dtype in (pl.Int64, pl.Float64)):\n",
    "        X = X.drop(col)"
   ]
  },
  {
   "cell_type": "code",
   "execution_count": 7,
   "id": "9a8c2f64",
   "metadata": {
    "execution": {
     "iopub.execute_input": "2024-03-27T16:22:54.492809Z",
     "iopub.status.busy": "2024-03-27T16:22:54.492459Z",
     "iopub.status.idle": "2024-03-27T16:22:54.496340Z",
     "shell.execute_reply": "2024-03-27T16:22:54.495532Z"
    },
    "papermill": {
     "duration": 0.015356,
     "end_time": "2024-03-27T16:22:54.498283",
     "exception": false,
     "start_time": "2024-03-27T16:22:54.482927",
     "status": "completed"
    },
    "tags": []
   },
   "outputs": [],
   "source": [
    "# X.dtypes"
   ]
  },
  {
   "cell_type": "code",
   "execution_count": 8,
   "id": "1e23fca6",
   "metadata": {
    "execution": {
     "iopub.execute_input": "2024-03-27T16:22:54.516336Z",
     "iopub.status.busy": "2024-03-27T16:22:54.516051Z",
     "iopub.status.idle": "2024-03-27T16:23:00.483199Z",
     "shell.execute_reply": "2024-03-27T16:23:00.482160Z"
    },
    "papermill": {
     "duration": 5.978656,
     "end_time": "2024-03-27T16:23:00.485551",
     "exception": false,
     "start_time": "2024-03-27T16:22:54.506895",
     "status": "completed"
    },
    "tags": []
   },
   "outputs": [],
   "source": [
    "from sklearn.model_selection import train_test_split\n",
    "\n",
    "# 將數據劃分為訓練集和測試集\n",
    "X_train, X_test, y_train, y_test = train_test_split(X, y, test_size=0.2, random_state=42)\n",
    "del X\n",
    "del y"
   ]
  },
  {
   "cell_type": "markdown",
   "id": "ddb61a47",
   "metadata": {
    "papermill": {
     "duration": 0.008654,
     "end_time": "2024-03-27T16:23:00.502990",
     "exception": false,
     "start_time": "2024-03-27T16:23:00.494336",
     "status": "completed"
    },
    "tags": []
   },
   "source": [
    "## 數據分析方法與模型選擇"
   ]
  },
  {
   "cell_type": "code",
   "execution_count": 9,
   "id": "77e9e8bc",
   "metadata": {
    "execution": {
     "iopub.execute_input": "2024-03-27T16:23:00.521579Z",
     "iopub.status.busy": "2024-03-27T16:23:00.521131Z",
     "iopub.status.idle": "2024-03-27T16:23:00.527317Z",
     "shell.execute_reply": "2024-03-27T16:23:00.526494Z"
    },
    "papermill": {
     "duration": 0.017391,
     "end_time": "2024-03-27T16:23:00.529262",
     "exception": false,
     "start_time": "2024-03-27T16:23:00.511871",
     "status": "completed"
    },
    "tags": []
   },
   "outputs": [],
   "source": [
    "# 取得最後三十萬筆資料(ram不夠，sample不work)\n",
    "X_train = X_train.tail(300000)\n",
    "y_train = y_train.tail(300000)\n",
    "\n",
    "# bst = lgb.train(params, lgb_train, num_round, valid_sets=[lgb_train, lgb_test])\n",
    "# TypeError: Wrong type(Series) for label. It should be list, numpy 1-D array or pandas Series\n",
    "y_train = y_train.to_numpy()\n",
    "y_test = y_test.to_numpy()"
   ]
  },
  {
   "cell_type": "code",
   "execution_count": 10,
   "id": "863e48f4",
   "metadata": {
    "execution": {
     "iopub.execute_input": "2024-03-27T16:23:00.547862Z",
     "iopub.status.busy": "2024-03-27T16:23:00.547551Z",
     "iopub.status.idle": "2024-03-27T16:23:00.551240Z",
     "shell.execute_reply": "2024-03-27T16:23:00.550403Z"
    },
    "papermill": {
     "duration": 0.015363,
     "end_time": "2024-03-27T16:23:00.553254",
     "exception": false,
     "start_time": "2024-03-27T16:23:00.537891",
     "status": "completed"
    },
    "tags": []
   },
   "outputs": [],
   "source": [
    "# # 看target值的分布\n",
    "# np.unique(y_train, return_counts=True)"
   ]
  },
  {
   "cell_type": "markdown",
   "id": "05e0c6df",
   "metadata": {
    "papermill": {
     "duration": 0.008424,
     "end_time": "2024-03-27T16:23:00.570584",
     "exception": false,
     "start_time": "2024-03-27T16:23:00.562160",
     "status": "completed"
    },
    "tags": []
   },
   "source": [
    "### Oversampling"
   ]
  },
  {
   "cell_type": "code",
   "execution_count": 11,
   "id": "cec77f0f",
   "metadata": {
    "execution": {
     "iopub.execute_input": "2024-03-27T16:23:00.589244Z",
     "iopub.status.busy": "2024-03-27T16:23:00.588964Z",
     "iopub.status.idle": "2024-03-27T16:23:00.593497Z",
     "shell.execute_reply": "2024-03-27T16:23:00.592630Z"
    },
    "papermill": {
     "duration": 0.016208,
     "end_time": "2024-03-27T16:23:00.595580",
     "exception": false,
     "start_time": "2024-03-27T16:23:00.579372",
     "status": "completed"
    },
    "tags": []
   },
   "outputs": [],
   "source": [
    "# # 過取樣: 增加target=1的data\n",
    "\n",
    "# from sklearn.impute import SimpleImputer\n",
    "# from imblearn.over_sampling import SMOTE\n",
    "\n",
    "# # 創建 SimpleImputer 對象，用於填補NaN值\n",
    "# imputer = SimpleImputer(strategy='mean')\n",
    "\n",
    "# # 填補NaN值\n",
    "# X_train = imputer.fit_transform(X_train)\n",
    "\n",
    "# # 設置合成目標樣本數量\n",
    "# synthetic_target_count = 279555\n",
    "\n",
    "# # 初始化 SMOTE\n",
    "# smote = SMOTE(sampling_strategy={1: synthetic_target_count})\n",
    "\n",
    "# # 使用 SMOTE 生成合成少數類樣本\n",
    "# X_train, y_train = smote.fit_resample(X_train, y_train)\n",
    "\n",
    "# # 檢查合成後的資料量\n",
    "# print(\"合成後的資料量：\", len(X_train))\n",
    "\n",
    "# # 檢查合成後的目標資料分佈\n",
    "# unique, counts = np.unique(y_train, return_counts=True)\n",
    "# print(\"合成後的目標資料分佈：\", dict(zip(unique, counts)))"
   ]
  },
  {
   "cell_type": "markdown",
   "id": "2f01832e",
   "metadata": {
    "papermill": {
     "duration": 0.008818,
     "end_time": "2024-03-27T16:23:00.613454",
     "exception": false,
     "start_time": "2024-03-27T16:23:00.604636",
     "status": "completed"
    },
    "tags": []
   },
   "source": [
    "### Undersampling"
   ]
  },
  {
   "cell_type": "code",
   "execution_count": 12,
   "id": "17ced181",
   "metadata": {
    "execution": {
     "iopub.execute_input": "2024-03-27T16:23:00.632795Z",
     "iopub.status.busy": "2024-03-27T16:23:00.632260Z",
     "iopub.status.idle": "2024-03-27T16:23:01.950338Z",
     "shell.execute_reply": "2024-03-27T16:23:01.949247Z"
    },
    "papermill": {
     "duration": 1.330212,
     "end_time": "2024-03-27T16:23:01.952706",
     "exception": false,
     "start_time": "2024-03-27T16:23:00.622494",
     "status": "completed"
    },
    "tags": []
   },
   "outputs": [
    {
     "name": "stdout",
     "output_type": "stream",
     "text": [
      "欠採樣後的資料量： 40890\n",
      "欠採樣後的目標資料分佈： {0: 20445, 1: 20445}\n"
     ]
    }
   ],
   "source": [
    "# 欠採樣: 減少target=0的data\n",
    "\n",
    "from sklearn.utils import resample\n",
    "\n",
    "# 將 DataFrame 轉換為 NumPy 陣列\n",
    "X_train = X_train.to_numpy()\n",
    "X_test = X_test.to_numpy()\n",
    "\n",
    "# 隨機抽取與目標樣本數量相同的非目標樣本\n",
    "X_train_0, y_train_0 = resample(X_train[y_train == 0], y_train[y_train == 0], replace=False, n_samples=np.sum(y_train == 1))\n",
    "\n",
    "# 合併目標樣本和非目標樣本\n",
    "X_train = np.concatenate((X_train_0, X_train[y_train == 1]), axis=0)\n",
    "y_train = np.concatenate((y_train_0, y_train[y_train == 1]), axis=0)\n",
    "\n",
    "# 檢查欠採樣後的資料量\n",
    "print(\"欠採樣後的資料量：\", len(X_train))\n",
    "\n",
    "# 檢查欠採樣後的目標資料分佈\n",
    "unique, counts = np.unique(y_train, return_counts=True)\n",
    "print(\"欠採樣後的目標資料分佈：\", dict(zip(unique, counts)))"
   ]
  },
  {
   "cell_type": "markdown",
   "id": "f9be136f",
   "metadata": {
    "papermill": {
     "duration": 0.008912,
     "end_time": "2024-03-27T16:23:01.970669",
     "exception": false,
     "start_time": "2024-03-27T16:23:01.961757",
     "status": "completed"
    },
    "tags": []
   },
   "source": [
    "### Model1. 梯度提升樹（Gradient Boosting Decision Tree，GBDT）\n",
    "##### 優點：\n",
    "##### 1. 高效性： LightGBM 是一種高效的梯度提升樹模型，具有優秀的訓練速度和預測速度。它使用了基於直方圖的方法來加速訓練過程，並且通常比其他梯度提升樹庫（如XGBoost）更快。\n",
    "##### 2. 低內存使用： LightGBM 使用了一種稱為GOSS（Gradient-based One-Side Sampling）的方法，在訓練過程中減少了內存使用。這使得它可以處理大型數據集而不會出現內存不足的問題。\n",
    "##### 3. 高準確性： LightGBM 在處理大型和高維數據集時通常表現出色，並且提供了很好的預測性能。\n",
    "##### 4. 支持並行處理： LightGBM 支持並行處理，可以在多核 CPU 上進行訓練，從而加速了訓練過程。\n",
    "##### 5. 自動處理類別特徵： LightGBM 可以自動處理類別特徵，無需額外的編碼。\n",
    "##### 缺點：\n",
    "##### 1. 對參數敏感： 與其他梯度提升樹模型一樣，LightGBM 的性能取決於參數的調整，對參數較為敏感，需要一些經驗和時間來進行調參。\n",
    "##### 2. 需要較多數據： LightGBM 在處理小型數據集時可能不如其他模型表現好，因為它的高效性主要體現在處理大型數據集時"
   ]
  },
  {
   "cell_type": "code",
   "execution_count": 13,
   "id": "c8ae3c0a",
   "metadata": {
    "execution": {
     "iopub.execute_input": "2024-03-27T16:23:01.989322Z",
     "iopub.status.busy": "2024-03-27T16:23:01.989041Z",
     "iopub.status.idle": "2024-03-27T16:23:01.993943Z",
     "shell.execute_reply": "2024-03-27T16:23:01.993073Z"
    },
    "papermill": {
     "duration": 0.016613,
     "end_time": "2024-03-27T16:23:01.996077",
     "exception": false,
     "start_time": "2024-03-27T16:23:01.979464",
     "status": "completed"
    },
    "tags": []
   },
   "outputs": [],
   "source": [
    "# import lightgbm as lgb\n",
    "\n",
    "# # 創建 LightGBM 的訓練資料集\n",
    "# lgb_train = lgb.Dataset(X_train, y_train)\n",
    "# lgb_test = lgb.Dataset(X_test, y_test, reference=lgb_train)\n",
    "# del X_train\n",
    "# del y_train\n",
    "\n",
    "# # 設置參數\n",
    "# params = {\n",
    "#     'boosting_type': 'gbdt',         # 使用梯度提升樹\n",
    "#     'objective': 'binary',           # 二元分類任務\n",
    "#     'metric': 'binary_error',        # 評估指標為二元分類錯誤率\n",
    "#     'num_leaves': 31,                # 每棵樹的最大葉子數量\n",
    "#     'learning_rate': 0.05,           # 學習速率\n",
    "#     'feature_fraction': 0.9,         # 特徵抽樣比例\n",
    "#     'bagging_fraction': 0.8,         # 樣本抽樣比例\n",
    "#     'bagging_freq': 5,               # 樣本抽樣的頻率\n",
    "#     'verbose': 0,                    # 顯示訓練信息\n",
    "#     'early_stopping_rounds': 10\n",
    "# }\n",
    "\n",
    "# # 訓練模型\n",
    "# num_round = 100                      # 迭代輪次\n",
    "# bst = lgb.train(params, lgb_train, num_round, valid_sets=[lgb_train, lgb_test])\n",
    "\n",
    "# # 預測\n",
    "# y_pred = bst.predict(X_test, num_iteration=bst.best_iteration)\n",
    "# y_pred_binary = [1 if pred > 0.5 else 0 for pred in y_pred]"
   ]
  },
  {
   "cell_type": "markdown",
   "id": "cb75fcc3",
   "metadata": {
    "papermill": {
     "duration": 0.009227,
     "end_time": "2024-03-27T16:23:02.014198",
     "exception": false,
     "start_time": "2024-03-27T16:23:02.004971",
     "status": "completed"
    },
    "tags": []
   },
   "source": [
    "### Model2. RNN\n",
    "##### RNN的優點：\n",
    "##### 1. 能夠處理序列數據，保留先前時間步的信息。\n",
    "##### 2. 模型相對較簡單，易於理解和實現。\n",
    "##### RNN的缺點：\n",
    "##### 3. 容易出現梯度消失或梯度爆炸的問題，尤其在處理長序列數據時效果不佳。\n",
    "##### 4. 難以捕捉長期依賴關係"
   ]
  },
  {
   "cell_type": "code",
   "execution_count": 14,
   "id": "89a43fc2",
   "metadata": {
    "execution": {
     "iopub.execute_input": "2024-03-27T16:23:02.032630Z",
     "iopub.status.busy": "2024-03-27T16:23:02.032330Z",
     "iopub.status.idle": "2024-03-27T16:23:02.037815Z",
     "shell.execute_reply": "2024-03-27T16:23:02.036995Z"
    },
    "papermill": {
     "duration": 0.01651,
     "end_time": "2024-03-27T16:23:02.039541",
     "exception": false,
     "start_time": "2024-03-27T16:23:02.023031",
     "status": "completed"
    },
    "tags": []
   },
   "outputs": [],
   "source": [
    "def focal_loss(y_true, y_pred, alpha=0.25, gamma=2.0):\n",
    "    # Calculate cross entropy loss\n",
    "    ce_loss = tf.keras.losses.binary_crossentropy(y_true, y_pred, from_logits=False)\n",
    "    \n",
    "    # Calculate focal weights\n",
    "    p_t = y_true * y_pred + (1 - y_true) * (1 - y_pred)\n",
    "    focal_weight = alpha * tf.pow(1 - p_t, gamma)\n",
    "    \n",
    "    # Apply focal weights to cross entropy loss\n",
    "    focal_loss = focal_weight * ce_loss\n",
    "    \n",
    "    # Return the mean loss over the batch\n",
    "    return tf.reduce_mean(focal_loss)"
   ]
  },
  {
   "cell_type": "code",
   "execution_count": 15,
   "id": "44418c3d",
   "metadata": {
    "execution": {
     "iopub.execute_input": "2024-03-27T16:23:02.058143Z",
     "iopub.status.busy": "2024-03-27T16:23:02.057876Z",
     "iopub.status.idle": "2024-03-27T16:31:39.987792Z",
     "shell.execute_reply": "2024-03-27T16:31:39.986653Z"
    },
    "papermill": {
     "duration": 517.941919,
     "end_time": "2024-03-27T16:31:39.990244",
     "exception": false,
     "start_time": "2024-03-27T16:23:02.048325",
     "status": "completed"
    },
    "tags": []
   },
   "outputs": [
    {
     "name": "stderr",
     "output_type": "stream",
     "text": [
      "2024-03-27 16:23:04.224581: E external/local_xla/xla/stream_executor/cuda/cuda_dnn.cc:9261] Unable to register cuDNN factory: Attempting to register factory for plugin cuDNN when one has already been registered\n",
      "2024-03-27 16:23:04.224689: E external/local_xla/xla/stream_executor/cuda/cuda_fft.cc:607] Unable to register cuFFT factory: Attempting to register factory for plugin cuFFT when one has already been registered\n",
      "2024-03-27 16:23:04.393990: E external/local_xla/xla/stream_executor/cuda/cuda_blas.cc:1515] Unable to register cuBLAS factory: Attempting to register factory for plugin cuBLAS when one has already been registered\n",
      "/opt/conda/lib/python3.10/site-packages/keras/src/layers/rnn/rnn.py:205: UserWarning: Do not pass an `input_shape`/`input_dim` argument to a layer. When using Sequential models, prefer using an `Input(shape)` object as the first layer in the model instead.\n",
      "  super().__init__(**kwargs)\n"
     ]
    },
    {
     "name": "stdout",
     "output_type": "stream",
     "text": [
      "Epoch 1/3\n",
      "\u001b[1m  2/320\u001b[0m \u001b[37m━━━━━━━━━━━━━━━━━━━━\u001b[0m \u001b[1m25s\u001b[0m 79ms/step - accuracy: 0.5215 - loss: nan "
     ]
    },
    {
     "name": "stderr",
     "output_type": "stream",
     "text": [
      "WARNING: All log messages before absl::InitializeLog() is called are written to STDERR\n",
      "I0000 00:00:1711556606.190353      77 device_compiler.h:186] Compiled cluster using XLA!  This line is logged at most once for the lifetime of the process.\n"
     ]
    },
    {
     "name": "stdout",
     "output_type": "stream",
     "text": [
      "\u001b[1m320/320\u001b[0m \u001b[32m━━━━━━━━━━━━━━━━━━━━\u001b[0m\u001b[37m\u001b[0m \u001b[1m68s\u001b[0m 182ms/step - accuracy: 0.5001 - loss: nan - val_accuracy: 0.9315 - val_loss: nan\n",
      "Epoch 2/3\n",
      "\u001b[1m320/320\u001b[0m \u001b[32m━━━━━━━━━━━━━━━━━━━━\u001b[0m\u001b[37m\u001b[0m \u001b[1m66s\u001b[0m 153ms/step - accuracy: 0.4992 - loss: nan - val_accuracy: 0.9315 - val_loss: nan\n",
      "Epoch 3/3\n",
      "\u001b[1m320/320\u001b[0m \u001b[32m━━━━━━━━━━━━━━━━━━━━\u001b[0m\u001b[37m\u001b[0m \u001b[1m82s\u001b[0m 153ms/step - accuracy: 0.5014 - loss: nan - val_accuracy: 0.9315 - val_loss: nan\n",
      "\u001b[1m17989/17989\u001b[0m \u001b[32m━━━━━━━━━━━━━━━━━━━━\u001b[0m\u001b[37m\u001b[0m \u001b[1m147s\u001b[0m 8ms/step - accuracy: 0.9320 - loss: nan\n",
      "\u001b[1m17989/17989\u001b[0m \u001b[32m━━━━━━━━━━━━━━━━━━━━\u001b[0m\u001b[37m\u001b[0m \u001b[1m125s\u001b[0m 7ms/step\n"
     ]
    }
   ],
   "source": [
    "import tensorflow as tf\n",
    "from tensorflow.keras.models import Sequential\n",
    "from tensorflow.keras.layers import SimpleRNN, Dense, Dropout\n",
    "from tensorflow.keras.callbacks import EarlyStopping\n",
    "from tensorflow.keras.optimizers import AdamW\n",
    "# from sklearn.utils.class_weight import compute_class_weight\n",
    "\n",
    "# 將資料轉換成3D形狀\n",
    "X_train = X_train.reshape(X_train.shape[0], X_train.shape[1], 1)\n",
    "X_test = X_test.reshape(X_test.shape[0], X_test.shape[1], 1)\n",
    "\n",
    "# 創建 Sequential 模型\n",
    "model = Sequential()\n",
    "\n",
    "# 添加第一層 SimpleRNN 層\n",
    "model.add(SimpleRNN(50, return_sequences=True, input_shape=(X_train.shape[1], X_train.shape[2]), activation='relu'))\n",
    "model.add(Dropout(0.3))  # 添加 dropout 避免過擬合\n",
    "\n",
    "# 添加第二層 SimpleRNN 層\n",
    "model.add(SimpleRNN(50, return_sequences=True, activation='relu'))\n",
    "model.add(Dropout(0.3))\n",
    "\n",
    "# 添加第三層 SimpleRNN 層\n",
    "model.add(SimpleRNN(50, activation='relu'))\n",
    "model.add(Dropout(0.3))\n",
    "\n",
    "# 添加輸出層\n",
    "model.add(Dense(1, activation='sigmoid'))\n",
    "\n",
    "# 定義 AdamW 優化器，設置初始學習率和權重衰減\n",
    "# 嘗試不同的優化器 ：AdamW是Adam的一個變種，引入了一個額外的權重衰減（Weight Decay）項目，有助於減小參數的數值大小，從而減少過擬合的風險。\n",
    "# 調整學習率（Learning Rate）：嘗試不同的學習率值，有時降低學習率可以幫助模型更好地收斂，特別是在資料不平衡的情況下。\n",
    "optimizer = AdamW(learning_rate=0.001, weight_decay=1e-4)\n",
    "\n",
    "# 編譯模型\n",
    "# focal_loss 損失函數，可以自動為少數類別分配更大的權重\n",
    "model.compile(optimizer=optimizer, loss=focal_loss, metrics=['accuracy'])\n",
    "\n",
    "# 定義 EarlyStopping\n",
    "# 調整Early Stopping的參數：嘗試不同的patience值，以及monitor參數，這可能會影響到模型的停止訓練的時機。\n",
    "early_stopping = EarlyStopping(patience=10, monitor='val_loss', restore_best_weights=True)\n",
    "\n",
    "# 設置類別加權，例如給予類別0權重1，給予類別1權重100\n",
    "# 1. 使用 np.unique(y_train) 函數獲取訓練數據中所有類別的標籤。\n",
    "# 2. 使用 compute_class_weight 函數計算每個類別的權重，參數 'balanced' 指定使用平衡策略。\n",
    "# 3. 將計算出的類別權重存儲在 class_weight 字典中\n",
    "# class_weight = compute_class_weight('balanced', np.unique(y_train), y_train)\n",
    "class_weight = {0: 1, 1: 100}\n",
    "\n",
    "# 訓練模型\n",
    "# 批量大小: 嘗試減小批量大小，可以讓模型在每個更新步驟中看到更多樣化的樣本，可能有助於緩解數據不平衡問題。\n",
    "history = model.fit(X_train, y_train, epochs=3, batch_size=128, validation_data=(X_test, y_test), callbacks=[early_stopping], class_weight=class_weight) # class_weight='balanced' not work\n",
    "\n",
    "# 評估\n",
    "model.evaluate(X_test, y_test)\n",
    "\n",
    "# 預測\n",
    "y_pred = model.predict(X_test)\n",
    "y_pred_binary = [1 if pred > 0.5 else 0 for pred in y_pred]"
   ]
  },
  {
   "cell_type": "markdown",
   "id": "52843c20",
   "metadata": {
    "papermill": {
     "duration": 0.440813,
     "end_time": "2024-03-27T16:31:40.869638",
     "exception": false,
     "start_time": "2024-03-27T16:31:40.428825",
     "status": "completed"
    },
    "tags": []
   },
   "source": [
    "### Model3. LSTM\n",
    "##### LSTM的優點：\n",
    "##### 1. 能夠有效地解決梯度消失或梯度爆炸的問題，能夠處理長序列數據。\n",
    "##### 2. 能夠捕捉長期依賴關係，適用於需要考慮長期記憶的任務。\n",
    "##### LSTM的缺點：\n",
    "##### 1. 模型相對複雜，訓練時間較長。\n",
    "##### 2. 需要調參和優化，有時可能會出現過擬合的問題。"
   ]
  },
  {
   "cell_type": "code",
   "execution_count": 16,
   "id": "8d1c395e",
   "metadata": {
    "execution": {
     "iopub.execute_input": "2024-03-27T16:31:41.738782Z",
     "iopub.status.busy": "2024-03-27T16:31:41.738395Z",
     "iopub.status.idle": "2024-03-27T16:31:41.744279Z",
     "shell.execute_reply": "2024-03-27T16:31:41.743380Z"
    },
    "papermill": {
     "duration": 0.443744,
     "end_time": "2024-03-27T16:31:41.746257",
     "exception": false,
     "start_time": "2024-03-27T16:31:41.302513",
     "status": "completed"
    },
    "tags": []
   },
   "outputs": [],
   "source": [
    "# import tensorflow as tf\n",
    "# from tensorflow.keras.models import Sequential\n",
    "# from tensorflow.keras.layers import LSTM, Dense, Dropout\n",
    "# from tensorflow.keras.callbacks import EarlyStopping\n",
    "\n",
    "# # 將 DataFrame 轉換為 NumPy 陣列\n",
    "# X_train = X_train.to_numpy()\n",
    "# X_test = X_test.to_numpy()\n",
    "\n",
    "# # 將資料轉換成3D形狀\n",
    "# X_train = X_train.reshape(X_train.shape[0], X_train.shape[1], 1)\n",
    "# X_test = X_test.reshape(X_test.shape[0], X_test.shape[1], 1)\n",
    "\n",
    "# # 創建 Sequential 模型\n",
    "# model = Sequential()\n",
    "\n",
    "# # 添加第一層 LSTM 層\n",
    "# model.add(LSTM(50, return_sequences=True, input_shape=(X_train.shape[1], X_train.shape[2]), activation='relu'))\n",
    "# model.add(Dropout(0.3))  # 添加 dropout 避免過擬合\n",
    "\n",
    "# # 添加第二層 LSTM 層\n",
    "# model.add(LSTM(50, return_sequences=True, activation='relu'))\n",
    "# model.add(Dropout(0.3))  # 添加 dropout 避免過擬合\n",
    "\n",
    "# # 添加第三層 LSTM 層\n",
    "# model.add(LSTM(50, activation='relu'))\n",
    "# model.add(Dropout(0.3))  # 添加 dropout 避免過擬合\n",
    "\n",
    "# # 添加輸出層\n",
    "# model.add(Dense(1, activation='sigmoid'))\n",
    "\n",
    "# # 編譯模型\n",
    "# model.compile(optimizer='adam', loss='binary_crossentropy', metrics=['accuracy'])\n",
    "\n",
    "# # 定義 EarlyStopping\n",
    "# early_stopping = EarlyStopping(patience=5, monitor='val_loss', restore_best_weights=True)\n",
    "\n",
    "# # 設置類別加權，例如給予類別0權重1，給予類別1權重100\n",
    "# class_weight = {0: 1, 1: 100}\n",
    "\n",
    "# # 訓練模型\n",
    "# history = model.fit(X_train, y_train, epochs=1, batch_size=2048, validation_data=(X_test, y_test), callbacks=[early_stopping], class_weight=class_weight)\n",
    "\n",
    "# # 預測\n",
    "# y_pred = model.predict(X_test)\n",
    "# y_pred_binary = [1 if pred > 0.5 else 0 for pred in y_pred]"
   ]
  },
  {
   "cell_type": "markdown",
   "id": "2b56c497",
   "metadata": {
    "papermill": {
     "duration": 0.432275,
     "end_time": "2024-03-27T16:31:42.660936",
     "exception": false,
     "start_time": "2024-03-27T16:31:42.228661",
     "status": "completed"
    },
    "tags": []
   },
   "source": [
    "## 評估模型"
   ]
  },
  {
   "cell_type": "code",
   "execution_count": 17,
   "id": "133ae596",
   "metadata": {
    "execution": {
     "iopub.execute_input": "2024-03-27T16:31:43.546583Z",
     "iopub.status.busy": "2024-03-27T16:31:43.546228Z",
     "iopub.status.idle": "2024-03-27T16:31:45.102708Z",
     "shell.execute_reply": "2024-03-27T16:31:45.101661Z"
    },
    "papermill": {
     "duration": 2.005858,
     "end_time": "2024-03-27T16:31:45.105586",
     "exception": false,
     "start_time": "2024-03-27T16:31:43.099728",
     "status": "completed"
    },
    "tags": []
   },
   "outputs": [
    {
     "name": "stdout",
     "output_type": "stream",
     "text": [
      "準確率: 0.9315008286400228\n",
      "分類報告:\n"
     ]
    },
    {
     "name": "stderr",
     "output_type": "stream",
     "text": [
      "/opt/conda/lib/python3.10/site-packages/sklearn/metrics/_classification.py:1344: UndefinedMetricWarning: Precision and F-score are ill-defined and being set to 0.0 in labels with no predicted samples. Use `zero_division` parameter to control this behavior.\n",
      "  _warn_prf(average, modifier, msg_start, len(result))\n",
      "/opt/conda/lib/python3.10/site-packages/sklearn/metrics/_classification.py:1344: UndefinedMetricWarning: Precision and F-score are ill-defined and being set to 0.0 in labels with no predicted samples. Use `zero_division` parameter to control this behavior.\n",
      "  _warn_prf(average, modifier, msg_start, len(result))\n"
     ]
    },
    {
     "name": "stdout",
     "output_type": "stream",
     "text": [
      "              precision    recall  f1-score   support\n",
      "\n",
      "           0       0.93      1.00      0.96    536211\n",
      "           1       0.00      0.00      0.00     39431\n",
      "\n",
      "    accuracy                           0.93    575642\n",
      "   macro avg       0.47      0.50      0.48    575642\n",
      "weighted avg       0.87      0.93      0.90    575642\n",
      "\n"
     ]
    },
    {
     "name": "stderr",
     "output_type": "stream",
     "text": [
      "/opt/conda/lib/python3.10/site-packages/sklearn/metrics/_classification.py:1344: UndefinedMetricWarning: Precision and F-score are ill-defined and being set to 0.0 in labels with no predicted samples. Use `zero_division` parameter to control this behavior.\n",
      "  _warn_prf(average, modifier, msg_start, len(result))\n"
     ]
    }
   ],
   "source": [
    "from sklearn.metrics import accuracy_score, classification_report\n",
    "\n",
    "# 評估模型\n",
    "accuracy = accuracy_score(y_test, y_pred_binary)\n",
    "print(\"準確率:\", accuracy)\n",
    "\n",
    "# 顯示分類報告\n",
    "print(\"分類報告:\")\n",
    "print(classification_report(y_test, y_pred_binary))"
   ]
  },
  {
   "cell_type": "markdown",
   "id": "3775ee6e",
   "metadata": {
    "papermill": {
     "duration": 0.483176,
     "end_time": "2024-03-27T16:31:46.037148",
     "exception": false,
     "start_time": "2024-03-27T16:31:45.553972",
     "status": "completed"
    },
    "tags": []
   },
   "source": [
    "## Submission"
   ]
  },
  {
   "cell_type": "code",
   "execution_count": 18,
   "id": "50e57c14",
   "metadata": {
    "execution": {
     "iopub.execute_input": "2024-03-27T16:31:46.912826Z",
     "iopub.status.busy": "2024-03-27T16:31:46.912108Z",
     "iopub.status.idle": "2024-03-27T16:31:46.947183Z",
     "shell.execute_reply": "2024-03-27T16:31:46.946308Z"
    },
    "papermill": {
     "duration": 0.477707,
     "end_time": "2024-03-27T16:31:46.949232",
     "exception": false,
     "start_time": "2024-03-27T16:31:46.471525",
     "status": "completed"
    },
    "tags": []
   },
   "outputs": [
    {
     "data": {
      "text/html": [
       "<div>\n",
       "<style scoped>\n",
       "    .dataframe tbody tr th:only-of-type {\n",
       "        vertical-align: middle;\n",
       "    }\n",
       "\n",
       "    .dataframe tbody tr th {\n",
       "        vertical-align: top;\n",
       "    }\n",
       "\n",
       "    .dataframe thead th {\n",
       "        text-align: right;\n",
       "    }\n",
       "</style>\n",
       "<table border=\"1\" class=\"dataframe\">\n",
       "  <thead>\n",
       "    <tr style=\"text-align: right;\">\n",
       "      <th></th>\n",
       "      <th>case_id</th>\n",
       "      <th>MONTH</th>\n",
       "      <th>WEEK_NUM</th>\n",
       "    </tr>\n",
       "  </thead>\n",
       "  <tbody>\n",
       "    <tr>\n",
       "      <th>0</th>\n",
       "      <td>57543</td>\n",
       "      <td>202201</td>\n",
       "      <td>100</td>\n",
       "    </tr>\n",
       "    <tr>\n",
       "      <th>1</th>\n",
       "      <td>57549</td>\n",
       "      <td>202201</td>\n",
       "      <td>100</td>\n",
       "    </tr>\n",
       "    <tr>\n",
       "      <th>2</th>\n",
       "      <td>57551</td>\n",
       "      <td>202201</td>\n",
       "      <td>100</td>\n",
       "    </tr>\n",
       "    <tr>\n",
       "      <th>3</th>\n",
       "      <td>57552</td>\n",
       "      <td>202201</td>\n",
       "      <td>100</td>\n",
       "    </tr>\n",
       "    <tr>\n",
       "      <th>4</th>\n",
       "      <td>57569</td>\n",
       "      <td>202201</td>\n",
       "      <td>100</td>\n",
       "    </tr>\n",
       "    <tr>\n",
       "      <th>5</th>\n",
       "      <td>57630</td>\n",
       "      <td>202201</td>\n",
       "      <td>100</td>\n",
       "    </tr>\n",
       "    <tr>\n",
       "      <th>6</th>\n",
       "      <td>57631</td>\n",
       "      <td>202201</td>\n",
       "      <td>100</td>\n",
       "    </tr>\n",
       "    <tr>\n",
       "      <th>7</th>\n",
       "      <td>57632</td>\n",
       "      <td>202201</td>\n",
       "      <td>100</td>\n",
       "    </tr>\n",
       "    <tr>\n",
       "      <th>8</th>\n",
       "      <td>57633</td>\n",
       "      <td>202201</td>\n",
       "      <td>100</td>\n",
       "    </tr>\n",
       "    <tr>\n",
       "      <th>9</th>\n",
       "      <td>57634</td>\n",
       "      <td>202201</td>\n",
       "      <td>100</td>\n",
       "    </tr>\n",
       "  </tbody>\n",
       "</table>\n",
       "</div>"
      ],
      "text/plain": [
       "   case_id   MONTH  WEEK_NUM\n",
       "0    57543  202201       100\n",
       "1    57549  202201       100\n",
       "2    57551  202201       100\n",
       "3    57552  202201       100\n",
       "4    57569  202201       100\n",
       "5    57630  202201       100\n",
       "6    57631  202201       100\n",
       "7    57632  202201       100\n",
       "8    57633  202201       100\n",
       "9    57634  202201       100"
      ]
     },
     "execution_count": 18,
     "metadata": {},
     "output_type": "execute_result"
    }
   ],
   "source": [
    "submissionDir = os.path.join(projDir, \"csv_files/test/\")\n",
    "submission_path = os.path.join(submissionDir, 'test_base.csv')\n",
    "X_submission = pd.read_csv(submission_path)\n",
    "\n",
    "X_submission = X_submission.drop('date_decision', axis=1)\n",
    "X_submission"
   ]
  },
  {
   "cell_type": "code",
   "execution_count": 19,
   "id": "e9416eae",
   "metadata": {
    "execution": {
     "iopub.execute_input": "2024-03-27T16:31:47.852501Z",
     "iopub.status.busy": "2024-03-27T16:31:47.851699Z",
     "iopub.status.idle": "2024-03-27T16:31:48.742036Z",
     "shell.execute_reply": "2024-03-27T16:31:48.741088Z"
    },
    "papermill": {
     "duration": 1.343768,
     "end_time": "2024-03-27T16:31:48.744070",
     "exception": false,
     "start_time": "2024-03-27T16:31:47.400302",
     "status": "completed"
    },
    "tags": []
   },
   "outputs": [
    {
     "name": "stdout",
     "output_type": "stream",
     "text": [
      "\u001b[1m1/1\u001b[0m \u001b[32m━━━━━━━━━━━━━━━━━━━━\u001b[0m\u001b[37m\u001b[0m \u001b[1m1s\u001b[0m 830ms/step\n"
     ]
    },
    {
     "data": {
      "text/plain": [
       "[0, 0, 0, 0, 0, 0, 0, 0, 0, 0]"
      ]
     },
     "execution_count": 19,
     "metadata": {},
     "output_type": "execute_result"
    }
   ],
   "source": [
    "# # LGBM\n",
    "# y_submission_pred = bst.predict(X_submission, num_iteration=bst.best_iteration, predict_disable_shape_check=True)\n",
    "\n",
    "# RNN, LSTM\n",
    "X_submission_array = X_submission.to_numpy()\n",
    "X_submission_rnn = X_submission_array.reshape(X_submission_array.shape[0], X_submission_array.shape[1], 1)\n",
    "y_submission_pred = model.predict(X_submission_rnn)\n",
    "\n",
    "# 轉成0或1\n",
    "y_submission_pred_binary = [1 if pred > 0.5 else 0 for pred in y_submission_pred]\n",
    "y_submission_pred_binary"
   ]
  },
  {
   "cell_type": "code",
   "execution_count": 20,
   "id": "062310cb",
   "metadata": {
    "execution": {
     "iopub.execute_input": "2024-03-27T16:31:49.682150Z",
     "iopub.status.busy": "2024-03-27T16:31:49.681338Z",
     "iopub.status.idle": "2024-03-27T16:31:49.689980Z",
     "shell.execute_reply": "2024-03-27T16:31:49.689097Z"
    },
    "papermill": {
     "duration": 0.497474,
     "end_time": "2024-03-27T16:31:49.691903",
     "exception": false,
     "start_time": "2024-03-27T16:31:49.194429",
     "status": "completed"
    },
    "tags": []
   },
   "outputs": [],
   "source": [
    "submission = pd.DataFrame({\n",
    "    \"case_id\": X_submission[\"case_id\"].to_numpy(),\n",
    "    \"score\": y_submission_pred_binary\n",
    "}).set_index('case_id')\n",
    "submission.to_csv(\"./submission.csv\")"
   ]
  },
  {
   "cell_type": "code",
   "execution_count": 21,
   "id": "f5cd6ec6",
   "metadata": {
    "execution": {
     "iopub.execute_input": "2024-03-27T16:31:50.575786Z",
     "iopub.status.busy": "2024-03-27T16:31:50.575414Z",
     "iopub.status.idle": "2024-03-27T16:31:50.587251Z",
     "shell.execute_reply": "2024-03-27T16:31:50.586394Z"
    },
    "papermill": {
     "duration": 0.463089,
     "end_time": "2024-03-27T16:31:50.589215",
     "exception": false,
     "start_time": "2024-03-27T16:31:50.126126",
     "status": "completed"
    },
    "tags": []
   },
   "outputs": [
    {
     "data": {
      "text/html": [
       "<div>\n",
       "<style scoped>\n",
       "    .dataframe tbody tr th:only-of-type {\n",
       "        vertical-align: middle;\n",
       "    }\n",
       "\n",
       "    .dataframe tbody tr th {\n",
       "        vertical-align: top;\n",
       "    }\n",
       "\n",
       "    .dataframe thead th {\n",
       "        text-align: right;\n",
       "    }\n",
       "</style>\n",
       "<table border=\"1\" class=\"dataframe\">\n",
       "  <thead>\n",
       "    <tr style=\"text-align: right;\">\n",
       "      <th></th>\n",
       "      <th>case_id</th>\n",
       "      <th>score</th>\n",
       "    </tr>\n",
       "  </thead>\n",
       "  <tbody>\n",
       "    <tr>\n",
       "      <th>0</th>\n",
       "      <td>57543</td>\n",
       "      <td>0</td>\n",
       "    </tr>\n",
       "    <tr>\n",
       "      <th>1</th>\n",
       "      <td>57549</td>\n",
       "      <td>0</td>\n",
       "    </tr>\n",
       "    <tr>\n",
       "      <th>2</th>\n",
       "      <td>57551</td>\n",
       "      <td>0</td>\n",
       "    </tr>\n",
       "    <tr>\n",
       "      <th>3</th>\n",
       "      <td>57552</td>\n",
       "      <td>0</td>\n",
       "    </tr>\n",
       "    <tr>\n",
       "      <th>4</th>\n",
       "      <td>57569</td>\n",
       "      <td>0</td>\n",
       "    </tr>\n",
       "    <tr>\n",
       "      <th>5</th>\n",
       "      <td>57630</td>\n",
       "      <td>0</td>\n",
       "    </tr>\n",
       "    <tr>\n",
       "      <th>6</th>\n",
       "      <td>57631</td>\n",
       "      <td>0</td>\n",
       "    </tr>\n",
       "    <tr>\n",
       "      <th>7</th>\n",
       "      <td>57632</td>\n",
       "      <td>0</td>\n",
       "    </tr>\n",
       "    <tr>\n",
       "      <th>8</th>\n",
       "      <td>57633</td>\n",
       "      <td>0</td>\n",
       "    </tr>\n",
       "    <tr>\n",
       "      <th>9</th>\n",
       "      <td>57634</td>\n",
       "      <td>0</td>\n",
       "    </tr>\n",
       "  </tbody>\n",
       "</table>\n",
       "</div>"
      ],
      "text/plain": [
       "   case_id  score\n",
       "0    57543      0\n",
       "1    57549      0\n",
       "2    57551      0\n",
       "3    57552      0\n",
       "4    57569      0\n",
       "5    57630      0\n",
       "6    57631      0\n",
       "7    57632      0\n",
       "8    57633      0\n",
       "9    57634      0"
      ]
     },
     "execution_count": 21,
     "metadata": {},
     "output_type": "execute_result"
    }
   ],
   "source": [
    "pd.read_csv(\"./submission.csv\")"
   ]
  }
 ],
 "metadata": {
  "kaggle": {
   "accelerator": "nvidiaTeslaT4",
   "dataSources": [
    {
     "databundleVersionId": 7921029,
     "sourceId": 50160,
     "sourceType": "competition"
    }
   ],
   "dockerImageVersionId": 30664,
   "isGpuEnabled": true,
   "isInternetEnabled": false,
   "language": "python",
   "sourceType": "notebook"
  },
  "kernelspec": {
   "display_name": "Python 3",
   "language": "python",
   "name": "python3"
  },
  "language_info": {
   "codemirror_mode": {
    "name": "ipython",
    "version": 3
   },
   "file_extension": ".py",
   "mimetype": "text/x-python",
   "name": "python",
   "nbconvert_exporter": "python",
   "pygments_lexer": "ipython3",
   "version": "3.10.13"
  },
  "papermill": {
   "default_parameters": {},
   "duration": 607.680256,
   "end_time": "2024-03-27T16:31:54.639015",
   "environment_variables": {},
   "exception": null,
   "input_path": "__notebook__.ipynb",
   "output_path": "__notebook__.ipynb",
   "parameters": {},
   "start_time": "2024-03-27T16:21:46.958759",
   "version": "2.5.0"
  }
 },
 "nbformat": 4,
 "nbformat_minor": 5
}
