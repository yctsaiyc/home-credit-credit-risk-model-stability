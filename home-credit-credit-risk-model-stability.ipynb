{
 "cells": [
  {
   "cell_type": "code",
   "execution_count": 1,
   "id": "c8f6332d",
   "metadata": {
    "_cell_guid": "b1076dfc-b9ad-4769-8c92-a6c4dae69d19",
    "_uuid": "8f2839f25d086af736a60e9eeb907d3b93b6e0e5",
    "execution": {
     "iopub.execute_input": "2024-03-27T12:45:27.973467Z",
     "iopub.status.busy": "2024-03-27T12:45:27.973030Z",
     "iopub.status.idle": "2024-03-27T12:45:29.327281Z",
     "shell.execute_reply": "2024-03-27T12:45:29.325924Z"
    },
    "papermill": {
     "duration": 1.369487,
     "end_time": "2024-03-27T12:45:29.331086",
     "exception": false,
     "start_time": "2024-03-27T12:45:27.961599",
     "status": "completed"
    },
    "tags": []
   },
   "outputs": [],
   "source": [
    "import numpy as np\n",
    "import pandas as pd\n",
    "import os\n",
    "\n",
    "import polars as pl"
   ]
  },
  {
   "cell_type": "markdown",
   "id": "4e247085",
   "metadata": {
    "papermill": {
     "duration": 0.008768,
     "end_time": "2024-03-27T12:45:29.349086",
     "exception": false,
     "start_time": "2024-03-27T12:45:29.340318",
     "status": "completed"
    },
    "tags": []
   },
   "source": [
    "## 資料探索與前處理"
   ]
  },
  {
   "cell_type": "markdown",
   "id": "6d780153",
   "metadata": {
    "papermill": {
     "duration": 0.008695,
     "end_time": "2024-03-27T12:45:29.367331",
     "exception": false,
     "start_time": "2024-03-27T12:45:29.358636",
     "status": "completed"
    },
    "tags": []
   },
   "source": [
    "### 資料概覽\n",
    "##### 列出主要的數據特徵及統計摘要"
   ]
  },
  {
   "cell_type": "code",
   "execution_count": 2,
   "id": "0eb7963d",
   "metadata": {
    "execution": {
     "iopub.execute_input": "2024-03-27T12:45:29.387933Z",
     "iopub.status.busy": "2024-03-27T12:45:29.387310Z",
     "iopub.status.idle": "2024-03-27T12:45:29.402079Z",
     "shell.execute_reply": "2024-03-27T12:45:29.400766Z"
    },
    "papermill": {
     "duration": 0.028647,
     "end_time": "2024-03-27T12:45:29.405060",
     "exception": false,
     "start_time": "2024-03-27T12:45:29.376413",
     "status": "completed"
    },
    "tags": []
   },
   "outputs": [
    {
     "name": "stdout",
     "output_type": "stream",
     "text": [
      "目錄下有 32 個訓練資料文件\n"
     ]
    }
   ],
   "source": [
    "# 訓練資料的目錄\n",
    "projDir = \"/kaggle/input/home-credit-credit-risk-model-stability/\"\n",
    "trainDir = os.path.join(projDir, \"csv_files/train/\")\n",
    "\n",
    "# 列出目錄下所有文件\n",
    "files = os.listdir(trainDir)\n",
    "\n",
    "# 依檔名排序\n",
    "files = sorted(files)\n",
    "\n",
    "# # 印出文件名稱\n",
    "# for file in files:\n",
    "#     print(file)\n",
    "    \n",
    "# 計算文件數量\n",
    "num_files = len(files)\n",
    "print(\"目錄下有\", num_files, \"個訓練資料文件\")\n",
    "\n",
    "del num_files"
   ]
  },
  {
   "cell_type": "code",
   "execution_count": 3,
   "id": "82891958",
   "metadata": {
    "execution": {
     "iopub.execute_input": "2024-03-27T12:45:29.426076Z",
     "iopub.status.busy": "2024-03-27T12:45:29.424817Z",
     "iopub.status.idle": "2024-03-27T12:45:29.430683Z",
     "shell.execute_reply": "2024-03-27T12:45:29.429469Z"
    },
    "papermill": {
     "duration": 0.01903,
     "end_time": "2024-03-27T12:45:29.433450",
     "exception": false,
     "start_time": "2024-03-27T12:45:29.414420",
     "status": "completed"
    },
    "tags": []
   },
   "outputs": [],
   "source": [
    "# # 遍歷每個文件，僅顯示前幾行資料概況\n",
    "# for file in files:\n",
    "#     # 組合完整的檔案路徑\n",
    "#     file_path = os.path.join(trainDir, file)\n",
    "    \n",
    "#     # 讀取文件的前幾行\n",
    "#     df_head = pd.read_csv(file_path, nrows=3)\n",
    "    \n",
    "#     print(\"文件名稱:\", file)\n",
    "#     print(\"前3行資料:\")\n",
    "#     display(df_head)\n",
    "#     print(\"\\n\")\n",
    "    \n",
    "del files"
   ]
  },
  {
   "cell_type": "markdown",
   "id": "d095caf5",
   "metadata": {
    "papermill": {
     "duration": 0.009383,
     "end_time": "2024-03-27T12:45:29.452243",
     "exception": false,
     "start_time": "2024-03-27T12:45:29.442860",
     "status": "completed"
    },
    "tags": []
   },
   "source": [
    "### 特徵工程\n",
    "##### 提取、轉換或建立新特徵以優化模型"
   ]
  },
  {
   "cell_type": "code",
   "execution_count": 4,
   "id": "d1727d3b",
   "metadata": {
    "execution": {
     "iopub.execute_input": "2024-03-27T12:45:29.475920Z",
     "iopub.status.busy": "2024-03-27T12:45:29.474567Z",
     "iopub.status.idle": "2024-03-27T12:46:59.824233Z",
     "shell.execute_reply": "2024-03-27T12:46:59.820310Z"
    },
    "papermill": {
     "duration": 90.389673,
     "end_time": "2024-03-27T12:46:59.852146",
     "exception": false,
     "start_time": "2024-03-27T12:45:29.462473",
     "status": "completed"
    },
    "tags": []
   },
   "outputs": [
    {
     "name": "stderr",
     "output_type": "stream",
     "text": [
      "/tmp/ipykernel_18/1851206736.py:5: DtypeWarning: Columns (20,45,46,53,57,84,143,146,167) have mixed types. Specify dtype option on import or set low_memory=False.\n",
      "  pd.read_csv(trainDir + 'train_static_0_0.csv'),\n",
      "/tmp/ipykernel_18/1851206736.py:6: DtypeWarning: Columns (20,45,46,56,57,84,143,146,167) have mixed types. Specify dtype option on import or set low_memory=False.\n",
      "  pd.read_csv(trainDir + 'train_static_0_1.csv')\n"
     ]
    },
    {
     "name": "stdout",
     "output_type": "stream",
     "text": [
      "[Int64, String, Int64, Int64, Float64, Float64, Float64, Float64, Float64, Float64, Float64, Float64, Float64, Float64, Float64, Float64, Float64, Float64, Float64, Float64, Float64, Float64, Float64, String, String, Float64, Float64, Float64, Float64, Float64, Float64, Float64, Float64, Float64, Float64, Float64, Float64, Float64, Float64, Float64, Float64, Float64, Float64, Float64, Float64, String, Float64, Float64, String, String, String, Float64, Float64, Float64, String, Float64, String, Float64, Boolean, Boolean, String, String, Float64, Float64, String, Float64, Float64, Boolean, Boolean, Boolean, String, String, String, String, Float64, String, String, String, Float64, Float64, Float64, String, String, Float64, String, String, String, String, String, Float64, Float64, Float64, Float64, Float64, Float64, Float64, Float64, Float64, Float64, String, Float64, Float64, Float64, Float64, Float64, Float64, Float64, Float64, Float64, Float64, Float64, Float64, Float64, Float64, Float64, Float64, Float64, Float64, Float64, Float64, Float64, Float64, Float64, Float64, Float64, Float64, Float64, Float64, Float64, Float64, Float64, Float64, Float64, Float64, Float64, Float64, Float64, Float64, Float64, Float64, Float64, Float64, Float64, Float64, Float64, Float64, Boolean, String, String, String, Float64, Float64, Float64, Float64, Float64, Float64, Float64, Float64, Float64, String, Float64, Float64, Float64, Float64, Float64, Float64, Float64, Float64, String, String, String, String, String, String, String, String, String, String, Float64, Float64, Float64, Float64, Float64, String, String, String, Float64, Float64, Float64, Float64, Float64, Float64, Float64, Float64, Float64, Float64, Float64, Float64, Float64, Float64, Float64, Float64, Float64, Float64, String, String, Float64, Float64, String, String, String, String, Float64, Float64, Float64, String, String, String, String, String, Float64, Float64, Float64, String, String, Float64, String, Boolean, Boolean, String, String, String, String, String, String, String, String, String, String, String, String, Boolean, String, Float64, String, Int64, Float64, Float64, Float64, String, String, String, String, Boolean, String, String, Boolean, String, String, Int64, Int64, String, Float64, Float64]\n"
     ]
    },
    {
     "name": "stderr",
     "output_type": "stream",
     "text": [
      "/tmp/ipykernel_18/1851206736.py:33: DeprecationWarning: named `columns` param is deprecated; use positional `*args` instead.\n",
      "  X = train_data.drop(columns=['target'])\n"
     ]
    }
   ],
   "source": [
    "# 讀取訓練數據\n",
    "train_base = pl.read_csv(trainDir + 'train_base.csv')\n",
    "\n",
    "static_dfs = [\n",
    "    pd.read_csv(trainDir + 'train_static_0_0.csv'),\n",
    "    pd.read_csv(trainDir + 'train_static_0_1.csv')\n",
    "]\n",
    "pd_df = pd.concat(static_dfs, ignore_index=True)\n",
    "del static_dfs\n",
    "train_static = pl.from_pandas(pd_df)\n",
    "\n",
    "train_static_cb = pl.read_csv(trainDir + 'train_static_cb_0.csv')\n",
    "train_person_1 = pl.read_csv(trainDir + 'train_person_1.csv') \n",
    "train_credit_bureau_b_2 = pl.read_csv(trainDir + 'train_credit_bureau_b_2.csv') \n",
    "\n",
    "# Merge all dataframes using join with how='inner'\n",
    "train_data = train_base.join(\n",
    "    train_static, on='case_id', how='inner'\n",
    ").join(\n",
    "    train_static_cb, on='case_id', how='inner'\n",
    ").join(\n",
    "    train_person_1, on='case_id', how='inner'\n",
    ").join(\n",
    "    train_credit_bureau_b_2, on='case_id', how='inner'\n",
    ")\n",
    "del train_base\n",
    "del train_static\n",
    "del train_static_cb\n",
    "del train_person_1\n",
    "del train_credit_bureau_b_2\n",
    "\n",
    "# 將目標變量和特徵變量分開\n",
    "X = train_data.drop(columns=['target'])\n",
    "y = train_data['target']\n",
    "del train_data\n",
    "\n",
    "print(X.dtypes)"
   ]
  },
  {
   "cell_type": "code",
   "execution_count": 5,
   "id": "cbf10eba",
   "metadata": {
    "execution": {
     "iopub.execute_input": "2024-03-27T12:46:59.876874Z",
     "iopub.status.busy": "2024-03-27T12:46:59.876281Z",
     "iopub.status.idle": "2024-03-27T12:46:59.885354Z",
     "shell.execute_reply": "2024-03-27T12:46:59.884040Z"
    },
    "papermill": {
     "duration": 0.025963,
     "end_time": "2024-03-27T12:46:59.888049",
     "exception": false,
     "start_time": "2024-03-27T12:46:59.862086",
     "status": "completed"
    },
    "tags": []
   },
   "outputs": [],
   "source": [
    "# # X存在非數字的column，無法輸入model訓練\n",
    "# X.dtypes"
   ]
  },
  {
   "cell_type": "code",
   "execution_count": 6,
   "id": "8f03131f",
   "metadata": {
    "execution": {
     "iopub.execute_input": "2024-03-27T12:46:59.914337Z",
     "iopub.status.busy": "2024-03-27T12:46:59.913925Z",
     "iopub.status.idle": "2024-03-27T12:47:00.383371Z",
     "shell.execute_reply": "2024-03-27T12:47:00.381754Z"
    },
    "papermill": {
     "duration": 0.485587,
     "end_time": "2024-03-27T12:47:00.388483",
     "exception": false,
     "start_time": "2024-03-27T12:46:59.902896",
     "status": "completed"
    },
    "tags": []
   },
   "outputs": [],
   "source": [
    "for col in X.columns:\n",
    "    if not (X[col].dtype in (pl.Int64, pl.Float64)):\n",
    "        X = X.drop(col)"
   ]
  },
  {
   "cell_type": "code",
   "execution_count": 7,
   "id": "e4d2667e",
   "metadata": {
    "execution": {
     "iopub.execute_input": "2024-03-27T12:47:00.413401Z",
     "iopub.status.busy": "2024-03-27T12:47:00.412974Z",
     "iopub.status.idle": "2024-03-27T12:47:00.419396Z",
     "shell.execute_reply": "2024-03-27T12:47:00.418172Z"
    },
    "papermill": {
     "duration": 0.022588,
     "end_time": "2024-03-27T12:47:00.422514",
     "exception": false,
     "start_time": "2024-03-27T12:47:00.399926",
     "status": "completed"
    },
    "tags": []
   },
   "outputs": [],
   "source": [
    "# X.dtypes"
   ]
  },
  {
   "cell_type": "code",
   "execution_count": 8,
   "id": "acfc8cb3",
   "metadata": {
    "execution": {
     "iopub.execute_input": "2024-03-27T12:47:00.446879Z",
     "iopub.status.busy": "2024-03-27T12:47:00.446256Z",
     "iopub.status.idle": "2024-03-27T12:47:19.745335Z",
     "shell.execute_reply": "2024-03-27T12:47:19.744176Z"
    },
    "papermill": {
     "duration": 19.31511,
     "end_time": "2024-03-27T12:47:19.748441",
     "exception": false,
     "start_time": "2024-03-27T12:47:00.433331",
     "status": "completed"
    },
    "tags": []
   },
   "outputs": [],
   "source": [
    "from sklearn.model_selection import train_test_split\n",
    "\n",
    "# 將數據劃分為訓練集和測試集\n",
    "X_train, X_test, y_train, y_test = train_test_split(X, y, test_size=0.2, random_state=42)\n",
    "del X\n",
    "del y"
   ]
  },
  {
   "cell_type": "markdown",
   "id": "618f20b5",
   "metadata": {
    "papermill": {
     "duration": 0.009954,
     "end_time": "2024-03-27T12:47:19.768897",
     "exception": false,
     "start_time": "2024-03-27T12:47:19.758943",
     "status": "completed"
    },
    "tags": []
   },
   "source": [
    "## 數據分析方法與模型選擇"
   ]
  },
  {
   "cell_type": "code",
   "execution_count": 9,
   "id": "7b869cdb",
   "metadata": {
    "execution": {
     "iopub.execute_input": "2024-03-27T12:47:19.794354Z",
     "iopub.status.busy": "2024-03-27T12:47:19.792394Z",
     "iopub.status.idle": "2024-03-27T12:47:19.807701Z",
     "shell.execute_reply": "2024-03-27T12:47:19.806239Z"
    },
    "papermill": {
     "duration": 0.03079,
     "end_time": "2024-03-27T12:47:19.810763",
     "exception": false,
     "start_time": "2024-03-27T12:47:19.779973",
     "status": "completed"
    },
    "tags": []
   },
   "outputs": [],
   "source": [
    "# 取得最後三十萬筆資料(ram不夠，sample不work)\n",
    "X_train = X_train.tail(300000)\n",
    "y_train = y_train.tail(300000)\n",
    "\n",
    "# bst = lgb.train(params, lgb_train, num_round, valid_sets=[lgb_train, lgb_test])\n",
    "# TypeError: Wrong type(Series) for label. It should be list, numpy 1-D array or pandas Series\n",
    "y_train = y_train.to_numpy()\n",
    "y_test = y_test.to_numpy()"
   ]
  },
  {
   "cell_type": "code",
   "execution_count": 10,
   "id": "78e26f7c",
   "metadata": {
    "execution": {
     "iopub.execute_input": "2024-03-27T12:47:19.834958Z",
     "iopub.status.busy": "2024-03-27T12:47:19.833833Z",
     "iopub.status.idle": "2024-03-27T12:47:19.839577Z",
     "shell.execute_reply": "2024-03-27T12:47:19.838307Z"
    },
    "papermill": {
     "duration": 0.020715,
     "end_time": "2024-03-27T12:47:19.842249",
     "exception": false,
     "start_time": "2024-03-27T12:47:19.821534",
     "status": "completed"
    },
    "tags": []
   },
   "outputs": [],
   "source": [
    "# # 看target值的分布\n",
    "# np.unique(y_train, return_counts=True)"
   ]
  },
  {
   "cell_type": "code",
   "execution_count": 11,
   "id": "adcc4040",
   "metadata": {
    "execution": {
     "iopub.execute_input": "2024-03-27T12:47:19.864848Z",
     "iopub.status.busy": "2024-03-27T12:47:19.864373Z",
     "iopub.status.idle": "2024-03-27T12:47:19.870184Z",
     "shell.execute_reply": "2024-03-27T12:47:19.868849Z"
    },
    "papermill": {
     "duration": 0.020643,
     "end_time": "2024-03-27T12:47:19.872865",
     "exception": false,
     "start_time": "2024-03-27T12:47:19.852222",
     "status": "completed"
    },
    "tags": []
   },
   "outputs": [],
   "source": [
    "# # 過取樣: 增加target=1的data\n",
    "\n",
    "# from sklearn.impute import SimpleImputer\n",
    "# from imblearn.over_sampling import SMOTE\n",
    "\n",
    "# # 創建 SimpleImputer 對象，用於填補NaN值\n",
    "# imputer = SimpleImputer(strategy='mean')\n",
    "\n",
    "# # 填補NaN值\n",
    "# X_train = imputer.fit_transform(X_train)\n",
    "\n",
    "# # 設置合成目標樣本數量\n",
    "# synthetic_target_count = 279555\n",
    "\n",
    "# # 初始化 SMOTE\n",
    "# smote = SMOTE(sampling_strategy={1: synthetic_target_count})\n",
    "\n",
    "# # 使用 SMOTE 生成合成少數類樣本\n",
    "# X_train, y_train = smote.fit_resample(X_train, y_train)\n",
    "\n",
    "# # 檢查合成後的資料量\n",
    "# print(\"合成後的資料量：\", len(X_train))\n",
    "\n",
    "# # 檢查合成後的目標資料分佈\n",
    "# unique, counts = np.unique(y_train, return_counts=True)\n",
    "# print(\"合成後的目標資料分佈：\", dict(zip(unique, counts)))"
   ]
  },
  {
   "cell_type": "markdown",
   "id": "104de87c",
   "metadata": {
    "papermill": {
     "duration": 0.009277,
     "end_time": "2024-03-27T12:47:19.892017",
     "exception": false,
     "start_time": "2024-03-27T12:47:19.882740",
     "status": "completed"
    },
    "tags": []
   },
   "source": [
    "### Model1. 梯度提升樹（Gradient Boosting Decision Tree，GBDT）\n",
    "##### 優點：\n",
    "##### 1. 高效性： LightGBM 是一種高效的梯度提升樹模型，具有優秀的訓練速度和預測速度。它使用了基於直方圖的方法來加速訓練過程，並且通常比其他梯度提升樹庫（如XGBoost）更快。\n",
    "##### 2. 低內存使用： LightGBM 使用了一種稱為GOSS（Gradient-based One-Side Sampling）的方法，在訓練過程中減少了內存使用。這使得它可以處理大型數據集而不會出現內存不足的問題。\n",
    "##### 3. 高準確性： LightGBM 在處理大型和高維數據集時通常表現出色，並且提供了很好的預測性能。\n",
    "##### 4. 支持並行處理： LightGBM 支持並行處理，可以在多核 CPU 上進行訓練，從而加速了訓練過程。\n",
    "##### 5. 自動處理類別特徵： LightGBM 可以自動處理類別特徵，無需額外的編碼。\n",
    "##### 缺點：\n",
    "##### 1. 對參數敏感： 與其他梯度提升樹模型一樣，LightGBM 的性能取決於參數的調整，對參數較為敏感，需要一些經驗和時間來進行調參。\n",
    "##### 2. 需要較多數據： LightGBM 在處理小型數據集時可能不如其他模型表現好，因為它的高效性主要體現在處理大型數據集時"
   ]
  },
  {
   "cell_type": "code",
   "execution_count": 12,
   "id": "162d6c71",
   "metadata": {
    "execution": {
     "iopub.execute_input": "2024-03-27T12:47:19.915261Z",
     "iopub.status.busy": "2024-03-27T12:47:19.914424Z",
     "iopub.status.idle": "2024-03-27T12:47:19.920955Z",
     "shell.execute_reply": "2024-03-27T12:47:19.919920Z"
    },
    "papermill": {
     "duration": 0.021235,
     "end_time": "2024-03-27T12:47:19.923514",
     "exception": false,
     "start_time": "2024-03-27T12:47:19.902279",
     "status": "completed"
    },
    "tags": []
   },
   "outputs": [],
   "source": [
    "# import lightgbm as lgb\n",
    "\n",
    "# # 創建 LightGBM 的訓練資料集\n",
    "# lgb_train = lgb.Dataset(X_train, y_train)\n",
    "# lgb_test = lgb.Dataset(X_test, y_test, reference=lgb_train)\n",
    "# del X_train\n",
    "# del y_train\n",
    "\n",
    "# # 設置參數\n",
    "# params = {\n",
    "#     'boosting_type': 'gbdt',         # 使用梯度提升樹\n",
    "#     'objective': 'binary',           # 二元分類任務\n",
    "#     'metric': 'binary_error',        # 評估指標為二元分類錯誤率\n",
    "#     'num_leaves': 31,                # 每棵樹的最大葉子數量\n",
    "#     'learning_rate': 0.05,           # 學習速率\n",
    "#     'feature_fraction': 0.9,         # 特徵抽樣比例\n",
    "#     'bagging_fraction': 0.8,         # 樣本抽樣比例\n",
    "#     'bagging_freq': 5,               # 樣本抽樣的頻率\n",
    "#     'verbose': 0,                    # 顯示訓練信息\n",
    "#     'early_stopping_rounds': 10\n",
    "# }\n",
    "\n",
    "# # 訓練模型\n",
    "# num_round = 100                      # 迭代輪次\n",
    "# bst = lgb.train(params, lgb_train, num_round, valid_sets=[lgb_train, lgb_test])\n",
    "\n",
    "# # 預測\n",
    "# y_pred = bst.predict(X_test, num_iteration=bst.best_iteration)\n",
    "# y_pred_binary = [1 if pred > 0.5 else 0 for pred in y_pred]"
   ]
  },
  {
   "cell_type": "markdown",
   "id": "696c25f5",
   "metadata": {
    "papermill": {
     "duration": 0.011202,
     "end_time": "2024-03-27T12:47:19.944992",
     "exception": false,
     "start_time": "2024-03-27T12:47:19.933790",
     "status": "completed"
    },
    "tags": []
   },
   "source": [
    "### Model2. RNN\n",
    "##### RNN的優點：\n",
    "##### 1. 能夠處理序列數據，保留先前時間步的信息。\n",
    "##### 2. 模型相對較簡單，易於理解和實現。\n",
    "##### RNN的缺點：\n",
    "##### 3. 容易出現梯度消失或梯度爆炸的問題，尤其在處理長序列數據時效果不佳。\n",
    "##### 4. 難以捕捉長期依賴關係"
   ]
  },
  {
   "cell_type": "code",
   "execution_count": 13,
   "id": "d4f3e384",
   "metadata": {
    "execution": {
     "iopub.execute_input": "2024-03-27T12:47:19.967094Z",
     "iopub.status.busy": "2024-03-27T12:47:19.966303Z",
     "iopub.status.idle": "2024-03-27T12:47:19.973535Z",
     "shell.execute_reply": "2024-03-27T12:47:19.972586Z"
    },
    "papermill": {
     "duration": 0.021564,
     "end_time": "2024-03-27T12:47:19.976609",
     "exception": false,
     "start_time": "2024-03-27T12:47:19.955045",
     "status": "completed"
    },
    "tags": []
   },
   "outputs": [],
   "source": [
    "# import tensorflow as tf\n",
    "# from tensorflow.keras.models import Sequential\n",
    "# from tensorflow.keras.layers import SimpleRNN, Dense, Dropout\n",
    "# from tensorflow.keras.callbacks import EarlyStopping\n",
    "\n",
    "# # 將 DataFrame 轉換為 NumPy 陣列\n",
    "# X_train = X_train.to_numpy()\n",
    "# X_test = X_test.to_numpy()\n",
    "\n",
    "# # 將資料轉換成3D形狀\n",
    "# X_train = X_train.reshape(X_train.shape[0], X_train.shape[1], 1)\n",
    "# X_test = X_test.reshape(X_test.shape[0], X_test.shape[1], 1)\n",
    "\n",
    "# # 創建 Sequential 模型\n",
    "# model = Sequential()\n",
    "\n",
    "# # 添加第一層 SimpleRNN 層\n",
    "# model.add(SimpleRNN(50, return_sequences=True, input_shape=(X_train.shape[1], X_train.shape[2]), activation='relu'))\n",
    "# model.add(Dropout(0.3))  # 添加 dropout 避免過擬合\n",
    "\n",
    "# # 添加第二層 SimpleRNN 層\n",
    "# model.add(SimpleRNN(50, return_sequences=True, activation='relu'))\n",
    "# model.add(Dropout(0.3))  # 添加 dropout 避免過擬合\n",
    "\n",
    "# # 添加第三層 SimpleRNN 層\n",
    "# model.add(SimpleRNN(50, activation='relu'))\n",
    "# model.add(Dropout(0.3))  # 添加 dropout 避免過擬合\n",
    "\n",
    "# # 添加輸出層\n",
    "# model.add(Dense(1, activation='sigmoid'))\n",
    "\n",
    "# # 編譯模型\n",
    "# model.compile(optimizer='adam', loss='binary_crossentropy', metrics=['accuracy'])\n",
    "\n",
    "# # 定義 EarlyStopping\n",
    "# early_stopping = EarlyStopping(patience=5, monitor='val_loss', restore_best_weights=True)\n",
    "\n",
    "# # 設置類別加權，例如給予類別0權重1，給予類別1權重100\n",
    "# class_weight = {0: 1, 1: 100}\n",
    "\n",
    "# # 訓練模型\n",
    "# history = model.fit(X_train, y_train, epochs=1, batch_size=2048, validation_data=(X_test, y_test), callbacks=[early_stopping], class_weight=class_weight)\n",
    "\n",
    "# # 預測\n",
    "# y_pred = model.predict(X_test)\n",
    "# y_pred_binary = [1 if pred > 0.5 else 0 for pred in y_pred]"
   ]
  },
  {
   "cell_type": "markdown",
   "id": "7111533f",
   "metadata": {
    "papermill": {
     "duration": 0.009522,
     "end_time": "2024-03-27T12:47:19.996136",
     "exception": false,
     "start_time": "2024-03-27T12:47:19.986614",
     "status": "completed"
    },
    "tags": []
   },
   "source": [
    "### Model3. LSTM\n",
    "##### LSTM的優點：\n",
    "##### 1. 能夠有效地解決梯度消失或梯度爆炸的問題，能夠處理長序列數據。\n",
    "##### 2. 能夠捕捉長期依賴關係，適用於需要考慮長期記憶的任務。\n",
    "##### LSTM的缺點：\n",
    "##### 1. 模型相對複雜，訓練時間較長。\n",
    "##### 2. 需要調參和優化，有時可能會出現過擬合的問題。"
   ]
  },
  {
   "cell_type": "code",
   "execution_count": 14,
   "id": "3e3cb167",
   "metadata": {
    "execution": {
     "iopub.execute_input": "2024-03-27T12:47:20.019848Z",
     "iopub.status.busy": "2024-03-27T12:47:20.018708Z",
     "iopub.status.idle": "2024-03-27T13:27:26.661145Z",
     "shell.execute_reply": "2024-03-27T13:27:26.659523Z"
    },
    "papermill": {
     "duration": 2406.657814,
     "end_time": "2024-03-27T13:27:26.664651",
     "exception": false,
     "start_time": "2024-03-27T12:47:20.006837",
     "status": "completed"
    },
    "tags": []
   },
   "outputs": [
    {
     "name": "stderr",
     "output_type": "stream",
     "text": [
      "2024-03-27 12:47:22.533197: E external/local_xla/xla/stream_executor/cuda/cuda_dnn.cc:9261] Unable to register cuDNN factory: Attempting to register factory for plugin cuDNN when one has already been registered\n",
      "2024-03-27 12:47:22.533386: E external/local_xla/xla/stream_executor/cuda/cuda_fft.cc:607] Unable to register cuFFT factory: Attempting to register factory for plugin cuFFT when one has already been registered\n",
      "2024-03-27 12:47:22.708638: E external/local_xla/xla/stream_executor/cuda/cuda_blas.cc:1515] Unable to register cuBLAS factory: Attempting to register factory for plugin cuBLAS when one has already been registered\n",
      "/opt/conda/lib/python3.10/site-packages/keras/src/layers/rnn/rnn.py:205: UserWarning: Do not pass an `input_shape`/`input_dim` argument to a layer. When using Sequential models, prefer using an `Input(shape)` object as the first layer in the model instead.\n",
      "  super().__init__(**kwargs)\n"
     ]
    },
    {
     "name": "stdout",
     "output_type": "stream",
     "text": [
      "\u001b[1m147/147\u001b[0m \u001b[32m━━━━━━━━━━━━━━━━━━━━\u001b[0m\u001b[37m\u001b[0m \u001b[1m1043s\u001b[0m 7s/step - accuracy: 0.9324 - loss: nan - val_accuracy: 0.9315 - val_loss: nan\n",
      "\u001b[1m17989/17989\u001b[0m \u001b[32m━━━━━━━━━━━━━━━━━━━━\u001b[0m\u001b[37m\u001b[0m \u001b[1m1315s\u001b[0m 73ms/step\n"
     ]
    }
   ],
   "source": [
    "import tensorflow as tf\n",
    "from tensorflow.keras.models import Sequential\n",
    "from tensorflow.keras.layers import LSTM, Dense, Dropout\n",
    "from tensorflow.keras.callbacks import EarlyStopping\n",
    "\n",
    "# 將 DataFrame 轉換為 NumPy 陣列\n",
    "X_train = X_train.to_numpy()\n",
    "X_test = X_test.to_numpy()\n",
    "\n",
    "# 將資料轉換成3D形狀\n",
    "X_train = X_train.reshape(X_train.shape[0], X_train.shape[1], 1)\n",
    "X_test = X_test.reshape(X_test.shape[0], X_test.shape[1], 1)\n",
    "\n",
    "# 創建 Sequential 模型\n",
    "model = Sequential()\n",
    "\n",
    "# 添加第一層 LSTM 層\n",
    "model.add(LSTM(50, return_sequences=True, input_shape=(X_train.shape[1], X_train.shape[2]), activation='relu'))\n",
    "model.add(Dropout(0.3))  # 添加 dropout 避免過擬合\n",
    "\n",
    "# 添加第二層 LSTM 層\n",
    "model.add(LSTM(50, return_sequences=True, activation='relu'))\n",
    "model.add(Dropout(0.3))  # 添加 dropout 避免過擬合\n",
    "\n",
    "# 添加第三層 LSTM 層\n",
    "model.add(LSTM(50, activation='relu'))\n",
    "model.add(Dropout(0.3))  # 添加 dropout 避免過擬合\n",
    "\n",
    "# 添加輸出層\n",
    "model.add(Dense(1, activation='sigmoid'))\n",
    "\n",
    "# 編譯模型\n",
    "model.compile(optimizer='adam', loss='binary_crossentropy', metrics=['accuracy'])\n",
    "\n",
    "# 定義 EarlyStopping\n",
    "early_stopping = EarlyStopping(patience=5, monitor='val_loss', restore_best_weights=True)\n",
    "\n",
    "# 設置類別加權，例如給予類別0權重1，給予類別1權重100\n",
    "class_weight = {0: 1, 1: 100}\n",
    "\n",
    "# 訓練模型\n",
    "history = model.fit(X_train, y_train, epochs=1, batch_size=2048, validation_data=(X_test, y_test), callbacks=[early_stopping], class_weight=class_weight)\n",
    "\n",
    "# 預測\n",
    "y_pred = model.predict(X_test)\n",
    "y_pred_binary = [1 if pred > 0.5 else 0 for pred in y_pred]"
   ]
  },
  {
   "cell_type": "markdown",
   "id": "4bc0a5fe",
   "metadata": {
    "papermill": {
     "duration": 1.939798,
     "end_time": "2024-03-27T13:27:30.439211",
     "exception": false,
     "start_time": "2024-03-27T13:27:28.499413",
     "status": "completed"
    },
    "tags": []
   },
   "source": [
    "## 評估模型"
   ]
  },
  {
   "cell_type": "code",
   "execution_count": 15,
   "id": "56647385",
   "metadata": {
    "execution": {
     "iopub.execute_input": "2024-03-27T13:27:34.192031Z",
     "iopub.status.busy": "2024-03-27T13:27:34.191325Z",
     "iopub.status.idle": "2024-03-27T13:27:35.660212Z",
     "shell.execute_reply": "2024-03-27T13:27:35.658450Z"
    },
    "papermill": {
     "duration": 3.29354,
     "end_time": "2024-03-27T13:27:35.665203",
     "exception": false,
     "start_time": "2024-03-27T13:27:32.371663",
     "status": "completed"
    },
    "tags": []
   },
   "outputs": [
    {
     "name": "stdout",
     "output_type": "stream",
     "text": [
      "準確率: 0.9315008286400228\n",
      "分類報告:\n"
     ]
    },
    {
     "name": "stderr",
     "output_type": "stream",
     "text": [
      "/opt/conda/lib/python3.10/site-packages/sklearn/metrics/_classification.py:1344: UndefinedMetricWarning: Precision and F-score are ill-defined and being set to 0.0 in labels with no predicted samples. Use `zero_division` parameter to control this behavior.\n",
      "  _warn_prf(average, modifier, msg_start, len(result))\n",
      "/opt/conda/lib/python3.10/site-packages/sklearn/metrics/_classification.py:1344: UndefinedMetricWarning: Precision and F-score are ill-defined and being set to 0.0 in labels with no predicted samples. Use `zero_division` parameter to control this behavior.\n",
      "  _warn_prf(average, modifier, msg_start, len(result))\n"
     ]
    },
    {
     "name": "stdout",
     "output_type": "stream",
     "text": [
      "              precision    recall  f1-score   support\n",
      "\n",
      "           0       0.93      1.00      0.96    536211\n",
      "           1       0.00      0.00      0.00     39431\n",
      "\n",
      "    accuracy                           0.93    575642\n",
      "   macro avg       0.47      0.50      0.48    575642\n",
      "weighted avg       0.87      0.93      0.90    575642\n",
      "\n"
     ]
    },
    {
     "name": "stderr",
     "output_type": "stream",
     "text": [
      "/opt/conda/lib/python3.10/site-packages/sklearn/metrics/_classification.py:1344: UndefinedMetricWarning: Precision and F-score are ill-defined and being set to 0.0 in labels with no predicted samples. Use `zero_division` parameter to control this behavior.\n",
      "  _warn_prf(average, modifier, msg_start, len(result))\n"
     ]
    }
   ],
   "source": [
    "from sklearn.metrics import accuracy_score, classification_report\n",
    "\n",
    "# 評估模型\n",
    "accuracy = accuracy_score(y_test, y_pred_binary)\n",
    "print(\"準確率:\", accuracy)\n",
    "\n",
    "# 顯示分類報告\n",
    "print(\"分類報告:\")\n",
    "print(classification_report(y_test, y_pred_binary))"
   ]
  },
  {
   "cell_type": "markdown",
   "id": "265aeccf",
   "metadata": {
    "papermill": {
     "duration": 1.972862,
     "end_time": "2024-03-27T13:27:39.589059",
     "exception": false,
     "start_time": "2024-03-27T13:27:37.616197",
     "status": "completed"
    },
    "tags": []
   },
   "source": [
    "## Submission"
   ]
  },
  {
   "cell_type": "code",
   "execution_count": 16,
   "id": "bf2e2d60",
   "metadata": {
    "execution": {
     "iopub.execute_input": "2024-03-27T13:27:43.374805Z",
     "iopub.status.busy": "2024-03-27T13:27:43.374178Z",
     "iopub.status.idle": "2024-03-27T13:27:45.518285Z",
     "shell.execute_reply": "2024-03-27T13:27:45.516947Z"
    },
    "papermill": {
     "duration": 4.109519,
     "end_time": "2024-03-27T13:27:45.521374",
     "exception": false,
     "start_time": "2024-03-27T13:27:41.411855",
     "status": "completed"
    },
    "tags": []
   },
   "outputs": [
    {
     "data": {
      "text/html": [
       "<div><style>\n",
       ".dataframe > thead > tr,\n",
       ".dataframe > tbody > tr {\n",
       "  text-align: right;\n",
       "  white-space: pre-wrap;\n",
       "}\n",
       "</style>\n",
       "<small>shape: (10, 153)</small><table border=\"1\" class=\"dataframe\"><thead><tr><th>case_id</th><th>MONTH</th><th>WEEK_NUM</th><th>actualdpdtolerance_344P</th><th>amtinstpaidbefduel24m_4187115A</th><th>annuity_780A</th><th>annuitynextmonth_57A</th><th>applicationcnt_361L</th><th>applications30d_658L</th><th>applicationscnt_1086L</th><th>applicationscnt_464L</th><th>applicationscnt_629L</th><th>applicationscnt_867L</th><th>avgdbddpdlast24m_3658932P</th><th>avgdbddpdlast3m_4187120P</th><th>avgdbdtollast24m_4525197P</th><th>avgdpdtolclosure24_3658938P</th><th>avginstallast24m_3658937A</th><th>avglnamtstart24m_4525187A</th><th>avgmaxdpdlast9m_3716943P</th><th>avgoutstandbalancel6m_4187114A</th><th>avgpmtlast12m_4525200A</th><th>clientscnt12m_3712952L</th><th>clientscnt3m_3712950L</th><th>clientscnt6m_3712949L</th><th>clientscnt_100L</th><th>clientscnt_1022L</th><th>clientscnt_1071L</th><th>clientscnt_1130L</th><th>clientscnt_136L</th><th>clientscnt_157L</th><th>clientscnt_257L</th><th>clientscnt_304L</th><th>clientscnt_360L</th><th>clientscnt_493L</th><th>clientscnt_533L</th><th>clientscnt_887L</th><th>&hellip;</th><th>pctinstlsallpaidearl3d_427L</th><th>pctinstlsallpaidlat10d_839L</th><th>pctinstlsallpaidlate1d_3546856L</th><th>pctinstlsallpaidlate4d_3546849L</th><th>pctinstlsallpaidlate6d_3546844L</th><th>pmtnum_254L</th><th>posfpd10lastmonth_333P</th><th>posfpd30lastmonth_3976960P</th><th>posfstqpd30lastmonth_3976962P</th><th>price_1097A</th><th>sellerplacecnt_915L</th><th>sellerplacescnt_216L</th><th>sumoutstandtotal_3546847A</th><th>sumoutstandtotalest_4493215A</th><th>totaldebt_9A</th><th>totalsettled_863A</th><th>totinstallast1m_4525188A</th><th>validfrom_1069D</th><th>contractssum_5085716L</th><th>days120_123L</th><th>days180_256L</th><th>days30_165L</th><th>days360_512L</th><th>days90_310L</th><th>firstquarter_103L</th><th>fourthquarter_440L</th><th>numberofqueries_373L</th><th>pmtaverage_4955615A</th><th>pmtcount_4955617L</th><th>secondquarter_766L</th><th>thirdquarter_1082L</th><th>childnum_185L</th><th>mainoccupationinc_384A</th><th>num_group1</th><th>personindex_1023L</th><th>persontype_1072L</th><th>persontype_792L</th></tr><tr><td>i64</td><td>i64</td><td>i64</td><td>f64</td><td>f64</td><td>f64</td><td>f64</td><td>f64</td><td>f64</td><td>f64</td><td>f64</td><td>f64</td><td>f64</td><td>f64</td><td>f64</td><td>f64</td><td>f64</td><td>f64</td><td>f64</td><td>f64</td><td>f64</td><td>f64</td><td>f64</td><td>f64</td><td>f64</td><td>f64</td><td>f64</td><td>f64</td><td>f64</td><td>f64</td><td>f64</td><td>f64</td><td>f64</td><td>f64</td><td>f64</td><td>f64</td><td>f64</td><td>&hellip;</td><td>f64</td><td>f64</td><td>f64</td><td>f64</td><td>f64</td><td>f64</td><td>f64</td><td>f64</td><td>f64</td><td>f64</td><td>f64</td><td>f64</td><td>f64</td><td>f64</td><td>f64</td><td>f64</td><td>f64</td><td>f64</td><td>f64</td><td>f64</td><td>f64</td><td>f64</td><td>f64</td><td>f64</td><td>f64</td><td>f64</td><td>f64</td><td>f64</td><td>f64</td><td>f64</td><td>f64</td><td>f64</td><td>f64</td><td>i64</td><td>f64</td><td>f64</td><td>f64</td></tr></thead><tbody><tr><td>57543</td><td>202201</td><td>100</td><td>0.0</td><td>191767.36</td><td>3674.6</td><td>1218.2001</td><td>0.0</td><td>0.0</td><td>0.0</td><td>0.0</td><td>0.0</td><td>9.0</td><td>1.0</td><td>2.0</td><td>1.0</td><td>1.0</td><td>16049.4</td><td>17054.4</td><td>2.0</td><td>14554.4</td><td>24482.0</td><td>0.0</td><td>0.0</td><td>0.0</td><td>0.0</td><td>0.0</td><td>0.0</td><td>0.0</td><td>null</td><td>0.0</td><td>0.0</td><td>0.0</td><td>0.0</td><td>0.0</td><td>0.0</td><td>0.0</td><td>&hellip;</td><td>0.35417</td><td>0.0</td><td>0.32292</td><td>0.07292</td><td>0.05208</td><td>6.0</td><td>0.0</td><td>0.0</td><td>0.0</td><td>0.0</td><td>0.0</td><td>5.0</td><td>12154.4</td><td>12154.4</td><td>12154.4</td><td>456031.1</td><td>17859.6</td><td>null</td><td>151364.0</td><td>2.0</td><td>4.0</td><td>1.0</td><td>8.0</td><td>2.0</td><td>4.0</td><td>9.0</td><td>8.0</td><td>null</td><td>null</td><td>2.0</td><td>3.0</td><td>null</td><td>34000.0</td><td>0</td><td>0.0</td><td>1.0</td><td>1.0</td></tr><tr><td>57543</td><td>202201</td><td>100</td><td>0.0</td><td>191767.36</td><td>3674.6</td><td>1218.2001</td><td>0.0</td><td>0.0</td><td>0.0</td><td>0.0</td><td>0.0</td><td>9.0</td><td>1.0</td><td>2.0</td><td>1.0</td><td>1.0</td><td>16049.4</td><td>17054.4</td><td>2.0</td><td>14554.4</td><td>24482.0</td><td>0.0</td><td>0.0</td><td>0.0</td><td>0.0</td><td>0.0</td><td>0.0</td><td>0.0</td><td>null</td><td>0.0</td><td>0.0</td><td>0.0</td><td>0.0</td><td>0.0</td><td>0.0</td><td>0.0</td><td>&hellip;</td><td>0.35417</td><td>0.0</td><td>0.32292</td><td>0.07292</td><td>0.05208</td><td>6.0</td><td>0.0</td><td>0.0</td><td>0.0</td><td>0.0</td><td>0.0</td><td>5.0</td><td>12154.4</td><td>12154.4</td><td>12154.4</td><td>456031.1</td><td>17859.6</td><td>null</td><td>151364.0</td><td>2.0</td><td>4.0</td><td>1.0</td><td>8.0</td><td>2.0</td><td>4.0</td><td>9.0</td><td>8.0</td><td>null</td><td>null</td><td>2.0</td><td>3.0</td><td>null</td><td>null</td><td>1</td><td>1.0</td><td>5.0</td><td>5.0</td></tr><tr><td>57549</td><td>202201</td><td>100</td><td>0.0</td><td>129704.4</td><td>5742.6</td><td>3546.6</td><td>0.0</td><td>2.0</td><td>0.0</td><td>0.0</td><td>0.0</td><td>10.0</td><td>0.0</td><td>0.0</td><td>-1.0</td><td>0.0</td><td>32426.201</td><td>118964.805</td><td>0.0</td><td>13681.714</td><td>32426.201</td><td>0.0</td><td>0.0</td><td>0.0</td><td>0.0</td><td>0.0</td><td>0.0</td><td>0.0</td><td>null</td><td>0.0</td><td>0.0</td><td>0.0</td><td>0.0</td><td>0.0</td><td>0.0</td><td>0.0</td><td>&hellip;</td><td>0.34091</td><td>0.11628</td><td>0.29545</td><td>0.18605</td><td>0.13953</td><td>18.0</td><td>0.0</td><td>0.0</td><td>0.0</td><td>null</td><td>2.0</td><td>7.0</td><td>10638.2</td><td>10638.2</td><td>10638.2</td><td>373720.84</td><td>126058.0</td><td>null</td><td>1.5631e6</td><td>6.0</td><td>9.0</td><td>3.0</td><td>12.0</td><td>4.0</td><td>9.0</td><td>5.0</td><td>12.0</td><td>26815.6</td><td>14.0</td><td>8.0</td><td>2.0</td><td>null</td><td>49800.0</td><td>0</td><td>0.0</td><td>1.0</td><td>1.0</td></tr><tr><td>57549</td><td>202201</td><td>100</td><td>0.0</td><td>129704.4</td><td>5742.6</td><td>3546.6</td><td>0.0</td><td>2.0</td><td>0.0</td><td>0.0</td><td>0.0</td><td>10.0</td><td>0.0</td><td>0.0</td><td>-1.0</td><td>0.0</td><td>32426.201</td><td>118964.805</td><td>0.0</td><td>13681.714</td><td>32426.201</td><td>0.0</td><td>0.0</td><td>0.0</td><td>0.0</td><td>0.0</td><td>0.0</td><td>0.0</td><td>null</td><td>0.0</td><td>0.0</td><td>0.0</td><td>0.0</td><td>0.0</td><td>0.0</td><td>0.0</td><td>&hellip;</td><td>0.34091</td><td>0.11628</td><td>0.29545</td><td>0.18605</td><td>0.13953</td><td>18.0</td><td>0.0</td><td>0.0</td><td>0.0</td><td>null</td><td>2.0</td><td>7.0</td><td>10638.2</td><td>10638.2</td><td>10638.2</td><td>373720.84</td><td>126058.0</td><td>null</td><td>1.5631e6</td><td>6.0</td><td>9.0</td><td>3.0</td><td>12.0</td><td>4.0</td><td>9.0</td><td>5.0</td><td>12.0</td><td>26815.6</td><td>14.0</td><td>8.0</td><td>2.0</td><td>null</td><td>null</td><td>1</td><td>1.0</td><td>5.0</td><td>5.0</td></tr><tr><td>57551</td><td>202201</td><td>100</td><td>0.0</td><td>71036.4</td><td>2844.6</td><td>0.0</td><td>0.0</td><td>1.0</td><td>0.0</td><td>0.0</td><td>0.0</td><td>2.0</td><td>-1.0</td><td>null</td><td>-1.0</td><td>1.0</td><td>8357.2</td><td>null</td><td>1.0</td><td>0.0</td><td>9551.0</td><td>0.0</td><td>0.0</td><td>0.0</td><td>0.0</td><td>0.0</td><td>0.0</td><td>0.0</td><td>null</td><td>0.0</td><td>0.0</td><td>0.0</td><td>0.0</td><td>0.0</td><td>0.0</td><td>0.0</td><td>&hellip;</td><td>0.33333</td><td>0.0</td><td>0.11111</td><td>0.11111</td><td>0.0</td><td>12.0</td><td>null</td><td>null</td><td>null</td><td>27095.201</td><td>1.0</td><td>2.0</td><td>0.0</td><td>0.0</td><td>0.0</td><td>75219.0</td><td>null</td><td>null</td><td>2926195.3</td><td>1.0</td><td>3.0</td><td>1.0</td><td>4.0</td><td>1.0</td><td>3.0</td><td>2.0</td><td>4.0</td><td>null</td><td>null</td><td>5.0</td><td>5.0</td><td>null</td><td>59600.0</td><td>0</td><td>0.0</td><td>1.0</td><td>1.0</td></tr><tr><td>57552</td><td>202201</td><td>100</td><td>0.0</td><td>183992.0</td><td>6298.8003</td><td>12155.4</td><td>0.0</td><td>0.0</td><td>0.0</td><td>0.0</td><td>0.0</td><td>9.0</td><td>-9.0</td><td>-7.0</td><td>-9.0</td><td>0.0</td><td>7440.4</td><td>null</td><td>0.0</td><td>199322.4</td><td>9148.4</td><td>0.0</td><td>0.0</td><td>0.0</td><td>0.0</td><td>0.0</td><td>0.0</td><td>0.0</td><td>null</td><td>0.0</td><td>0.0</td><td>0.0</td><td>0.0</td><td>0.0</td><td>0.0</td><td>0.0</td><td>&hellip;</td><td>0.83871</td><td>0.0</td><td>0.0</td><td>0.0</td><td>0.0</td><td>24.0</td><td>0.0</td><td>0.0</td><td>0.0</td><td>null</td><td>0.0</td><td>6.0</td><td>191269.61</td><td>191269.61</td><td>191269.61</td><td>284213.0</td><td>18889.0</td><td>null</td><td>747031.73</td><td>2.0</td><td>2.0</td><td>0.0</td><td>5.0</td><td>0.0</td><td>3.0</td><td>2.0</td><td>5.0</td><td>23402.8</td><td>14.0</td><td>7.0</td><td>1.0</td><td>null</td><td>112000.0</td><td>0</td><td>0.0</td><td>1.0</td><td>1.0</td></tr><tr><td>57569</td><td>202201</td><td>100</td><td>0.0</td><td>0.0</td><td>4682.6</td><td>0.0</td><td>0.0</td><td>1.0</td><td>0.0</td><td>0.0</td><td>0.0</td><td>6.0</td><td>2824.0</td><td>null</td><td>2824.0</td><td>2517.0</td><td>null</td><td>null</td><td>null</td><td>null</td><td>10796.4</td><td>0.0</td><td>0.0</td><td>0.0</td><td>0.0</td><td>0.0</td><td>0.0</td><td>0.0</td><td>null</td><td>0.0</td><td>0.0</td><td>0.0</td><td>0.0</td><td>0.0</td><td>0.0</td><td>0.0</td><td>&hellip;</td><td>0.33333</td><td>0.6</td><td>0.66667</td><td>0.66667</td><td>0.6</td><td>24.0</td><td>0.0</td><td>null</td><td>null</td><td>null</td><td>2.0</td><td>3.0</td><td>0.0</td><td>0.0</td><td>0.0</td><td>95348.42</td><td>null</td><td>null</td><td>null</td><td>4.0</td><td>4.0</td><td>1.0</td><td>4.0</td><td>4.0</td><td>0.0</td><td>0.0</td><td>4.0</td><td>17333.6</td><td>14.0</td><td>1.0</td><td>3.0</td><td>0.0</td><td>null</td><td>1</td><td>1.0</td><td>5.0</td><td>5.0</td></tr><tr><td>57569</td><td>202201</td><td>100</td><td>0.0</td><td>0.0</td><td>4682.6</td><td>0.0</td><td>0.0</td><td>1.0</td><td>0.0</td><td>0.0</td><td>0.0</td><td>6.0</td><td>2824.0</td><td>null</td><td>2824.0</td><td>2517.0</td><td>null</td><td>null</td><td>null</td><td>null</td><td>10796.4</td><td>0.0</td><td>0.0</td><td>0.0</td><td>0.0</td><td>0.0</td><td>0.0</td><td>0.0</td><td>null</td><td>0.0</td><td>0.0</td><td>0.0</td><td>0.0</td><td>0.0</td><td>0.0</td><td>0.0</td><td>&hellip;</td><td>0.33333</td><td>0.6</td><td>0.66667</td><td>0.66667</td><td>0.6</td><td>24.0</td><td>0.0</td><td>null</td><td>null</td><td>null</td><td>2.0</td><td>3.0</td><td>0.0</td><td>0.0</td><td>0.0</td><td>95348.42</td><td>null</td><td>null</td><td>null</td><td>4.0</td><td>4.0</td><td>1.0</td><td>4.0</td><td>4.0</td><td>0.0</td><td>0.0</td><td>4.0</td><td>17333.6</td><td>14.0</td><td>1.0</td><td>3.0</td><td>null</td><td>58000.0</td><td>0</td><td>0.0</td><td>1.0</td><td>1.0</td></tr><tr><td>57630</td><td>202201</td><td>100</td><td>0.0</td><td>0.0</td><td>8905.0</td><td>0.0</td><td>0.0</td><td>0.0</td><td>0.0</td><td>0.0</td><td>0.0</td><td>1.0</td><td>null</td><td>null</td><td>null</td><td>0.0</td><td>null</td><td>null</td><td>null</td><td>null</td><td>null</td><td>0.0</td><td>0.0</td><td>0.0</td><td>0.0</td><td>0.0</td><td>0.0</td><td>0.0</td><td>null</td><td>0.0</td><td>0.0</td><td>0.0</td><td>0.0</td><td>0.0</td><td>0.0</td><td>0.0</td><td>&hellip;</td><td>0.42857</td><td>0.0</td><td>0.28571</td><td>0.0</td><td>0.0</td><td>12.0</td><td>0.0</td><td>0.0</td><td>0.0</td><td>96174.0</td><td>0.0</td><td>1.0</td><td>0.0</td><td>0.0</td><td>0.0</td><td>9677.601</td><td>null</td><td>null</td><td>499975.0</td><td>1.0</td><td>2.0</td><td>1.0</td><td>5.0</td><td>1.0</td><td>1.0</td><td>3.0</td><td>5.0</td><td>null</td><td>null</td><td>4.0</td><td>1.0</td><td>null</td><td>60000.0</td><td>0</td><td>0.0</td><td>1.0</td><td>1.0</td></tr><tr><td>57630</td><td>202201</td><td>100</td><td>0.0</td><td>0.0</td><td>8905.0</td><td>0.0</td><td>0.0</td><td>0.0</td><td>0.0</td><td>0.0</td><td>0.0</td><td>1.0</td><td>null</td><td>null</td><td>null</td><td>0.0</td><td>null</td><td>null</td><td>null</td><td>null</td><td>null</td><td>0.0</td><td>0.0</td><td>0.0</td><td>0.0</td><td>0.0</td><td>0.0</td><td>0.0</td><td>null</td><td>0.0</td><td>0.0</td><td>0.0</td><td>0.0</td><td>0.0</td><td>0.0</td><td>0.0</td><td>&hellip;</td><td>0.42857</td><td>0.0</td><td>0.28571</td><td>0.0</td><td>0.0</td><td>12.0</td><td>0.0</td><td>0.0</td><td>0.0</td><td>96174.0</td><td>0.0</td><td>1.0</td><td>0.0</td><td>0.0</td><td>0.0</td><td>9677.601</td><td>null</td><td>null</td><td>499975.0</td><td>1.0</td><td>2.0</td><td>1.0</td><td>5.0</td><td>1.0</td><td>1.0</td><td>3.0</td><td>5.0</td><td>null</td><td>null</td><td>4.0</td><td>1.0</td><td>null</td><td>null</td><td>1</td><td>1.0</td><td>4.0</td><td>4.0</td></tr></tbody></table></div>"
      ],
      "text/plain": [
       "shape: (10, 153)\n",
       "┌─────────┬────────┬──────────┬────────────┬───┬────────────┬────────────┬────────────┬────────────┐\n",
       "│ case_id ┆ MONTH  ┆ WEEK_NUM ┆ actualdpdt ┆ … ┆ num_group1 ┆ personinde ┆ persontype ┆ persontype │\n",
       "│ ---     ┆ ---    ┆ ---      ┆ olerance_3 ┆   ┆ ---        ┆ x_1023L    ┆ _1072L     ┆ _792L      │\n",
       "│ i64     ┆ i64    ┆ i64      ┆ 44P        ┆   ┆ i64        ┆ ---        ┆ ---        ┆ ---        │\n",
       "│         ┆        ┆          ┆ ---        ┆   ┆            ┆ f64        ┆ f64        ┆ f64        │\n",
       "│         ┆        ┆          ┆ f64        ┆   ┆            ┆            ┆            ┆            │\n",
       "╞═════════╪════════╪══════════╪════════════╪═══╪════════════╪════════════╪════════════╪════════════╡\n",
       "│ 57543   ┆ 202201 ┆ 100      ┆ 0.0        ┆ … ┆ 0          ┆ 0.0        ┆ 1.0        ┆ 1.0        │\n",
       "│ 57543   ┆ 202201 ┆ 100      ┆ 0.0        ┆ … ┆ 1          ┆ 1.0        ┆ 5.0        ┆ 5.0        │\n",
       "│ 57549   ┆ 202201 ┆ 100      ┆ 0.0        ┆ … ┆ 0          ┆ 0.0        ┆ 1.0        ┆ 1.0        │\n",
       "│ 57549   ┆ 202201 ┆ 100      ┆ 0.0        ┆ … ┆ 1          ┆ 1.0        ┆ 5.0        ┆ 5.0        │\n",
       "│ 57551   ┆ 202201 ┆ 100      ┆ 0.0        ┆ … ┆ 0          ┆ 0.0        ┆ 1.0        ┆ 1.0        │\n",
       "│ 57552   ┆ 202201 ┆ 100      ┆ 0.0        ┆ … ┆ 0          ┆ 0.0        ┆ 1.0        ┆ 1.0        │\n",
       "│ 57569   ┆ 202201 ┆ 100      ┆ 0.0        ┆ … ┆ 1          ┆ 1.0        ┆ 5.0        ┆ 5.0        │\n",
       "│ 57569   ┆ 202201 ┆ 100      ┆ 0.0        ┆ … ┆ 0          ┆ 0.0        ┆ 1.0        ┆ 1.0        │\n",
       "│ 57630   ┆ 202201 ┆ 100      ┆ 0.0        ┆ … ┆ 0          ┆ 0.0        ┆ 1.0        ┆ 1.0        │\n",
       "│ 57630   ┆ 202201 ┆ 100      ┆ 0.0        ┆ … ┆ 1          ┆ 1.0        ┆ 4.0        ┆ 4.0        │\n",
       "└─────────┴────────┴──────────┴────────────┴───┴────────────┴────────────┴────────────┴────────────┘"
      ]
     },
     "execution_count": 16,
     "metadata": {},
     "output_type": "execute_result"
    }
   ],
   "source": [
    "# 讀取數據\n",
    "submissionDir = os.path.join(projDir, \"csv_files/test/\")\n",
    "submission_base = pl.read_csv(submissionDir + 'test_base.csv')\n",
    "\n",
    "static_dfs = [\n",
    "    pd.read_csv(submissionDir + 'test_static_0_0.csv'),\n",
    "    pd.read_csv(submissionDir + 'test_static_0_1.csv')\n",
    "]\n",
    "pd_df = pd.concat(static_dfs, ignore_index=True)\n",
    "del static_dfs\n",
    "submission_static = pl.from_pandas(pd_df)\n",
    "del pd_df\n",
    "\n",
    "submission_static_cb = pl.read_csv(submissionDir + 'test_static_cb_0.csv')\n",
    "submission_person_1 = pl.read_csv(submissionDir + 'test_person_1.csv') \n",
    "submission_credit_bureau_b_2 = pl.read_csv(submissionDir + 'test_credit_bureau_b_2.csv') \n",
    "\n",
    "# Merge all dataframes using join with how='inner'\n",
    "X_submission = submission_base.join(\n",
    "    submission_static, on='case_id', how='inner'\n",
    ").join(\n",
    "    submission_static_cb, on='case_id', how='inner'\n",
    ").join(\n",
    "    submission_person_1, on='case_id', how='inner'\n",
    ")\n",
    "# .join(\n",
    "#     submission_credit_bureau_b_2, on='case_id', how='inner'\n",
    "# )\n",
    "\n",
    "del submission_base\n",
    "del submission_static\n",
    "del submission_static_cb\n",
    "del submission_person_1\n",
    "del submission_credit_bureau_b_2\n",
    "\n",
    "# Drop datatype非數字的data\n",
    "for col in X_submission.columns:\n",
    "    if not (X_submission[col].dtype in (pl.Int64, pl.Float64)):\n",
    "        X_submission = X_submission.drop(col)\n",
    "        \n",
    "X_submission"
   ]
  },
  {
   "cell_type": "code",
   "execution_count": 17,
   "id": "74e2a3c0",
   "metadata": {
    "execution": {
     "iopub.execute_input": "2024-03-27T13:27:49.419157Z",
     "iopub.status.busy": "2024-03-27T13:27:49.418674Z",
     "iopub.status.idle": "2024-03-27T13:27:50.181461Z",
     "shell.execute_reply": "2024-03-27T13:27:50.180249Z"
    },
    "papermill": {
     "duration": 2.712614,
     "end_time": "2024-03-27T13:27:50.184897",
     "exception": false,
     "start_time": "2024-03-27T13:27:47.472283",
     "status": "completed"
    },
    "tags": []
   },
   "outputs": [
    {
     "name": "stdout",
     "output_type": "stream",
     "text": [
      "\u001b[1m1/1\u001b[0m \u001b[32m━━━━━━━━━━━━━━━━━━━━\u001b[0m\u001b[37m\u001b[0m \u001b[1m1s\u001b[0m 680ms/step\n"
     ]
    },
    {
     "data": {
      "text/plain": [
       "[0, 0, 0, 0, 0, 0, 0, 0, 0, 0]"
      ]
     },
     "execution_count": 17,
     "metadata": {},
     "output_type": "execute_result"
    }
   ],
   "source": [
    "# # LGBM\n",
    "# y_submission_pred = bst.predict(X_submission, num_iteration=bst.best_iteration, predict_disable_shape_check=True)\n",
    "\n",
    "# RNN\n",
    "X_submission_array = X_submission.to_numpy()\n",
    "X_submission_rnn = X_submission_array.reshape(X_submission_array.shape[0], X_submission_array.shape[1], 1)\n",
    "y_submission_pred = model.predict(X_submission_rnn)\n",
    "\n",
    "# 轉乘0或1\n",
    "y_submission_pred_binary = [1 if pred > 0.5 else 0 for pred in y_submission_pred]\n",
    "y_submission_pred_binary"
   ]
  },
  {
   "cell_type": "code",
   "execution_count": 18,
   "id": "ca409866",
   "metadata": {
    "execution": {
     "iopub.execute_input": "2024-03-27T13:27:53.946373Z",
     "iopub.status.busy": "2024-03-27T13:27:53.945925Z",
     "iopub.status.idle": "2024-03-27T13:27:53.961774Z",
     "shell.execute_reply": "2024-03-27T13:27:53.960657Z"
    },
    "papermill": {
     "duration": 1.950447,
     "end_time": "2024-03-27T13:27:53.964567",
     "exception": false,
     "start_time": "2024-03-27T13:27:52.014120",
     "status": "completed"
    },
    "tags": []
   },
   "outputs": [],
   "source": [
    "submission = pd.DataFrame({\n",
    "    \"case_id\": X_submission[\"case_id\"].to_numpy(),\n",
    "    \"score\": y_submission_pred_binary\n",
    "}).set_index('case_id')\n",
    "submission.to_csv(\"./submission.csv\")"
   ]
  },
  {
   "cell_type": "code",
   "execution_count": 19,
   "id": "52166831",
   "metadata": {
    "execution": {
     "iopub.execute_input": "2024-03-27T13:27:57.635914Z",
     "iopub.status.busy": "2024-03-27T13:27:57.635138Z",
     "iopub.status.idle": "2024-03-27T13:27:57.656366Z",
     "shell.execute_reply": "2024-03-27T13:27:57.655410Z"
    },
    "papermill": {
     "duration": 1.820071,
     "end_time": "2024-03-27T13:27:57.658996",
     "exception": false,
     "start_time": "2024-03-27T13:27:55.838925",
     "status": "completed"
    },
    "tags": []
   },
   "outputs": [
    {
     "data": {
      "text/html": [
       "<div>\n",
       "<style scoped>\n",
       "    .dataframe tbody tr th:only-of-type {\n",
       "        vertical-align: middle;\n",
       "    }\n",
       "\n",
       "    .dataframe tbody tr th {\n",
       "        vertical-align: top;\n",
       "    }\n",
       "\n",
       "    .dataframe thead th {\n",
       "        text-align: right;\n",
       "    }\n",
       "</style>\n",
       "<table border=\"1\" class=\"dataframe\">\n",
       "  <thead>\n",
       "    <tr style=\"text-align: right;\">\n",
       "      <th></th>\n",
       "      <th>case_id</th>\n",
       "      <th>score</th>\n",
       "    </tr>\n",
       "  </thead>\n",
       "  <tbody>\n",
       "    <tr>\n",
       "      <th>0</th>\n",
       "      <td>57543</td>\n",
       "      <td>0</td>\n",
       "    </tr>\n",
       "    <tr>\n",
       "      <th>1</th>\n",
       "      <td>57543</td>\n",
       "      <td>0</td>\n",
       "    </tr>\n",
       "    <tr>\n",
       "      <th>2</th>\n",
       "      <td>57549</td>\n",
       "      <td>0</td>\n",
       "    </tr>\n",
       "    <tr>\n",
       "      <th>3</th>\n",
       "      <td>57549</td>\n",
       "      <td>0</td>\n",
       "    </tr>\n",
       "    <tr>\n",
       "      <th>4</th>\n",
       "      <td>57551</td>\n",
       "      <td>0</td>\n",
       "    </tr>\n",
       "    <tr>\n",
       "      <th>5</th>\n",
       "      <td>57552</td>\n",
       "      <td>0</td>\n",
       "    </tr>\n",
       "    <tr>\n",
       "      <th>6</th>\n",
       "      <td>57569</td>\n",
       "      <td>0</td>\n",
       "    </tr>\n",
       "    <tr>\n",
       "      <th>7</th>\n",
       "      <td>57569</td>\n",
       "      <td>0</td>\n",
       "    </tr>\n",
       "    <tr>\n",
       "      <th>8</th>\n",
       "      <td>57630</td>\n",
       "      <td>0</td>\n",
       "    </tr>\n",
       "    <tr>\n",
       "      <th>9</th>\n",
       "      <td>57630</td>\n",
       "      <td>0</td>\n",
       "    </tr>\n",
       "  </tbody>\n",
       "</table>\n",
       "</div>"
      ],
      "text/plain": [
       "   case_id  score\n",
       "0    57543      0\n",
       "1    57543      0\n",
       "2    57549      0\n",
       "3    57549      0\n",
       "4    57551      0\n",
       "5    57552      0\n",
       "6    57569      0\n",
       "7    57569      0\n",
       "8    57630      0\n",
       "9    57630      0"
      ]
     },
     "execution_count": 19,
     "metadata": {},
     "output_type": "execute_result"
    }
   ],
   "source": [
    "pd.read_csv(\"./submission.csv\")"
   ]
  }
 ],
 "metadata": {
  "kaggle": {
   "accelerator": "none",
   "dataSources": [
    {
     "databundleVersionId": 7921029,
     "sourceId": 50160,
     "sourceType": "competition"
    }
   ],
   "dockerImageVersionId": 30664,
   "isGpuEnabled": false,
   "isInternetEnabled": false,
   "language": "python",
   "sourceType": "notebook"
  },
  "kernelspec": {
   "display_name": "Python 3",
   "language": "python",
   "name": "python3"
  },
  "language_info": {
   "codemirror_mode": {
    "name": "ipython",
    "version": 3
   },
   "file_extension": ".py",
   "mimetype": "text/x-python",
   "name": "python",
   "nbconvert_exporter": "python",
   "pygments_lexer": "ipython3",
   "version": "3.10.13"
  },
  "papermill": {
   "default_parameters": {},
   "duration": 2558.834706,
   "end_time": "2024-03-27T13:28:03.436531",
   "environment_variables": {},
   "exception": null,
   "input_path": "__notebook__.ipynb",
   "output_path": "__notebook__.ipynb",
   "parameters": {},
   "start_time": "2024-03-27T12:45:24.601825",
   "version": "2.5.0"
  }
 },
 "nbformat": 4,
 "nbformat_minor": 5
}
