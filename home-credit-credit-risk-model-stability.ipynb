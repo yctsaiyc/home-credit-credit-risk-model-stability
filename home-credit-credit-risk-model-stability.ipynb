{
 "cells": [
  {
   "cell_type": "code",
   "execution_count": 1,
   "id": "d879c764",
   "metadata": {
    "_cell_guid": "b1076dfc-b9ad-4769-8c92-a6c4dae69d19",
    "_uuid": "8f2839f25d086af736a60e9eeb907d3b93b6e0e5",
    "execution": {
     "iopub.execute_input": "2024-03-28T14:58:29.811530Z",
     "iopub.status.busy": "2024-03-28T14:58:29.810819Z",
     "iopub.status.idle": "2024-03-28T14:58:30.820123Z",
     "shell.execute_reply": "2024-03-28T14:58:30.819121Z"
    },
    "papermill": {
     "duration": 1.023623,
     "end_time": "2024-03-28T14:58:30.822875",
     "exception": false,
     "start_time": "2024-03-28T14:58:29.799252",
     "status": "completed"
    },
    "tags": []
   },
   "outputs": [],
   "source": [
    "import numpy as np\n",
    "import pandas as pd\n",
    "import os"
   ]
  },
  {
   "cell_type": "markdown",
   "id": "cb4d9699",
   "metadata": {
    "papermill": {
     "duration": 0.009364,
     "end_time": "2024-03-28T14:58:30.842102",
     "exception": false,
     "start_time": "2024-03-28T14:58:30.832738",
     "status": "completed"
    },
    "tags": []
   },
   "source": [
    "## 資料探索與前處理"
   ]
  },
  {
   "cell_type": "markdown",
   "id": "ac6f7a58",
   "metadata": {
    "papermill": {
     "duration": 0.009672,
     "end_time": "2024-03-28T14:58:30.861136",
     "exception": false,
     "start_time": "2024-03-28T14:58:30.851464",
     "status": "completed"
    },
    "tags": []
   },
   "source": [
    "### 訓練資料的目錄"
   ]
  },
  {
   "cell_type": "code",
   "execution_count": 2,
   "id": "31ec6990",
   "metadata": {
    "execution": {
     "iopub.execute_input": "2024-03-28T14:58:30.881969Z",
     "iopub.status.busy": "2024-03-28T14:58:30.881465Z",
     "iopub.status.idle": "2024-03-28T14:58:30.886868Z",
     "shell.execute_reply": "2024-03-28T14:58:30.885585Z"
    },
    "papermill": {
     "duration": 0.018494,
     "end_time": "2024-03-28T14:58:30.889260",
     "exception": false,
     "start_time": "2024-03-28T14:58:30.870766",
     "status": "completed"
    },
    "tags": []
   },
   "outputs": [],
   "source": [
    "projDir = \"/kaggle/input/home-credit-credit-risk-model-stability/\"\n",
    "trainDir = os.path.join(projDir, \"csv_files/train/\")"
   ]
  },
  {
   "cell_type": "markdown",
   "id": "53798727",
   "metadata": {
    "papermill": {
     "duration": 0.009648,
     "end_time": "2024-03-28T14:58:30.908698",
     "exception": false,
     "start_time": "2024-03-28T14:58:30.899050",
     "status": "completed"
    },
    "tags": []
   },
   "source": [
    "### Join Table"
   ]
  },
  {
   "cell_type": "code",
   "execution_count": 3,
   "id": "5653845b",
   "metadata": {
    "execution": {
     "iopub.execute_input": "2024-03-28T14:58:30.929354Z",
     "iopub.status.busy": "2024-03-28T14:58:30.928963Z",
     "iopub.status.idle": "2024-03-28T15:00:00.472044Z",
     "shell.execute_reply": "2024-03-28T15:00:00.470807Z"
    },
    "papermill": {
     "duration": 89.557047,
     "end_time": "2024-03-28T15:00:00.475124",
     "exception": false,
     "start_time": "2024-03-28T14:58:30.918077",
     "status": "completed"
    },
    "tags": []
   },
   "outputs": [
    {
     "name": "stderr",
     "output_type": "stream",
     "text": [
      "/tmp/ipykernel_18/4217689035.py:9: DtypeWarning: Columns (20,45,46,53,57,84,143,146,167) have mixed types. Specify dtype option on import or set low_memory=False.\n",
      "  train_static0 = pd.read_csv(path)\n",
      "/tmp/ipykernel_18/4217689035.py:11: DtypeWarning: Columns (20,45,46,56,57,84,143,146,167) have mixed types. Specify dtype option on import or set low_memory=False.\n",
      "  train_static1 = pd.read_csv(path)\n",
      "/tmp/ipykernel_18/4217689035.py:17: DtypeWarning: Columns (1,2,3,4,7,45,46,47,48) have mixed types. Specify dtype option on import or set low_memory=False.\n",
      "  train_static_cb = pd.read_csv(path)\n"
     ]
    }
   ],
   "source": [
    "# 讀取訓練數據\n",
    "\n",
    "# base.csv\n",
    "path = os.path.join(trainDir, 'train_base.csv')\n",
    "train_base = pd.read_csv(path)\n",
    "\n",
    "# static (depth=0)\n",
    "path = os.path.join(trainDir, 'train_static_0_0.csv')\n",
    "train_static0 = pd.read_csv(path)\n",
    "path = os.path.join(trainDir, 'train_static_0_1.csv')\n",
    "train_static1 = pd.read_csv(path)\n",
    "train_static = pd.concat([train_static0, train_static1], ignore_index=True)\n",
    "del train_static0, train_static1\n",
    "\n",
    "# static_cb (depth=0)\n",
    "path = os.path.join(trainDir, 'train_static_cb_0.csv')\n",
    "train_static_cb = pd.read_csv(path)\n",
    "\n",
    "# Join Table\n",
    "train_data = pd.merge(train_base, train_static, how=\"left\", on=\"case_id\")\n",
    "train_data = pd.merge(train_data, train_static_cb, how=\"left\", on=\"case_id\")\n",
    "del train_base, train_static, train_static_cb"
   ]
  },
  {
   "cell_type": "markdown",
   "id": "769d12d8",
   "metadata": {
    "papermill": {
     "duration": 0.009234,
     "end_time": "2024-03-28T15:00:00.494947",
     "exception": false,
     "start_time": "2024-03-28T15:00:00.485713",
     "status": "completed"
    },
    "tags": []
   },
   "source": [
    "### 刪除非數字的column"
   ]
  },
  {
   "cell_type": "code",
   "execution_count": 4,
   "id": "659b2e59",
   "metadata": {
    "execution": {
     "iopub.execute_input": "2024-03-28T15:00:00.516985Z",
     "iopub.status.busy": "2024-03-28T15:00:00.515664Z",
     "iopub.status.idle": "2024-03-28T15:01:44.800150Z",
     "shell.execute_reply": "2024-03-28T15:01:44.797994Z"
    },
    "papermill": {
     "duration": 104.299631,
     "end_time": "2024-03-28T15:01:44.804264",
     "exception": false,
     "start_time": "2024-03-28T15:00:00.504633",
     "status": "completed"
    },
    "tags": []
   },
   "outputs": [],
   "source": [
    "for col in train_data.columns:\n",
    "    if not (train_data[col].dtype in (np.int64, np.float64)):\n",
    "        train_data = train_data.drop(col, axis=1)"
   ]
  },
  {
   "cell_type": "markdown",
   "id": "e2d6bab9",
   "metadata": {
    "papermill": {
     "duration": 0.0097,
     "end_time": "2024-03-28T15:01:44.825004",
     "exception": false,
     "start_time": "2024-03-28T15:01:44.815304",
     "status": "completed"
    },
    "tags": []
   },
   "source": [
    "### 將目標變量和特徵變量分開"
   ]
  },
  {
   "cell_type": "code",
   "execution_count": 5,
   "id": "139c0fa0",
   "metadata": {
    "execution": {
     "iopub.execute_input": "2024-03-28T15:01:44.847846Z",
     "iopub.status.busy": "2024-03-28T15:01:44.847215Z",
     "iopub.status.idle": "2024-03-28T15:01:45.730720Z",
     "shell.execute_reply": "2024-03-28T15:01:45.729486Z"
    },
    "papermill": {
     "duration": 0.899094,
     "end_time": "2024-03-28T15:01:45.733895",
     "exception": false,
     "start_time": "2024-03-28T15:01:44.834801",
     "status": "completed"
    },
    "tags": []
   },
   "outputs": [],
   "source": [
    "X = train_data.drop(columns=['target'])\n",
    "y = train_data['target']"
   ]
  },
  {
   "cell_type": "markdown",
   "id": "aa5beb00",
   "metadata": {
    "papermill": {
     "duration": 0.009281,
     "end_time": "2024-03-28T15:01:45.753026",
     "exception": false,
     "start_time": "2024-03-28T15:01:45.743745",
     "status": "completed"
    },
    "tags": []
   },
   "source": [
    "### 處理缺失值"
   ]
  },
  {
   "cell_type": "code",
   "execution_count": 6,
   "id": "914a9918",
   "metadata": {
    "execution": {
     "iopub.execute_input": "2024-03-28T15:01:45.774114Z",
     "iopub.status.busy": "2024-03-28T15:01:45.773659Z",
     "iopub.status.idle": "2024-03-28T15:01:46.111625Z",
     "shell.execute_reply": "2024-03-28T15:01:46.110023Z"
    },
    "papermill": {
     "duration": 0.352192,
     "end_time": "2024-03-28T15:01:46.114795",
     "exception": false,
     "start_time": "2024-03-28T15:01:45.762603",
     "status": "completed"
    },
    "tags": []
   },
   "outputs": [
    {
     "data": {
      "text/html": [
       "<div>\n",
       "<style scoped>\n",
       "    .dataframe tbody tr th:only-of-type {\n",
       "        vertical-align: middle;\n",
       "    }\n",
       "\n",
       "    .dataframe tbody tr th {\n",
       "        vertical-align: top;\n",
       "    }\n",
       "\n",
       "    .dataframe thead th {\n",
       "        text-align: right;\n",
       "    }\n",
       "</style>\n",
       "<table border=\"1\" class=\"dataframe\">\n",
       "  <thead>\n",
       "    <tr style=\"text-align: right;\">\n",
       "      <th></th>\n",
       "      <th>case_id</th>\n",
       "      <th>MONTH</th>\n",
       "      <th>WEEK_NUM</th>\n",
       "      <th>actualdpdtolerance_344P</th>\n",
       "      <th>amtinstpaidbefduel24m_4187115A</th>\n",
       "      <th>annuity_780A</th>\n",
       "      <th>annuitynextmonth_57A</th>\n",
       "      <th>applicationcnt_361L</th>\n",
       "      <th>applications30d_658L</th>\n",
       "      <th>applicationscnt_1086L</th>\n",
       "      <th>...</th>\n",
       "      <th>pmtaverage_4527227A</th>\n",
       "      <th>pmtaverage_4955615A</th>\n",
       "      <th>pmtcount_4527229L</th>\n",
       "      <th>pmtcount_4955617L</th>\n",
       "      <th>pmtcount_693L</th>\n",
       "      <th>pmtscount_423L</th>\n",
       "      <th>pmtssum_45A</th>\n",
       "      <th>riskassesment_940T</th>\n",
       "      <th>secondquarter_766L</th>\n",
       "      <th>thirdquarter_1082L</th>\n",
       "    </tr>\n",
       "  </thead>\n",
       "  <tbody>\n",
       "    <tr>\n",
       "      <th>0</th>\n",
       "      <td>0</td>\n",
       "      <td>201901</td>\n",
       "      <td>0</td>\n",
       "      <td>NaN</td>\n",
       "      <td>NaN</td>\n",
       "      <td>1917.6000</td>\n",
       "      <td>0.0</td>\n",
       "      <td>0.0</td>\n",
       "      <td>0.0</td>\n",
       "      <td>0.0</td>\n",
       "      <td>...</td>\n",
       "      <td>NaN</td>\n",
       "      <td>NaN</td>\n",
       "      <td>NaN</td>\n",
       "      <td>NaN</td>\n",
       "      <td>NaN</td>\n",
       "      <td>NaN</td>\n",
       "      <td>NaN</td>\n",
       "      <td>NaN</td>\n",
       "      <td>NaN</td>\n",
       "      <td>NaN</td>\n",
       "    </tr>\n",
       "    <tr>\n",
       "      <th>1</th>\n",
       "      <td>1</td>\n",
       "      <td>201901</td>\n",
       "      <td>0</td>\n",
       "      <td>NaN</td>\n",
       "      <td>NaN</td>\n",
       "      <td>3134.0000</td>\n",
       "      <td>0.0</td>\n",
       "      <td>0.0</td>\n",
       "      <td>0.0</td>\n",
       "      <td>0.0</td>\n",
       "      <td>...</td>\n",
       "      <td>NaN</td>\n",
       "      <td>NaN</td>\n",
       "      <td>NaN</td>\n",
       "      <td>NaN</td>\n",
       "      <td>NaN</td>\n",
       "      <td>NaN</td>\n",
       "      <td>NaN</td>\n",
       "      <td>NaN</td>\n",
       "      <td>NaN</td>\n",
       "      <td>NaN</td>\n",
       "    </tr>\n",
       "    <tr>\n",
       "      <th>2</th>\n",
       "      <td>2</td>\n",
       "      <td>201901</td>\n",
       "      <td>0</td>\n",
       "      <td>NaN</td>\n",
       "      <td>NaN</td>\n",
       "      <td>4937.0000</td>\n",
       "      <td>0.0</td>\n",
       "      <td>0.0</td>\n",
       "      <td>0.0</td>\n",
       "      <td>0.0</td>\n",
       "      <td>...</td>\n",
       "      <td>NaN</td>\n",
       "      <td>NaN</td>\n",
       "      <td>NaN</td>\n",
       "      <td>NaN</td>\n",
       "      <td>NaN</td>\n",
       "      <td>NaN</td>\n",
       "      <td>NaN</td>\n",
       "      <td>NaN</td>\n",
       "      <td>NaN</td>\n",
       "      <td>NaN</td>\n",
       "    </tr>\n",
       "    <tr>\n",
       "      <th>3</th>\n",
       "      <td>3</td>\n",
       "      <td>201901</td>\n",
       "      <td>0</td>\n",
       "      <td>NaN</td>\n",
       "      <td>NaN</td>\n",
       "      <td>4643.6000</td>\n",
       "      <td>0.0</td>\n",
       "      <td>0.0</td>\n",
       "      <td>1.0</td>\n",
       "      <td>0.0</td>\n",
       "      <td>...</td>\n",
       "      <td>NaN</td>\n",
       "      <td>NaN</td>\n",
       "      <td>NaN</td>\n",
       "      <td>NaN</td>\n",
       "      <td>NaN</td>\n",
       "      <td>NaN</td>\n",
       "      <td>NaN</td>\n",
       "      <td>NaN</td>\n",
       "      <td>NaN</td>\n",
       "      <td>NaN</td>\n",
       "    </tr>\n",
       "    <tr>\n",
       "      <th>4</th>\n",
       "      <td>4</td>\n",
       "      <td>201901</td>\n",
       "      <td>0</td>\n",
       "      <td>NaN</td>\n",
       "      <td>NaN</td>\n",
       "      <td>3390.2000</td>\n",
       "      <td>0.0</td>\n",
       "      <td>0.0</td>\n",
       "      <td>1.0</td>\n",
       "      <td>0.0</td>\n",
       "      <td>...</td>\n",
       "      <td>NaN</td>\n",
       "      <td>NaN</td>\n",
       "      <td>NaN</td>\n",
       "      <td>NaN</td>\n",
       "      <td>NaN</td>\n",
       "      <td>NaN</td>\n",
       "      <td>NaN</td>\n",
       "      <td>NaN</td>\n",
       "      <td>NaN</td>\n",
       "      <td>NaN</td>\n",
       "    </tr>\n",
       "    <tr>\n",
       "      <th>...</th>\n",
       "      <td>...</td>\n",
       "      <td>...</td>\n",
       "      <td>...</td>\n",
       "      <td>...</td>\n",
       "      <td>...</td>\n",
       "      <td>...</td>\n",
       "      <td>...</td>\n",
       "      <td>...</td>\n",
       "      <td>...</td>\n",
       "      <td>...</td>\n",
       "      <td>...</td>\n",
       "      <td>...</td>\n",
       "      <td>...</td>\n",
       "      <td>...</td>\n",
       "      <td>...</td>\n",
       "      <td>...</td>\n",
       "      <td>...</td>\n",
       "      <td>...</td>\n",
       "      <td>...</td>\n",
       "      <td>...</td>\n",
       "      <td>...</td>\n",
       "    </tr>\n",
       "    <tr>\n",
       "      <th>1526654</th>\n",
       "      <td>2703450</td>\n",
       "      <td>202010</td>\n",
       "      <td>91</td>\n",
       "      <td>0.0</td>\n",
       "      <td>176561.36</td>\n",
       "      <td>3675.4001</td>\n",
       "      <td>0.0</td>\n",
       "      <td>0.0</td>\n",
       "      <td>0.0</td>\n",
       "      <td>0.0</td>\n",
       "      <td>...</td>\n",
       "      <td>NaN</td>\n",
       "      <td>12155.0</td>\n",
       "      <td>NaN</td>\n",
       "      <td>12.0</td>\n",
       "      <td>NaN</td>\n",
       "      <td>NaN</td>\n",
       "      <td>NaN</td>\n",
       "      <td>NaN</td>\n",
       "      <td>1.0</td>\n",
       "      <td>1.0</td>\n",
       "    </tr>\n",
       "    <tr>\n",
       "      <th>1526655</th>\n",
       "      <td>2703451</td>\n",
       "      <td>202010</td>\n",
       "      <td>91</td>\n",
       "      <td>0.0</td>\n",
       "      <td>301276.47</td>\n",
       "      <td>7088.6000</td>\n",
       "      <td>6191.6</td>\n",
       "      <td>0.0</td>\n",
       "      <td>0.0</td>\n",
       "      <td>5.0</td>\n",
       "      <td>...</td>\n",
       "      <td>NaN</td>\n",
       "      <td>22904.6</td>\n",
       "      <td>NaN</td>\n",
       "      <td>12.0</td>\n",
       "      <td>NaN</td>\n",
       "      <td>NaN</td>\n",
       "      <td>NaN</td>\n",
       "      <td>NaN</td>\n",
       "      <td>1.0</td>\n",
       "      <td>2.0</td>\n",
       "    </tr>\n",
       "    <tr>\n",
       "      <th>1526656</th>\n",
       "      <td>2703452</td>\n",
       "      <td>202010</td>\n",
       "      <td>91</td>\n",
       "      <td>0.0</td>\n",
       "      <td>14232.40</td>\n",
       "      <td>7788.8003</td>\n",
       "      <td>0.0</td>\n",
       "      <td>0.0</td>\n",
       "      <td>0.0</td>\n",
       "      <td>0.0</td>\n",
       "      <td>...</td>\n",
       "      <td>NaN</td>\n",
       "      <td>NaN</td>\n",
       "      <td>NaN</td>\n",
       "      <td>NaN</td>\n",
       "      <td>NaN</td>\n",
       "      <td>NaN</td>\n",
       "      <td>NaN</td>\n",
       "      <td>NaN</td>\n",
       "      <td>0.0</td>\n",
       "      <td>4.0</td>\n",
       "    </tr>\n",
       "    <tr>\n",
       "      <th>1526657</th>\n",
       "      <td>2703453</td>\n",
       "      <td>202010</td>\n",
       "      <td>91</td>\n",
       "      <td>0.0</td>\n",
       "      <td>197371.58</td>\n",
       "      <td>1195.4000</td>\n",
       "      <td>2827.2</td>\n",
       "      <td>0.0</td>\n",
       "      <td>0.0</td>\n",
       "      <td>36.0</td>\n",
       "      <td>...</td>\n",
       "      <td>NaN</td>\n",
       "      <td>15792.4</td>\n",
       "      <td>NaN</td>\n",
       "      <td>14.0</td>\n",
       "      <td>NaN</td>\n",
       "      <td>NaN</td>\n",
       "      <td>NaN</td>\n",
       "      <td>NaN</td>\n",
       "      <td>2.0</td>\n",
       "      <td>1.0</td>\n",
       "    </tr>\n",
       "    <tr>\n",
       "      <th>1526658</th>\n",
       "      <td>2703454</td>\n",
       "      <td>202010</td>\n",
       "      <td>91</td>\n",
       "      <td>0.0</td>\n",
       "      <td>82949.60</td>\n",
       "      <td>4533.8003</td>\n",
       "      <td>2986.8</td>\n",
       "      <td>0.0</td>\n",
       "      <td>0.0</td>\n",
       "      <td>0.0</td>\n",
       "      <td>...</td>\n",
       "      <td>NaN</td>\n",
       "      <td>21530.4</td>\n",
       "      <td>NaN</td>\n",
       "      <td>12.0</td>\n",
       "      <td>NaN</td>\n",
       "      <td>NaN</td>\n",
       "      <td>NaN</td>\n",
       "      <td>NaN</td>\n",
       "      <td>2.0</td>\n",
       "      <td>1.0</td>\n",
       "    </tr>\n",
       "  </tbody>\n",
       "</table>\n",
       "<p>1526659 rows × 167 columns</p>\n",
       "</div>"
      ],
      "text/plain": [
       "         case_id   MONTH  WEEK_NUM  actualdpdtolerance_344P  \\\n",
       "0              0  201901         0                      NaN   \n",
       "1              1  201901         0                      NaN   \n",
       "2              2  201901         0                      NaN   \n",
       "3              3  201901         0                      NaN   \n",
       "4              4  201901         0                      NaN   \n",
       "...          ...     ...       ...                      ...   \n",
       "1526654  2703450  202010        91                      0.0   \n",
       "1526655  2703451  202010        91                      0.0   \n",
       "1526656  2703452  202010        91                      0.0   \n",
       "1526657  2703453  202010        91                      0.0   \n",
       "1526658  2703454  202010        91                      0.0   \n",
       "\n",
       "         amtinstpaidbefduel24m_4187115A  annuity_780A  annuitynextmonth_57A  \\\n",
       "0                                   NaN     1917.6000                   0.0   \n",
       "1                                   NaN     3134.0000                   0.0   \n",
       "2                                   NaN     4937.0000                   0.0   \n",
       "3                                   NaN     4643.6000                   0.0   \n",
       "4                                   NaN     3390.2000                   0.0   \n",
       "...                                 ...           ...                   ...   \n",
       "1526654                       176561.36     3675.4001                   0.0   \n",
       "1526655                       301276.47     7088.6000                6191.6   \n",
       "1526656                        14232.40     7788.8003                   0.0   \n",
       "1526657                       197371.58     1195.4000                2827.2   \n",
       "1526658                        82949.60     4533.8003                2986.8   \n",
       "\n",
       "         applicationcnt_361L  applications30d_658L  applicationscnt_1086L  \\\n",
       "0                        0.0                   0.0                    0.0   \n",
       "1                        0.0                   0.0                    0.0   \n",
       "2                        0.0                   0.0                    0.0   \n",
       "3                        0.0                   1.0                    0.0   \n",
       "4                        0.0                   1.0                    0.0   \n",
       "...                      ...                   ...                    ...   \n",
       "1526654                  0.0                   0.0                    0.0   \n",
       "1526655                  0.0                   0.0                    5.0   \n",
       "1526656                  0.0                   0.0                    0.0   \n",
       "1526657                  0.0                   0.0                   36.0   \n",
       "1526658                  0.0                   0.0                    0.0   \n",
       "\n",
       "         ...  pmtaverage_4527227A  pmtaverage_4955615A  pmtcount_4527229L  \\\n",
       "0        ...                  NaN                  NaN                NaN   \n",
       "1        ...                  NaN                  NaN                NaN   \n",
       "2        ...                  NaN                  NaN                NaN   \n",
       "3        ...                  NaN                  NaN                NaN   \n",
       "4        ...                  NaN                  NaN                NaN   \n",
       "...      ...                  ...                  ...                ...   \n",
       "1526654  ...                  NaN              12155.0                NaN   \n",
       "1526655  ...                  NaN              22904.6                NaN   \n",
       "1526656  ...                  NaN                  NaN                NaN   \n",
       "1526657  ...                  NaN              15792.4                NaN   \n",
       "1526658  ...                  NaN              21530.4                NaN   \n",
       "\n",
       "         pmtcount_4955617L  pmtcount_693L  pmtscount_423L  pmtssum_45A  \\\n",
       "0                      NaN            NaN             NaN          NaN   \n",
       "1                      NaN            NaN             NaN          NaN   \n",
       "2                      NaN            NaN             NaN          NaN   \n",
       "3                      NaN            NaN             NaN          NaN   \n",
       "4                      NaN            NaN             NaN          NaN   \n",
       "...                    ...            ...             ...          ...   \n",
       "1526654               12.0            NaN             NaN          NaN   \n",
       "1526655               12.0            NaN             NaN          NaN   \n",
       "1526656                NaN            NaN             NaN          NaN   \n",
       "1526657               14.0            NaN             NaN          NaN   \n",
       "1526658               12.0            NaN             NaN          NaN   \n",
       "\n",
       "         riskassesment_940T  secondquarter_766L  thirdquarter_1082L  \n",
       "0                       NaN                 NaN                 NaN  \n",
       "1                       NaN                 NaN                 NaN  \n",
       "2                       NaN                 NaN                 NaN  \n",
       "3                       NaN                 NaN                 NaN  \n",
       "4                       NaN                 NaN                 NaN  \n",
       "...                     ...                 ...                 ...  \n",
       "1526654                 NaN                 1.0                 1.0  \n",
       "1526655                 NaN                 1.0                 2.0  \n",
       "1526656                 NaN                 0.0                 4.0  \n",
       "1526657                 NaN                 2.0                 1.0  \n",
       "1526658                 NaN                 2.0                 1.0  \n",
       "\n",
       "[1526659 rows x 167 columns]"
      ]
     },
     "execution_count": 6,
     "metadata": {},
     "output_type": "execute_result"
    }
   ],
   "source": [
    "X"
   ]
  },
  {
   "cell_type": "code",
   "execution_count": 7,
   "id": "6af7ce63",
   "metadata": {
    "execution": {
     "iopub.execute_input": "2024-03-28T15:01:46.137911Z",
     "iopub.status.busy": "2024-03-28T15:01:46.137404Z",
     "iopub.status.idle": "2024-03-28T15:01:48.829761Z",
     "shell.execute_reply": "2024-03-28T15:01:48.827856Z"
    },
    "papermill": {
     "duration": 2.707013,
     "end_time": "2024-03-28T15:01:48.832718",
     "exception": false,
     "start_time": "2024-03-28T15:01:46.125705",
     "status": "completed"
    },
    "tags": []
   },
   "outputs": [
    {
     "name": "stdout",
     "output_type": "stream",
     "text": [
      "原始資料集形狀： (1526659, 167)\n",
      "刪除缺失比例過高的列後的資料集形狀： (1526659, 110)\n",
      "刪除缺失比例過高的行後的資料集形狀： (1447840, 110)\n"
     ]
    }
   ],
   "source": [
    "# 删除缺失值較多的row\n",
    "\n",
    "# 輸出原始資料集資訊\n",
    "print(\"原始資料集形狀：\", X.shape)\n",
    "\n",
    "threshold = 0.5  # 設定缺失比例的閾值，超過閾值的rowc和column將被刪除\n",
    "\n",
    "# 計算每column的缺失值比例\n",
    "missing_ratios = X.isnull().mean(axis=0)\n",
    "\n",
    "# 找出缺失比例超過閾值的column\n",
    "columns_to_drop = missing_ratios[missing_ratios > threshold].index\n",
    "\n",
    "# 刪除缺失比例超過閾值的column\n",
    "X = X.drop(columns=columns_to_drop, axis=1)\n",
    "\n",
    "# 輸出刪除column後的資料集資訊\n",
    "print(\"刪除缺失比例過高的列後的資料集形狀：\", X.shape)\n",
    "\n",
    "# 計算每row的缺失值比例\n",
    "missing_ratios = X.isnull().mean(axis=1)\n",
    "\n",
    "# 找出缺失比例超過閾值的row\n",
    "rows_to_drop = missing_ratios[missing_ratios > threshold].index\n",
    "\n",
    "# 刪除缺失比例超過閾值的row\n",
    "X = X.drop(index=rows_to_drop)\n",
    "y = y.drop(index=rows_to_drop)\n",
    "\n",
    "# 輸出刪除row後的資料集資訊\n",
    "print(\"刪除缺失比例過高的行後的資料集形狀：\", X.shape)"
   ]
  },
  {
   "cell_type": "markdown",
   "id": "99570da4",
   "metadata": {
    "papermill": {
     "duration": 0.010553,
     "end_time": "2024-03-28T15:01:48.854033",
     "exception": false,
     "start_time": "2024-03-28T15:01:48.843480",
     "status": "completed"
    },
    "tags": []
   },
   "source": [
    "### Oversampling (repeated sampling)"
   ]
  },
  {
   "cell_type": "code",
   "execution_count": 8,
   "id": "24217510",
   "metadata": {
    "execution": {
     "iopub.execute_input": "2024-03-28T15:01:48.878827Z",
     "iopub.status.busy": "2024-03-28T15:01:48.877849Z",
     "iopub.status.idle": "2024-03-28T15:01:55.851573Z",
     "shell.execute_reply": "2024-03-28T15:01:55.850301Z"
    },
    "papermill": {
     "duration": 6.989346,
     "end_time": "2024-03-28T15:01:55.854208",
     "exception": false,
     "start_time": "2024-03-28T15:01:48.864862",
     "status": "completed"
    },
    "tags": []
   },
   "outputs": [
    {
     "name": "stdout",
     "output_type": "stream",
     "text": [
      "過採樣後的資料量： 2803780\n",
      "過採樣後的目標資料分佈： {0: 1401890, 1: 1401890}\n"
     ]
    }
   ],
   "source": [
    "# 過採樣: 增加target=1的data\n",
    "\n",
    "from sklearn.utils import resample\n",
    "\n",
    "# 將 DataFrame 轉換為 NumPy 陣列\n",
    "X = X.to_numpy()\n",
    "\n",
    "# 隨機抽取與目標樣本數量相同的目標樣本\n",
    "X_1, y_1 = resample(X[y == 1], y[y == 1], replace=True, n_samples=np.sum(y == 0))\n",
    "\n",
    "# 合併目標樣本和非目標樣本\n",
    "X = np.concatenate((X_1, X[y == 0]), axis=0)\n",
    "y = np.concatenate((y_1, y[y == 0]), axis=0)\n",
    "\n",
    "# 檢查過採樣後的資料量\n",
    "print(\"過採樣後的資料量：\", len(X))\n",
    "\n",
    "# 檢查過採樣後的目標資料分佈\n",
    "unique, counts = np.unique(y, return_counts=True)\n",
    "print(\"過採樣後的目標資料分佈：\", dict(zip(unique, counts)))"
   ]
  },
  {
   "cell_type": "markdown",
   "id": "a0b93e04",
   "metadata": {
    "papermill": {
     "duration": 0.01047,
     "end_time": "2024-03-28T15:01:55.875709",
     "exception": false,
     "start_time": "2024-03-28T15:01:55.865239",
     "status": "completed"
    },
    "tags": []
   },
   "source": [
    "### 將數據劃分為訓練集和測試集"
   ]
  },
  {
   "cell_type": "code",
   "execution_count": 9,
   "id": "44203854",
   "metadata": {
    "execution": {
     "iopub.execute_input": "2024-03-28T15:01:55.900191Z",
     "iopub.status.busy": "2024-03-28T15:01:55.899790Z",
     "iopub.status.idle": "2024-03-28T15:01:57.706519Z",
     "shell.execute_reply": "2024-03-28T15:01:57.705654Z"
    },
    "papermill": {
     "duration": 1.822073,
     "end_time": "2024-03-28T15:01:57.709095",
     "exception": false,
     "start_time": "2024-03-28T15:01:55.887022",
     "status": "completed"
    },
    "tags": []
   },
   "outputs": [],
   "source": [
    "from sklearn.model_selection import train_test_split\n",
    "\n",
    "X_train, X_test, y_train, y_test = train_test_split(X, y, test_size=0.2, random_state=42)\n",
    "del X\n",
    "del y"
   ]
  },
  {
   "cell_type": "markdown",
   "id": "32bda87a",
   "metadata": {
    "papermill": {
     "duration": 0.01033,
     "end_time": "2024-03-28T15:01:57.730164",
     "exception": false,
     "start_time": "2024-03-28T15:01:57.719834",
     "status": "completed"
    },
    "tags": []
   },
   "source": [
    "## 數據分析方法與模型選擇"
   ]
  },
  {
   "cell_type": "markdown",
   "id": "2079222a",
   "metadata": {
    "papermill": {
     "duration": 0.010271,
     "end_time": "2024-03-28T15:01:57.751288",
     "exception": false,
     "start_time": "2024-03-28T15:01:57.741017",
     "status": "completed"
    },
    "tags": []
   },
   "source": [
    "### Model1. 梯度提升樹（Gradient Boosting Decision Tree，GBDT）\n",
    "##### 優點：\n",
    "##### 1. 高效性： LightGBM 是一種高效的梯度提升樹模型，具有優秀的訓練速度和預測速度。它使用了基於直方圖的方法來加速訓練過程，並且通常比其他梯度提升樹庫（如XGBoost）更快。\n",
    "##### 2. 低內存使用： LightGBM 使用了一種稱為GOSS（Gradient-based One-Side Sampling）的方法，在訓練過程中減少了內存使用。這使得它可以處理大型數據集而不會出現內存不足的問題。\n",
    "##### 3. 高準確性： LightGBM 在處理大型和高維數據集時通常表現出色，並且提供了很好的預測性能。\n",
    "##### 4. 支持並行處理： LightGBM 支持並行處理，可以在多核 CPU 上進行訓練，從而加速了訓練過程。\n",
    "##### 5. 自動處理類別特徵： LightGBM 可以自動處理類別特徵，無需額外的編碼。\n",
    "##### 缺點：\n",
    "##### 1. 對參數敏感： 與其他梯度提升樹模型一樣，LightGBM 的性能取決於參數的調整，對參數較為敏感，需要一些經驗和時間來進行調參。\n",
    "##### 2. 需要較多數據： LightGBM 在處理小型數據集時可能不如其他模型表現好，因為它的高效性主要體現在處理大型數據集時"
   ]
  },
  {
   "cell_type": "code",
   "execution_count": 10,
   "id": "48f571c4",
   "metadata": {
    "execution": {
     "iopub.execute_input": "2024-03-28T15:01:57.774973Z",
     "iopub.status.busy": "2024-03-28T15:01:57.774557Z",
     "iopub.status.idle": "2024-03-28T15:03:21.196492Z",
     "shell.execute_reply": "2024-03-28T15:03:21.195393Z"
    },
    "papermill": {
     "duration": 83.437209,
     "end_time": "2024-03-28T15:03:21.199278",
     "exception": false,
     "start_time": "2024-03-28T15:01:57.762069",
     "status": "completed"
    },
    "tags": []
   },
   "outputs": [],
   "source": [
    "import lightgbm as lgb\n",
    "\n",
    "# 創建 LightGBM 的訓練資料集\n",
    "lgb_train = lgb.Dataset(X_train, y_train)\n",
    "lgb_test = lgb.Dataset(X_test, y_test, reference=lgb_train)\n",
    "del X_train\n",
    "del y_train\n",
    "\n",
    "# 設置參數\n",
    "params = {\n",
    "    'boosting_type': 'gbdt',         # 使用梯度提升樹\n",
    "    'objective': 'binary',           # 二元分類任務\n",
    "    'metric': 'binary_error',        # 評估指標為二元分類錯誤率\n",
    "    'num_leaves': 31,                # 每棵樹的最大葉子數量\n",
    "    'learning_rate': 0.05,           # 學習速率\n",
    "    'feature_fraction': 0.9,         # 特徵抽樣比例\n",
    "    'bagging_fraction': 0.8,         # 樣本抽樣比例\n",
    "    'bagging_freq': 5,               # 樣本抽樣的頻率\n",
    "    'verbose': 0,                    # 顯示訓練信息\n",
    "    'early_stopping_rounds': 10\n",
    "}\n",
    "\n",
    "# 訓練模型\n",
    "num_round = 100                      # 迭代輪次\n",
    "bst = lgb.train(params, lgb_train, num_round, valid_sets=[lgb_train, lgb_test])\n",
    "\n",
    "# 預測\n",
    "y_pred = bst.predict(X_test, num_iteration=bst.best_iteration)\n",
    "y_pred_binary = [1 if pred > 0.5 else 0 for pred in y_pred]"
   ]
  },
  {
   "cell_type": "markdown",
   "id": "471912a6",
   "metadata": {
    "papermill": {
     "duration": 0.011344,
     "end_time": "2024-03-28T15:03:21.221704",
     "exception": false,
     "start_time": "2024-03-28T15:03:21.210360",
     "status": "completed"
    },
    "tags": []
   },
   "source": [
    "### Model2. RNN\n",
    "##### RNN的優點：\n",
    "##### 1. 能夠處理序列數據，保留先前時間步的信息。\n",
    "##### 2. 模型相對較簡單，易於理解和實現。\n",
    "##### RNN的缺點：\n",
    "##### 3. 容易出現梯度消失或梯度爆炸的問題，尤其在處理長序列數據時效果不佳。\n",
    "##### 4. 難以捕捉長期依賴關係"
   ]
  },
  {
   "cell_type": "code",
   "execution_count": 11,
   "id": "4f024940",
   "metadata": {
    "execution": {
     "iopub.execute_input": "2024-03-28T15:03:21.245699Z",
     "iopub.status.busy": "2024-03-28T15:03:21.244720Z",
     "iopub.status.idle": "2024-03-28T15:03:21.249412Z",
     "shell.execute_reply": "2024-03-28T15:03:21.248647Z"
    },
    "papermill": {
     "duration": 0.01909,
     "end_time": "2024-03-28T15:03:21.251573",
     "exception": false,
     "start_time": "2024-03-28T15:03:21.232483",
     "status": "completed"
    },
    "tags": []
   },
   "outputs": [],
   "source": [
    "# def focal_loss(y_true, y_pred, alpha=0.25, gamma=2.0):\n",
    "#     # Calculate cross entropy loss\n",
    "#     ce_loss = tf.keras.losses.binary_crossentropy(y_true, y_pred, from_logits=False)\n",
    "    \n",
    "#     # Calculate focal weights\n",
    "#     p_t = y_true * y_pred + (1 - y_true) * (1 - y_pred)\n",
    "#     focal_weight = alpha * tf.pow(1 - p_t, gamma)\n",
    "    \n",
    "#     # Apply focal weights to cross entropy loss\n",
    "#     focal_loss = focal_weight * ce_loss\n",
    "    \n",
    "#     # Return the mean loss over the batch\n",
    "#     return tf.reduce_mean(focal_loss)"
   ]
  },
  {
   "cell_type": "code",
   "execution_count": 12,
   "id": "6aafaf9c",
   "metadata": {
    "execution": {
     "iopub.execute_input": "2024-03-28T15:03:21.275923Z",
     "iopub.status.busy": "2024-03-28T15:03:21.275169Z",
     "iopub.status.idle": "2024-03-28T15:03:21.282253Z",
     "shell.execute_reply": "2024-03-28T15:03:21.281424Z"
    },
    "papermill": {
     "duration": 0.022121,
     "end_time": "2024-03-28T15:03:21.284541",
     "exception": false,
     "start_time": "2024-03-28T15:03:21.262420",
     "status": "completed"
    },
    "tags": []
   },
   "outputs": [],
   "source": [
    "# import tensorflow as tf\n",
    "# from tensorflow.keras.models import Sequential\n",
    "# from tensorflow.keras.layers import SimpleRNN, Dense, Dropout\n",
    "# from tensorflow.keras.callbacks import EarlyStopping\n",
    "# from tensorflow.keras.optimizers import AdamW\n",
    "# # from sklearn.utils.class_weight import compute_class_weight\n",
    "\n",
    "# # 將資料轉換成3D形狀\n",
    "# X_train = X_train.reshape(X_train.shape[0], X_train.shape[1], 1)\n",
    "# X_test = X_test.reshape(X_test.shape[0], X_test.shape[1], 1)\n",
    "\n",
    "# # 創建 Sequential 模型\n",
    "# model = Sequential()\n",
    "\n",
    "# # 添加第一層 SimpleRNN 層\n",
    "# model.add(SimpleRNN(50, return_sequences=True, input_shape=(X_train.shape[1], X_train.shape[2]), activation='relu'))\n",
    "# model.add(Dropout(0.3))  # 添加 dropout 避免過擬合\n",
    "\n",
    "# # 添加第二層 SimpleRNN 層\n",
    "# model.add(SimpleRNN(50, return_sequences=True, activation='relu'))\n",
    "# model.add(Dropout(0.3))\n",
    "\n",
    "# # 添加第三層 SimpleRNN 層\n",
    "# model.add(SimpleRNN(50, activation='relu'))\n",
    "# model.add(Dropout(0.3))\n",
    "\n",
    "# # 添加輸出層\n",
    "# model.add(Dense(1, activation='sigmoid'))\n",
    "\n",
    "# # 定義 AdamW 優化器，設置初始學習率和權重衰減\n",
    "# # 嘗試不同的優化器 ：AdamW是Adam的一個變種，引入了一個額外的權重衰減（Weight Decay）項目，有助於減小參數的數值大小，從而減少過擬合的風險。\n",
    "# # 調整學習率（Learning Rate）：嘗試不同的學習率值，有時降低學習率可以幫助模型更好地收斂，特別是在資料不平衡的情況下。\n",
    "# optimizer = AdamW(learning_rate=0.001, weight_decay=1e-4)\n",
    "\n",
    "# # 編譯模型\n",
    "# # focal_loss 損失函數，可以自動為少數類別分配更大的權重\n",
    "# model.compile(optimizer=optimizer, loss=focal_loss, metrics=['accuracy'])\n",
    "\n",
    "# # 定義 EarlyStopping\n",
    "# # 調整Early Stopping的參數：嘗試不同的patience值，以及monitor參數，這可能會影響到模型的停止訓練的時機。\n",
    "# early_stopping = EarlyStopping(patience=10, monitor='val_loss', restore_best_weights=True)\n",
    "\n",
    "# # 設置類別加權，例如給予類別0權重1，給予類別1權重100\n",
    "# # 1. 使用 np.unique(y_train) 函數獲取訓練數據中所有類別的標籤。\n",
    "# # 2. 使用 compute_class_weight 函數計算每個類別的權重，參數 'balanced' 指定使用平衡策略。\n",
    "# # 3. 將計算出的類別權重存儲在 class_weight 字典中\n",
    "# # class_weight = compute_class_weight('balanced', np.unique(y_train), y_train)\n",
    "# class_weight = {0: 1, 1: 100}\n",
    "\n",
    "# # 訓練模型\n",
    "# # 批量大小: 嘗試減小批量大小，可以讓模型在每個更新步驟中看到更多樣化的樣本，可能有助於緩解數據不平衡問題。\n",
    "# history = model.fit(X_train, y_train, epochs=3, batch_size=128, validation_data=(X_test, y_test), callbacks=[early_stopping], class_weight=class_weight) # class_weight='balanced' not work\n",
    "\n",
    "# # 評估\n",
    "# model.evaluate(X_test, y_test)\n",
    "\n",
    "# # 預測\n",
    "# y_pred = model.predict(X_test)\n",
    "# y_pred_binary = [1 if pred > 0.5 else 0 for pred in y_pred]"
   ]
  },
  {
   "cell_type": "markdown",
   "id": "7b0b3fb3",
   "metadata": {
    "papermill": {
     "duration": 0.010416,
     "end_time": "2024-03-28T15:03:21.305646",
     "exception": false,
     "start_time": "2024-03-28T15:03:21.295230",
     "status": "completed"
    },
    "tags": []
   },
   "source": [
    "### Model3. LSTM\n",
    "##### LSTM的優點：\n",
    "##### 1. 能夠有效地解決梯度消失或梯度爆炸的問題，能夠處理長序列數據。\n",
    "##### 2. 能夠捕捉長期依賴關係，適用於需要考慮長期記憶的任務。\n",
    "##### LSTM的缺點：\n",
    "##### 1. 模型相對複雜，訓練時間較長。\n",
    "##### 2. 需要調參和優化，有時可能會出現過擬合的問題。"
   ]
  },
  {
   "cell_type": "code",
   "execution_count": 13,
   "id": "47f8eae8",
   "metadata": {
    "execution": {
     "iopub.execute_input": "2024-03-28T15:03:21.330446Z",
     "iopub.status.busy": "2024-03-28T15:03:21.329700Z",
     "iopub.status.idle": "2024-03-28T15:03:21.335443Z",
     "shell.execute_reply": "2024-03-28T15:03:21.334641Z"
    },
    "papermill": {
     "duration": 0.020139,
     "end_time": "2024-03-28T15:03:21.337650",
     "exception": false,
     "start_time": "2024-03-28T15:03:21.317511",
     "status": "completed"
    },
    "tags": []
   },
   "outputs": [],
   "source": [
    "# import tensorflow as tf\n",
    "# from tensorflow.keras.models import Sequential\n",
    "# from tensorflow.keras.layers import LSTM, Dense, Dropout\n",
    "# from tensorflow.keras.callbacks import EarlyStopping\n",
    "\n",
    "# # 將 DataFrame 轉換為 NumPy 陣列\n",
    "# X_train = X_train.to_numpy()\n",
    "# X_test = X_test.to_numpy()\n",
    "\n",
    "# # 將資料轉換成3D形狀\n",
    "# X_train = X_train.reshape(X_train.shape[0], X_train.shape[1], 1)\n",
    "# X_test = X_test.reshape(X_test.shape[0], X_test.shape[1], 1)\n",
    "\n",
    "# # 創建 Sequential 模型\n",
    "# model = Sequential()\n",
    "\n",
    "# # 添加第一層 LSTM 層\n",
    "# model.add(LSTM(50, return_sequences=True, input_shape=(X_train.shape[1], X_train.shape[2]), activation='relu'))\n",
    "# model.add(Dropout(0.3))  # 添加 dropout 避免過擬合\n",
    "\n",
    "# # 添加第二層 LSTM 層\n",
    "# model.add(LSTM(50, return_sequences=True, activation='relu'))\n",
    "# model.add(Dropout(0.3))  # 添加 dropout 避免過擬合\n",
    "\n",
    "# # 添加第三層 LSTM 層\n",
    "# model.add(LSTM(50, activation='relu'))\n",
    "# model.add(Dropout(0.3))  # 添加 dropout 避免過擬合\n",
    "\n",
    "# # 添加輸出層\n",
    "# model.add(Dense(1, activation='sigmoid'))\n",
    "\n",
    "# # 編譯模型\n",
    "# model.compile(optimizer='adam', loss='binary_crossentropy', metrics=['accuracy'])\n",
    "\n",
    "# # 定義 EarlyStopping\n",
    "# early_stopping = EarlyStopping(patience=5, monitor='val_loss', restore_best_weights=True)\n",
    "\n",
    "# # 設置類別加權，例如給予類別0權重1，給予類別1權重100\n",
    "# class_weight = {0: 1, 1: 100}\n",
    "\n",
    "# # 訓練模型\n",
    "# history = model.fit(X_train, y_train, epochs=1, batch_size=2048, validation_data=(X_test, y_test), callbacks=[early_stopping], class_weight=class_weight)\n",
    "\n",
    "# # 預測\n",
    "# y_pred = model.predict(X_test)\n",
    "# y_pred_binary = [1 if pred > 0.5 else 0 for pred in y_pred]"
   ]
  },
  {
   "cell_type": "markdown",
   "id": "c98304b1",
   "metadata": {
    "papermill": {
     "duration": 0.010313,
     "end_time": "2024-03-28T15:03:21.358761",
     "exception": false,
     "start_time": "2024-03-28T15:03:21.348448",
     "status": "completed"
    },
    "tags": []
   },
   "source": [
    "## 評估模型"
   ]
  },
  {
   "cell_type": "code",
   "execution_count": 14,
   "id": "6827d258",
   "metadata": {
    "execution": {
     "iopub.execute_input": "2024-03-28T15:03:21.383190Z",
     "iopub.status.busy": "2024-03-28T15:03:21.382461Z",
     "iopub.status.idle": "2024-03-28T15:03:23.053651Z",
     "shell.execute_reply": "2024-03-28T15:03:23.052475Z"
    },
    "papermill": {
     "duration": 1.686436,
     "end_time": "2024-03-28T15:03:23.056471",
     "exception": false,
     "start_time": "2024-03-28T15:03:21.370035",
     "status": "completed"
    },
    "tags": []
   },
   "outputs": [
    {
     "name": "stdout",
     "output_type": "stream",
     "text": [
      "準確率: 0.7237176240646556\n",
      "分類報告:\n",
      "              precision    recall  f1-score   support\n",
      "\n",
      "           0       0.73      0.70      0.72    280635\n",
      "           1       0.71      0.74      0.73    280121\n",
      "\n",
      "    accuracy                           0.72    560756\n",
      "   macro avg       0.72      0.72      0.72    560756\n",
      "weighted avg       0.72      0.72      0.72    560756\n",
      "\n"
     ]
    }
   ],
   "source": [
    "from sklearn.metrics import accuracy_score, classification_report\n",
    "\n",
    "# 評估模型\n",
    "accuracy = accuracy_score(y_test, y_pred_binary)\n",
    "print(\"準確率:\", accuracy)\n",
    "\n",
    "# 顯示分類報告\n",
    "print(\"分類報告:\")\n",
    "print(classification_report(y_test, y_pred_binary))"
   ]
  },
  {
   "cell_type": "markdown",
   "id": "88011c2b",
   "metadata": {
    "papermill": {
     "duration": 0.010812,
     "end_time": "2024-03-28T15:03:23.078386",
     "exception": false,
     "start_time": "2024-03-28T15:03:23.067574",
     "status": "completed"
    },
    "tags": []
   },
   "source": [
    "## Submission"
   ]
  },
  {
   "cell_type": "code",
   "execution_count": 15,
   "id": "71a1cc48",
   "metadata": {
    "execution": {
     "iopub.execute_input": "2024-03-28T15:03:23.102408Z",
     "iopub.status.busy": "2024-03-28T15:03:23.102004Z",
     "iopub.status.idle": "2024-03-28T15:03:23.241944Z",
     "shell.execute_reply": "2024-03-28T15:03:23.240984Z"
    },
    "papermill": {
     "duration": 0.155604,
     "end_time": "2024-03-28T15:03:23.244999",
     "exception": false,
     "start_time": "2024-03-28T15:03:23.089395",
     "status": "completed"
    },
    "tags": []
   },
   "outputs": [],
   "source": [
    "# 測試資料的目錄\n",
    "testDir = os.path.join(projDir, \"csv_files/test/\")\n",
    "\n",
    "# 讀取測試數據\n",
    "\n",
    "# base.csv\n",
    "path = os.path.join(testDir, 'test_base.csv')\n",
    "test_base = pd.read_csv(path)\n",
    "\n",
    "# static(depth=0)\n",
    "path = os.path.join(testDir, 'test_static_0_0.csv')\n",
    "test_static0 = pd.read_csv(path)\n",
    "path = os.path.join(testDir, 'test_static_0_1.csv')\n",
    "test_static1 = pd.read_csv(path)\n",
    "path = os.path.join(testDir, 'test_static_0_2.csv')\n",
    "test_static2 = pd.read_csv(path)\n",
    "test_static = pd.concat([test_static0, test_static1, test_static2], ignore_index=True)\n",
    "del test_static0, test_static1, test_static2\n",
    "\n",
    "# static_cb\n",
    "path = os.path.join(testDir, 'test_static_cb_0.csv')\n",
    "test_static_cb = pd.read_csv(path)\n",
    "\n",
    "# Join Table\n",
    "X_test = pd.merge(test_base, test_static, how=\"left\", on=\"case_id\")\n",
    "X_test = pd.merge(X_test, test_static_cb, how=\"left\", on=\"case_id\")\n",
    "del test_base, test_static, test_static_cb\n",
    "\n",
    "# 刪非數col\n",
    "for col in X_test.columns:\n",
    "    if not (X_test[col].dtype in (np.int64, np.float64)):\n",
    "        X_test = X_test.drop(col, axis=1)"
   ]
  },
  {
   "cell_type": "code",
   "execution_count": 16,
   "id": "520dabf6",
   "metadata": {
    "execution": {
     "iopub.execute_input": "2024-03-28T15:03:23.269862Z",
     "iopub.status.busy": "2024-03-28T15:03:23.269461Z",
     "iopub.status.idle": "2024-03-28T15:03:23.280153Z",
     "shell.execute_reply": "2024-03-28T15:03:23.278747Z"
    },
    "papermill": {
     "duration": 0.026073,
     "end_time": "2024-03-28T15:03:23.282503",
     "exception": false,
     "start_time": "2024-03-28T15:03:23.256430",
     "status": "completed"
    },
    "tags": []
   },
   "outputs": [
    {
     "data": {
      "text/plain": [
       "[1, 1, 1, 1, 1, 1, 1, 1, 1, 1]"
      ]
     },
     "execution_count": 16,
     "metadata": {},
     "output_type": "execute_result"
    }
   ],
   "source": [
    "# LGBM\n",
    "y_test_pred = bst.predict(X_test, num_iteration=bst.best_iteration, predict_disable_shape_check=True)\n",
    "\n",
    "# # RNN, LSTM\n",
    "# X_test_array = X_test.to_numpy()\n",
    "# X_test_rnn = X_test_array.reshape(X_test_array.shape[0], X_test_array.shape[1], 1)\n",
    "# y_test_pred = model.predict(X_test_rnn)\n",
    "\n",
    "# 轉成0或1\n",
    "y_test_pred_binary = [1 if pred > 0.5 else 0 for pred in y_test_pred]\n",
    "y_test_pred_binary"
   ]
  },
  {
   "cell_type": "code",
   "execution_count": 17,
   "id": "30c50ad7",
   "metadata": {
    "execution": {
     "iopub.execute_input": "2024-03-28T15:03:23.306764Z",
     "iopub.status.busy": "2024-03-28T15:03:23.306320Z",
     "iopub.status.idle": "2024-03-28T15:03:23.322929Z",
     "shell.execute_reply": "2024-03-28T15:03:23.321762Z"
    },
    "papermill": {
     "duration": 0.031947,
     "end_time": "2024-03-28T15:03:23.325518",
     "exception": false,
     "start_time": "2024-03-28T15:03:23.293571",
     "status": "completed"
    },
    "tags": []
   },
   "outputs": [
    {
     "data": {
      "text/html": [
       "<div>\n",
       "<style scoped>\n",
       "    .dataframe tbody tr th:only-of-type {\n",
       "        vertical-align: middle;\n",
       "    }\n",
       "\n",
       "    .dataframe tbody tr th {\n",
       "        vertical-align: top;\n",
       "    }\n",
       "\n",
       "    .dataframe thead th {\n",
       "        text-align: right;\n",
       "    }\n",
       "</style>\n",
       "<table border=\"1\" class=\"dataframe\">\n",
       "  <thead>\n",
       "    <tr style=\"text-align: right;\">\n",
       "      <th></th>\n",
       "      <th>case_id</th>\n",
       "      <th>score</th>\n",
       "    </tr>\n",
       "  </thead>\n",
       "  <tbody>\n",
       "    <tr>\n",
       "      <th>0</th>\n",
       "      <td>57543</td>\n",
       "      <td>1</td>\n",
       "    </tr>\n",
       "    <tr>\n",
       "      <th>1</th>\n",
       "      <td>57549</td>\n",
       "      <td>1</td>\n",
       "    </tr>\n",
       "    <tr>\n",
       "      <th>2</th>\n",
       "      <td>57551</td>\n",
       "      <td>1</td>\n",
       "    </tr>\n",
       "    <tr>\n",
       "      <th>3</th>\n",
       "      <td>57552</td>\n",
       "      <td>1</td>\n",
       "    </tr>\n",
       "    <tr>\n",
       "      <th>4</th>\n",
       "      <td>57569</td>\n",
       "      <td>1</td>\n",
       "    </tr>\n",
       "    <tr>\n",
       "      <th>5</th>\n",
       "      <td>57630</td>\n",
       "      <td>1</td>\n",
       "    </tr>\n",
       "    <tr>\n",
       "      <th>6</th>\n",
       "      <td>57631</td>\n",
       "      <td>1</td>\n",
       "    </tr>\n",
       "    <tr>\n",
       "      <th>7</th>\n",
       "      <td>57632</td>\n",
       "      <td>1</td>\n",
       "    </tr>\n",
       "    <tr>\n",
       "      <th>8</th>\n",
       "      <td>57633</td>\n",
       "      <td>1</td>\n",
       "    </tr>\n",
       "    <tr>\n",
       "      <th>9</th>\n",
       "      <td>57634</td>\n",
       "      <td>1</td>\n",
       "    </tr>\n",
       "  </tbody>\n",
       "</table>\n",
       "</div>"
      ],
      "text/plain": [
       "   case_id  score\n",
       "0    57543      1\n",
       "1    57549      1\n",
       "2    57551      1\n",
       "3    57552      1\n",
       "4    57569      1\n",
       "5    57630      1\n",
       "6    57631      1\n",
       "7    57632      1\n",
       "8    57633      1\n",
       "9    57634      1"
      ]
     },
     "execution_count": 17,
     "metadata": {},
     "output_type": "execute_result"
    }
   ],
   "source": [
    "submission = pd.DataFrame({\n",
    "    \"case_id\": X_test[\"case_id\"].to_numpy(),\n",
    "    \"score\": y_test_pred_binary\n",
    "}).set_index('case_id')\n",
    "submission.to_csv(\"./submission.csv\")\n",
    "\n",
    "pd.read_csv(\"./submission.csv\")"
   ]
  }
 ],
 "metadata": {
  "kaggle": {
   "accelerator": "none",
   "dataSources": [
    {
     "databundleVersionId": 7921029,
     "sourceId": 50160,
     "sourceType": "competition"
    }
   ],
   "dockerImageVersionId": 30664,
   "isGpuEnabled": false,
   "isInternetEnabled": false,
   "language": "python",
   "sourceType": "notebook"
  },
  "kernelspec": {
   "display_name": "Python 3",
   "language": "python",
   "name": "python3"
  },
  "language_info": {
   "codemirror_mode": {
    "name": "ipython",
    "version": 3
   },
   "file_extension": ".py",
   "mimetype": "text/x-python",
   "name": "python",
   "nbconvert_exporter": "python",
   "pygments_lexer": "ipython3",
   "version": "3.10.13"
  },
  "papermill": {
   "default_parameters": {},
   "duration": 297.600608,
   "end_time": "2024-03-28T15:03:24.160236",
   "environment_variables": {},
   "exception": null,
   "input_path": "__notebook__.ipynb",
   "output_path": "__notebook__.ipynb",
   "parameters": {},
   "start_time": "2024-03-28T14:58:26.559628",
   "version": "2.5.0"
  }
 },
 "nbformat": 4,
 "nbformat_minor": 5
}
