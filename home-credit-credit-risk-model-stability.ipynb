{
 "cells": [
  {
   "cell_type": "code",
   "execution_count": 1,
   "id": "997bbe73",
   "metadata": {
    "_cell_guid": "b1076dfc-b9ad-4769-8c92-a6c4dae69d19",
    "_uuid": "8f2839f25d086af736a60e9eeb907d3b93b6e0e5",
    "execution": {
     "iopub.execute_input": "2024-03-29T08:24:27.856048Z",
     "iopub.status.busy": "2024-03-29T08:24:27.855555Z",
     "iopub.status.idle": "2024-03-29T08:24:28.918801Z",
     "shell.execute_reply": "2024-03-29T08:24:28.917800Z"
    },
    "papermill": {
     "duration": 1.078873,
     "end_time": "2024-03-29T08:24:28.921891",
     "exception": false,
     "start_time": "2024-03-29T08:24:27.843018",
     "status": "completed"
    },
    "tags": []
   },
   "outputs": [],
   "source": [
    "import numpy as np\n",
    "import pandas as pd\n",
    "import os"
   ]
  },
  {
   "cell_type": "markdown",
   "id": "1558add0",
   "metadata": {
    "papermill": {
     "duration": 0.010149,
     "end_time": "2024-03-29T08:24:28.942669",
     "exception": false,
     "start_time": "2024-03-29T08:24:28.932520",
     "status": "completed"
    },
    "tags": []
   },
   "source": [
    "## 資料探索與前處理"
   ]
  },
  {
   "cell_type": "markdown",
   "id": "32ae9f93",
   "metadata": {
    "papermill": {
     "duration": 0.010101,
     "end_time": "2024-03-29T08:24:28.963637",
     "exception": false,
     "start_time": "2024-03-29T08:24:28.953536",
     "status": "completed"
    },
    "tags": []
   },
   "source": [
    "### 訓練資料的目錄"
   ]
  },
  {
   "cell_type": "code",
   "execution_count": 2,
   "id": "66c0135c",
   "metadata": {
    "execution": {
     "iopub.execute_input": "2024-03-29T08:24:28.988201Z",
     "iopub.status.busy": "2024-03-29T08:24:28.987211Z",
     "iopub.status.idle": "2024-03-29T08:24:28.993133Z",
     "shell.execute_reply": "2024-03-29T08:24:28.992057Z"
    },
    "papermill": {
     "duration": 0.021186,
     "end_time": "2024-03-29T08:24:28.996016",
     "exception": false,
     "start_time": "2024-03-29T08:24:28.974830",
     "status": "completed"
    },
    "tags": []
   },
   "outputs": [],
   "source": [
    "projDir = \"/kaggle/input/home-credit-credit-risk-model-stability/\"\n",
    "trainDir = os.path.join(projDir, \"csv_files/train/\")"
   ]
  },
  {
   "cell_type": "markdown",
   "id": "1004e367",
   "metadata": {
    "papermill": {
     "duration": 0.010157,
     "end_time": "2024-03-29T08:24:29.016700",
     "exception": false,
     "start_time": "2024-03-29T08:24:29.006543",
     "status": "completed"
    },
    "tags": []
   },
   "source": [
    "### Join Table"
   ]
  },
  {
   "cell_type": "code",
   "execution_count": 3,
   "id": "a549ab21",
   "metadata": {
    "execution": {
     "iopub.execute_input": "2024-03-29T08:24:29.039633Z",
     "iopub.status.busy": "2024-03-29T08:24:29.039058Z",
     "iopub.status.idle": "2024-03-29T08:25:51.551114Z",
     "shell.execute_reply": "2024-03-29T08:25:51.549522Z"
    },
    "papermill": {
     "duration": 82.527671,
     "end_time": "2024-03-29T08:25:51.554308",
     "exception": false,
     "start_time": "2024-03-29T08:24:29.026637",
     "status": "completed"
    },
    "tags": []
   },
   "outputs": [
    {
     "name": "stderr",
     "output_type": "stream",
     "text": [
      "/tmp/ipykernel_18/4217689035.py:9: DtypeWarning: Columns (20,45,46,53,57,84,143,146,167) have mixed types. Specify dtype option on import or set low_memory=False.\n",
      "  train_static0 = pd.read_csv(path)\n",
      "/tmp/ipykernel_18/4217689035.py:11: DtypeWarning: Columns (20,45,46,56,57,84,143,146,167) have mixed types. Specify dtype option on import or set low_memory=False.\n",
      "  train_static1 = pd.read_csv(path)\n",
      "/tmp/ipykernel_18/4217689035.py:17: DtypeWarning: Columns (1,2,3,4,7,45,46,47,48) have mixed types. Specify dtype option on import or set low_memory=False.\n",
      "  train_static_cb = pd.read_csv(path)\n"
     ]
    }
   ],
   "source": [
    "# 讀取訓練數據\n",
    "\n",
    "# base.csv\n",
    "path = os.path.join(trainDir, 'train_base.csv')\n",
    "train_base = pd.read_csv(path)\n",
    "\n",
    "# static (depth=0)\n",
    "path = os.path.join(trainDir, 'train_static_0_0.csv')\n",
    "train_static0 = pd.read_csv(path)\n",
    "path = os.path.join(trainDir, 'train_static_0_1.csv')\n",
    "train_static1 = pd.read_csv(path)\n",
    "train_static = pd.concat([train_static0, train_static1], ignore_index=True)\n",
    "del train_static0, train_static1\n",
    "\n",
    "# static_cb (depth=0)\n",
    "path = os.path.join(trainDir, 'train_static_cb_0.csv')\n",
    "train_static_cb = pd.read_csv(path)\n",
    "\n",
    "# Join Table\n",
    "train_data = pd.merge(train_base, train_static, how=\"left\", on=\"case_id\")\n",
    "train_data = pd.merge(train_data, train_static_cb, how=\"left\", on=\"case_id\")\n",
    "del train_base, train_static, train_static_cb"
   ]
  },
  {
   "cell_type": "markdown",
   "id": "f5352235",
   "metadata": {
    "papermill": {
     "duration": 0.010109,
     "end_time": "2024-03-29T08:25:51.574986",
     "exception": false,
     "start_time": "2024-03-29T08:25:51.564877",
     "status": "completed"
    },
    "tags": []
   },
   "source": [
    "### 刪除非數字的column"
   ]
  },
  {
   "cell_type": "code",
   "execution_count": 4,
   "id": "36640e71",
   "metadata": {
    "execution": {
     "iopub.execute_input": "2024-03-29T08:25:51.597481Z",
     "iopub.status.busy": "2024-03-29T08:25:51.597046Z",
     "iopub.status.idle": "2024-03-29T08:27:35.870903Z",
     "shell.execute_reply": "2024-03-29T08:27:35.869246Z"
    },
    "papermill": {
     "duration": 104.290067,
     "end_time": "2024-03-29T08:27:35.875241",
     "exception": false,
     "start_time": "2024-03-29T08:25:51.585174",
     "status": "completed"
    },
    "tags": []
   },
   "outputs": [],
   "source": [
    "for col in train_data.columns:\n",
    "    if not (train_data[col].dtype in (np.int64, np.float64)):\n",
    "        train_data = train_data.drop(col, axis=1)"
   ]
  },
  {
   "cell_type": "markdown",
   "id": "7c930db7",
   "metadata": {
    "papermill": {
     "duration": 0.010013,
     "end_time": "2024-03-29T08:27:35.897219",
     "exception": false,
     "start_time": "2024-03-29T08:27:35.887206",
     "status": "completed"
    },
    "tags": []
   },
   "source": [
    "### 將目標變量和特徵變量分開"
   ]
  },
  {
   "cell_type": "code",
   "execution_count": 5,
   "id": "31ff96cc",
   "metadata": {
    "execution": {
     "iopub.execute_input": "2024-03-29T08:27:35.920414Z",
     "iopub.status.busy": "2024-03-29T08:27:35.919984Z",
     "iopub.status.idle": "2024-03-29T08:27:36.714746Z",
     "shell.execute_reply": "2024-03-29T08:27:36.713632Z"
    },
    "papermill": {
     "duration": 0.810066,
     "end_time": "2024-03-29T08:27:36.717638",
     "exception": false,
     "start_time": "2024-03-29T08:27:35.907572",
     "status": "completed"
    },
    "tags": []
   },
   "outputs": [],
   "source": [
    "X = train_data.drop(columns=['target'])\n",
    "y = train_data['target']"
   ]
  },
  {
   "cell_type": "markdown",
   "id": "87117bda",
   "metadata": {
    "papermill": {
     "duration": 0.010527,
     "end_time": "2024-03-29T08:27:36.738527",
     "exception": false,
     "start_time": "2024-03-29T08:27:36.728000",
     "status": "completed"
    },
    "tags": []
   },
   "source": [
    "### 處理缺失值"
   ]
  },
  {
   "cell_type": "code",
   "execution_count": 6,
   "id": "da3b1a06",
   "metadata": {
    "execution": {
     "iopub.execute_input": "2024-03-29T08:27:36.760720Z",
     "iopub.status.busy": "2024-03-29T08:27:36.760290Z",
     "iopub.status.idle": "2024-03-29T08:27:37.228915Z",
     "shell.execute_reply": "2024-03-29T08:27:37.227411Z"
    },
    "papermill": {
     "duration": 0.483108,
     "end_time": "2024-03-29T08:27:37.231839",
     "exception": false,
     "start_time": "2024-03-29T08:27:36.748731",
     "status": "completed"
    },
    "tags": []
   },
   "outputs": [
    {
     "data": {
      "text/html": [
       "<div>\n",
       "<style scoped>\n",
       "    .dataframe tbody tr th:only-of-type {\n",
       "        vertical-align: middle;\n",
       "    }\n",
       "\n",
       "    .dataframe tbody tr th {\n",
       "        vertical-align: top;\n",
       "    }\n",
       "\n",
       "    .dataframe thead th {\n",
       "        text-align: right;\n",
       "    }\n",
       "</style>\n",
       "<table border=\"1\" class=\"dataframe\">\n",
       "  <thead>\n",
       "    <tr style=\"text-align: right;\">\n",
       "      <th></th>\n",
       "      <th>case_id</th>\n",
       "      <th>MONTH</th>\n",
       "      <th>WEEK_NUM</th>\n",
       "      <th>actualdpdtolerance_344P</th>\n",
       "      <th>amtinstpaidbefduel24m_4187115A</th>\n",
       "      <th>annuity_780A</th>\n",
       "      <th>annuitynextmonth_57A</th>\n",
       "      <th>applicationcnt_361L</th>\n",
       "      <th>applications30d_658L</th>\n",
       "      <th>applicationscnt_1086L</th>\n",
       "      <th>...</th>\n",
       "      <th>pmtaverage_4527227A</th>\n",
       "      <th>pmtaverage_4955615A</th>\n",
       "      <th>pmtcount_4527229L</th>\n",
       "      <th>pmtcount_4955617L</th>\n",
       "      <th>pmtcount_693L</th>\n",
       "      <th>pmtscount_423L</th>\n",
       "      <th>pmtssum_45A</th>\n",
       "      <th>riskassesment_940T</th>\n",
       "      <th>secondquarter_766L</th>\n",
       "      <th>thirdquarter_1082L</th>\n",
       "    </tr>\n",
       "  </thead>\n",
       "  <tbody>\n",
       "    <tr>\n",
       "      <th>0</th>\n",
       "      <td>0</td>\n",
       "      <td>201901</td>\n",
       "      <td>0</td>\n",
       "      <td>NaN</td>\n",
       "      <td>NaN</td>\n",
       "      <td>1917.6000</td>\n",
       "      <td>0.0</td>\n",
       "      <td>0.0</td>\n",
       "      <td>0.0</td>\n",
       "      <td>0.0</td>\n",
       "      <td>...</td>\n",
       "      <td>NaN</td>\n",
       "      <td>NaN</td>\n",
       "      <td>NaN</td>\n",
       "      <td>NaN</td>\n",
       "      <td>NaN</td>\n",
       "      <td>NaN</td>\n",
       "      <td>NaN</td>\n",
       "      <td>NaN</td>\n",
       "      <td>NaN</td>\n",
       "      <td>NaN</td>\n",
       "    </tr>\n",
       "    <tr>\n",
       "      <th>1</th>\n",
       "      <td>1</td>\n",
       "      <td>201901</td>\n",
       "      <td>0</td>\n",
       "      <td>NaN</td>\n",
       "      <td>NaN</td>\n",
       "      <td>3134.0000</td>\n",
       "      <td>0.0</td>\n",
       "      <td>0.0</td>\n",
       "      <td>0.0</td>\n",
       "      <td>0.0</td>\n",
       "      <td>...</td>\n",
       "      <td>NaN</td>\n",
       "      <td>NaN</td>\n",
       "      <td>NaN</td>\n",
       "      <td>NaN</td>\n",
       "      <td>NaN</td>\n",
       "      <td>NaN</td>\n",
       "      <td>NaN</td>\n",
       "      <td>NaN</td>\n",
       "      <td>NaN</td>\n",
       "      <td>NaN</td>\n",
       "    </tr>\n",
       "    <tr>\n",
       "      <th>2</th>\n",
       "      <td>2</td>\n",
       "      <td>201901</td>\n",
       "      <td>0</td>\n",
       "      <td>NaN</td>\n",
       "      <td>NaN</td>\n",
       "      <td>4937.0000</td>\n",
       "      <td>0.0</td>\n",
       "      <td>0.0</td>\n",
       "      <td>0.0</td>\n",
       "      <td>0.0</td>\n",
       "      <td>...</td>\n",
       "      <td>NaN</td>\n",
       "      <td>NaN</td>\n",
       "      <td>NaN</td>\n",
       "      <td>NaN</td>\n",
       "      <td>NaN</td>\n",
       "      <td>NaN</td>\n",
       "      <td>NaN</td>\n",
       "      <td>NaN</td>\n",
       "      <td>NaN</td>\n",
       "      <td>NaN</td>\n",
       "    </tr>\n",
       "    <tr>\n",
       "      <th>3</th>\n",
       "      <td>3</td>\n",
       "      <td>201901</td>\n",
       "      <td>0</td>\n",
       "      <td>NaN</td>\n",
       "      <td>NaN</td>\n",
       "      <td>4643.6000</td>\n",
       "      <td>0.0</td>\n",
       "      <td>0.0</td>\n",
       "      <td>1.0</td>\n",
       "      <td>0.0</td>\n",
       "      <td>...</td>\n",
       "      <td>NaN</td>\n",
       "      <td>NaN</td>\n",
       "      <td>NaN</td>\n",
       "      <td>NaN</td>\n",
       "      <td>NaN</td>\n",
       "      <td>NaN</td>\n",
       "      <td>NaN</td>\n",
       "      <td>NaN</td>\n",
       "      <td>NaN</td>\n",
       "      <td>NaN</td>\n",
       "    </tr>\n",
       "    <tr>\n",
       "      <th>4</th>\n",
       "      <td>4</td>\n",
       "      <td>201901</td>\n",
       "      <td>0</td>\n",
       "      <td>NaN</td>\n",
       "      <td>NaN</td>\n",
       "      <td>3390.2000</td>\n",
       "      <td>0.0</td>\n",
       "      <td>0.0</td>\n",
       "      <td>1.0</td>\n",
       "      <td>0.0</td>\n",
       "      <td>...</td>\n",
       "      <td>NaN</td>\n",
       "      <td>NaN</td>\n",
       "      <td>NaN</td>\n",
       "      <td>NaN</td>\n",
       "      <td>NaN</td>\n",
       "      <td>NaN</td>\n",
       "      <td>NaN</td>\n",
       "      <td>NaN</td>\n",
       "      <td>NaN</td>\n",
       "      <td>NaN</td>\n",
       "    </tr>\n",
       "    <tr>\n",
       "      <th>...</th>\n",
       "      <td>...</td>\n",
       "      <td>...</td>\n",
       "      <td>...</td>\n",
       "      <td>...</td>\n",
       "      <td>...</td>\n",
       "      <td>...</td>\n",
       "      <td>...</td>\n",
       "      <td>...</td>\n",
       "      <td>...</td>\n",
       "      <td>...</td>\n",
       "      <td>...</td>\n",
       "      <td>...</td>\n",
       "      <td>...</td>\n",
       "      <td>...</td>\n",
       "      <td>...</td>\n",
       "      <td>...</td>\n",
       "      <td>...</td>\n",
       "      <td>...</td>\n",
       "      <td>...</td>\n",
       "      <td>...</td>\n",
       "      <td>...</td>\n",
       "    </tr>\n",
       "    <tr>\n",
       "      <th>1526654</th>\n",
       "      <td>2703450</td>\n",
       "      <td>202010</td>\n",
       "      <td>91</td>\n",
       "      <td>0.0</td>\n",
       "      <td>176561.36</td>\n",
       "      <td>3675.4001</td>\n",
       "      <td>0.0</td>\n",
       "      <td>0.0</td>\n",
       "      <td>0.0</td>\n",
       "      <td>0.0</td>\n",
       "      <td>...</td>\n",
       "      <td>NaN</td>\n",
       "      <td>12155.0</td>\n",
       "      <td>NaN</td>\n",
       "      <td>12.0</td>\n",
       "      <td>NaN</td>\n",
       "      <td>NaN</td>\n",
       "      <td>NaN</td>\n",
       "      <td>NaN</td>\n",
       "      <td>1.0</td>\n",
       "      <td>1.0</td>\n",
       "    </tr>\n",
       "    <tr>\n",
       "      <th>1526655</th>\n",
       "      <td>2703451</td>\n",
       "      <td>202010</td>\n",
       "      <td>91</td>\n",
       "      <td>0.0</td>\n",
       "      <td>301276.47</td>\n",
       "      <td>7088.6000</td>\n",
       "      <td>6191.6</td>\n",
       "      <td>0.0</td>\n",
       "      <td>0.0</td>\n",
       "      <td>5.0</td>\n",
       "      <td>...</td>\n",
       "      <td>NaN</td>\n",
       "      <td>22904.6</td>\n",
       "      <td>NaN</td>\n",
       "      <td>12.0</td>\n",
       "      <td>NaN</td>\n",
       "      <td>NaN</td>\n",
       "      <td>NaN</td>\n",
       "      <td>NaN</td>\n",
       "      <td>1.0</td>\n",
       "      <td>2.0</td>\n",
       "    </tr>\n",
       "    <tr>\n",
       "      <th>1526656</th>\n",
       "      <td>2703452</td>\n",
       "      <td>202010</td>\n",
       "      <td>91</td>\n",
       "      <td>0.0</td>\n",
       "      <td>14232.40</td>\n",
       "      <td>7788.8003</td>\n",
       "      <td>0.0</td>\n",
       "      <td>0.0</td>\n",
       "      <td>0.0</td>\n",
       "      <td>0.0</td>\n",
       "      <td>...</td>\n",
       "      <td>NaN</td>\n",
       "      <td>NaN</td>\n",
       "      <td>NaN</td>\n",
       "      <td>NaN</td>\n",
       "      <td>NaN</td>\n",
       "      <td>NaN</td>\n",
       "      <td>NaN</td>\n",
       "      <td>NaN</td>\n",
       "      <td>0.0</td>\n",
       "      <td>4.0</td>\n",
       "    </tr>\n",
       "    <tr>\n",
       "      <th>1526657</th>\n",
       "      <td>2703453</td>\n",
       "      <td>202010</td>\n",
       "      <td>91</td>\n",
       "      <td>0.0</td>\n",
       "      <td>197371.58</td>\n",
       "      <td>1195.4000</td>\n",
       "      <td>2827.2</td>\n",
       "      <td>0.0</td>\n",
       "      <td>0.0</td>\n",
       "      <td>36.0</td>\n",
       "      <td>...</td>\n",
       "      <td>NaN</td>\n",
       "      <td>15792.4</td>\n",
       "      <td>NaN</td>\n",
       "      <td>14.0</td>\n",
       "      <td>NaN</td>\n",
       "      <td>NaN</td>\n",
       "      <td>NaN</td>\n",
       "      <td>NaN</td>\n",
       "      <td>2.0</td>\n",
       "      <td>1.0</td>\n",
       "    </tr>\n",
       "    <tr>\n",
       "      <th>1526658</th>\n",
       "      <td>2703454</td>\n",
       "      <td>202010</td>\n",
       "      <td>91</td>\n",
       "      <td>0.0</td>\n",
       "      <td>82949.60</td>\n",
       "      <td>4533.8003</td>\n",
       "      <td>2986.8</td>\n",
       "      <td>0.0</td>\n",
       "      <td>0.0</td>\n",
       "      <td>0.0</td>\n",
       "      <td>...</td>\n",
       "      <td>NaN</td>\n",
       "      <td>21530.4</td>\n",
       "      <td>NaN</td>\n",
       "      <td>12.0</td>\n",
       "      <td>NaN</td>\n",
       "      <td>NaN</td>\n",
       "      <td>NaN</td>\n",
       "      <td>NaN</td>\n",
       "      <td>2.0</td>\n",
       "      <td>1.0</td>\n",
       "    </tr>\n",
       "  </tbody>\n",
       "</table>\n",
       "<p>1526659 rows × 167 columns</p>\n",
       "</div>"
      ],
      "text/plain": [
       "         case_id   MONTH  WEEK_NUM  actualdpdtolerance_344P  \\\n",
       "0              0  201901         0                      NaN   \n",
       "1              1  201901         0                      NaN   \n",
       "2              2  201901         0                      NaN   \n",
       "3              3  201901         0                      NaN   \n",
       "4              4  201901         0                      NaN   \n",
       "...          ...     ...       ...                      ...   \n",
       "1526654  2703450  202010        91                      0.0   \n",
       "1526655  2703451  202010        91                      0.0   \n",
       "1526656  2703452  202010        91                      0.0   \n",
       "1526657  2703453  202010        91                      0.0   \n",
       "1526658  2703454  202010        91                      0.0   \n",
       "\n",
       "         amtinstpaidbefduel24m_4187115A  annuity_780A  annuitynextmonth_57A  \\\n",
       "0                                   NaN     1917.6000                   0.0   \n",
       "1                                   NaN     3134.0000                   0.0   \n",
       "2                                   NaN     4937.0000                   0.0   \n",
       "3                                   NaN     4643.6000                   0.0   \n",
       "4                                   NaN     3390.2000                   0.0   \n",
       "...                                 ...           ...                   ...   \n",
       "1526654                       176561.36     3675.4001                   0.0   \n",
       "1526655                       301276.47     7088.6000                6191.6   \n",
       "1526656                        14232.40     7788.8003                   0.0   \n",
       "1526657                       197371.58     1195.4000                2827.2   \n",
       "1526658                        82949.60     4533.8003                2986.8   \n",
       "\n",
       "         applicationcnt_361L  applications30d_658L  applicationscnt_1086L  \\\n",
       "0                        0.0                   0.0                    0.0   \n",
       "1                        0.0                   0.0                    0.0   \n",
       "2                        0.0                   0.0                    0.0   \n",
       "3                        0.0                   1.0                    0.0   \n",
       "4                        0.0                   1.0                    0.0   \n",
       "...                      ...                   ...                    ...   \n",
       "1526654                  0.0                   0.0                    0.0   \n",
       "1526655                  0.0                   0.0                    5.0   \n",
       "1526656                  0.0                   0.0                    0.0   \n",
       "1526657                  0.0                   0.0                   36.0   \n",
       "1526658                  0.0                   0.0                    0.0   \n",
       "\n",
       "         ...  pmtaverage_4527227A  pmtaverage_4955615A  pmtcount_4527229L  \\\n",
       "0        ...                  NaN                  NaN                NaN   \n",
       "1        ...                  NaN                  NaN                NaN   \n",
       "2        ...                  NaN                  NaN                NaN   \n",
       "3        ...                  NaN                  NaN                NaN   \n",
       "4        ...                  NaN                  NaN                NaN   \n",
       "...      ...                  ...                  ...                ...   \n",
       "1526654  ...                  NaN              12155.0                NaN   \n",
       "1526655  ...                  NaN              22904.6                NaN   \n",
       "1526656  ...                  NaN                  NaN                NaN   \n",
       "1526657  ...                  NaN              15792.4                NaN   \n",
       "1526658  ...                  NaN              21530.4                NaN   \n",
       "\n",
       "         pmtcount_4955617L  pmtcount_693L  pmtscount_423L  pmtssum_45A  \\\n",
       "0                      NaN            NaN             NaN          NaN   \n",
       "1                      NaN            NaN             NaN          NaN   \n",
       "2                      NaN            NaN             NaN          NaN   \n",
       "3                      NaN            NaN             NaN          NaN   \n",
       "4                      NaN            NaN             NaN          NaN   \n",
       "...                    ...            ...             ...          ...   \n",
       "1526654               12.0            NaN             NaN          NaN   \n",
       "1526655               12.0            NaN             NaN          NaN   \n",
       "1526656                NaN            NaN             NaN          NaN   \n",
       "1526657               14.0            NaN             NaN          NaN   \n",
       "1526658               12.0            NaN             NaN          NaN   \n",
       "\n",
       "         riskassesment_940T  secondquarter_766L  thirdquarter_1082L  \n",
       "0                       NaN                 NaN                 NaN  \n",
       "1                       NaN                 NaN                 NaN  \n",
       "2                       NaN                 NaN                 NaN  \n",
       "3                       NaN                 NaN                 NaN  \n",
       "4                       NaN                 NaN                 NaN  \n",
       "...                     ...                 ...                 ...  \n",
       "1526654                 NaN                 1.0                 1.0  \n",
       "1526655                 NaN                 1.0                 2.0  \n",
       "1526656                 NaN                 0.0                 4.0  \n",
       "1526657                 NaN                 2.0                 1.0  \n",
       "1526658                 NaN                 2.0                 1.0  \n",
       "\n",
       "[1526659 rows x 167 columns]"
      ]
     },
     "execution_count": 6,
     "metadata": {},
     "output_type": "execute_result"
    }
   ],
   "source": [
    "X"
   ]
  },
  {
   "cell_type": "code",
   "execution_count": 7,
   "id": "63e78ba6",
   "metadata": {
    "execution": {
     "iopub.execute_input": "2024-03-29T08:27:37.257636Z",
     "iopub.status.busy": "2024-03-29T08:27:37.257182Z",
     "iopub.status.idle": "2024-03-29T08:27:37.263523Z",
     "shell.execute_reply": "2024-03-29T08:27:37.262276Z"
    },
    "papermill": {
     "duration": 0.022083,
     "end_time": "2024-03-29T08:27:37.265963",
     "exception": false,
     "start_time": "2024-03-29T08:27:37.243880",
     "status": "completed"
    },
    "tags": []
   },
   "outputs": [],
   "source": [
    "# # 删除缺失值較多的row\n",
    "\n",
    "# # 輸出原始資料集資訊\n",
    "# print(\"原始資料集形狀：\", X.shape)\n",
    "\n",
    "# threshold = 0.5  # 設定缺失比例的閾值，超過閾值的rowc和column將被刪除\n",
    "\n",
    "# # 計算每column的缺失值比例\n",
    "# missing_ratios = X.isnull().mean(axis=0)\n",
    "\n",
    "# # 找出缺失比例超過閾值的column\n",
    "# columns_to_drop = missing_ratios[missing_ratios > threshold].index\n",
    "\n",
    "# # 刪除缺失比例超過閾值的column\n",
    "# X = X.drop(columns=columns_to_drop, axis=1)\n",
    "\n",
    "# # 輸出刪除column後的資料集資訊\n",
    "# print(\"刪除缺失比例過高的列後的資料集形狀：\", X.shape)\n",
    "\n",
    "# # 計算每row的缺失值比例\n",
    "# missing_ratios = X.isnull().mean(axis=1)\n",
    "\n",
    "# # 找出缺失比例超過閾值的row\n",
    "# rows_to_drop = missing_ratios[missing_ratios > threshold].index\n",
    "\n",
    "# # 刪除缺失比例超過閾值的row\n",
    "# X = X.drop(index=rows_to_drop)\n",
    "# y = y.drop(index=rows_to_drop)\n",
    "\n",
    "# # 輸出刪除row後的資料集資訊\n",
    "# print(\"刪除缺失比例過高的行後的資料集形狀：\", X.shape)"
   ]
  },
  {
   "cell_type": "code",
   "execution_count": 8,
   "id": "45421b00",
   "metadata": {
    "execution": {
     "iopub.execute_input": "2024-03-29T08:27:37.290767Z",
     "iopub.status.busy": "2024-03-29T08:27:37.290179Z",
     "iopub.status.idle": "2024-03-29T08:27:37.295947Z",
     "shell.execute_reply": "2024-03-29T08:27:37.294731Z"
    },
    "papermill": {
     "duration": 0.020544,
     "end_time": "2024-03-29T08:27:37.298219",
     "exception": false,
     "start_time": "2024-03-29T08:27:37.277675",
     "status": "completed"
    },
    "tags": []
   },
   "outputs": [],
   "source": [
    "# # 刪除有極端值的row\n",
    "\n",
    "# # Define a function to detect outliers in a given column\n",
    "# def detect_outliers(column, threshold=3):\n",
    "#     mean = np.mean(column)\n",
    "#     std_dev = np.std(column)\n",
    "#     outliers = (column - mean) / std_dev\n",
    "#     return np.abs(outliers) > threshold\n",
    "\n",
    "# # Define a function to remove rows with outliers in X\n",
    "# def remove_rows_with_outliers(X, y, threshold=3):\n",
    "#     outliers_mask = np.any(np.apply_along_axis(detect_outliers, 0, X, threshold=threshold), axis=1)\n",
    "#     return X[~outliers_mask], y[~outliers_mask]\n",
    "\n",
    "# X, y = remove_rows_with_outliers(X, y)\n",
    "\n",
    "# print(\"刪除有極端值的行後的資料集形狀：\", X.shape)"
   ]
  },
  {
   "cell_type": "code",
   "execution_count": 9,
   "id": "d87036a3",
   "metadata": {
    "execution": {
     "iopub.execute_input": "2024-03-29T08:27:37.322070Z",
     "iopub.status.busy": "2024-03-29T08:27:37.321408Z",
     "iopub.status.idle": "2024-03-29T08:27:37.326323Z",
     "shell.execute_reply": "2024-03-29T08:27:37.325506Z"
    },
    "papermill": {
     "duration": 0.019735,
     "end_time": "2024-03-29T08:27:37.328842",
     "exception": false,
     "start_time": "2024-03-29T08:27:37.309107",
     "status": "completed"
    },
    "tags": []
   },
   "outputs": [],
   "source": [
    "# # 用平均數填充缺失值\n",
    "\n",
    "# from sklearn.impute import SimpleImputer\n",
    "\n",
    "# print(\"填充前X的datatype\", type(X))\n",
    "\n",
    "# # Create the imputer object with strategy='mean'\n",
    "# imputer = SimpleImputer(strategy='mean')\n",
    "\n",
    "# # Fit the imputer to X and transform X\n",
    "# X = imputer.fit_transform(X)\n",
    "\n",
    "# print(\"填充後X的datatype:\", type(X))"
   ]
  },
  {
   "cell_type": "markdown",
   "id": "20bdbb21",
   "metadata": {
    "papermill": {
     "duration": 0.010424,
     "end_time": "2024-03-29T08:27:37.350138",
     "exception": false,
     "start_time": "2024-03-29T08:27:37.339714",
     "status": "completed"
    },
    "tags": []
   },
   "source": [
    "### Undersampling"
   ]
  },
  {
   "cell_type": "code",
   "execution_count": 10,
   "id": "d09068bd",
   "metadata": {
    "execution": {
     "iopub.execute_input": "2024-03-29T08:27:37.374571Z",
     "iopub.status.busy": "2024-03-29T08:27:37.373910Z",
     "iopub.status.idle": "2024-03-29T08:27:40.452111Z",
     "shell.execute_reply": "2024-03-29T08:27:40.450902Z"
    },
    "papermill": {
     "duration": 3.09322,
     "end_time": "2024-03-29T08:27:40.454716",
     "exception": false,
     "start_time": "2024-03-29T08:27:37.361496",
     "status": "completed"
    },
    "tags": []
   },
   "outputs": [
    {
     "name": "stdout",
     "output_type": "stream",
     "text": [
      "欠採樣後的訓練資料量： 95988\n",
      "欠採樣後的訓練目標資料分佈： {0: 47994, 1: 47994}\n"
     ]
    }
   ],
   "source": [
    "from sklearn.utils import resample\n",
    "\n",
    "# 隨機抽取與目標樣本數量相同的非目標樣本\n",
    "X_0, y_0 = resample(X[y == 0], y[y == 0], replace=False, n_samples=np.sum(y == 1))\n",
    "\n",
    "# 合併目標樣本和非目標樣本\n",
    "X = np.concatenate((X_0, X[y == 1]), axis=0)\n",
    "y = np.concatenate((y_0, y[y == 1]), axis=0)\n",
    "\n",
    "# 檢查欠採樣後的資料量\n",
    "print(\"欠採樣後的訓練資料量：\", len(X))\n",
    "\n",
    "# 檢查欠採樣後的目標資料分佈\n",
    "unique, counts = np.unique(y, return_counts=True)\n",
    "print(\"欠採樣後的訓練目標資料分佈：\", dict(zip(unique, counts)))"
   ]
  },
  {
   "cell_type": "markdown",
   "id": "fd09c5d3",
   "metadata": {
    "papermill": {
     "duration": 0.010602,
     "end_time": "2024-03-29T08:27:40.476226",
     "exception": false,
     "start_time": "2024-03-29T08:27:40.465624",
     "status": "completed"
    },
    "tags": []
   },
   "source": [
    "### 將數據劃分為訓練集和測試集"
   ]
  },
  {
   "cell_type": "code",
   "execution_count": 11,
   "id": "23b126c0",
   "metadata": {
    "execution": {
     "iopub.execute_input": "2024-03-29T08:27:40.500449Z",
     "iopub.status.busy": "2024-03-29T08:27:40.499799Z",
     "iopub.status.idle": "2024-03-29T08:27:41.099639Z",
     "shell.execute_reply": "2024-03-29T08:27:41.098447Z"
    },
    "papermill": {
     "duration": 0.615149,
     "end_time": "2024-03-29T08:27:41.102392",
     "exception": false,
     "start_time": "2024-03-29T08:27:40.487243",
     "status": "completed"
    },
    "tags": []
   },
   "outputs": [],
   "source": [
    "from sklearn.model_selection import train_test_split\n",
    "\n",
    "X_train, X_test, y_train, y_test = train_test_split(X, y, test_size=0.2, random_state=42)\n",
    "del X\n",
    "del y"
   ]
  },
  {
   "cell_type": "markdown",
   "id": "1c92d134",
   "metadata": {
    "papermill": {
     "duration": 0.011744,
     "end_time": "2024-03-29T08:27:41.126124",
     "exception": false,
     "start_time": "2024-03-29T08:27:41.114380",
     "status": "completed"
    },
    "tags": []
   },
   "source": [
    "## 數據分析方法與模型選擇"
   ]
  },
  {
   "cell_type": "markdown",
   "id": "464e3ad2",
   "metadata": {
    "papermill": {
     "duration": 0.010704,
     "end_time": "2024-03-29T08:27:41.148368",
     "exception": false,
     "start_time": "2024-03-29T08:27:41.137664",
     "status": "completed"
    },
    "tags": []
   },
   "source": [
    "### Model1. 梯度提升樹（Gradient Boosting Decision Tree，GBDT）\n",
    "##### 優點：\n",
    "##### 1. 高效性： LightGBM 是一種高效的梯度提升樹模型，具有優秀的訓練速度和預測速度。它使用了基於直方圖的方法來加速訓練過程，並且通常比其他梯度提升樹庫（如XGBoost）更快。\n",
    "##### 2. 低內存使用： LightGBM 使用了一種稱為GOSS（Gradient-based One-Side Sampling）的方法，在訓練過程中減少了內存使用。這使得它可以處理大型數據集而不會出現內存不足的問題。\n",
    "##### 3. 高準確性： LightGBM 在處理大型和高維數據集時通常表現出色，並且提供了很好的預測性能。\n",
    "##### 4. 支持並行處理： LightGBM 支持並行處理，可以在多核 CPU 上進行訓練，從而加速了訓練過程。\n",
    "##### 5. 自動處理類別特徵： LightGBM 可以自動處理類別特徵，無需額外的編碼。\n",
    "##### 缺點：\n",
    "##### 1. 對參數敏感： 與其他梯度提升樹模型一樣，LightGBM 的性能取決於參數的調整，對參數較為敏感，需要一些經驗和時間來進行調參。\n",
    "##### 2. 需要較多數據： LightGBM 在處理小型數據集時可能不如其他模型表現好，因為它的高效性主要體現在處理大型數據集時"
   ]
  },
  {
   "cell_type": "code",
   "execution_count": 12,
   "id": "843ab09a",
   "metadata": {
    "execution": {
     "iopub.execute_input": "2024-03-29T08:27:41.173256Z",
     "iopub.status.busy": "2024-03-29T08:27:41.172477Z",
     "iopub.status.idle": "2024-03-29T08:27:44.879783Z",
     "shell.execute_reply": "2024-03-29T08:27:44.878740Z"
    },
    "papermill": {
     "duration": 3.722629,
     "end_time": "2024-03-29T08:27:44.882402",
     "exception": false,
     "start_time": "2024-03-29T08:27:41.159773",
     "status": "completed"
    },
    "tags": []
   },
   "outputs": [],
   "source": [
    "import lightgbm as lgb\n",
    "\n",
    "# 創建 LightGBM 的訓練資料集\n",
    "lgb_train = lgb.Dataset(X_train, y_train)\n",
    "lgb_test = lgb.Dataset(X_test, y_test, reference=lgb_train)\n",
    "del X_train\n",
    "del y_train\n",
    "\n",
    "# 設置參數\n",
    "params = {\n",
    "    'boosting_type': 'gbdt',         # 使用梯度提升樹\n",
    "    'objective': 'binary',           # 二元分類任務\n",
    "    'metric': 'binary_error',        # 評估指標為二元分類錯誤率\n",
    "    'num_leaves': 31,                # 每棵樹的最大葉子數量\n",
    "    'learning_rate': 0.001,          # 學習速率\n",
    "    'feature_fraction': 0.9,         # 特徵抽樣比例\n",
    "    'bagging_fraction': 0.8,         # 樣本抽樣比例\n",
    "    'bagging_freq': 5,               # 樣本抽樣的頻率\n",
    "    'verbose': 0,                    # 顯示訓練信息\n",
    "    'early_stopping_rounds': 10\n",
    "}\n",
    "\n",
    "# 訓練模型\n",
    "num_round = 100                      # 迭代輪次\n",
    "bst = lgb.train(params, lgb_train, num_round, valid_sets=[lgb_train, lgb_test])\n",
    "\n",
    "# 預測\n",
    "y_pred = bst.predict(X_test, num_iteration=bst.best_iteration)\n",
    "y_pred_binary = [1 if pred > 0.5 else 0 for pred in y_pred]"
   ]
  },
  {
   "cell_type": "markdown",
   "id": "df07ddfb",
   "metadata": {
    "papermill": {
     "duration": 0.010775,
     "end_time": "2024-03-29T08:27:44.904318",
     "exception": false,
     "start_time": "2024-03-29T08:27:44.893543",
     "status": "completed"
    },
    "tags": []
   },
   "source": [
    "### Model2. RNN\n",
    "##### RNN的優點：\n",
    "##### 1. 能夠處理序列數據，保留先前時間步的信息。\n",
    "##### 2. 模型相對較簡單，易於理解和實現。\n",
    "##### RNN的缺點：\n",
    "##### 3. 容易出現梯度消失或梯度爆炸的問題，尤其在處理長序列數據時效果不佳。\n",
    "##### 4. 難以捕捉長期依賴關係"
   ]
  },
  {
   "cell_type": "code",
   "execution_count": 13,
   "id": "8268cd1d",
   "metadata": {
    "execution": {
     "iopub.execute_input": "2024-03-29T08:27:44.928994Z",
     "iopub.status.busy": "2024-03-29T08:27:44.928066Z",
     "iopub.status.idle": "2024-03-29T08:27:44.932925Z",
     "shell.execute_reply": "2024-03-29T08:27:44.931979Z"
    },
    "papermill": {
     "duration": 0.019722,
     "end_time": "2024-03-29T08:27:44.935130",
     "exception": false,
     "start_time": "2024-03-29T08:27:44.915408",
     "status": "completed"
    },
    "tags": []
   },
   "outputs": [],
   "source": [
    "# def focal_loss(y_true, y_pred, alpha=0.25, gamma=2.0):\n",
    "#     # Calculate cross entropy loss\n",
    "#     ce_loss = tf.keras.losses.binary_crossentropy(y_true, y_pred, from_logits=False)\n",
    "    \n",
    "#     # Calculate focal weights\n",
    "#     p_t = y_true * y_pred + (1 - y_true) * (1 - y_pred)\n",
    "#     focal_weight = alpha * tf.pow(1 - p_t, gamma)\n",
    "    \n",
    "#     # Apply focal weights to cross entropy loss\n",
    "#     focal_loss = focal_weight * ce_loss\n",
    "    \n",
    "#     # Return the mean loss over the batch\n",
    "#     return tf.reduce_mean(focal_loss)"
   ]
  },
  {
   "cell_type": "code",
   "execution_count": 14,
   "id": "e2b511e5",
   "metadata": {
    "execution": {
     "iopub.execute_input": "2024-03-29T08:27:44.960235Z",
     "iopub.status.busy": "2024-03-29T08:27:44.959513Z",
     "iopub.status.idle": "2024-03-29T08:27:44.966399Z",
     "shell.execute_reply": "2024-03-29T08:27:44.965552Z"
    },
    "papermill": {
     "duration": 0.021917,
     "end_time": "2024-03-29T08:27:44.968705",
     "exception": false,
     "start_time": "2024-03-29T08:27:44.946788",
     "status": "completed"
    },
    "tags": []
   },
   "outputs": [],
   "source": [
    "# import tensorflow as tf\n",
    "# from tensorflow.keras.models import Sequential\n",
    "# from tensorflow.keras.layers import SimpleRNN, Dense, Dropout\n",
    "# from tensorflow.keras.callbacks import EarlyStopping\n",
    "# from tensorflow.keras.optimizers import AdamW\n",
    "# # from sklearn.utils.class_weight import compute_class_weight\n",
    "\n",
    "# # 將資料轉換成3D形狀\n",
    "# X_train = X_train.reshape(X_train.shape[0], X_train.shape[1], 1)\n",
    "# X_test = X_test.reshape(X_test.shape[0], X_test.shape[1], 1)\n",
    "\n",
    "# # 創建 Sequential 模型\n",
    "# model = Sequential()\n",
    "\n",
    "# # 添加第一層 SimpleRNN 層\n",
    "# model.add(SimpleRNN(50, return_sequences=True, input_shape=(X_train.shape[1], X_train.shape[2]), activation='relu'))\n",
    "# model.add(Dropout(0.3))  # 添加 dropout 避免過擬合\n",
    "\n",
    "# # 添加第二層 SimpleRNN 層\n",
    "# model.add(SimpleRNN(50, return_sequences=True, activation='relu'))\n",
    "# model.add(Dropout(0.3))\n",
    "\n",
    "# # 添加第三層 SimpleRNN 層\n",
    "# model.add(SimpleRNN(50, activation='relu'))\n",
    "# model.add(Dropout(0.3))\n",
    "\n",
    "# # 添加輸出層\n",
    "# model.add(Dense(1, activation='sigmoid'))\n",
    "\n",
    "# # 定義 AdamW 優化器，設置初始學習率和權重衰減\n",
    "# # 嘗試不同的優化器 ：AdamW是Adam的一個變種，引入了一個額外的權重衰減（Weight Decay）項目，有助於減小參數的數值大小，從而減少過擬合的風險。\n",
    "# # 調整學習率（Learning Rate）：嘗試不同的學習率值，有時降低學習率可以幫助模型更好地收斂，特別是在資料不平衡的情況下。\n",
    "# optimizer = AdamW(learning_rate=0.001, weight_decay=1e-4)\n",
    "\n",
    "# # 編譯模型\n",
    "# # focal_loss 損失函數，可以自動為少數類別分配更大的權重\n",
    "# model.compile(optimizer=optimizer, loss=focal_loss, metrics=['accuracy'])\n",
    "\n",
    "# # 定義 EarlyStopping\n",
    "# # 調整Early Stopping的參數：嘗試不同的patience值，以及monitor參數，這可能會影響到模型的停止訓練的時機。\n",
    "# early_stopping = EarlyStopping(patience=10, monitor='val_loss', restore_best_weights=True)\n",
    "\n",
    "# # 設置類別加權，例如給予類別0權重1，給予類別1權重100\n",
    "# # 1. 使用 np.unique(y_train) 函數獲取訓練數據中所有類別的標籤。\n",
    "# # 2. 使用 compute_class_weight 函數計算每個類別的權重，參數 'balanced' 指定使用平衡策略。\n",
    "# # 3. 將計算出的類別權重存儲在 class_weight 字典中\n",
    "# # class_weight = compute_class_weight('balanced', np.unique(y_train), y_train)\n",
    "# class_weight = {0: 1, 1: 100}\n",
    "\n",
    "# # 訓練模型\n",
    "# # 批量大小: 嘗試減小批量大小，可以讓模型在每個更新步驟中看到更多樣化的樣本，可能有助於緩解數據不平衡問題。\n",
    "# history = model.fit(X_train, y_train, epochs=3, batch_size=128, validation_data=(X_test, y_test), callbacks=[early_stopping], class_weight=class_weight) # class_weight='balanced' not work\n",
    "\n",
    "# # 評估\n",
    "# model.evaluate(X_test, y_test)\n",
    "\n",
    "# # 預測\n",
    "# y_pred = model.predict(X_test)\n",
    "# y_pred_binary = [1 if pred > 0.5 else 0 for pred in y_pred]"
   ]
  },
  {
   "cell_type": "markdown",
   "id": "c38f8833",
   "metadata": {
    "papermill": {
     "duration": 0.010914,
     "end_time": "2024-03-29T08:27:44.990719",
     "exception": false,
     "start_time": "2024-03-29T08:27:44.979805",
     "status": "completed"
    },
    "tags": []
   },
   "source": [
    "### Model3. LSTM\n",
    "##### LSTM的優點：\n",
    "##### 1. 能夠有效地解決梯度消失或梯度爆炸的問題，能夠處理長序列數據。\n",
    "##### 2. 能夠捕捉長期依賴關係，適用於需要考慮長期記憶的任務。\n",
    "##### LSTM的缺點：\n",
    "##### 1. 模型相對複雜，訓練時間較長。\n",
    "##### 2. 需要調參和優化，有時可能會出現過擬合的問題。"
   ]
  },
  {
   "cell_type": "code",
   "execution_count": 15,
   "id": "d2218379",
   "metadata": {
    "execution": {
     "iopub.execute_input": "2024-03-29T08:27:45.015076Z",
     "iopub.status.busy": "2024-03-29T08:27:45.014448Z",
     "iopub.status.idle": "2024-03-29T08:27:45.020211Z",
     "shell.execute_reply": "2024-03-29T08:27:45.019351Z"
    },
    "papermill": {
     "duration": 0.020852,
     "end_time": "2024-03-29T08:27:45.022676",
     "exception": false,
     "start_time": "2024-03-29T08:27:45.001824",
     "status": "completed"
    },
    "tags": []
   },
   "outputs": [],
   "source": [
    "# import tensorflow as tf\n",
    "# from tensorflow.keras.models import Sequential\n",
    "# from tensorflow.keras.layers import LSTM, Dense, Dropout\n",
    "# from tensorflow.keras.callbacks import EarlyStopping\n",
    "\n",
    "# # 將 DataFrame 轉換為 NumPy 陣列\n",
    "# X_train = X_train.to_numpy()\n",
    "# X_test = X_test.to_numpy()\n",
    "\n",
    "# # 將資料轉換成3D形狀\n",
    "# X_train = X_train.reshape(X_train.shape[0], X_train.shape[1], 1)\n",
    "# X_test = X_test.reshape(X_test.shape[0], X_test.shape[1], 1)\n",
    "\n",
    "# # 創建 Sequential 模型\n",
    "# model = Sequential()\n",
    "\n",
    "# # 添加第一層 LSTM 層\n",
    "# model.add(LSTM(50, return_sequences=True, input_shape=(X_train.shape[1], X_train.shape[2]), activation='relu'))\n",
    "# model.add(Dropout(0.3))  # 添加 dropout 避免過擬合\n",
    "\n",
    "# # 添加第二層 LSTM 層\n",
    "# model.add(LSTM(50, return_sequences=True, activation='relu'))\n",
    "# model.add(Dropout(0.3))  # 添加 dropout 避免過擬合\n",
    "\n",
    "# # 添加第三層 LSTM 層\n",
    "# model.add(LSTM(50, activation='relu'))\n",
    "# model.add(Dropout(0.3))  # 添加 dropout 避免過擬合\n",
    "\n",
    "# # 添加輸出層\n",
    "# model.add(Dense(1, activation='sigmoid'))\n",
    "\n",
    "# # 編譯模型\n",
    "# model.compile(optimizer='adam', loss='binary_crossentropy', metrics=['accuracy'])\n",
    "\n",
    "# # 定義 EarlyStopping\n",
    "# early_stopping = EarlyStopping(patience=5, monitor='val_loss', restore_best_weights=True)\n",
    "\n",
    "# # 設置類別加權，例如給予類別0權重1，給予類別1權重100\n",
    "# class_weight = {0: 1, 1: 100}\n",
    "\n",
    "# # 訓練模型\n",
    "# history = model.fit(X_train, y_train, epochs=1, batch_size=2048, validation_data=(X_test, y_test), callbacks=[early_stopping], class_weight=class_weight)\n",
    "\n",
    "# # 預測\n",
    "# y_pred = model.predict(X_test)\n",
    "# y_pred_binary = [1 if pred > 0.5 else 0 for pred in y_pred]"
   ]
  },
  {
   "cell_type": "markdown",
   "id": "4866c55f",
   "metadata": {
    "papermill": {
     "duration": 0.010649,
     "end_time": "2024-03-29T08:27:45.044497",
     "exception": false,
     "start_time": "2024-03-29T08:27:45.033848",
     "status": "completed"
    },
    "tags": []
   },
   "source": [
    "## 評估模型"
   ]
  },
  {
   "cell_type": "code",
   "execution_count": 16,
   "id": "3fd135f7",
   "metadata": {
    "execution": {
     "iopub.execute_input": "2024-03-29T08:27:45.068926Z",
     "iopub.status.busy": "2024-03-29T08:27:45.068205Z",
     "iopub.status.idle": "2024-03-29T08:27:45.135032Z",
     "shell.execute_reply": "2024-03-29T08:27:45.134092Z"
    },
    "papermill": {
     "duration": 0.08204,
     "end_time": "2024-03-29T08:27:45.137614",
     "exception": false,
     "start_time": "2024-03-29T08:27:45.055574",
     "status": "completed"
    },
    "tags": []
   },
   "outputs": [
    {
     "name": "stdout",
     "output_type": "stream",
     "text": [
      "準確率: 0.6756432961766851\n",
      "分類報告:\n",
      "              precision    recall  f1-score   support\n",
      "\n",
      "           0       0.71      0.60      0.65      9672\n",
      "           1       0.65      0.75      0.70      9526\n",
      "\n",
      "    accuracy                           0.68     19198\n",
      "   macro avg       0.68      0.68      0.67     19198\n",
      "weighted avg       0.68      0.68      0.67     19198\n",
      "\n"
     ]
    }
   ],
   "source": [
    "from sklearn.metrics import accuracy_score, classification_report\n",
    "\n",
    "# 評估模型\n",
    "accuracy = accuracy_score(y_test, y_pred_binary)\n",
    "print(\"準確率:\", accuracy)\n",
    "\n",
    "# 顯示分類報告\n",
    "print(\"分類報告:\")\n",
    "print(classification_report(y_test, y_pred_binary))"
   ]
  },
  {
   "cell_type": "markdown",
   "id": "9d5ec125",
   "metadata": {
    "papermill": {
     "duration": 0.01121,
     "end_time": "2024-03-29T08:27:45.160118",
     "exception": false,
     "start_time": "2024-03-29T08:27:45.148908",
     "status": "completed"
    },
    "tags": []
   },
   "source": [
    "## Submission"
   ]
  },
  {
   "cell_type": "code",
   "execution_count": 17,
   "id": "e1d895e2",
   "metadata": {
    "execution": {
     "iopub.execute_input": "2024-03-29T08:27:45.185786Z",
     "iopub.status.busy": "2024-03-29T08:27:45.185009Z",
     "iopub.status.idle": "2024-03-29T08:27:45.309143Z",
     "shell.execute_reply": "2024-03-29T08:27:45.308103Z"
    },
    "papermill": {
     "duration": 0.140243,
     "end_time": "2024-03-29T08:27:45.311838",
     "exception": false,
     "start_time": "2024-03-29T08:27:45.171595",
     "status": "completed"
    },
    "tags": []
   },
   "outputs": [],
   "source": [
    "# 測試資料的目錄\n",
    "testDir = os.path.join(projDir, \"csv_files/test/\")\n",
    "\n",
    "# 讀取測試數據\n",
    "\n",
    "# base.csv\n",
    "path = os.path.join(testDir, 'test_base.csv')\n",
    "test_base = pd.read_csv(path)\n",
    "\n",
    "# static(depth=0)\n",
    "path = os.path.join(testDir, 'test_static_0_0.csv')\n",
    "test_static0 = pd.read_csv(path)\n",
    "path = os.path.join(testDir, 'test_static_0_1.csv')\n",
    "test_static1 = pd.read_csv(path)\n",
    "path = os.path.join(testDir, 'test_static_0_2.csv')\n",
    "test_static2 = pd.read_csv(path)\n",
    "test_static = pd.concat([test_static0, test_static1, test_static2], ignore_index=True)\n",
    "del test_static0, test_static1, test_static2\n",
    "\n",
    "# static_cb\n",
    "path = os.path.join(testDir, 'test_static_cb_0.csv')\n",
    "test_static_cb = pd.read_csv(path)\n",
    "\n",
    "# Join Table\n",
    "X_test = pd.merge(test_base, test_static, how=\"left\", on=\"case_id\")\n",
    "X_test = pd.merge(X_test, test_static_cb, how=\"left\", on=\"case_id\")\n",
    "del test_base, test_static, test_static_cb\n",
    "\n",
    "# 刪非數col\n",
    "for col in X_test.columns:\n",
    "    if not (X_test[col].dtype in (np.int64, np.float64)):\n",
    "        X_test = X_test.drop(col, axis=1)"
   ]
  },
  {
   "cell_type": "code",
   "execution_count": 18,
   "id": "8323fd72",
   "metadata": {
    "execution": {
     "iopub.execute_input": "2024-03-29T08:27:45.336599Z",
     "iopub.status.busy": "2024-03-29T08:27:45.335900Z",
     "iopub.status.idle": "2024-03-29T08:27:45.345373Z",
     "shell.execute_reply": "2024-03-29T08:27:45.344512Z"
    },
    "papermill": {
     "duration": 0.024829,
     "end_time": "2024-03-29T08:27:45.347911",
     "exception": false,
     "start_time": "2024-03-29T08:27:45.323082",
     "status": "completed"
    },
    "tags": []
   },
   "outputs": [
    {
     "data": {
      "text/plain": [
       "[1, 1, 1, 1, 1, 1, 0, 1, 1, 1]"
      ]
     },
     "execution_count": 18,
     "metadata": {},
     "output_type": "execute_result"
    }
   ],
   "source": [
    "# LGBM\n",
    "y_test_pred = bst.predict(X_test, num_iteration=bst.best_iteration, predict_disable_shape_check=True)\n",
    "\n",
    "# # RNN, LSTM\n",
    "# X_test_array = X_test.to_numpy()\n",
    "# X_test_rnn = X_test_array.reshape(X_test_array.shape[0], X_test_array.shape[1], 1)\n",
    "# y_test_pred = model.predict(X_test_rnn)\n",
    "\n",
    "# 轉成0或1\n",
    "y_test_pred_binary = [1 if pred > 0.5 else 0 for pred in y_test_pred]\n",
    "y_test_pred_binary"
   ]
  },
  {
   "cell_type": "code",
   "execution_count": 19,
   "id": "81027aff",
   "metadata": {
    "execution": {
     "iopub.execute_input": "2024-03-29T08:27:45.372689Z",
     "iopub.status.busy": "2024-03-29T08:27:45.372275Z",
     "iopub.status.idle": "2024-03-29T08:27:45.391749Z",
     "shell.execute_reply": "2024-03-29T08:27:45.390404Z"
    },
    "papermill": {
     "duration": 0.035228,
     "end_time": "2024-03-29T08:27:45.394538",
     "exception": false,
     "start_time": "2024-03-29T08:27:45.359310",
     "status": "completed"
    },
    "tags": []
   },
   "outputs": [
    {
     "data": {
      "text/html": [
       "<div>\n",
       "<style scoped>\n",
       "    .dataframe tbody tr th:only-of-type {\n",
       "        vertical-align: middle;\n",
       "    }\n",
       "\n",
       "    .dataframe tbody tr th {\n",
       "        vertical-align: top;\n",
       "    }\n",
       "\n",
       "    .dataframe thead th {\n",
       "        text-align: right;\n",
       "    }\n",
       "</style>\n",
       "<table border=\"1\" class=\"dataframe\">\n",
       "  <thead>\n",
       "    <tr style=\"text-align: right;\">\n",
       "      <th></th>\n",
       "      <th>case_id</th>\n",
       "      <th>score</th>\n",
       "    </tr>\n",
       "  </thead>\n",
       "  <tbody>\n",
       "    <tr>\n",
       "      <th>0</th>\n",
       "      <td>57543</td>\n",
       "      <td>1</td>\n",
       "    </tr>\n",
       "    <tr>\n",
       "      <th>1</th>\n",
       "      <td>57549</td>\n",
       "      <td>1</td>\n",
       "    </tr>\n",
       "    <tr>\n",
       "      <th>2</th>\n",
       "      <td>57551</td>\n",
       "      <td>1</td>\n",
       "    </tr>\n",
       "    <tr>\n",
       "      <th>3</th>\n",
       "      <td>57552</td>\n",
       "      <td>1</td>\n",
       "    </tr>\n",
       "    <tr>\n",
       "      <th>4</th>\n",
       "      <td>57569</td>\n",
       "      <td>1</td>\n",
       "    </tr>\n",
       "    <tr>\n",
       "      <th>5</th>\n",
       "      <td>57630</td>\n",
       "      <td>1</td>\n",
       "    </tr>\n",
       "    <tr>\n",
       "      <th>6</th>\n",
       "      <td>57631</td>\n",
       "      <td>0</td>\n",
       "    </tr>\n",
       "    <tr>\n",
       "      <th>7</th>\n",
       "      <td>57632</td>\n",
       "      <td>1</td>\n",
       "    </tr>\n",
       "    <tr>\n",
       "      <th>8</th>\n",
       "      <td>57633</td>\n",
       "      <td>1</td>\n",
       "    </tr>\n",
       "    <tr>\n",
       "      <th>9</th>\n",
       "      <td>57634</td>\n",
       "      <td>1</td>\n",
       "    </tr>\n",
       "  </tbody>\n",
       "</table>\n",
       "</div>"
      ],
      "text/plain": [
       "   case_id  score\n",
       "0    57543      1\n",
       "1    57549      1\n",
       "2    57551      1\n",
       "3    57552      1\n",
       "4    57569      1\n",
       "5    57630      1\n",
       "6    57631      0\n",
       "7    57632      1\n",
       "8    57633      1\n",
       "9    57634      1"
      ]
     },
     "execution_count": 19,
     "metadata": {},
     "output_type": "execute_result"
    }
   ],
   "source": [
    "submission = pd.DataFrame({\n",
    "    \"case_id\": X_test[\"case_id\"].to_numpy(),\n",
    "    \"score\": y_test_pred_binary\n",
    "}).set_index('case_id')\n",
    "submission.to_csv(\"./submission.csv\")\n",
    "\n",
    "pd.read_csv(\"./submission.csv\")"
   ]
  }
 ],
 "metadata": {
  "kaggle": {
   "accelerator": "none",
   "dataSources": [
    {
     "databundleVersionId": 7921029,
     "sourceId": 50160,
     "sourceType": "competition"
    }
   ],
   "dockerImageVersionId": 30664,
   "isGpuEnabled": false,
   "isInternetEnabled": false,
   "language": "python",
   "sourceType": "notebook"
  },
  "kernelspec": {
   "display_name": "Python 3",
   "language": "python",
   "name": "python3"
  },
  "language_info": {
   "codemirror_mode": {
    "name": "ipython",
    "version": 3
   },
   "file_extension": ".py",
   "mimetype": "text/x-python",
   "name": "python",
   "nbconvert_exporter": "python",
   "pygments_lexer": "ipython3",
   "version": "3.10.13"
  },
  "papermill": {
   "default_parameters": {},
   "duration": 201.675986,
   "end_time": "2024-03-29T08:27:46.230571",
   "environment_variables": {},
   "exception": null,
   "input_path": "__notebook__.ipynb",
   "output_path": "__notebook__.ipynb",
   "parameters": {},
   "start_time": "2024-03-29T08:24:24.554585",
   "version": "2.5.0"
  }
 },
 "nbformat": 4,
 "nbformat_minor": 5
}
